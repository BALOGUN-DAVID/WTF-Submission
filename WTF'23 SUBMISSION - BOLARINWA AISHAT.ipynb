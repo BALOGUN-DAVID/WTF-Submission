{
 "cells": [
  {
   "cell_type": "markdown",
   "id": "693342aa",
   "metadata": {},
   "source": [
    "## PERSONAL WORK : BOLARINWA AISHAT."
   ]
  },
  {
   "cell_type": "markdown",
   "id": "26cc879c",
   "metadata": {},
   "source": [
    "1) Print all elements of a list using for loop\n",
    "\n",
    "2) A company decided to give bonus of 5% to employee if his/her year of service is more than 5 years. Ask user for their salary and year of service and print the net bonus amount.\n",
    "\n",
    "3) Take input of age of 3 people by user and determine oldest and youngest among them. \n",
    "\n",
    "4) A school has following rules for grading system:\n",
    "\n",
    "a. Below 25 - F\n",
    "\n",
    "b. 25 to 45 - E\n",
    "\n",
    "c. 45 to 50 - D\n",
    "\n",
    "d. 50 to 60 - C\n",
    "\n",
    "e. 60 to 80 - B\n",
    "\n",
    "f. Above 80 - A\n",
    "\n",
    "5) Ask user to enter marks and print the corresponding grade.\n",
    "\n",
    "6) Write a Python script to merge two Python dictionaries\n",
    "\n",
    "7) Write a python program to get the largest number from a list \n",
    "\n",
    "8) Write a python program to remove a key from a dictionary"
   ]
  },
  {
   "cell_type": "code",
   "execution_count": 1,
   "id": "e86a1c12",
   "metadata": {},
   "outputs": [
    {
     "name": "stdout",
     "output_type": "stream",
     "text": [
      "Aishat\n",
      "Bolarinwa\n",
      "Adeola\n",
      "Titilope\n",
      "Arike\n"
     ]
    }
   ],
   "source": [
    "#1) Print all elements of a list using for loop\n",
    "\n",
    "List = ['Aishat', 'Bolarinwa', 'Adeola', 'Titilope', 'Arike']\n",
    "for i in List:\n",
    "    print(i)"
   ]
  },
  {
   "cell_type": "code",
   "execution_count": 2,
   "id": "503cdc8b",
   "metadata": {},
   "outputs": [
    {
     "name": "stdout",
     "output_type": "stream",
     "text": [
      "What is your Salary? 50000\n",
      "How many years have you spent in service? 7\n",
      "Your Net bonus = 2500.0\n"
     ]
    }
   ],
   "source": [
    "#2) A company decided to give bonus of 5% to employee if his/her year of service is more than 5 years. \n",
    "#Ask user for their salary and year of service and print the net bonus amount.\n",
    "\n",
    "salary = int(input(\"What is your Salary? \"))\n",
    "\n",
    "year = int(input(\"How many years have you spent in service? \"))\n",
    "\n",
    "if year>5:\n",
    "\n",
    "   print(\"Your Net bonus =\",0.05*salary)"
   ]
  },
  {
   "cell_type": "code",
   "execution_count": 3,
   "id": "45ac3b19",
   "metadata": {},
   "outputs": [
    {
     "name": "stdout",
     "output_type": "stream",
     "text": [
      "Enter age Person 1: 5\n",
      "Enter age Person 2: 23\n",
      "Enter age Person 3: 15\n",
      "\n",
      "Person 2 is the oldest\n",
      "Person 1 is the youngest\n"
     ]
    }
   ],
   "source": [
    "#3) Take input of age of 3 people by user and determine oldest and youngest among them.\n",
    "\n",
    "age1 = int(input(\"Enter age Person 1: \"))\n",
    "\n",
    "age2 = int(input(\"Enter age Person 2: \"))\n",
    "\n",
    "age3 = int(input(\"Enter age Person 3: \"))\n",
    "print()\n",
    "if (age1 > age2) & (age1 > age3):\n",
    "    print('Person 1 is the oldest')\n",
    "    if age2 < age3:\n",
    "        print('Person 2 is the youngest')\n",
    "    else:\n",
    "        print('Person 3 is the youngest')\n",
    "elif (age2 > age1) & (age2 > age3):\n",
    "    print('Person 2 is the oldest')\n",
    "    if age1 < age3:\n",
    "        print('Person 1 is the youngest')\n",
    "    else:\n",
    "        print('Person 3 is the youngest')\n",
    "else:\n",
    "     print('Person 3 is the oldest')\n",
    "     if age1 < age2:\n",
    "         print('Person 1 is the youngest')\n",
    "     else:\n",
    "         print('Person 2 is the youngest')"
   ]
  },
  {
   "cell_type": "code",
   "execution_count": 4,
   "id": "15990c2c",
   "metadata": {},
   "outputs": [
    {
     "name": "stdout",
     "output_type": "stream",
     "text": [
      "What did you score? 78\n",
      "Your Grade is B\n"
     ]
    }
   ],
   "source": [
    "#4) A school has following rules for grading system:\n",
    "#a. Below 25 - F\n",
    "#b. 25 to 45 - E\n",
    "#c. 45 to 50 - D\n",
    "#d. 50 to 60 - C\n",
    "#e. 60 to 80 - B\n",
    "#f. Above 80 - A\n",
    "#5) Ask user to enter marks and print the corresponding grade.\n",
    "\n",
    "score = int(input(\"What did you score? \"))\n",
    "\n",
    "if score < 25:  \n",
    "    print(\"Your Grade is F\")\n",
    "\n",
    "elif score >= 25 and score < 45:  \n",
    "    print(\"Your Grade is E\")\n",
    "\n",
    "elif score >= 45 and score < 50:  \n",
    "    print(\"Your Grade is D\")\n",
    "\n",
    "elif score >= 50 and score < 60:  \n",
    "    print(\"Your Grade is C\")\n",
    "\n",
    "elif score >= 60 and score < 80:  \n",
    "    print(\"Your Grade is B\")\n",
    "\n",
    "else:  \n",
    "    print(\"Your Grade is A\")"
   ]
  },
  {
   "cell_type": "code",
   "execution_count": 5,
   "id": "1bf3fa18",
   "metadata": {},
   "outputs": [
    {
     "data": {
      "text/plain": [
       "{'A for Apple',\n",
       " 'B for Ball',\n",
       " 'C for Cup',\n",
       " 'D for Dog',\n",
       " 'E for Egg',\n",
       " 'F for Fish',\n",
       " 'G for Goat',\n",
       " 'H for Helicopter',\n",
       " 'I for Ice-cream',\n",
       " 'J for Jug',\n",
       " 'K for Kettle',\n",
       " 'L for Lamp',\n",
       " 'M for Monkey',\n",
       " 'N for Nose'}"
      ]
     },
     "execution_count": 5,
     "metadata": {},
     "output_type": "execute_result"
    }
   ],
   "source": [
    "#6) Write a Python script to merge two Python dictionaries\n",
    "\n",
    "import pandas as pd\n",
    "dict1 = {'A for Apple', 'B for Ball', 'C for Cup', 'D for Dog', 'E for Egg', 'F for Fish', 'G for Goat'}\n",
    "dict2 = {'H for Helicopter', 'I for Ice-cream', 'J for Jug', 'K for Kettle', 'L for Lamp', 'M for Monkey', 'N for Nose'}\n",
    "\n",
    "#dict1 = pd.DataFrame(dict1)\n",
    "#dict2 = pd.DataFrame(dict2)\n",
    "\n",
    "#combo = pd.merge(dict1, dict2)\n",
    "#print(combo)\n",
    "\n",
    "dict1 | dict2"
   ]
  },
  {
   "cell_type": "code",
   "execution_count": 6,
   "id": "47f7ba40",
   "metadata": {},
   "outputs": [
    {
     "name": "stdout",
     "output_type": "stream",
     "text": [
      "320\n"
     ]
    }
   ],
   "source": [
    "#7) Write a python program to get the largest number from a list\n",
    "\n",
    "List1 = [20, 30, 320, 4, 2]\n",
    "print(max(List1))"
   ]
  },
  {
   "cell_type": "code",
   "execution_count": 7,
   "id": "ac5d90c3",
   "metadata": {},
   "outputs": [
    {
     "name": "stdout",
     "output_type": "stream",
     "text": [
      "{'H : Helicopter', 'M : Monkey', 'I : Ice-cream', 'N : Nose', 'L : Lamp', 'K : Kettle', 'J : Jug'}\n",
      "{'M : Monkey', 'I : Ice-cream', 'N : Nose', 'L : Lamp', 'K : Kettle', 'J : Jug'}\n"
     ]
    }
   ],
   "source": [
    "#8) Write a python program to remove a key from a dictionary\n",
    "\n",
    "dict3 = {'H : Helicopter', 'I : Ice-cream', 'J : Jug', 'K : Kettle', 'L : Lamp', 'M : Monkey', 'N : Nose'}\n",
    "print(dict3)\n",
    "\n",
    "dict3.pop()\n",
    "print(dict3)"
   ]
  },
  {
   "cell_type": "markdown",
   "id": "34f2a10d",
   "metadata": {},
   "source": [
    "### Thank You !!!"
   ]
  }
 ],
 "metadata": {
  "kernelspec": {
   "display_name": "Python 3 (ipykernel)",
   "language": "python",
   "name": "python3"
  },
  "language_info": {
   "codemirror_mode": {
    "name": "ipython",
    "version": 3
   },
   "file_extension": ".py",
   "mimetype": "text/x-python",
   "name": "python",
   "nbconvert_exporter": "python",
   "pygments_lexer": "ipython3",
   "version": "3.9.12"
  }
 },
 "nbformat": 4,
 "nbformat_minor": 5
}
