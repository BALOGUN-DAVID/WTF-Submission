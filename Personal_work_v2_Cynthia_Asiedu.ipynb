{
 "cells": [
  {
   "cell_type": "code",
   "execution_count": 1,
   "id": "1bdb1353",
   "metadata": {},
   "outputs": [
    {
     "name": "stdout",
     "output_type": "stream",
     "text": [
      "1\n",
      "2\n",
      "3\n",
      "4\n",
      "5\n",
      "6\n",
      "7\n",
      "8\n",
      "9\n"
     ]
    }
   ],
   "source": [
    "#1.Print all elements of a list using for loop\n",
    "\n",
    "number=[1,2,3,4,5,6,7,8,9]\n",
    "for i in number:\n",
    "    print(i)"
   ]
  },
  {
   "cell_type": "code",
   "execution_count": 2,
   "id": "7dbee7fa",
   "metadata": {},
   "outputs": [
    {
     "name": "stdout",
     "output_type": "stream",
     "text": [
      "Enter your Salary: 2500\n",
      "Enter your years of service: 7\n",
      "125.0\n"
     ]
    }
   ],
   "source": [
    "#A company decided to give bonus of 5% to employee if his/her year of service is more than 5 years. Ask user for their salary and year of service and print the net bonus amount.\n",
    "salary = int(input(\"Enter your Salary: \"))\n",
    "years_of_service = int(input(\"Enter your years of service: \"))\n",
    "\n",
    "if years_of_service > 5:\n",
    "    net_bonus = salary * 0.05\n",
    "    print(net_bonus)\n",
    "else:\n",
    "  print(salary)\n"
   ]
  },
  {
   "cell_type": "code",
   "execution_count": 3,
   "id": "6de07b38",
   "metadata": {},
   "outputs": [
    {
     "name": "stdout",
     "output_type": "stream",
     "text": [
      "Enter age Person 1: 60\n",
      "Enter age Person 2: 12\n",
      "Enter age Person 3: 75\n",
      "\n",
      "Person 3 is the oldest\n",
      "Person 2 is the youngest\n"
     ]
    }
   ],
   "source": [
    "# 3. Take input of age of 3 people by user and determine oldest and youngest among them.\n",
    "age1 = int(input(\"Enter age Person 1: \"))\n",
    "age2 = int(input(\"Enter age Person 2: \"))\n",
    "age3 = int(input(\"Enter age Person 3: \"))\n",
    "print()\n",
    "if (age1 > age2) & (age1 > age3):\n",
    "    print('Person 1 is the oldest')\n",
    "    if age2 < age3:\n",
    "        print('Person 2 is the youngest')\n",
    "    else:\n",
    "        print('Person 3 is the youngest')\n",
    "elif (age2 > age1) & (age2 > age3):\n",
    "    print('Person 2 is the oldest')\n",
    "    if age1 < age3:\n",
    "        print('Person 1 is the youngest')\n",
    "    else:\n",
    "        print('Person 3 is the youngest')\n",
    "else:\n",
    "     print('Person 3 is the oldest')\n",
    "     if age1 < age2:\n",
    "         print('Person 1 is the youngest')\n",
    "     else:\n",
    "         print('Person 2 is the youngest')"
   ]
  },
  {
   "cell_type": "code",
   "execution_count": 9,
   "id": "b5de44ca",
   "metadata": {},
   "outputs": [
    {
     "name": "stdout",
     "output_type": "stream",
     "text": [
      "enter your marks: 98\n",
      "A\n"
     ]
    }
   ],
   "source": [
    "#5.Ask user to enter marks and print the corresponding grade\n",
    "marks=int(input(\"enter your marks: \"))\n",
    "if marks < 25:\n",
    "    print(\"F\")\n",
    "elif 25 < marks <= 45:\n",
    "    print(\"E\")\n",
    "elif 45 < marks <= 50:\n",
    "    print(\"D\")\n",
    "elif 50 < marks <= 60:\n",
    "    print(\"C\")\n",
    "elif 60 < marks <= 80:\n",
    "    print(\"B\")\n",
    "elif marks > 80:\n",
    "    print(\"A\")\n",
    "\n"
   ]
  },
  {
   "cell_type": "code",
   "execution_count": 4,
   "id": "cb4db1ac",
   "metadata": {},
   "outputs": [
    {
     "name": "stdout",
     "output_type": "stream",
     "text": [
      "{'Nigera': 'Abuja', 'Ghana': 'Accra', 'Rwanda': 'Kigali', 'Kenya': 'Nairobi'}\n",
      "{'Zimbabwe': 'Harare', 'Angola': 'Luanda'}\n",
      "{'Nigera': 'Abuja', 'Ghana': 'Accra', 'Rwanda': 'Kigali', 'Kenya': 'Nairobi', 'Zimbabwe': 'Harare', 'Angola': 'Luanda'}\n"
     ]
    }
   ],
   "source": [
    "#6. Write a Python script to merge two Python dictionaries\n",
    "mydict1={\"Nigera\":\"Abuja\",\"Ghana\":\"Accra\",\"Rwanda\":\"Kigali\",\"Kenya\":\"Nairobi\"}\n",
    "print(mydict1)\n",
    "mydict2={\"Zimbabwe\":\"Harare\", \"Angola\":\"Luanda\"}\n",
    "print(mydict2)\n",
    "mydict = mydict1.copy()\n",
    "mydict.update(mydict2)\n",
    "print(mydict)"
   ]
  },
  {
   "cell_type": "code",
   "execution_count": 5,
   "id": "0ded774a",
   "metadata": {},
   "outputs": [
    {
     "name": "stdout",
     "output_type": "stream",
     "text": [
      "The largest number from the list:  90\n"
     ]
    }
   ],
   "source": [
    "#7.  Write a Python program to get the largest number from a list\n",
    "list = [8,54,70,50,30,35,20,90,67,54,82,21,4,79]\n",
    "print(\"The largest number from the list: \", max(list))"
   ]
  },
  {
   "cell_type": "code",
   "execution_count": 6,
   "id": "d796c34d",
   "metadata": {},
   "outputs": [
    {
     "name": "stdout",
     "output_type": "stream",
     "text": [
      "{'Nigera': 120, 'Ghana': 30, 'Rwanda': 15, 'Kenya': 50}\n",
      "{'Nigera': 120, 'Rwanda': 15, 'Kenya': 50}\n"
     ]
    }
   ],
   "source": [
    "# 8.  Write a Python program to remove a key from a dictionary\n",
    "mydict={\"Nigera\":120,\"Ghana\":30,\"Rwanda\":15,\"Kenya\":50}\n",
    "print(mydict)\n",
    "if \"Ghana\" in mydict:\n",
    "  del mydict[\"Ghana\"]\n",
    "print(mydict)"
   ]
  },
  {
   "cell_type": "code",
   "execution_count": null,
   "id": "6f00beba",
   "metadata": {},
   "outputs": [],
   "source": []
  }
 ],
 "metadata": {
  "kernelspec": {
   "display_name": "Python 3 (ipykernel)",
   "language": "python",
   "name": "python3"
  },
  "language_info": {
   "codemirror_mode": {
    "name": "ipython",
    "version": 3
   },
   "file_extension": ".py",
   "mimetype": "text/x-python",
   "name": "python",
   "nbconvert_exporter": "python",
   "pygments_lexer": "ipython3",
   "version": "3.9.12"
  }
 },
 "nbformat": 4,
 "nbformat_minor": 5
}
