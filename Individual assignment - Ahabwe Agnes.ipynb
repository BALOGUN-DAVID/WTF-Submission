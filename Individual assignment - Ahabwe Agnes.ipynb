{
 "cells": [
  {
   "cell_type": "markdown",
   "id": "5bc1dba9",
   "metadata": {},
   "source": [
    "1. Print all items of a list in a loop"
   ]
  },
  {
   "cell_type": "code",
   "execution_count": 2,
   "id": "fd888eea",
   "metadata": {},
   "outputs": [
    {
     "name": "stdout",
     "output_type": "stream",
     "text": [
      "silas\n",
      "elish\n",
      "perish\n",
      "nero\n",
      "ellis\n",
      "garret\n"
     ]
    }
   ],
   "source": [
    "my_list = ['silas', 'elish', 'perish', 'nero', 'ellis', 'garret']\n",
    "for x in my_list:\n",
    "    print(x)"
   ]
  },
  {
   "cell_type": "markdown",
   "id": "e736e974",
   "metadata": {},
   "source": [
    "2. A company decided to give bonus of 5% to an employee if their year of service is more than 5 years ask user their salary and year of service and print the net bonus amount"
   ]
  },
  {
   "cell_type": "code",
   "execution_count": null,
   "id": "ba3ac47a",
   "metadata": {},
   "outputs": [],
   "source": [
    "x = int(input(\"Salary: \"))\n",
    "y = int(input(\"Years of service: \"))\n",
    "\n",
    "if y>5:\n",
    "    print(\"bonus is\", 0.05*x)\n",
    "else:\n",
    "    print(\"no bonus\")"
   ]
  },
  {
   "cell_type": "markdown",
   "id": "fb6cf8b1",
   "metadata": {},
   "source": [
    "3. Take input of age of 3 people and determine oldest and youngest among them"
   ]
  },
  {
   "cell_type": "code",
   "execution_count": 2,
   "id": "fc44b143",
   "metadata": {},
   "outputs": [
    {
     "name": "stdout",
     "output_type": "stream",
     "text": [
      "child1 is oldest\n",
      "child2 is youngest\n"
     ]
    }
   ],
   "source": [
    "child1 = int(input('enter age: '))\n",
    "child2 = int(input('enter age: '))\n",
    "child3 = int(input('enter age: '))\n",
    "\n",
    "if child1>child2 and child1>child3:\n",
    "    print('child1 is oldest')\n",
    "elif child2>child1 and child2>child3:\n",
    "    print('child2 is oldest')\n",
    "else:\n",
    "    print('child3 is oldest')\n",
    "    \n",
    "if child1<child2 and child1<child3:\n",
    "    print('child1 is youngest')\n",
    "elif child2<child1 and child2<child3:\n",
    "    print('child2 is youngest')\n",
    "else:\n",
    "    print('child3 is youngest')"
   ]
  },
  {
   "cell_type": "markdown",
   "id": "dd0d1e5c",
   "metadata": {},
   "source": [
    "4. A school has the following rules for grading system\n",
    "\n",
    "Below 25 - F\n",
    "\n",
    "25 to 45 E\n",
    "\n",
    "45 to 50 D\n",
    "\n",
    "50 to 60 C\n",
    "\n",
    "60 to 80 B\n",
    "\n",
    "Above 80 A\n",
    "\n",
    "Ask a user to enter marks and print corresponding grade"
   ]
  },
  {
   "cell_type": "code",
   "execution_count": 3,
   "id": "f292a528",
   "metadata": {},
   "outputs": [
    {
     "name": "stdout",
     "output_type": "stream",
     "text": [
      "Grade B\n"
     ]
    }
   ],
   "source": [
    "marks = int(input(\"Enter your marks in Biology\"))\n",
    "\n",
    "if marks >80:\n",
    "    print(\"Grade A\")\n",
    "elif marks >=60 and marks <80:\n",
    "    print(\"Grade B\")\n",
    "elif marks >=50 and marks <60:\n",
    "    print (\"Grade C\")\n",
    "elif marks >=45 and marks < 50:\n",
    "    print (\"Grade D\")\n",
    "elif marks >=25 and marks < 45:\n",
    "    print (\"Grade E\")\n",
    "elif marks < 25:\n",
    "    print (\"Grade F\")\n",
    "else:\n",
    "    print(\"Mark not found\")"
   ]
  },
  {
   "cell_type": "markdown",
   "id": "51484069",
   "metadata": {},
   "source": [
    "5. Write python script to merge two python dictionaries\n"
   ]
  },
  {
   "cell_type": "code",
   "execution_count": 6,
   "id": "a5d10003",
   "metadata": {},
   "outputs": [
    {
     "name": "stdout",
     "output_type": "stream",
     "text": [
      "{'Silas': 211, 'Elish': 95, 'Nero': 94, 'Ellis': 94, 'Garrett': 92, 'Apollo': 75, 'Artemis': 75, 'Sanguine': 73, 'Jack': 71, 'Drake': 69}\n"
     ]
    }
   ],
   "source": [
    "#chimera generation ages and their king\n",
    "gen1 = {'Silas': 211, 'Elish': 95, 'Nero': 94, 'Ellis': 94, 'Garrett': 92}\n",
    "gen2 = {'Apollo': 75, 'Artemis': 75, 'Sanguine': 73, 'Jack': 71, 'Drake': 69}\n",
    "\n",
    "gen = gen1.copy()\n",
    "gen.update(gen2)\n",
    "print(gen)"
   ]
  },
  {
   "cell_type": "markdown",
   "id": "70c3b84e",
   "metadata": {},
   "source": [
    "\n",
    "6. Write a python program to get the largest number from a list\n"
   ]
  },
  {
   "cell_type": "code",
   "execution_count": 15,
   "id": "847bd10c",
   "metadata": {},
   "outputs": [
    {
     "name": "stdout",
     "output_type": "stream",
     "text": [
      "largest number in list is: 80\n"
     ]
    }
   ],
   "source": [
    "list = [7, 9, 0, 80, 55, 78]\n",
    "list.sort()\n",
    "print('largest number in list is:', list[-1])"
   ]
  },
  {
   "cell_type": "markdown",
   "id": "72d4c551",
   "metadata": {},
   "source": [
    "\n",
    "7. Write a python program to remove a key from a dictionary"
   ]
  },
  {
   "cell_type": "code",
   "execution_count": 23,
   "id": "ec3e585d",
   "metadata": {},
   "outputs": [
    {
     "name": "stdout",
     "output_type": "stream",
     "text": [
      "{'silas': 211, 'elish': 95, 'nero': 94, 'ellis': 94, 'sky': 250, 'kheva': 197}\n",
      "{'elish': 95, 'nero': 94, 'ellis': 94}\n"
     ]
    }
   ],
   "source": [
    "chimeras = {'silas': 211, 'elish': 95, 'nero': 94, 'ellis': 94, 'sky': 250, 'kheva': 197}\n",
    "print(chimeras)\n",
    "if 'silas' in chimeras:\n",
    "    del chimeras['silas']\n",
    "if 'sky' in chimeras:\n",
    "    del chimeras['sky']\n",
    "if 'kheva' in chimeras:\n",
    "    del chimeras['kheva']\n",
    "print(chimeras)"
   ]
  }
 ],
 "metadata": {
  "kernelspec": {
   "display_name": "Python 3 (ipykernel)",
   "language": "python",
   "name": "python3"
  },
  "language_info": {
   "codemirror_mode": {
    "name": "ipython",
    "version": 3
   },
   "file_extension": ".py",
   "mimetype": "text/x-python",
   "name": "python",
   "nbconvert_exporter": "python",
   "pygments_lexer": "ipython3",
   "version": "3.9.12"
  },
  "vscode": {
   "interpreter": {
    "hash": "d418518a19425454e35a770d2b796f9f5c34dc43fc11edf2d9aad56d21e6ec76"
   }
  }
 },
 "nbformat": 4,
 "nbformat_minor": 5
}
