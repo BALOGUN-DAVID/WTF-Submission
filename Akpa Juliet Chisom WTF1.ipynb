{
 "cells": [
  {
   "cell_type": "markdown",
   "id": "60ea9d76",
   "metadata": {},
   "source": [
    "### 1)Print all elements of a list using for loop."
   ]
  },
  {
   "cell_type": "code",
   "execution_count": 1,
   "id": "01538e9e",
   "metadata": {},
   "outputs": [
    {
     "name": "stdout",
     "output_type": "stream",
     "text": [
      "2\n",
      "4\n",
      "5\n",
      "7\n",
      "8\n",
      "9\n",
      "10\n"
     ]
    }
   ],
   "source": [
    "listx = [2,4,5,7,8,9,10]\n",
    "for x in listx:\n",
    "    print(x)"
   ]
  },
  {
   "cell_type": "markdown",
   "id": "df211034",
   "metadata": {},
   "source": [
    "# 2)Using range(1,101), make two list, one containing all even numbers andother containing all odd numbers."
   ]
  },
  {
   "cell_type": "code",
   "execution_count": 5,
   "id": "63991d9d",
   "metadata": {},
   "outputs": [
    {
     "name": "stdout",
     "output_type": "stream",
     "text": [
      "even number [2, 4, 6, 8, 10, 12, 14, 16, 18, 20, 22, 24, 26, 28, 30, 32, 34, 36, 38, 40, 42, 44, 46, 48, 50, 52, 54, 56, 58, 60, 62, 64, 66, 68, 70, 72, 74, 76, 78, 80, 82, 84, 86, 88, 90, 92, 94, 96, 98, 100]\n",
      "odd number [1, 3, 5, 7, 9, 11, 13, 15, 17, 19, 21, 23, 25, 27, 29, 31, 33, 35, 37, 39, 41, 43, 45, 47, 49, 51, 53, 55, 57, 59, 61, 63, 65, 67, 69, 71, 73, 75, 77, 79, 81, 83, 85, 87, 89, 91, 93, 95, 97, 99]\n"
     ]
    }
   ],
   "source": [
    "numbers = range (1,101)\n",
    "even_no = []\n",
    "odd_no = []\n",
    "for i in numbers:\n",
    "    if i % 2 == 0:\n",
    "        even_no. append(i)\n",
    "    else:\n",
    "        odd_no.append(i)\n",
    "print(\"even number\", even_no)\n",
    "print(\"odd number\", odd_no)"
   ]
  },
  {
   "cell_type": "markdown",
   "id": "b0622138",
   "metadata": {},
   "source": [
    "###  3)A company decided to give bonus of 5% to employee if his/her year of service is more than 5years. Ask user for their salary and year of service and print the net bonus amount. "
   ]
  },
  {
   "cell_type": "code",
   "execution_count": 7,
   "id": "e100a6f1",
   "metadata": {},
   "outputs": [
    {
     "name": "stdout",
     "output_type": "stream",
     "text": [
      "salary30000\n",
      "year of service5\n",
      "1500.0\n"
     ]
    }
   ],
   "source": [
    "salary = int(input(\"salary\"))\n",
    "year = int(input('year of service'))\n",
    "if year == 5:\n",
    "    print(salary * 0.05)\n",
    "else:\n",
    "    print(\"not eligible\")\n",
    "    \n"
   ]
  },
  {
   "cell_type": "code",
   "execution_count": 8,
   "id": "e411d4f6",
   "metadata": {},
   "outputs": [
    {
     "name": "stdout",
     "output_type": "stream",
     "text": [
      "salary50000\n",
      "year of service5\n",
      "2500.0\n"
     ]
    }
   ],
   "source": [
    "salary = int(input(\"salary\"))\n",
    "year = int(input('year of service'))\n",
    "if year == 5:\n",
    "    print(salary * 0.05)\n",
    "else:\n",
    "    print(\"not eligible\")"
   ]
  },
  {
   "cell_type": "markdown",
   "id": "91800f7a",
   "metadata": {},
   "source": [
    "###  4)Take input of age of 3 people by user and determine oldest and youngest among them. "
   ]
  },
  {
   "cell_type": "code",
   "execution_count": 2,
   "id": "d2a0d0fc",
   "metadata": {},
   "outputs": [
    {
     "name": "stdout",
     "output_type": "stream",
     "text": [
      "enter your age 20\n",
      "enter your age 25\n",
      "enter your age 1\n",
      "\n",
      "\n",
      "oldest among them is  25\n",
      "youngest among them is   1\n"
     ]
    }
   ],
   "source": [
    "person1 = int(input(\"enter your age \"))\n",
    "person2 = int(input(\"enter your age \"))\n",
    "person3 = int(input(\"enter your age \"))\n",
    "list = [person1, person2, person3]\n",
    "print(\"\\n\")\n",
    "print(\"oldest among them is \", max(list))\n",
    "print(\"youngest among them is  \", min(list))"
   ]
  },
  {
   "cell_type": "code",
   "execution_count": 31,
   "id": "b927c7ae",
   "metadata": {},
   "outputs": [
    {
     "name": "stdout",
     "output_type": "stream",
     "text": [
      "Oldest among them is 25\n",
      "Youngest among them is 1\n"
     ]
    }
   ],
   "source": [
    "Age = {\"Chisom\": 25, \"Jennifer\": 20, \"Ugomsi\": 1}\n",
    "Oldest = print(\"Oldest among them is\", max(Age.values()))\n",
    "Youngest = print(\"Youngest among them is\", min(Age.values()))\n"
   ]
  },
  {
   "cell_type": "markdown",
   "id": "9abbf98e",
   "metadata": {},
   "source": [
    "A school has following rules for grading system:\n",
    "a. Below 25 - F\n",
    "b. 25 to 45 - E\n",
    "c. 45 to 50 - D\n",
    "d. 50 to 60 - C\n",
    "e. 60 to 80 - B\n",
    "f. Above 80 - A\n",
    "5) Ask user to enter marks and print the corresponding grade"
   ]
  },
  {
   "cell_type": "code",
   "execution_count": 8,
   "id": "8e8b5b73",
   "metadata": {},
   "outputs": [
    {
     "name": "stdout",
     "output_type": "stream",
     "text": [
      "45\n",
      "E\n"
     ]
    }
   ],
   "source": [
    "grades = int(input())\n",
    "if grades < 25:\n",
    "    print(\"F\")\n",
    "elif grades > 25 and grades <=45:\n",
    "    print(\"E\")\n",
    "elif grades > 45 and grades <= 50:\n",
    "    print(\"D\")\n",
    "elif grades > 50 and grades <= 60:\n",
    "    print(\"C\")\n",
    "elif grades > 60 and grades <= 80:\n",
    "    print(\"B\")\n",
    "elif grades > 80:\n",
    "    print(\"A\")"
   ]
  },
  {
   "cell_type": "markdown",
   "id": "0702b273",
   "metadata": {},
   "source": [
    "### 6)Write a Python script to merge two Python dictionaries "
   ]
  },
  {
   "cell_type": "code",
   "execution_count": 5,
   "id": "618c88cc",
   "metadata": {},
   "outputs": [
    {
     "name": "stdout",
     "output_type": "stream",
     "text": [
      "{'Chisom': 25, 'Jennifer': 20, 'Ugomsi': 1, 'Nneka': 24, 'Oge': 23}\n"
     ]
    }
   ],
   "source": [
    "age1 = {\"Chisom\": 25, \"Jennifer\": 20, \"Ugomsi\": 1}\n",
    "age2 = {\"Nneka\": 24, \"Oge\": 23}\n",
    "Age = age1.copy()\n",
    "age1.update(age2)\n",
    "print(age1)"
   ]
  },
  {
   "cell_type": "markdown",
   "id": "e3eedebb",
   "metadata": {},
   "source": [
    "### 7)Write a Python program to remove a key from a dictionary."
   ]
  },
  {
   "cell_type": "code",
   "execution_count": 9,
   "id": "e76157f0",
   "metadata": {},
   "outputs": [
    {
     "name": "stdout",
     "output_type": "stream",
     "text": [
      "{'Chisom': 25, 'Jennifer': 20, 'Ugomsi': 1, 'Nneka': 24, 'Oge': 23}\n",
      "{'Jennifer': 20, 'Ugomsi': 1, 'Nneka': 24, 'Oge': 23}\n"
     ]
    }
   ],
   "source": [
    "age = {'Chisom': 25, 'Jennifer': 20, 'Ugomsi': 1, 'Nneka': 24, 'Oge': 23}\n",
    "print(age)\n",
    "if \"Chisom\" in age:\n",
    "    del age [\"Chisom\"]\n",
    "print(age)"
   ]
  },
  {
   "cell_type": "markdown",
   "id": "b036f74e",
   "metadata": {},
   "source": [
    "### 8)Write a Python program to get the largest numberfrom a list"
   ]
  },
  {
   "cell_type": "code",
   "execution_count": 12,
   "id": "596f0ec3",
   "metadata": {},
   "outputs": [
    {
     "name": "stdout",
     "output_type": "stream",
     "text": [
      "70\n"
     ]
    }
   ],
   "source": [
    "def largest_no(list):\n",
    "    max = list[0]\n",
    "    for x in list:\n",
    "        if x > max:\n",
    "            max = x\n",
    "    return max\n",
    "print(largest_no ([20,30,40,50,60,70]))\n"
   ]
  },
  {
   "cell_type": "code",
   "execution_count": null,
   "id": "aedcd7c1",
   "metadata": {},
   "outputs": [],
   "source": []
  }
 ],
 "metadata": {
  "kernelspec": {
   "display_name": "Python 3 (ipykernel)",
   "language": "python",
   "name": "python3"
  },
  "language_info": {
   "codemirror_mode": {
    "name": "ipython",
    "version": 3
   },
   "file_extension": ".py",
   "mimetype": "text/x-python",
   "name": "python",
   "nbconvert_exporter": "python",
   "pygments_lexer": "ipython3",
   "version": "3.9.7"
  }
 },
 "nbformat": 4,
 "nbformat_minor": 5
}
