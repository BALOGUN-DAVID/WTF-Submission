{
 "cells": [
  {
   "cell_type": "code",
   "execution_count": 1,
   "metadata": {},
   "outputs": [
    {
     "name": "stdout",
     "output_type": "stream",
     "text": [
      "2\n",
      "4\n",
      "6\n",
      "8\n",
      "10\n",
      "12\n",
      "14\n"
     ]
    }
   ],
   "source": [
    "#print all elements of a list using for loop\n",
    "chetachi= [2,4,6,8,10,12,14]\n",
    "for x in chetachi:\n",
    " print(x)"
   ]
  },
  {
   "cell_type": "code",
   "execution_count": 5,
   "metadata": {},
   "outputs": [
    {
     "name": "stdout",
     "output_type": "stream",
     "text": [
      "Hello, What's your salary?\n",
      "How long have you worked in the company?\n",
      "Congratulations! You qualify for a 5% bonus. Your net bonus amount is 25000.0\n"
     ]
    }
   ],
   "source": [
    "#Write python program to calculate net bonus pay of employees whose year of service is above 5 years\n",
    "# net_bonus =net bonus amount\n",
    "#yos= year of service\n",
    "print(\"Hello, What's your salary?\") #Ask for salary\n",
    "salary= float(input(\"Enter your salary\"))\n",
    "print(\"How long have you worked in the company?\") #Ask for year of service\n",
    "yos= float(input(\"Enter your year of service\")) \n",
    "if yos > 5:                                     #calculate net bonus amount if year of service is greater than 5\n",
    "  net_bonus=salary*0.05\n",
    "  print (\"Congratulations! You qualify for a 5% bonus. Your net bonus amount is\", net_bonus )\n",
    "else:\n",
    "  print(\"Your salary is\", salary, \"and you have worked for\", yos, \"years.Thank you\")\n",
    "\n"
   ]
  },
  {
   "cell_type": "code",
   "execution_count": 4,
   "metadata": {},
   "outputs": [
    {
     "name": "stdout",
     "output_type": "stream",
     "text": [
      "Person 2 is the oldest\n",
      "Person 3 is the youngest\n"
     ]
    }
   ],
   "source": [
    "#Take input of age of 3 people by user and determine oldest and youngest among them.\n",
    "#the 3 users are a,b,c\n",
    "age1= int(input('Enter age of person 1')) #person 1 is 30 years old\n",
    "age2= int(input(\"Enter age of person 2\")) #person 2 is 40 years old\n",
    "age3= int(input(\"Enter age of person 3\")) #person 3 is 20 years old\n",
    "if age1>age2 and age1>age3:\n",
    "    print(\"Person 1 is the oldest\")\n",
    "elif age1<age2 and age1<age3:\n",
    "    print(\"Person 1 is the youngest\") \n",
    "if age2>age1 and age2>age3:      \n",
    "    print(\"Person 2 is the oldest\")\n",
    "elif age2<age1 and age2<age3:\n",
    "    print(\"Person 2 is the youngest\")\n",
    "if age3>age1 and age3>age2:\n",
    "    print(\"Person 3 is the oldest\")\n",
    "elif age3<age1 and age3<age2:\n",
    "    print(\"Person 3 is the youngest\")\n",
    "\n"
   ]
  },
  {
   "cell_type": "code",
   "execution_count": 6,
   "metadata": {},
   "outputs": [
    {
     "name": "stdout",
     "output_type": "stream",
     "text": [
      "B\n"
     ]
    }
   ],
   "source": [
    "#grading sysyem\n",
    "score= int(input(\"Enter mark\")) #student's mark is 65\n",
    "if score<25:\n",
    "    print(\"F\")\n",
    "elif score>=25 and score<=45:\n",
    "    print(\"E\")\n",
    "elif score>=45 and score<=50:\n",
    "    print(\"D\")\n",
    "elif score>=50 and score<=60:\n",
    "    print(\"C\")\n",
    "elif score>=60 and score<=80:\n",
    "    print(\"B\")\n",
    "elif score>80:\n",
    "    print(\"A\")\n"
   ]
  },
  {
   "cell_type": "code",
   "execution_count": 38,
   "metadata": {},
   "outputs": [
    {
     "name": "stdout",
     "output_type": "stream",
     "text": [
      "{'Tomatoes': 200, 'Onion': 500, 'Pepper': 100, 'Meat': 2500, 'Rice': 800, 'Salt': 60}\n"
     ]
    }
   ],
   "source": [
    "#Write a python script t0 merge two python dictionaries\n",
    "def merge(dict1,dict2):\n",
    "    result = dict1 | dict2\n",
    "    return (result)\n",
    "dict1={'Tomatoes': 200, 'Onion': 500, 'Pepper':100}\n",
    "dict2={\"Meat\":2500, \"Rice\": 800, \"Salt\": 60}\n",
    "dict3= merge(dict1,dict2)\n",
    "print(dict3)"
   ]
  },
  {
   "cell_type": "code",
   "execution_count": 47,
   "metadata": {},
   "outputs": [
    {
     "name": "stdout",
     "output_type": "stream",
     "text": [
      "The largest value in the list is 79\n"
     ]
    }
   ],
   "source": [
    "#Write a python program to get the largest number from a list\n",
    "chetachi= [2,4,6,8,10,15,67,40,65,79,40,60]\n",
    "print('The largest value in the list is', max(chetachi))"
   ]
  },
  {
   "cell_type": "code",
   "execution_count": 46,
   "metadata": {},
   "outputs": [
    {
     "name": "stdout",
     "output_type": "stream",
     "text": [
      "Dictionary before removal is {'Tomatoes': 200, 'Onion': 500, 'Pepper': 100}\n",
      "Key removed is Tomatoes\n",
      "New dictionary is {'Onion': 500, 'Pepper': 100}\n"
     ]
    }
   ],
   "source": [
    "#write a python program to remove a key from a dictionary\n",
    "dict1={'Tomatoes': 200, 'Onion': 500, 'Pepper':100}\n",
    "#print dictionary before removal\n",
    "print('Dictionary before removal is', dict1) \n",
    "print(\"Key removed is Tomatoes\")\n",
    "del dict1['Tomatoes']\n",
    "print(\"New dictionary is\",dict1)"
   ]
  }
 ],
 "metadata": {
  "kernelspec": {
   "display_name": "Python 3.9.12 ('base')",
   "language": "python",
   "name": "python3"
  },
  "language_info": {
   "codemirror_mode": {
    "name": "ipython",
    "version": 3
   },
   "file_extension": ".py",
   "mimetype": "text/x-python",
   "name": "python",
   "nbconvert_exporter": "python",
   "pygments_lexer": "ipython3",
   "version": "3.9.12"
  },
  "orig_nbformat": 4,
  "vscode": {
   "interpreter": {
    "hash": "dc07d24e2f18896857f0b2a651fe84ba40ce7b297e58d8804a308c8039f752a6"
   }
  }
 },
 "nbformat": 4,
 "nbformat_minor": 2
}
