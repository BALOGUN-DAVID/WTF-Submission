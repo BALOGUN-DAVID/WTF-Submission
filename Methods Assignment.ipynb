{
 "cells": [
  {
   "cell_type": "markdown",
   "id": "91c02660",
   "metadata": {},
   "source": [
    "# Write down 20 built-in methods on pandas and numpy with examples each."
   ]
  },
  {
   "cell_type": "code",
   "execution_count": 31,
   "id": "efd56d8d",
   "metadata": {},
   "outputs": [],
   "source": [
    "import numpy as np\n",
    "import pandas as pd"
   ]
  },
  {
   "cell_type": "markdown",
   "id": "d83decad",
   "metadata": {},
   "source": [
    "## Numpy Methods"
   ]
  },
  {
   "cell_type": "markdown",
   "id": "12944208",
   "metadata": {},
   "source": [
    "### 1) np.array\n",
    "#### Creates an array from a list"
   ]
  },
  {
   "cell_type": "code",
   "execution_count": 32,
   "id": "055740a5",
   "metadata": {},
   "outputs": [
    {
     "data": {
      "text/plain": [
       "array([ 23,  16,  89,  43,  80,  22,  13,  67, 109,  99,  74,  65])"
      ]
     },
     "execution_count": 32,
     "metadata": {},
     "output_type": "execute_result"
    }
   ],
   "source": [
    "a= [23,16, 89, 43, 80, 22, 13, 67, 109, 99, 74, 65]\n",
    "a = np.array(a)\n",
    "a"
   ]
  },
  {
   "cell_type": "markdown",
   "id": "860bba66",
   "metadata": {},
   "source": [
    "### 2) np.arange\n",
    "#### Creates an array from a range"
   ]
  },
  {
   "cell_type": "code",
   "execution_count": 33,
   "id": "91bf3933",
   "metadata": {},
   "outputs": [
    {
     "data": {
      "text/plain": [
       "array([ 1,  6, 11, 16])"
      ]
     },
     "execution_count": 33,
     "metadata": {},
     "output_type": "execute_result"
    }
   ],
   "source": [
    "b = np.arange(1, 20, 5)\n",
    "b"
   ]
  },
  {
   "cell_type": "markdown",
   "id": "2f63f476",
   "metadata": {},
   "source": [
    "### 3) np.reshape\n",
    "#### Reshapes an existing array to a specified new shape"
   ]
  },
  {
   "cell_type": "code",
   "execution_count": 34,
   "id": "3c9fa201",
   "metadata": {},
   "outputs": [
    {
     "data": {
      "text/plain": [
       "array([[ 2,  4],\n",
       "       [ 6,  8],\n",
       "       [10,  3],\n",
       "       [ 5,  7],\n",
       "       [ 9, 11]])"
      ]
     },
     "execution_count": 34,
     "metadata": {},
     "output_type": "execute_result"
    }
   ],
   "source": [
    "e = np.array([[2, 4, 6, 8, 10],\n",
    "              [3, 5, 7, 9, 11]])\n",
    "e.reshape(5,2)"
   ]
  },
  {
   "cell_type": "markdown",
   "id": "9efda768",
   "metadata": {},
   "source": [
    "### 4) np.transpose\n",
    "#### Transfers the values in a row to a column and values in a column to a row"
   ]
  },
  {
   "cell_type": "code",
   "execution_count": 35,
   "id": "bf59656b",
   "metadata": {},
   "outputs": [
    {
     "name": "stdout",
     "output_type": "stream",
     "text": [
      "[[ 1  2  3]\n",
      " [ 4  5  6]\n",
      " [ 7  8  9]\n",
      " [10 11 12]\n",
      " [13 14 15]\n",
      " [16 17 18]\n",
      " [19 20 21]\n",
      " [22 23 24]]\n"
     ]
    },
    {
     "data": {
      "text/plain": [
       "array([[ 1,  4,  7, 10, 13, 16, 19, 22],\n",
       "       [ 2,  5,  8, 11, 14, 17, 20, 23],\n",
       "       [ 3,  6,  9, 12, 15, 18, 21, 24]])"
      ]
     },
     "execution_count": 35,
     "metadata": {},
     "output_type": "execute_result"
    }
   ],
   "source": [
    "f = np.arange(1, 25).reshape(8,3)\n",
    "print(f)\n",
    "f.transpose()"
   ]
  },
  {
   "cell_type": "markdown",
   "id": "d07592a4",
   "metadata": {},
   "source": [
    "### 5) np.concatenate\n",
    "#### Combines two or more arrays together"
   ]
  },
  {
   "cell_type": "code",
   "execution_count": 36,
   "id": "9db2fd54",
   "metadata": {},
   "outputs": [
    {
     "data": {
      "text/plain": [
       "array([[ 1,  3],\n",
       "       [ 2,  4],\n",
       "       [ 5,  7],\n",
       "       [ 6,  8],\n",
       "       [ 9, 11],\n",
       "       [10, 12],\n",
       "       [13, 15],\n",
       "       [14, 16]])"
      ]
     },
     "execution_count": 36,
     "metadata": {},
     "output_type": "execute_result"
    }
   ],
   "source": [
    "g = np.array([[1,3],\n",
    "              [2,4],\n",
    "              [5,7],\n",
    "              [6,8]])\n",
    "\n",
    "h = np.array([[9, 11],\n",
    "              [10, 12],\n",
    "              [13, 15],\n",
    "              [14, 16]])\n",
    "\n",
    "# Concatenate row-wise as axis, 0 refers to rows\n",
    "np.concatenate((g, h), axis = 0)"
   ]
  },
  {
   "cell_type": "code",
   "execution_count": 37,
   "id": "ad49785e",
   "metadata": {},
   "outputs": [
    {
     "data": {
      "text/plain": [
       "array([[ 1,  3,  9, 11],\n",
       "       [ 2,  4, 10, 12],\n",
       "       [ 5,  7, 13, 15],\n",
       "       [ 6,  8, 14, 16]])"
      ]
     },
     "execution_count": 37,
     "metadata": {},
     "output_type": "execute_result"
    }
   ],
   "source": [
    "g = np.array([[1,3],\n",
    "              [2,4],\n",
    "              [5,7],\n",
    "              [6,8]])\n",
    "\n",
    "h = np.array([[9, 11],\n",
    "              [10, 12],\n",
    "              [13, 15],\n",
    "              [14, 16]])\n",
    "\n",
    "# Concatenate Column-wise as axis, 1 refers to columns\n",
    "np.concatenate((g, h), axis = 1)"
   ]
  },
  {
   "cell_type": "markdown",
   "id": "2b47f033",
   "metadata": {},
   "source": [
    "### 6) np.flatten\n",
    "#### Collapses a multi-dimensional array into a single dimension"
   ]
  },
  {
   "cell_type": "code",
   "execution_count": 38,
   "id": "1eda43d5",
   "metadata": {},
   "outputs": [
    {
     "data": {
      "text/plain": [
       "array([ 1,  2,  3,  2,  4,  6,  3,  6,  9,  4,  8, 12,  5, 10, 15,  6, 12,\n",
       "       18,  7, 14, 21,  8, 16, 24])"
      ]
     },
     "execution_count": 38,
     "metadata": {},
     "output_type": "execute_result"
    }
   ],
   "source": [
    "i = np.array([[1, 2, 3], [2, 4, 6],\n",
    "              [3, 6, 9], [4, 8, 12],\n",
    "              [5, 10, 15], [6, 12, 18],\n",
    "              [7, 14, 21], [8, 16, 24]])\n",
    "i.flatten()"
   ]
  },
  {
   "cell_type": "markdown",
   "id": "712c4fdb",
   "metadata": {},
   "source": [
    "### 7. np.resize\n",
    "#### Changes the number of elements in an array, either by adding to or deleting values from the end"
   ]
  },
  {
   "cell_type": "code",
   "execution_count": 39,
   "id": "b4259bb7",
   "metadata": {},
   "outputs": [
    {
     "name": "stdout",
     "output_type": "stream",
     "text": [
      "[ 1  4  7 10 13 16 19 22 25 28]\n",
      "10\n"
     ]
    },
    {
     "data": {
      "text/plain": [
       "array([ 1,  4,  7, 10, 13, 16, 19, 22])"
      ]
     },
     "execution_count": 39,
     "metadata": {},
     "output_type": "execute_result"
    }
   ],
   "source": [
    "k = np.arange(1,30,3)\n",
    "print(k)\n",
    "print(k.size)\n",
    "\n",
    "# Resizes the array by removing the 2 values at the end of the array to reduce the size from 10 to 8\n",
    "k.resize(8)\n",
    "k"
   ]
  },
  {
   "cell_type": "code",
   "execution_count": 40,
   "id": "f4c679f4",
   "metadata": {},
   "outputs": [
    {
     "name": "stdout",
     "output_type": "stream",
     "text": [
      "[ 1  4  7 10 13 16 19 22 25 28]\n",
      "10\n"
     ]
    },
    {
     "data": {
      "text/plain": [
       "array([ 1,  4,  7, 10, 13, 16, 19, 22, 25, 28,  0,  0])"
      ]
     },
     "execution_count": 40,
     "metadata": {},
     "output_type": "execute_result"
    }
   ],
   "source": [
    "k = np.arange(1,30,3)\n",
    "print(k)\n",
    "print(k.size)\n",
    "\n",
    "#Resizes the array by adding 2 zeros at the end of the array to increase the size from 10 to 12\n",
    "k.resize(12)\n",
    "k"
   ]
  },
  {
   "cell_type": "code",
   "execution_count": 41,
   "id": "5d85acf2",
   "metadata": {},
   "outputs": [
    {
     "name": "stdout",
     "output_type": "stream",
     "text": [
      "[ 1  4  7 10 13 16 19 22 25 28]\n",
      "10\n",
      " \n",
      "[[ 1  4  7]\n",
      " [10 13 16]\n",
      " [19 22 25]\n",
      " [28  1  4]\n",
      " [ 7 10 13]]\n",
      "15\n",
      " \n",
      "[[ 1  4  7]\n",
      " [10 13 16]\n",
      " [19 22 25]\n",
      " [28  0  0]\n",
      " [ 0  0  0]]\n",
      "15\n"
     ]
    }
   ],
   "source": [
    "# Original array\n",
    "k = np.arange(1,30,3)\n",
    "print(k)\n",
    "print(k.size)\n",
    "\n",
    "print(\" \") # for space between outputs\n",
    "\n",
    "# Returns a new array with the specified shape, repeats elements in the old array to compensate for the addition\n",
    "k1= np.resize(k, (5,3))\n",
    "print(k1)\n",
    "print(k1.size)\n",
    "\n",
    "print(\" \") # for space between outputs\n",
    "\n",
    "# Returns a new array with the specified shape, adds zeros to compensate for the addition\n",
    "k.resize(5,3)\n",
    "print(k)\n",
    "print(k.size)"
   ]
  },
  {
   "cell_type": "markdown",
   "id": "33b728d0",
   "metadata": {},
   "source": [
    "### 8) np.random\n",
    "#### Creates an array with randomly generated values using varied sub-methods"
   ]
  },
  {
   "cell_type": "code",
   "execution_count": 42,
   "id": "f103cf7f",
   "metadata": {},
   "outputs": [
    {
     "data": {
      "text/plain": [
       "array([57, 43, 60, 68, 61, 56, 53, 28, 37, 41])"
      ]
     },
     "execution_count": 42,
     "metadata": {},
     "output_type": "execute_result"
    }
   ],
   "source": [
    "l = np.random.randint(25, 70, 10)\n",
    "l"
   ]
  },
  {
   "cell_type": "markdown",
   "id": "64ea9b9f",
   "metadata": {},
   "source": [
    "### 9. np.sort\n",
    "#### Sorts an array from lowest to highest or vice versa"
   ]
  },
  {
   "cell_type": "code",
   "execution_count": 43,
   "id": "12ea25eb",
   "metadata": {},
   "outputs": [
    {
     "name": "stdout",
     "output_type": "stream",
     "text": [
      "[[ 24 148  29  71 190  34]\n",
      " [140  61  53 184  26  29]\n",
      " [121  28  50 125 100 103]\n",
      " [131  88 142 158  81 102]\n",
      " [ 98  79  97 108  89  66]]\n"
     ]
    },
    {
     "data": {
      "text/plain": [
       "array([[ 24,  29,  34,  71, 148, 190],\n",
       "       [ 26,  29,  53,  61, 140, 184],\n",
       "       [ 28,  50, 100, 103, 121, 125],\n",
       "       [ 81,  88, 102, 131, 142, 158],\n",
       "       [ 66,  79,  89,  97,  98, 108]])"
      ]
     },
     "execution_count": 43,
     "metadata": {},
     "output_type": "execute_result"
    }
   ],
   "source": [
    "n = np.random.randint(20, 200, 30).reshape(5,6)\n",
    "print(n)\n",
    "\n",
    "np.sort(n)"
   ]
  },
  {
   "cell_type": "markdown",
   "id": "b9cc66f1",
   "metadata": {},
   "source": [
    "### 10) np.sum\n",
    "#### Sums up all the values in an array "
   ]
  },
  {
   "cell_type": "code",
   "execution_count": 44,
   "id": "35a91ed0",
   "metadata": {},
   "outputs": [
    {
     "name": "stdout",
     "output_type": "stream",
     "text": [
      "[31 31 59 97 86 94 67 66 28 15 26 96 50 32 44 52 81 71 92 91 98 35 61 43\n",
      " 14]\n"
     ]
    },
    {
     "data": {
      "text/plain": [
       "1460"
      ]
     },
     "execution_count": 44,
     "metadata": {},
     "output_type": "execute_result"
    }
   ],
   "source": [
    "o = np.random.randint(1, 100, 25)\n",
    "print(o)\n",
    "o.sum()"
   ]
  },
  {
   "cell_type": "markdown",
   "id": "23027b2a",
   "metadata": {},
   "source": [
    "### 11) np.mean\n",
    "#### Returns the average of all the elements in an array"
   ]
  },
  {
   "cell_type": "code",
   "execution_count": 45,
   "id": "3df38174",
   "metadata": {},
   "outputs": [
    {
     "data": {
      "text/plain": [
       "45.0"
      ]
     },
     "execution_count": 45,
     "metadata": {},
     "output_type": "execute_result"
    }
   ],
   "source": [
    "d = np.array([10, 20, 30 ,40, 50, 60, 70, 80])\n",
    "d.mean()"
   ]
  },
  {
   "cell_type": "markdown",
   "id": "4df4c26a",
   "metadata": {},
   "source": [
    "### 12. np.argmax\n",
    "#### Returns the index of the largest value"
   ]
  },
  {
   "cell_type": "code",
   "execution_count": 46,
   "id": "8bfa8ac8",
   "metadata": {},
   "outputs": [
    {
     "data": {
      "text/plain": [
       "7"
      ]
     },
     "execution_count": 46,
     "metadata": {},
     "output_type": "execute_result"
    }
   ],
   "source": [
    "p = np.array([2, 3, 5, 6, 8, 9, 12, 13])\n",
    "p.argmax()"
   ]
  },
  {
   "cell_type": "markdown",
   "id": "56afc6a8",
   "metadata": {},
   "source": [
    "### 13. np.round\n",
    "#### Returns float values rounded to float values with specified no of decimal places"
   ]
  },
  {
   "cell_type": "code",
   "execution_count": 47,
   "id": "9908373e",
   "metadata": {},
   "outputs": [
    {
     "data": {
      "text/plain": [
       "array([ 23.55,  89.78,  66.42, 101.1 ,  12.39])"
      ]
     },
     "execution_count": 47,
     "metadata": {},
     "output_type": "execute_result"
    }
   ],
   "source": [
    "q = np.array([23.5523, 89.7811, 66.4233, 101.0972, 12.3876])\n",
    "q.round(decimals= 2)"
   ]
  },
  {
   "cell_type": "markdown",
   "id": "7d440f6d",
   "metadata": {},
   "source": [
    "### 14) np.hsplit\n",
    "#### Splits an array along its horizontal axis"
   ]
  },
  {
   "cell_type": "code",
   "execution_count": 48,
   "id": "89749947",
   "metadata": {},
   "outputs": [
    {
     "name": "stdout",
     "output_type": "stream",
     "text": [
      "[[ 1  2  3  4  5  6  7  8  9 10 11 12]\n",
      " [13 14 15 16 17 18 19 20 21 22 23 24]]\n"
     ]
    },
    {
     "data": {
      "text/plain": [
       "[array([[ 1,  2,  3,  4],\n",
       "        [13, 14, 15, 16]]),\n",
       " array([[ 5,  6,  7,  8],\n",
       "        [17, 18, 19, 20]]),\n",
       " array([[ 9, 10, 11, 12],\n",
       "        [21, 22, 23, 24]])]"
      ]
     },
     "execution_count": 48,
     "metadata": {},
     "output_type": "execute_result"
    }
   ],
   "source": [
    "r = np.arange(1, 25).reshape(2, 12)\n",
    "print(r)\n",
    "np.hsplit(r, 3)"
   ]
  },
  {
   "cell_type": "markdown",
   "id": "3cf154a9",
   "metadata": {},
   "source": [
    "### 15) np.vsplit\n",
    "#### Splits an array alomg its vertical axis"
   ]
  },
  {
   "cell_type": "code",
   "execution_count": 49,
   "id": "b28ae1ec",
   "metadata": {},
   "outputs": [
    {
     "name": "stdout",
     "output_type": "stream",
     "text": [
      "[[ 1  2  3  4]\n",
      " [ 5  6  7  8]\n",
      " [ 9 10 11 12]\n",
      " [13 14 15 16]\n",
      " [17 18 19 20]\n",
      " [21 22 23 24]]\n"
     ]
    },
    {
     "data": {
      "text/plain": [
       "[array([[1, 2, 3, 4],\n",
       "        [5, 6, 7, 8]]),\n",
       " array([[ 9, 10, 11, 12],\n",
       "        [13, 14, 15, 16]]),\n",
       " array([[17, 18, 19, 20],\n",
       "        [21, 22, 23, 24]])]"
      ]
     },
     "execution_count": 49,
     "metadata": {},
     "output_type": "execute_result"
    }
   ],
   "source": [
    "r = np.arange(1, 25).reshape(6,4)\n",
    "print(r)\n",
    "np.vsplit(r, 3)"
   ]
  },
  {
   "cell_type": "markdown",
   "id": "98d24394",
   "metadata": {},
   "source": [
    "### 16. np.copy\n",
    "#### Makes a copy of an array and its data"
   ]
  },
  {
   "cell_type": "code",
   "execution_count": 50,
   "id": "898debf5",
   "metadata": {},
   "outputs": [
    {
     "name": "stdout",
     "output_type": "stream",
     "text": [
      "[[ 1 10]\n",
      " [ 2  9]\n",
      " [ 3  8]\n",
      " [ 4  7]\n",
      " [ 5  6]]\n"
     ]
    },
    {
     "data": {
      "text/plain": [
       "array([[ True,  True],\n",
       "       [ True,  True],\n",
       "       [ True,  True],\n",
       "       [ True,  True],\n",
       "       [ True,  True]])"
      ]
     },
     "execution_count": 50,
     "metadata": {},
     "output_type": "execute_result"
    }
   ],
   "source": [
    "s = np.array([[1,10],\n",
    "              [2, 9],\n",
    "              [3, 8],\n",
    "              [4, 7],\n",
    "              [5, 6]])\n",
    "s1 = s.copy()\n",
    "print(s1)\n",
    "\n",
    "# Checking to see if both arrays, s and s1 contain the same values\n",
    "s1 == s"
   ]
  },
  {
   "cell_type": "markdown",
   "id": "9fc06926",
   "metadata": {},
   "source": [
    "### 17. np.append\n",
    "#### Adds values to the end of an array"
   ]
  },
  {
   "cell_type": "code",
   "execution_count": 51,
   "id": "19018ff4",
   "metadata": {},
   "outputs": [
    {
     "name": "stdout",
     "output_type": "stream",
     "text": [
      "[[ 5  8]\n",
      " [11 14]\n",
      " [17 20]\n",
      " [23 26]]\n",
      " \n",
      "[ 5  8 11 14 17 20 23 26  3  4]\n"
     ]
    },
    {
     "data": {
      "text/plain": [
       "array([[ 5,  8],\n",
       "       [11, 14],\n",
       "       [17, 20],\n",
       "       [23, 26],\n",
       "       [ 3,  4]])"
      ]
     },
     "execution_count": 51,
     "metadata": {},
     "output_type": "execute_result"
    }
   ],
   "source": [
    "# Creating an array \n",
    "t = np.arange(5,28, 3).reshape(4,2)\n",
    "print(t)\n",
    "\n",
    "print(\" \")  # for space between outputs\n",
    "\n",
    "# Adding the values 3,4 to the array\n",
    "t = np.append(t, [3,4])\n",
    "print(t)\n",
    "\n",
    "# Reshaping the array to accomodate the new values\n",
    "t = t.reshape(5,2)\n",
    "t"
   ]
  },
  {
   "cell_type": "markdown",
   "id": "2211a2af",
   "metadata": {},
   "source": [
    "### 18) np.unique\n",
    "#### Returns the unique values in array, excluding the duplicates"
   ]
  },
  {
   "cell_type": "code",
   "execution_count": 52,
   "id": "829d779d",
   "metadata": {},
   "outputs": [
    {
     "name": "stdout",
     "output_type": "stream",
     "text": [
      "(12, 2)\n",
      " \n",
      "[[ 0  0]\n",
      " [ 0  2]\n",
      " [ 1  0]\n",
      " [ 2 18]\n",
      " [ 3 27]\n",
      " [ 4 32]\n",
      " [ 5 35]\n",
      " [ 5 45]\n",
      " [ 7 90]]\n"
     ]
    },
    {
     "data": {
      "text/plain": [
       "(9, 2)"
      ]
     },
     "execution_count": 52,
     "metadata": {},
     "output_type": "execute_result"
    }
   ],
   "source": [
    "# Creating an array\n",
    "u = np.array([[1, 0], [2, 18], [3, 27], [2, 18], [4, 32], [5, 45], [0, 0], [5, 45], [7, 90], [5,35], [2,18], [0,2]])\n",
    "\n",
    "# displaying the shape (no of rows and columns) of the original array\n",
    "print(u.shape)\n",
    "\n",
    "print(\" \")  # for space between outputs\n",
    "\n",
    "# selecting the unique values\n",
    "print(np.unique(u, axis=0))\n",
    "\n",
    "# displaying the shape (no of rows and columns) of the array containing only the unique values\n",
    "np.unique(u, axis=0).shape"
   ]
  },
  {
   "cell_type": "markdown",
   "id": "3cb1039f",
   "metadata": {},
   "source": [
    "### 19) np.sqrt\n",
    "#### Returns the square roots of elements in an array"
   ]
  },
  {
   "cell_type": "code",
   "execution_count": 53,
   "id": "432cc968",
   "metadata": {},
   "outputs": [
    {
     "data": {
      "text/plain": [
       "array([ 2.,  4.,  6.,  8., 10., 12., 15., 16.])"
      ]
     },
     "execution_count": 53,
     "metadata": {},
     "output_type": "execute_result"
    }
   ],
   "source": [
    "v = np.array([4, 16, 36, 64, 100, 144, 225, 256])\n",
    "np.sqrt(v)"
   ]
  },
  {
   "cell_type": "markdown",
   "id": "a5886077",
   "metadata": {},
   "source": [
    "### 20) np.tolist\n",
    "#### Converts a numpy array to a list"
   ]
  },
  {
   "cell_type": "code",
   "execution_count": 54,
   "id": "4a25c1cd",
   "metadata": {},
   "outputs": [
    {
     "name": "stdout",
     "output_type": "stream",
     "text": [
      "[8, 13, 18, 23, 28, 33, 38, 43, 48, 53, 58, 63]\n",
      "<class 'list'>\n"
     ]
    }
   ],
   "source": [
    "t = np.arange(8, 64, 5)\n",
    "t = t.tolist()\n",
    "print(t)\n",
    "print(type(t))"
   ]
  },
  {
   "cell_type": "markdown",
   "id": "27308331",
   "metadata": {},
   "source": [
    "## Pandas Methods"
   ]
  },
  {
   "cell_type": "code",
   "execution_count": 68,
   "id": "48b216c4",
   "metadata": {},
   "outputs": [
    {
     "data": {
      "text/html": [
       "<div>\n",
       "<style scoped>\n",
       "    .dataframe tbody tr th:only-of-type {\n",
       "        vertical-align: middle;\n",
       "    }\n",
       "\n",
       "    .dataframe tbody tr th {\n",
       "        vertical-align: top;\n",
       "    }\n",
       "\n",
       "    .dataframe thead th {\n",
       "        text-align: right;\n",
       "    }\n",
       "</style>\n",
       "<table border=\"1\" class=\"dataframe\">\n",
       "  <thead>\n",
       "    <tr style=\"text-align: right;\">\n",
       "      <th></th>\n",
       "      <th>Names</th>\n",
       "      <th>Age</th>\n",
       "      <th>Occupation</th>\n",
       "      <th>Height</th>\n",
       "      <th>Weight(Kg)</th>\n",
       "      <th>Gender</th>\n",
       "    </tr>\n",
       "  </thead>\n",
       "  <tbody>\n",
       "    <tr>\n",
       "      <th>1</th>\n",
       "      <td>Uche</td>\n",
       "      <td>16</td>\n",
       "      <td>Student</td>\n",
       "      <td>5'7</td>\n",
       "      <td>62</td>\n",
       "      <td>Male</td>\n",
       "    </tr>\n",
       "    <tr>\n",
       "      <th>2</th>\n",
       "      <td>Abiola</td>\n",
       "      <td>17</td>\n",
       "      <td>Student</td>\n",
       "      <td>6'</td>\n",
       "      <td>54</td>\n",
       "      <td>Female</td>\n",
       "    </tr>\n",
       "    <tr>\n",
       "      <th>3</th>\n",
       "      <td>Nelly</td>\n",
       "      <td>16</td>\n",
       "      <td>Student</td>\n",
       "      <td>5'8</td>\n",
       "      <td>56</td>\n",
       "      <td>Female</td>\n",
       "    </tr>\n",
       "    <tr>\n",
       "      <th>4</th>\n",
       "      <td>Queen</td>\n",
       "      <td>15</td>\n",
       "      <td>Student</td>\n",
       "      <td>5'</td>\n",
       "      <td>57</td>\n",
       "      <td>Female</td>\n",
       "    </tr>\n",
       "    <tr>\n",
       "      <th>5</th>\n",
       "      <td>Ovie</td>\n",
       "      <td>26</td>\n",
       "      <td>Lawyer</td>\n",
       "      <td>6'2</td>\n",
       "      <td>80</td>\n",
       "      <td>Male</td>\n",
       "    </tr>\n",
       "    <tr>\n",
       "      <th>6</th>\n",
       "      <td>Belinda</td>\n",
       "      <td>18</td>\n",
       "      <td>Student</td>\n",
       "      <td>5'11</td>\n",
       "      <td>72</td>\n",
       "      <td>Female</td>\n",
       "    </tr>\n",
       "    <tr>\n",
       "      <th>7</th>\n",
       "      <td>Ann</td>\n",
       "      <td>22</td>\n",
       "      <td>Quality Analyst</td>\n",
       "      <td>5'2</td>\n",
       "      <td>52</td>\n",
       "      <td>Female</td>\n",
       "    </tr>\n",
       "    <tr>\n",
       "      <th>8</th>\n",
       "      <td>King</td>\n",
       "      <td>23</td>\n",
       "      <td>Lab Technician</td>\n",
       "      <td>6'2</td>\n",
       "      <td>69</td>\n",
       "      <td>Male</td>\n",
       "    </tr>\n",
       "    <tr>\n",
       "      <th>9</th>\n",
       "      <td>Richard</td>\n",
       "      <td>38</td>\n",
       "      <td>Civil Servant</td>\n",
       "      <td>6'3</td>\n",
       "      <td>78</td>\n",
       "      <td>Male</td>\n",
       "    </tr>\n",
       "    <tr>\n",
       "      <th>10</th>\n",
       "      <td>Adamu</td>\n",
       "      <td>25</td>\n",
       "      <td>Personal Assistant</td>\n",
       "      <td>5'6</td>\n",
       "      <td>70</td>\n",
       "      <td>Male</td>\n",
       "    </tr>\n",
       "  </tbody>\n",
       "</table>\n",
       "</div>"
      ],
      "text/plain": [
       "      Names  Age          Occupation Height  Weight(Kg)  Gender\n",
       "1      Uche   16             Student    5'7          62    Male\n",
       "2    Abiola   17             Student     6'          54  Female\n",
       "3     Nelly   16             Student    5'8          56  Female\n",
       "4     Queen   15             Student     5'          57  Female\n",
       "5      Ovie   26              Lawyer    6'2          80    Male\n",
       "6   Belinda   18             Student   5'11          72  Female\n",
       "7       Ann   22     Quality Analyst    5'2          52  Female\n",
       "8      King   23      Lab Technician    6'2          69    Male\n",
       "9   Richard   38       Civil Servant    6'3          78    Male\n",
       "10    Adamu   25  Personal Assistant    5'6          70    Male"
      ]
     },
     "execution_count": 68,
     "metadata": {},
     "output_type": "execute_result"
    }
   ],
   "source": [
    "# Creating a data frame from a list\n",
    "\n",
    "data = {\"Names\": [\"Uche\", \"Abiola\", \"Nelly\", \"Queen\", \"Ovie\", \"Belinda\", \"Ann\", \"King\",\"Richard\", \"Adamu\"],\n",
    "        \"Age\" : [16, 17, 16, 15, 26, 18, 22, 23, 38, 25],\n",
    "        \"Occupation\" :[\"Student\", \"Student\", \"Student\", \"Student\", \"Lawyer\", \"Student\", \"Quality Analyst\", \"Lab Technician\",\n",
    "                       \"Civil Servant\", \"Personal Assistant\"],\n",
    "        \"Height\": [\"5'7\", \"6'\", \"5'8\", \"5'\", \"6'2\", \"5'11\", \"5'2\", \"6'2\", \"6'3\", \"5'6\"],\n",
    "        \"Weight(Kg)\": [62, 54, 56, 57, 80, 72, 52, 69, 78, 70], \n",
    "        \"Gender\": [\"Male\", \"Female\", \"Female\", \"Female\", \"Male\", \"Female\", \"Female\", \"Male\", \"Male\", \"Male\"]}\n",
    "\n",
    "Serial_No = [1, 2, 3, 4, 5, 6, 7, 8, 9, 10]\n",
    "\n",
    "People = pd.DataFrame(data = data, index = Serial_No)\n",
    "People"
   ]
  },
  {
   "cell_type": "markdown",
   "id": "b6645e1f",
   "metadata": {},
   "source": [
    "### 1. Head  - Returns the first 5 entries in a dataframe"
   ]
  },
  {
   "cell_type": "code",
   "execution_count": 69,
   "id": "b4534647",
   "metadata": {},
   "outputs": [
    {
     "data": {
      "text/html": [
       "<div>\n",
       "<style scoped>\n",
       "    .dataframe tbody tr th:only-of-type {\n",
       "        vertical-align: middle;\n",
       "    }\n",
       "\n",
       "    .dataframe tbody tr th {\n",
       "        vertical-align: top;\n",
       "    }\n",
       "\n",
       "    .dataframe thead th {\n",
       "        text-align: right;\n",
       "    }\n",
       "</style>\n",
       "<table border=\"1\" class=\"dataframe\">\n",
       "  <thead>\n",
       "    <tr style=\"text-align: right;\">\n",
       "      <th></th>\n",
       "      <th>Names</th>\n",
       "      <th>Age</th>\n",
       "      <th>Occupation</th>\n",
       "      <th>Height</th>\n",
       "      <th>Weight(Kg)</th>\n",
       "      <th>Gender</th>\n",
       "    </tr>\n",
       "  </thead>\n",
       "  <tbody>\n",
       "    <tr>\n",
       "      <th>1</th>\n",
       "      <td>Uche</td>\n",
       "      <td>16</td>\n",
       "      <td>Student</td>\n",
       "      <td>5'7</td>\n",
       "      <td>62</td>\n",
       "      <td>Male</td>\n",
       "    </tr>\n",
       "    <tr>\n",
       "      <th>2</th>\n",
       "      <td>Abiola</td>\n",
       "      <td>17</td>\n",
       "      <td>Student</td>\n",
       "      <td>6'</td>\n",
       "      <td>54</td>\n",
       "      <td>Female</td>\n",
       "    </tr>\n",
       "    <tr>\n",
       "      <th>3</th>\n",
       "      <td>Nelly</td>\n",
       "      <td>16</td>\n",
       "      <td>Student</td>\n",
       "      <td>5'8</td>\n",
       "      <td>56</td>\n",
       "      <td>Female</td>\n",
       "    </tr>\n",
       "    <tr>\n",
       "      <th>4</th>\n",
       "      <td>Queen</td>\n",
       "      <td>15</td>\n",
       "      <td>Student</td>\n",
       "      <td>5'</td>\n",
       "      <td>57</td>\n",
       "      <td>Female</td>\n",
       "    </tr>\n",
       "    <tr>\n",
       "      <th>5</th>\n",
       "      <td>Ovie</td>\n",
       "      <td>26</td>\n",
       "      <td>Lawyer</td>\n",
       "      <td>6'2</td>\n",
       "      <td>80</td>\n",
       "      <td>Male</td>\n",
       "    </tr>\n",
       "  </tbody>\n",
       "</table>\n",
       "</div>"
      ],
      "text/plain": [
       "    Names  Age Occupation Height  Weight(Kg)  Gender\n",
       "1    Uche   16    Student    5'7          62    Male\n",
       "2  Abiola   17    Student     6'          54  Female\n",
       "3   Nelly   16    Student    5'8          56  Female\n",
       "4   Queen   15    Student     5'          57  Female\n",
       "5    Ovie   26     Lawyer    6'2          80    Male"
      ]
     },
     "execution_count": 69,
     "metadata": {},
     "output_type": "execute_result"
    }
   ],
   "source": [
    "People.head()"
   ]
  },
  {
   "cell_type": "markdown",
   "id": "313cdc35",
   "metadata": {},
   "source": [
    "### 2. Tail - Returns the bottom 5 entries in a dataframe"
   ]
  },
  {
   "cell_type": "code",
   "execution_count": 70,
   "id": "cc2a7fe0",
   "metadata": {},
   "outputs": [
    {
     "data": {
      "text/html": [
       "<div>\n",
       "<style scoped>\n",
       "    .dataframe tbody tr th:only-of-type {\n",
       "        vertical-align: middle;\n",
       "    }\n",
       "\n",
       "    .dataframe tbody tr th {\n",
       "        vertical-align: top;\n",
       "    }\n",
       "\n",
       "    .dataframe thead th {\n",
       "        text-align: right;\n",
       "    }\n",
       "</style>\n",
       "<table border=\"1\" class=\"dataframe\">\n",
       "  <thead>\n",
       "    <tr style=\"text-align: right;\">\n",
       "      <th></th>\n",
       "      <th>Names</th>\n",
       "      <th>Age</th>\n",
       "      <th>Occupation</th>\n",
       "      <th>Height</th>\n",
       "      <th>Weight(Kg)</th>\n",
       "      <th>Gender</th>\n",
       "    </tr>\n",
       "  </thead>\n",
       "  <tbody>\n",
       "    <tr>\n",
       "      <th>6</th>\n",
       "      <td>Belinda</td>\n",
       "      <td>18</td>\n",
       "      <td>Student</td>\n",
       "      <td>5'11</td>\n",
       "      <td>72</td>\n",
       "      <td>Female</td>\n",
       "    </tr>\n",
       "    <tr>\n",
       "      <th>7</th>\n",
       "      <td>Ann</td>\n",
       "      <td>22</td>\n",
       "      <td>Quality Analyst</td>\n",
       "      <td>5'2</td>\n",
       "      <td>52</td>\n",
       "      <td>Female</td>\n",
       "    </tr>\n",
       "    <tr>\n",
       "      <th>8</th>\n",
       "      <td>King</td>\n",
       "      <td>23</td>\n",
       "      <td>Lab Technician</td>\n",
       "      <td>6'2</td>\n",
       "      <td>69</td>\n",
       "      <td>Male</td>\n",
       "    </tr>\n",
       "    <tr>\n",
       "      <th>9</th>\n",
       "      <td>Richard</td>\n",
       "      <td>38</td>\n",
       "      <td>Civil Servant</td>\n",
       "      <td>6'3</td>\n",
       "      <td>78</td>\n",
       "      <td>Male</td>\n",
       "    </tr>\n",
       "    <tr>\n",
       "      <th>10</th>\n",
       "      <td>Adamu</td>\n",
       "      <td>25</td>\n",
       "      <td>Personal Assistant</td>\n",
       "      <td>5'6</td>\n",
       "      <td>70</td>\n",
       "      <td>Male</td>\n",
       "    </tr>\n",
       "  </tbody>\n",
       "</table>\n",
       "</div>"
      ],
      "text/plain": [
       "      Names  Age          Occupation Height  Weight(Kg)  Gender\n",
       "6   Belinda   18             Student   5'11          72  Female\n",
       "7       Ann   22     Quality Analyst    5'2          52  Female\n",
       "8      King   23      Lab Technician    6'2          69    Male\n",
       "9   Richard   38       Civil Servant    6'3          78    Male\n",
       "10    Adamu   25  Personal Assistant    5'6          70    Male"
      ]
     },
     "execution_count": 70,
     "metadata": {},
     "output_type": "execute_result"
    }
   ],
   "source": [
    "People.tail()"
   ]
  },
  {
   "cell_type": "markdown",
   "id": "e72de077",
   "metadata": {},
   "source": [
    "### 3. Info - Returns general summary of a data frame"
   ]
  },
  {
   "cell_type": "code",
   "execution_count": 71,
   "id": "da9466c2",
   "metadata": {},
   "outputs": [
    {
     "name": "stdout",
     "output_type": "stream",
     "text": [
      "<class 'pandas.core.frame.DataFrame'>\n",
      "Int64Index: 10 entries, 1 to 10\n",
      "Data columns (total 6 columns):\n",
      " #   Column      Non-Null Count  Dtype \n",
      "---  ------      --------------  ----- \n",
      " 0   Names       10 non-null     object\n",
      " 1   Age         10 non-null     int64 \n",
      " 2   Occupation  10 non-null     object\n",
      " 3   Height      10 non-null     object\n",
      " 4   Weight(Kg)  10 non-null     int64 \n",
      " 5   Gender      10 non-null     object\n",
      "dtypes: int64(2), object(4)\n",
      "memory usage: 560.0+ bytes\n"
     ]
    }
   ],
   "source": [
    "People.info()"
   ]
  },
  {
   "cell_type": "markdown",
   "id": "e082b6a4",
   "metadata": {},
   "source": [
    "### 4. Dtypes - Returns the data type of each column"
   ]
  },
  {
   "cell_type": "code",
   "execution_count": 72,
   "id": "f96fcf66",
   "metadata": {},
   "outputs": [
    {
     "data": {
      "text/plain": [
       "Names         object\n",
       "Age            int64\n",
       "Occupation    object\n",
       "Height        object\n",
       "Weight(Kg)     int64\n",
       "Gender        object\n",
       "dtype: object"
      ]
     },
     "execution_count": 72,
     "metadata": {},
     "output_type": "execute_result"
    }
   ],
   "source": [
    "People.dtypes"
   ]
  },
  {
   "cell_type": "markdown",
   "id": "eaf380b0",
   "metadata": {},
   "source": [
    "### 5. Shape - Returns the number of rows and columns"
   ]
  },
  {
   "cell_type": "code",
   "execution_count": 73,
   "id": "e6002fe6",
   "metadata": {},
   "outputs": [
    {
     "data": {
      "text/plain": [
       "(10, 6)"
      ]
     },
     "execution_count": 73,
     "metadata": {},
     "output_type": "execute_result"
    }
   ],
   "source": [
    "People.shape"
   ]
  },
  {
   "cell_type": "markdown",
   "id": "3ed724fe",
   "metadata": {},
   "source": [
    "### 6. Size - Returns the size of a dataframe ie, the rows multiplied by the columns (Total no of elements in the data frame)"
   ]
  },
  {
   "cell_type": "code",
   "execution_count": 74,
   "id": "6272d357",
   "metadata": {},
   "outputs": [
    {
     "data": {
      "text/plain": [
       "60"
      ]
     },
     "execution_count": 74,
     "metadata": {},
     "output_type": "execute_result"
    }
   ],
   "source": [
    "People.size"
   ]
  },
  {
   "cell_type": "markdown",
   "id": "d74caeba",
   "metadata": {},
   "source": [
    "### 7. Describe - Returns a statistical summary of a dataframe for just the numeric ones"
   ]
  },
  {
   "cell_type": "code",
   "execution_count": 75,
   "id": "7472b51d",
   "metadata": {},
   "outputs": [
    {
     "data": {
      "text/html": [
       "<div>\n",
       "<style scoped>\n",
       "    .dataframe tbody tr th:only-of-type {\n",
       "        vertical-align: middle;\n",
       "    }\n",
       "\n",
       "    .dataframe tbody tr th {\n",
       "        vertical-align: top;\n",
       "    }\n",
       "\n",
       "    .dataframe thead th {\n",
       "        text-align: right;\n",
       "    }\n",
       "</style>\n",
       "<table border=\"1\" class=\"dataframe\">\n",
       "  <thead>\n",
       "    <tr style=\"text-align: right;\">\n",
       "      <th></th>\n",
       "      <th>Age</th>\n",
       "      <th>Weight(Kg)</th>\n",
       "    </tr>\n",
       "  </thead>\n",
       "  <tbody>\n",
       "    <tr>\n",
       "      <th>count</th>\n",
       "      <td>10.000000</td>\n",
       "      <td>10.000000</td>\n",
       "    </tr>\n",
       "    <tr>\n",
       "      <th>mean</th>\n",
       "      <td>21.600000</td>\n",
       "      <td>65.000000</td>\n",
       "    </tr>\n",
       "    <tr>\n",
       "      <th>std</th>\n",
       "      <td>7.011102</td>\n",
       "      <td>10.154364</td>\n",
       "    </tr>\n",
       "    <tr>\n",
       "      <th>min</th>\n",
       "      <td>15.000000</td>\n",
       "      <td>52.000000</td>\n",
       "    </tr>\n",
       "    <tr>\n",
       "      <th>25%</th>\n",
       "      <td>16.250000</td>\n",
       "      <td>56.250000</td>\n",
       "    </tr>\n",
       "    <tr>\n",
       "      <th>50%</th>\n",
       "      <td>20.000000</td>\n",
       "      <td>65.500000</td>\n",
       "    </tr>\n",
       "    <tr>\n",
       "      <th>75%</th>\n",
       "      <td>24.500000</td>\n",
       "      <td>71.500000</td>\n",
       "    </tr>\n",
       "    <tr>\n",
       "      <th>max</th>\n",
       "      <td>38.000000</td>\n",
       "      <td>80.000000</td>\n",
       "    </tr>\n",
       "  </tbody>\n",
       "</table>\n",
       "</div>"
      ],
      "text/plain": [
       "             Age  Weight(Kg)\n",
       "count  10.000000   10.000000\n",
       "mean   21.600000   65.000000\n",
       "std     7.011102   10.154364\n",
       "min    15.000000   52.000000\n",
       "25%    16.250000   56.250000\n",
       "50%    20.000000   65.500000\n",
       "75%    24.500000   71.500000\n",
       "max    38.000000   80.000000"
      ]
     },
     "execution_count": 75,
     "metadata": {},
     "output_type": "execute_result"
    }
   ],
   "source": [
    "People.describe()"
   ]
  },
  {
   "cell_type": "markdown",
   "id": "eaf4e36e",
   "metadata": {},
   "source": [
    "### 8. Count - Returns the sum of entries in each column in a data frame"
   ]
  },
  {
   "cell_type": "code",
   "execution_count": 76,
   "id": "cd60d685",
   "metadata": {},
   "outputs": [
    {
     "data": {
      "text/plain": [
       "Names         10\n",
       "Age           10\n",
       "Occupation    10\n",
       "Height        10\n",
       "Weight(Kg)    10\n",
       "Gender        10\n",
       "dtype: int64"
      ]
     },
     "execution_count": 76,
     "metadata": {},
     "output_type": "execute_result"
    }
   ],
   "source": [
    "People.count()"
   ]
  },
  {
   "cell_type": "markdown",
   "id": "919e6bc2",
   "metadata": {},
   "source": [
    "### 9. Sample - Randomly selects any number of samples in the dataframe"
   ]
  },
  {
   "cell_type": "code",
   "execution_count": 80,
   "id": "05142a85",
   "metadata": {},
   "outputs": [
    {
     "data": {
      "text/html": [
       "<div>\n",
       "<style scoped>\n",
       "    .dataframe tbody tr th:only-of-type {\n",
       "        vertical-align: middle;\n",
       "    }\n",
       "\n",
       "    .dataframe tbody tr th {\n",
       "        vertical-align: top;\n",
       "    }\n",
       "\n",
       "    .dataframe thead th {\n",
       "        text-align: right;\n",
       "    }\n",
       "</style>\n",
       "<table border=\"1\" class=\"dataframe\">\n",
       "  <thead>\n",
       "    <tr style=\"text-align: right;\">\n",
       "      <th></th>\n",
       "      <th>Names</th>\n",
       "      <th>Age</th>\n",
       "      <th>Occupation</th>\n",
       "      <th>Height</th>\n",
       "      <th>Weight(Kg)</th>\n",
       "      <th>Gender</th>\n",
       "    </tr>\n",
       "  </thead>\n",
       "  <tbody>\n",
       "    <tr>\n",
       "      <th>7</th>\n",
       "      <td>Ann</td>\n",
       "      <td>22</td>\n",
       "      <td>Quality Analyst</td>\n",
       "      <td>5'2</td>\n",
       "      <td>52</td>\n",
       "      <td>Female</td>\n",
       "    </tr>\n",
       "    <tr>\n",
       "      <th>9</th>\n",
       "      <td>Richard</td>\n",
       "      <td>38</td>\n",
       "      <td>Civil Servant</td>\n",
       "      <td>6'3</td>\n",
       "      <td>78</td>\n",
       "      <td>Male</td>\n",
       "    </tr>\n",
       "    <tr>\n",
       "      <th>2</th>\n",
       "      <td>Abiola</td>\n",
       "      <td>17</td>\n",
       "      <td>Student</td>\n",
       "      <td>6'</td>\n",
       "      <td>54</td>\n",
       "      <td>Female</td>\n",
       "    </tr>\n",
       "  </tbody>\n",
       "</table>\n",
       "</div>"
      ],
      "text/plain": [
       "     Names  Age       Occupation Height  Weight(Kg)  Gender\n",
       "7      Ann   22  Quality Analyst    5'2          52  Female\n",
       "9  Richard   38    Civil Servant    6'3          78    Male\n",
       "2   Abiola   17          Student     6'          54  Female"
      ]
     },
     "execution_count": 80,
     "metadata": {},
     "output_type": "execute_result"
    }
   ],
   "source": [
    "People.sample(n = 3)"
   ]
  },
  {
   "cell_type": "markdown",
   "id": "fb282e05",
   "metadata": {},
   "source": [
    "### 10. Isnull - Returns true where there are empty values"
   ]
  },
  {
   "cell_type": "code",
   "execution_count": 81,
   "id": "44b39dc4",
   "metadata": {},
   "outputs": [
    {
     "data": {
      "text/html": [
       "<div>\n",
       "<style scoped>\n",
       "    .dataframe tbody tr th:only-of-type {\n",
       "        vertical-align: middle;\n",
       "    }\n",
       "\n",
       "    .dataframe tbody tr th {\n",
       "        vertical-align: top;\n",
       "    }\n",
       "\n",
       "    .dataframe thead th {\n",
       "        text-align: right;\n",
       "    }\n",
       "</style>\n",
       "<table border=\"1\" class=\"dataframe\">\n",
       "  <thead>\n",
       "    <tr style=\"text-align: right;\">\n",
       "      <th></th>\n",
       "      <th>Names</th>\n",
       "      <th>Age</th>\n",
       "      <th>Occupation</th>\n",
       "      <th>Height</th>\n",
       "      <th>Weight(Kg)</th>\n",
       "      <th>Gender</th>\n",
       "    </tr>\n",
       "  </thead>\n",
       "  <tbody>\n",
       "    <tr>\n",
       "      <th>1</th>\n",
       "      <td>False</td>\n",
       "      <td>False</td>\n",
       "      <td>False</td>\n",
       "      <td>False</td>\n",
       "      <td>False</td>\n",
       "      <td>False</td>\n",
       "    </tr>\n",
       "    <tr>\n",
       "      <th>2</th>\n",
       "      <td>False</td>\n",
       "      <td>False</td>\n",
       "      <td>False</td>\n",
       "      <td>False</td>\n",
       "      <td>False</td>\n",
       "      <td>False</td>\n",
       "    </tr>\n",
       "    <tr>\n",
       "      <th>3</th>\n",
       "      <td>False</td>\n",
       "      <td>False</td>\n",
       "      <td>False</td>\n",
       "      <td>False</td>\n",
       "      <td>False</td>\n",
       "      <td>False</td>\n",
       "    </tr>\n",
       "    <tr>\n",
       "      <th>4</th>\n",
       "      <td>False</td>\n",
       "      <td>False</td>\n",
       "      <td>False</td>\n",
       "      <td>False</td>\n",
       "      <td>False</td>\n",
       "      <td>False</td>\n",
       "    </tr>\n",
       "    <tr>\n",
       "      <th>5</th>\n",
       "      <td>False</td>\n",
       "      <td>False</td>\n",
       "      <td>False</td>\n",
       "      <td>False</td>\n",
       "      <td>False</td>\n",
       "      <td>False</td>\n",
       "    </tr>\n",
       "    <tr>\n",
       "      <th>6</th>\n",
       "      <td>False</td>\n",
       "      <td>False</td>\n",
       "      <td>False</td>\n",
       "      <td>False</td>\n",
       "      <td>False</td>\n",
       "      <td>False</td>\n",
       "    </tr>\n",
       "    <tr>\n",
       "      <th>7</th>\n",
       "      <td>False</td>\n",
       "      <td>False</td>\n",
       "      <td>False</td>\n",
       "      <td>False</td>\n",
       "      <td>False</td>\n",
       "      <td>False</td>\n",
       "    </tr>\n",
       "    <tr>\n",
       "      <th>8</th>\n",
       "      <td>False</td>\n",
       "      <td>False</td>\n",
       "      <td>False</td>\n",
       "      <td>False</td>\n",
       "      <td>False</td>\n",
       "      <td>False</td>\n",
       "    </tr>\n",
       "    <tr>\n",
       "      <th>9</th>\n",
       "      <td>False</td>\n",
       "      <td>False</td>\n",
       "      <td>False</td>\n",
       "      <td>False</td>\n",
       "      <td>False</td>\n",
       "      <td>False</td>\n",
       "    </tr>\n",
       "    <tr>\n",
       "      <th>10</th>\n",
       "      <td>False</td>\n",
       "      <td>False</td>\n",
       "      <td>False</td>\n",
       "      <td>False</td>\n",
       "      <td>False</td>\n",
       "      <td>False</td>\n",
       "    </tr>\n",
       "  </tbody>\n",
       "</table>\n",
       "</div>"
      ],
      "text/plain": [
       "    Names    Age  Occupation  Height  Weight(Kg)  Gender\n",
       "1   False  False       False   False       False   False\n",
       "2   False  False       False   False       False   False\n",
       "3   False  False       False   False       False   False\n",
       "4   False  False       False   False       False   False\n",
       "5   False  False       False   False       False   False\n",
       "6   False  False       False   False       False   False\n",
       "7   False  False       False   False       False   False\n",
       "8   False  False       False   False       False   False\n",
       "9   False  False       False   False       False   False\n",
       "10  False  False       False   False       False   False"
      ]
     },
     "execution_count": 81,
     "metadata": {},
     "output_type": "execute_result"
    }
   ],
   "source": [
    "People.isnull()"
   ]
  },
  {
   "cell_type": "markdown",
   "id": "bbae0382",
   "metadata": {},
   "source": [
    "### 11. Isna - Returns true where there are missing values"
   ]
  },
  {
   "cell_type": "code",
   "execution_count": 82,
   "id": "d9294c8d",
   "metadata": {},
   "outputs": [
    {
     "data": {
      "text/html": [
       "<div>\n",
       "<style scoped>\n",
       "    .dataframe tbody tr th:only-of-type {\n",
       "        vertical-align: middle;\n",
       "    }\n",
       "\n",
       "    .dataframe tbody tr th {\n",
       "        vertical-align: top;\n",
       "    }\n",
       "\n",
       "    .dataframe thead th {\n",
       "        text-align: right;\n",
       "    }\n",
       "</style>\n",
       "<table border=\"1\" class=\"dataframe\">\n",
       "  <thead>\n",
       "    <tr style=\"text-align: right;\">\n",
       "      <th></th>\n",
       "      <th>Names</th>\n",
       "      <th>Age</th>\n",
       "      <th>Occupation</th>\n",
       "      <th>Height</th>\n",
       "      <th>Weight(Kg)</th>\n",
       "      <th>Gender</th>\n",
       "    </tr>\n",
       "  </thead>\n",
       "  <tbody>\n",
       "    <tr>\n",
       "      <th>1</th>\n",
       "      <td>False</td>\n",
       "      <td>False</td>\n",
       "      <td>False</td>\n",
       "      <td>False</td>\n",
       "      <td>False</td>\n",
       "      <td>False</td>\n",
       "    </tr>\n",
       "    <tr>\n",
       "      <th>2</th>\n",
       "      <td>False</td>\n",
       "      <td>False</td>\n",
       "      <td>False</td>\n",
       "      <td>False</td>\n",
       "      <td>False</td>\n",
       "      <td>False</td>\n",
       "    </tr>\n",
       "    <tr>\n",
       "      <th>3</th>\n",
       "      <td>False</td>\n",
       "      <td>False</td>\n",
       "      <td>False</td>\n",
       "      <td>False</td>\n",
       "      <td>False</td>\n",
       "      <td>False</td>\n",
       "    </tr>\n",
       "    <tr>\n",
       "      <th>4</th>\n",
       "      <td>False</td>\n",
       "      <td>False</td>\n",
       "      <td>False</td>\n",
       "      <td>False</td>\n",
       "      <td>False</td>\n",
       "      <td>False</td>\n",
       "    </tr>\n",
       "    <tr>\n",
       "      <th>5</th>\n",
       "      <td>False</td>\n",
       "      <td>False</td>\n",
       "      <td>False</td>\n",
       "      <td>False</td>\n",
       "      <td>False</td>\n",
       "      <td>False</td>\n",
       "    </tr>\n",
       "    <tr>\n",
       "      <th>6</th>\n",
       "      <td>False</td>\n",
       "      <td>False</td>\n",
       "      <td>False</td>\n",
       "      <td>False</td>\n",
       "      <td>False</td>\n",
       "      <td>False</td>\n",
       "    </tr>\n",
       "    <tr>\n",
       "      <th>7</th>\n",
       "      <td>False</td>\n",
       "      <td>False</td>\n",
       "      <td>False</td>\n",
       "      <td>False</td>\n",
       "      <td>False</td>\n",
       "      <td>False</td>\n",
       "    </tr>\n",
       "    <tr>\n",
       "      <th>8</th>\n",
       "      <td>False</td>\n",
       "      <td>False</td>\n",
       "      <td>False</td>\n",
       "      <td>False</td>\n",
       "      <td>False</td>\n",
       "      <td>False</td>\n",
       "    </tr>\n",
       "    <tr>\n",
       "      <th>9</th>\n",
       "      <td>False</td>\n",
       "      <td>False</td>\n",
       "      <td>False</td>\n",
       "      <td>False</td>\n",
       "      <td>False</td>\n",
       "      <td>False</td>\n",
       "    </tr>\n",
       "    <tr>\n",
       "      <th>10</th>\n",
       "      <td>False</td>\n",
       "      <td>False</td>\n",
       "      <td>False</td>\n",
       "      <td>False</td>\n",
       "      <td>False</td>\n",
       "      <td>False</td>\n",
       "    </tr>\n",
       "  </tbody>\n",
       "</table>\n",
       "</div>"
      ],
      "text/plain": [
       "    Names    Age  Occupation  Height  Weight(Kg)  Gender\n",
       "1   False  False       False   False       False   False\n",
       "2   False  False       False   False       False   False\n",
       "3   False  False       False   False       False   False\n",
       "4   False  False       False   False       False   False\n",
       "5   False  False       False   False       False   False\n",
       "6   False  False       False   False       False   False\n",
       "7   False  False       False   False       False   False\n",
       "8   False  False       False   False       False   False\n",
       "9   False  False       False   False       False   False\n",
       "10  False  False       False   False       False   False"
      ]
     },
     "execution_count": 82,
     "metadata": {},
     "output_type": "execute_result"
    }
   ],
   "source": [
    "People.isna()"
   ]
  },
  {
   "cell_type": "markdown",
   "id": "dcbf6bcd",
   "metadata": {},
   "source": [
    "### 12. Memory_usage - Returns how much memory each column uses in bytes"
   ]
  },
  {
   "cell_type": "code",
   "execution_count": 83,
   "id": "b9025567",
   "metadata": {},
   "outputs": [
    {
     "data": {
      "text/plain": [
       "Index         80\n",
       "Names         80\n",
       "Age           80\n",
       "Occupation    80\n",
       "Height        80\n",
       "Weight(Kg)    80\n",
       "Gender        80\n",
       "dtype: int64"
      ]
     },
     "execution_count": 83,
     "metadata": {},
     "output_type": "execute_result"
    }
   ],
   "source": [
    "People.memory_usage()"
   ]
  },
  {
   "cell_type": "markdown",
   "id": "2774c571",
   "metadata": {},
   "source": [
    "### 13. nsmallest - Returns the smallest n values in a specified column"
   ]
  },
  {
   "cell_type": "code",
   "execution_count": 84,
   "id": "eca8cd47",
   "metadata": {},
   "outputs": [
    {
     "data": {
      "text/html": [
       "<div>\n",
       "<style scoped>\n",
       "    .dataframe tbody tr th:only-of-type {\n",
       "        vertical-align: middle;\n",
       "    }\n",
       "\n",
       "    .dataframe tbody tr th {\n",
       "        vertical-align: top;\n",
       "    }\n",
       "\n",
       "    .dataframe thead th {\n",
       "        text-align: right;\n",
       "    }\n",
       "</style>\n",
       "<table border=\"1\" class=\"dataframe\">\n",
       "  <thead>\n",
       "    <tr style=\"text-align: right;\">\n",
       "      <th></th>\n",
       "      <th>Names</th>\n",
       "      <th>Age</th>\n",
       "      <th>Occupation</th>\n",
       "      <th>Height</th>\n",
       "      <th>Weight(Kg)</th>\n",
       "      <th>Gender</th>\n",
       "    </tr>\n",
       "  </thead>\n",
       "  <tbody>\n",
       "    <tr>\n",
       "      <th>7</th>\n",
       "      <td>Ann</td>\n",
       "      <td>22</td>\n",
       "      <td>Quality Analyst</td>\n",
       "      <td>5'2</td>\n",
       "      <td>52</td>\n",
       "      <td>Female</td>\n",
       "    </tr>\n",
       "    <tr>\n",
       "      <th>2</th>\n",
       "      <td>Abiola</td>\n",
       "      <td>17</td>\n",
       "      <td>Student</td>\n",
       "      <td>6'</td>\n",
       "      <td>54</td>\n",
       "      <td>Female</td>\n",
       "    </tr>\n",
       "    <tr>\n",
       "      <th>3</th>\n",
       "      <td>Nelly</td>\n",
       "      <td>16</td>\n",
       "      <td>Student</td>\n",
       "      <td>5'8</td>\n",
       "      <td>56</td>\n",
       "      <td>Female</td>\n",
       "    </tr>\n",
       "  </tbody>\n",
       "</table>\n",
       "</div>"
      ],
      "text/plain": [
       "    Names  Age       Occupation Height  Weight(Kg)  Gender\n",
       "7     Ann   22  Quality Analyst    5'2          52  Female\n",
       "2  Abiola   17          Student     6'          54  Female\n",
       "3   Nelly   16          Student    5'8          56  Female"
      ]
     },
     "execution_count": 84,
     "metadata": {},
     "output_type": "execute_result"
    }
   ],
   "source": [
    "People.nsmallest(3, \"Weight(Kg)\")"
   ]
  },
  {
   "cell_type": "markdown",
   "id": "73b3a039",
   "metadata": {},
   "source": [
    "### 14. nlargest - Returns the largest n values in a specified column"
   ]
  },
  {
   "cell_type": "code",
   "execution_count": 85,
   "id": "c17fb58a",
   "metadata": {},
   "outputs": [
    {
     "data": {
      "text/html": [
       "<div>\n",
       "<style scoped>\n",
       "    .dataframe tbody tr th:only-of-type {\n",
       "        vertical-align: middle;\n",
       "    }\n",
       "\n",
       "    .dataframe tbody tr th {\n",
       "        vertical-align: top;\n",
       "    }\n",
       "\n",
       "    .dataframe thead th {\n",
       "        text-align: right;\n",
       "    }\n",
       "</style>\n",
       "<table border=\"1\" class=\"dataframe\">\n",
       "  <thead>\n",
       "    <tr style=\"text-align: right;\">\n",
       "      <th></th>\n",
       "      <th>Names</th>\n",
       "      <th>Age</th>\n",
       "      <th>Occupation</th>\n",
       "      <th>Height</th>\n",
       "      <th>Weight(Kg)</th>\n",
       "      <th>Gender</th>\n",
       "    </tr>\n",
       "  </thead>\n",
       "  <tbody>\n",
       "    <tr>\n",
       "      <th>9</th>\n",
       "      <td>Richard</td>\n",
       "      <td>38</td>\n",
       "      <td>Civil Servant</td>\n",
       "      <td>6'3</td>\n",
       "      <td>78</td>\n",
       "      <td>Male</td>\n",
       "    </tr>\n",
       "    <tr>\n",
       "      <th>5</th>\n",
       "      <td>Ovie</td>\n",
       "      <td>26</td>\n",
       "      <td>Lawyer</td>\n",
       "      <td>6'2</td>\n",
       "      <td>80</td>\n",
       "      <td>Male</td>\n",
       "    </tr>\n",
       "    <tr>\n",
       "      <th>10</th>\n",
       "      <td>Adamu</td>\n",
       "      <td>25</td>\n",
       "      <td>Personal Assistant</td>\n",
       "      <td>5'6</td>\n",
       "      <td>70</td>\n",
       "      <td>Male</td>\n",
       "    </tr>\n",
       "  </tbody>\n",
       "</table>\n",
       "</div>"
      ],
      "text/plain": [
       "      Names  Age          Occupation Height  Weight(Kg) Gender\n",
       "9   Richard   38       Civil Servant    6'3          78   Male\n",
       "5      Ovie   26              Lawyer    6'2          80   Male\n",
       "10    Adamu   25  Personal Assistant    5'6          70   Male"
      ]
     },
     "execution_count": 85,
     "metadata": {},
     "output_type": "execute_result"
    }
   ],
   "source": [
    "People.nlargest(3, \"Age\")"
   ]
  },
  {
   "cell_type": "markdown",
   "id": "0ea736e3",
   "metadata": {},
   "source": [
    "### 15. Columns - Returns the names of columms in a dataframe"
   ]
  },
  {
   "cell_type": "code",
   "execution_count": 99,
   "id": "be2b7606",
   "metadata": {},
   "outputs": [
    {
     "data": {
      "text/plain": [
       "Index(['Names', 'Age', 'Occupation', 'Height', 'Weight(Kg)', 'Gender'], dtype='object')"
      ]
     },
     "execution_count": 99,
     "metadata": {},
     "output_type": "execute_result"
    }
   ],
   "source": [
    "People.columns"
   ]
  },
  {
   "cell_type": "markdown",
   "id": "d875341d",
   "metadata": {},
   "source": [
    "### 16. Loc - Returns the values of each column in a specified row or label"
   ]
  },
  {
   "cell_type": "code",
   "execution_count": 100,
   "id": "0bbc7c06",
   "metadata": {},
   "outputs": [
    {
     "data": {
      "text/plain": [
       "Names           Ovie\n",
       "Age               26\n",
       "Occupation    Lawyer\n",
       "Height           6'2\n",
       "Weight(Kg)        80\n",
       "Gender          Male\n",
       "Name: 5, dtype: object"
      ]
     },
     "execution_count": 100,
     "metadata": {},
     "output_type": "execute_result"
    }
   ],
   "source": [
    "People.loc[5]"
   ]
  },
  {
   "cell_type": "markdown",
   "id": "baa3b2b2",
   "metadata": {},
   "source": [
    "### 17. iloc - Returns values from specificied rows and columns"
   ]
  },
  {
   "cell_type": "code",
   "execution_count": 101,
   "id": "510c394f",
   "metadata": {},
   "outputs": [
    {
     "data": {
      "text/html": [
       "<div>\n",
       "<style scoped>\n",
       "    .dataframe tbody tr th:only-of-type {\n",
       "        vertical-align: middle;\n",
       "    }\n",
       "\n",
       "    .dataframe tbody tr th {\n",
       "        vertical-align: top;\n",
       "    }\n",
       "\n",
       "    .dataframe thead th {\n",
       "        text-align: right;\n",
       "    }\n",
       "</style>\n",
       "<table border=\"1\" class=\"dataframe\">\n",
       "  <thead>\n",
       "    <tr style=\"text-align: right;\">\n",
       "      <th></th>\n",
       "      <th>Names</th>\n",
       "      <th>Age</th>\n",
       "    </tr>\n",
       "  </thead>\n",
       "  <tbody>\n",
       "    <tr>\n",
       "      <th>4</th>\n",
       "      <td>Queen</td>\n",
       "      <td>15</td>\n",
       "    </tr>\n",
       "    <tr>\n",
       "      <th>5</th>\n",
       "      <td>Ovie</td>\n",
       "      <td>26</td>\n",
       "    </tr>\n",
       "    <tr>\n",
       "      <th>6</th>\n",
       "      <td>Belinda</td>\n",
       "      <td>18</td>\n",
       "    </tr>\n",
       "    <tr>\n",
       "      <th>7</th>\n",
       "      <td>Ann</td>\n",
       "      <td>22</td>\n",
       "    </tr>\n",
       "    <tr>\n",
       "      <th>8</th>\n",
       "      <td>King</td>\n",
       "      <td>23</td>\n",
       "    </tr>\n",
       "    <tr>\n",
       "      <th>9</th>\n",
       "      <td>Richard</td>\n",
       "      <td>38</td>\n",
       "    </tr>\n",
       "    <tr>\n",
       "      <th>10</th>\n",
       "      <td>Adamu</td>\n",
       "      <td>25</td>\n",
       "    </tr>\n",
       "  </tbody>\n",
       "</table>\n",
       "</div>"
      ],
      "text/plain": [
       "      Names  Age\n",
       "4     Queen   15\n",
       "5      Ovie   26\n",
       "6   Belinda   18\n",
       "7       Ann   22\n",
       "8      King   23\n",
       "9   Richard   38\n",
       "10    Adamu   25"
      ]
     },
     "execution_count": 101,
     "metadata": {},
     "output_type": "execute_result"
    }
   ],
   "source": [
    "People.iloc[3:11, 0:2]\n",
    "# select row 3- 10 and columns 0 and 1. indexing doesnt include the specified end value."
   ]
  },
  {
   "cell_type": "markdown",
   "id": "6f3c09a3",
   "metadata": {},
   "source": [
    "### 18. GroupBy - Groups the data frame by statistics (mean, median, count, sumz\\, etc)  of a speified column"
   ]
  },
  {
   "cell_type": "code",
   "execution_count": 102,
   "id": "c4928963",
   "metadata": {},
   "outputs": [
    {
     "data": {
      "text/html": [
       "<div>\n",
       "<style scoped>\n",
       "    .dataframe tbody tr th:only-of-type {\n",
       "        vertical-align: middle;\n",
       "    }\n",
       "\n",
       "    .dataframe tbody tr th {\n",
       "        vertical-align: top;\n",
       "    }\n",
       "\n",
       "    .dataframe thead th {\n",
       "        text-align: right;\n",
       "    }\n",
       "</style>\n",
       "<table border=\"1\" class=\"dataframe\">\n",
       "  <thead>\n",
       "    <tr style=\"text-align: right;\">\n",
       "      <th></th>\n",
       "      <th>Names</th>\n",
       "      <th>Age</th>\n",
       "      <th>Occupation</th>\n",
       "      <th>Height</th>\n",
       "      <th>Weight(Kg)</th>\n",
       "    </tr>\n",
       "    <tr>\n",
       "      <th>Gender</th>\n",
       "      <th></th>\n",
       "      <th></th>\n",
       "      <th></th>\n",
       "      <th></th>\n",
       "      <th></th>\n",
       "    </tr>\n",
       "  </thead>\n",
       "  <tbody>\n",
       "    <tr>\n",
       "      <th>Female</th>\n",
       "      <td>5</td>\n",
       "      <td>5</td>\n",
       "      <td>5</td>\n",
       "      <td>5</td>\n",
       "      <td>5</td>\n",
       "    </tr>\n",
       "    <tr>\n",
       "      <th>Male</th>\n",
       "      <td>5</td>\n",
       "      <td>5</td>\n",
       "      <td>5</td>\n",
       "      <td>5</td>\n",
       "      <td>5</td>\n",
       "    </tr>\n",
       "  </tbody>\n",
       "</table>\n",
       "</div>"
      ],
      "text/plain": [
       "        Names  Age  Occupation  Height  Weight(Kg)\n",
       "Gender                                            \n",
       "Female      5    5           5       5           5\n",
       "Male        5    5           5       5           5"
      ]
     },
     "execution_count": 102,
     "metadata": {},
     "output_type": "execute_result"
    }
   ],
   "source": [
    "People.groupby([\"Gender\"]).count()"
   ]
  },
  {
   "cell_type": "markdown",
   "id": "795ddfed",
   "metadata": {},
   "source": [
    "### 19. Sort - Returns the data frame sorted in ascending or descending order by a specified column"
   ]
  },
  {
   "cell_type": "code",
   "execution_count": 103,
   "id": "fd2fd796",
   "metadata": {},
   "outputs": [
    {
     "data": {
      "text/html": [
       "<div>\n",
       "<style scoped>\n",
       "    .dataframe tbody tr th:only-of-type {\n",
       "        vertical-align: middle;\n",
       "    }\n",
       "\n",
       "    .dataframe tbody tr th {\n",
       "        vertical-align: top;\n",
       "    }\n",
       "\n",
       "    .dataframe thead th {\n",
       "        text-align: right;\n",
       "    }\n",
       "</style>\n",
       "<table border=\"1\" class=\"dataframe\">\n",
       "  <thead>\n",
       "    <tr style=\"text-align: right;\">\n",
       "      <th></th>\n",
       "      <th>Names</th>\n",
       "      <th>Age</th>\n",
       "      <th>Occupation</th>\n",
       "      <th>Height</th>\n",
       "      <th>Weight(Kg)</th>\n",
       "      <th>Gender</th>\n",
       "    </tr>\n",
       "  </thead>\n",
       "  <tbody>\n",
       "    <tr>\n",
       "      <th>9</th>\n",
       "      <td>Richard</td>\n",
       "      <td>38</td>\n",
       "      <td>Civil Servant</td>\n",
       "      <td>6'3</td>\n",
       "      <td>78</td>\n",
       "      <td>Male</td>\n",
       "    </tr>\n",
       "    <tr>\n",
       "      <th>5</th>\n",
       "      <td>Ovie</td>\n",
       "      <td>26</td>\n",
       "      <td>Lawyer</td>\n",
       "      <td>6'2</td>\n",
       "      <td>80</td>\n",
       "      <td>Male</td>\n",
       "    </tr>\n",
       "    <tr>\n",
       "      <th>10</th>\n",
       "      <td>Adamu</td>\n",
       "      <td>25</td>\n",
       "      <td>Personal Assistant</td>\n",
       "      <td>5'6</td>\n",
       "      <td>70</td>\n",
       "      <td>Male</td>\n",
       "    </tr>\n",
       "    <tr>\n",
       "      <th>8</th>\n",
       "      <td>King</td>\n",
       "      <td>23</td>\n",
       "      <td>Lab Technician</td>\n",
       "      <td>6'2</td>\n",
       "      <td>69</td>\n",
       "      <td>Male</td>\n",
       "    </tr>\n",
       "    <tr>\n",
       "      <th>7</th>\n",
       "      <td>Ann</td>\n",
       "      <td>22</td>\n",
       "      <td>Quality Analyst</td>\n",
       "      <td>5'2</td>\n",
       "      <td>52</td>\n",
       "      <td>Female</td>\n",
       "    </tr>\n",
       "    <tr>\n",
       "      <th>6</th>\n",
       "      <td>Belinda</td>\n",
       "      <td>18</td>\n",
       "      <td>Student</td>\n",
       "      <td>5'11</td>\n",
       "      <td>72</td>\n",
       "      <td>Female</td>\n",
       "    </tr>\n",
       "    <tr>\n",
       "      <th>2</th>\n",
       "      <td>Abiola</td>\n",
       "      <td>17</td>\n",
       "      <td>Student</td>\n",
       "      <td>6'</td>\n",
       "      <td>54</td>\n",
       "      <td>Female</td>\n",
       "    </tr>\n",
       "    <tr>\n",
       "      <th>1</th>\n",
       "      <td>Uche</td>\n",
       "      <td>16</td>\n",
       "      <td>Student</td>\n",
       "      <td>5'7</td>\n",
       "      <td>62</td>\n",
       "      <td>Male</td>\n",
       "    </tr>\n",
       "    <tr>\n",
       "      <th>3</th>\n",
       "      <td>Nelly</td>\n",
       "      <td>16</td>\n",
       "      <td>Student</td>\n",
       "      <td>5'8</td>\n",
       "      <td>56</td>\n",
       "      <td>Female</td>\n",
       "    </tr>\n",
       "    <tr>\n",
       "      <th>4</th>\n",
       "      <td>Queen</td>\n",
       "      <td>15</td>\n",
       "      <td>Student</td>\n",
       "      <td>5'</td>\n",
       "      <td>57</td>\n",
       "      <td>Female</td>\n",
       "    </tr>\n",
       "  </tbody>\n",
       "</table>\n",
       "</div>"
      ],
      "text/plain": [
       "      Names  Age          Occupation Height  Weight(Kg)  Gender\n",
       "9   Richard   38       Civil Servant    6'3          78    Male\n",
       "5      Ovie   26              Lawyer    6'2          80    Male\n",
       "10    Adamu   25  Personal Assistant    5'6          70    Male\n",
       "8      King   23      Lab Technician    6'2          69    Male\n",
       "7       Ann   22     Quality Analyst    5'2          52  Female\n",
       "6   Belinda   18             Student   5'11          72  Female\n",
       "2    Abiola   17             Student     6'          54  Female\n",
       "1      Uche   16             Student    5'7          62    Male\n",
       "3     Nelly   16             Student    5'8          56  Female\n",
       "4     Queen   15             Student     5'          57  Female"
      ]
     },
     "execution_count": 103,
     "metadata": {},
     "output_type": "execute_result"
    }
   ],
   "source": [
    "People.sort_values(by= [\"Age\", \"Weight(Kg)\"], ascending= False)"
   ]
  },
  {
   "cell_type": "markdown",
   "id": "2eaafacc",
   "metadata": {},
   "source": [
    "### 20. Query - Filters and returns the values that meets a specified criteria."
   ]
  },
  {
   "cell_type": "code",
   "execution_count": 105,
   "id": "9a07250c",
   "metadata": {},
   "outputs": [
    {
     "data": {
      "text/html": [
       "<div>\n",
       "<style scoped>\n",
       "    .dataframe tbody tr th:only-of-type {\n",
       "        vertical-align: middle;\n",
       "    }\n",
       "\n",
       "    .dataframe tbody tr th {\n",
       "        vertical-align: top;\n",
       "    }\n",
       "\n",
       "    .dataframe thead th {\n",
       "        text-align: right;\n",
       "    }\n",
       "</style>\n",
       "<table border=\"1\" class=\"dataframe\">\n",
       "  <thead>\n",
       "    <tr style=\"text-align: right;\">\n",
       "      <th></th>\n",
       "      <th>Names</th>\n",
       "      <th>Age</th>\n",
       "      <th>Occupation</th>\n",
       "      <th>Height</th>\n",
       "      <th>Weight(Kg)</th>\n",
       "      <th>Gender</th>\n",
       "    </tr>\n",
       "  </thead>\n",
       "  <tbody>\n",
       "    <tr>\n",
       "      <th>1</th>\n",
       "      <td>Uche</td>\n",
       "      <td>16</td>\n",
       "      <td>Student</td>\n",
       "      <td>5'7</td>\n",
       "      <td>62</td>\n",
       "      <td>Male</td>\n",
       "    </tr>\n",
       "    <tr>\n",
       "      <th>2</th>\n",
       "      <td>Abiola</td>\n",
       "      <td>17</td>\n",
       "      <td>Student</td>\n",
       "      <td>6'</td>\n",
       "      <td>54</td>\n",
       "      <td>Female</td>\n",
       "    </tr>\n",
       "    <tr>\n",
       "      <th>3</th>\n",
       "      <td>Nelly</td>\n",
       "      <td>16</td>\n",
       "      <td>Student</td>\n",
       "      <td>5'8</td>\n",
       "      <td>56</td>\n",
       "      <td>Female</td>\n",
       "    </tr>\n",
       "    <tr>\n",
       "      <th>4</th>\n",
       "      <td>Queen</td>\n",
       "      <td>15</td>\n",
       "      <td>Student</td>\n",
       "      <td>5'</td>\n",
       "      <td>57</td>\n",
       "      <td>Female</td>\n",
       "    </tr>\n",
       "    <tr>\n",
       "      <th>6</th>\n",
       "      <td>Belinda</td>\n",
       "      <td>18</td>\n",
       "      <td>Student</td>\n",
       "      <td>5'11</td>\n",
       "      <td>72</td>\n",
       "      <td>Female</td>\n",
       "    </tr>\n",
       "  </tbody>\n",
       "</table>\n",
       "</div>"
      ],
      "text/plain": [
       "     Names  Age Occupation Height  Weight(Kg)  Gender\n",
       "1     Uche   16    Student    5'7          62    Male\n",
       "2   Abiola   17    Student     6'          54  Female\n",
       "3    Nelly   16    Student    5'8          56  Female\n",
       "4    Queen   15    Student     5'          57  Female\n",
       "6  Belinda   18    Student   5'11          72  Female"
      ]
     },
     "execution_count": 105,
     "metadata": {},
     "output_type": "execute_result"
    }
   ],
   "source": [
    "People.query(\"Age < 20\")"
   ]
  }
 ],
 "metadata": {
  "kernelspec": {
   "display_name": "Python 3 (ipykernel)",
   "language": "python",
   "name": "python3"
  },
  "language_info": {
   "codemirror_mode": {
    "name": "ipython",
    "version": 3
   },
   "file_extension": ".py",
   "mimetype": "text/x-python",
   "name": "python",
   "nbconvert_exporter": "python",
   "pygments_lexer": "ipython3",
   "version": "3.9.12"
  }
 },
 "nbformat": 4,
 "nbformat_minor": 5
}
