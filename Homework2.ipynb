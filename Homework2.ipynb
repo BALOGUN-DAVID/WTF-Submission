{
 "cells": [
  {
   "cell_type": "markdown",
   "id": "47e8115b",
   "metadata": {},
   "source": [
    "20 Pandas python functions\n"
   ]
  },
  {
   "cell_type": "code",
   "execution_count": null,
   "id": "68a1992d",
   "metadata": {},
   "outputs": [],
   "source": [
    "df[''].cumsum() gives cumalative sum"
   ]
  },
  {
   "cell_type": "code",
   "execution_count": null,
   "id": "7557a641",
   "metadata": {},
   "outputs": [],
   "source": [
    "df.insert() inserts a column in the specified position"
   ]
  },
  {
   "cell_type": "code",
   "execution_count": null,
   "id": "1d8a2260",
   "metadata": {},
   "outputs": [],
   "source": [
    "df.sample() uses a representation of the sample size to make analysis when the sample is too big"
   ]
  },
  {
   "cell_type": "code",
   "execution_count": null,
   "id": "8fa1167a",
   "metadata": {},
   "outputs": [],
   "source": [
    "df[''].where() queries a dataset based on boolean condition"
   ]
  },
  {
   "cell_type": "code",
   "execution_count": null,
   "id": "5e7da959",
   "metadata": {},
   "outputs": [],
   "source": [
    "df[''].unique() used to find out unique values of a categorical column"
   ]
  },
  {
   "cell_type": "code",
   "execution_count": null,
   "id": "1e65305b",
   "metadata": {},
   "outputs": [],
   "source": [
    "df[''].nunique() checks how many unique values are in a column"
   ]
  },
  {
   "cell_type": "code",
   "execution_count": null,
   "id": "1d51acc6",
   "metadata": {},
   "outputs": [],
   "source": [
    "df[''].ranks() gives rank of data based on certain column"
   ]
  },
  {
   "cell_type": "code",
   "execution_count": null,
   "id": "53cec564",
   "metadata": {},
   "outputs": [],
   "source": [
    "df.replace() used to replace values in a column"
   ]
  },
  {
   "cell_type": "code",
   "execution_count": null,
   "id": "5c933278",
   "metadata": {},
   "outputs": [],
   "source": [
    "df.renmae() used to rename columns"
   ]
  },
  {
   "cell_type": "code",
   "execution_count": null,
   "id": "82f97b03",
   "metadata": {},
   "outputs": [],
   "source": [
    ".fillna() used to replace null values in a dataset with any value of the analyst choice"
   ]
  },
  {
   "cell_type": "code",
   "execution_count": null,
   "id": "68ff57de",
   "metadata": {},
   "outputs": [],
   "source": [
    "df.groupby() used to group data based on certain criteria"
   ]
  },
  {
   "cell_type": "code",
   "execution_count": null,
   "id": "8213b55a",
   "metadata": {},
   "outputs": [],
   "source": [
    ".pct_change() used to get percentage change of previous values in a dataset"
   ]
  },
  {
   "cell_type": "code",
   "execution_count": null,
   "id": "93a0d1a1",
   "metadata": {},
   "outputs": [],
   "source": [
    "df.count() it gives the number of data in a dataset in the specified direction"
   ]
  },
  {
   "cell_type": "code",
   "execution_count": null,
   "id": "70594a95",
   "metadata": {},
   "outputs": [],
   "source": [
    "df[''].value_counts()  this gives value count of each category"
   ]
  },
  {
   "cell_type": "code",
   "execution_count": null,
   "id": "d5c249a4",
   "metadata": {},
   "outputs": [],
   "source": [
    "pd.crosstab() gives cross tabulation of 2 variables"
   ]
  },
  {
   "cell_type": "code",
   "execution_count": null,
   "id": "8667e87a",
   "metadata": {},
   "outputs": [],
   "source": [
    "df[''].describe() provides some basic statistical functions"
   ]
  },
  {
   "cell_type": "code",
   "execution_count": null,
   "id": "ab45be3b",
   "metadata": {},
   "outputs": [],
   "source": [
    "nlargest gives the dataset with n number of largest values"
   ]
  },
  {
   "cell_type": "code",
   "execution_count": null,
   "id": "ab02e1b9",
   "metadata": {},
   "outputs": [],
   "source": [
    "nsmallest gives the dataset with n number of smallet values"
   ]
  },
  {
   "cell_type": "code",
   "execution_count": null,
   "id": "f7f583ce",
   "metadata": {},
   "outputs": [],
   "source": [
    "df[''].dtypes gives data type of variable before analysis is done"
   ]
  },
  {
   "cell_type": "code",
   "execution_count": null,
   "id": "eaa3dbe8",
   "metadata": {},
   "outputs": [],
   "source": [
    ".len() gives length of a data frame"
   ]
  },
  {
   "cell_type": "markdown",
   "id": "d2ec9d29",
   "metadata": {},
   "source": [
    "20 numpy pandas functions"
   ]
  },
  {
   "cell_type": "code",
   "execution_count": null,
   "id": "7277cf66",
   "metadata": {},
   "outputs": [],
   "source": [
    "np.array()"
   ]
  },
  {
   "cell_type": "code",
   "execution_count": null,
   "id": "3e97f139",
   "metadata": {},
   "outputs": [],
   "source": [
    "np.zeros() creates a numpy array filled with 0"
   ]
  },
  {
   "cell_type": "code",
   "execution_count": null,
   "id": "0de0766c",
   "metadata": {},
   "outputs": [],
   "source": [
    "np.ones() creates a numpy array filled with 1"
   ]
  },
  {
   "cell_type": "code",
   "execution_count": null,
   "id": "7e229fb3",
   "metadata": {},
   "outputs": [],
   "source": [
    "np.eye() returns a 2-D array with 1 on the diagonal and 0 every other place"
   ]
  },
  {
   "cell_type": "code",
   "execution_count": null,
   "id": "4c3ba395",
   "metadata": {},
   "outputs": [],
   "source": [
    "np.arange() gives equally spaced values within a given interval"
   ]
  },
  {
   "cell_type": "code",
   "execution_count": null,
   "id": "747eda3c",
   "metadata": {},
   "outputs": [],
   "source": [
    "np.linspace() gives numbers in an interval that are evenly spaced"
   ]
  },
  {
   "cell_type": "code",
   "execution_count": null,
   "id": "bf958f30",
   "metadata": {},
   "outputs": [],
   "source": [
    "np.random.randint() gives random array of intergers"
   ]
  },
  {
   "cell_type": "code",
   "execution_count": null,
   "id": "73560a67",
   "metadata": {},
   "outputs": [],
   "source": [
    "np.random.random() gives random float samples"
   ]
  },
  {
   "cell_type": "code",
   "execution_count": null,
   "id": "e6ff9631",
   "metadata": {},
   "outputs": [],
   "source": [
    "np.shape() determines shape of a numpy array"
   ]
  },
  {
   "cell_type": "code",
   "execution_count": null,
   "id": "66a93c47",
   "metadata": {},
   "outputs": [],
   "source": [
    "np.reshape() gives a new shape to a numpy array without changing  its data"
   ]
  },
  {
   "cell_type": "code",
   "execution_count": null,
   "id": "e0f49f35",
   "metadata": {},
   "outputs": [],
   "source": [
    "np.transpose()"
   ]
  },
  {
   "cell_type": "code",
   "execution_count": null,
   "id": "2d69482a",
   "metadata": {},
   "outputs": [],
   "source": [
    "np.concatenate() its joins 2 sequence of arrays to form a new one"
   ]
  },
  {
   "cell_type": "code",
   "execution_count": null,
   "id": "7eb65bd3",
   "metadata": {},
   "outputs": [],
   "source": [
    "np.unique() gives the unique element in a numpy array"
   ]
  },
  {
   "cell_type": "code",
   "execution_count": null,
   "id": "b14c0592",
   "metadata": {},
   "outputs": [],
   "source": [
    "np.squeeze() removes axes of length of length from numpy array"
   ]
  },
  {
   "cell_type": "code",
   "execution_count": null,
   "id": "6ebb174a",
   "metadata": {},
   "outputs": [],
   "source": [
    "np.exp() calculates elements exponential"
   ]
  },
  {
   "cell_type": "code",
   "execution_count": null,
   "id": "5e74a4a2",
   "metadata": {},
   "outputs": [],
   "source": [
    "np.log() calculates element using logarithm"
   ]
  },
  {
   "cell_type": "code",
   "execution_count": null,
   "id": "812d1333",
   "metadata": {},
   "outputs": [],
   "source": [
    "np.sum() calculates sum of array elements"
   ]
  },
  {
   "cell_type": "code",
   "execution_count": null,
   "id": "e4d7b1df",
   "metadata": {},
   "outputs": [],
   "source": [
    "np.sqrt() calculates square root of array elements"
   ]
  },
  {
   "cell_type": "code",
   "execution_count": null,
   "id": "131a8cbe",
   "metadata": {},
   "outputs": [],
   "source": [
    "np.dot() calculates dot of 2 numpy arrays"
   ]
  },
  {
   "cell_type": "code",
   "execution_count": null,
   "id": "bebff2ea",
   "metadata": {},
   "outputs": [],
   "source": [
    "np.matmul() calculates matrix product of 2 numpy arrays"
   ]
  }
 ],
 "metadata": {
  "kernelspec": {
   "display_name": "Python 3 (ipykernel)",
   "language": "python",
   "name": "python3"
  },
  "language_info": {
   "codemirror_mode": {
    "name": "ipython",
    "version": 3
   },
   "file_extension": ".py",
   "mimetype": "text/x-python",
   "name": "python",
   "nbconvert_exporter": "python",
   "pygments_lexer": "ipython3",
   "version": "3.9.12"
  }
 },
 "nbformat": 4,
 "nbformat_minor": 5
}
