{
 "cells": [
  {
   "cell_type": "code",
   "execution_count": 1,
   "id": "d406768c",
   "metadata": {},
   "outputs": [],
   "source": [
    "import numpy as np"
   ]
  },
  {
   "cell_type": "code",
   "execution_count": 2,
   "id": "e2c62f7f",
   "metadata": {},
   "outputs": [],
   "source": [
    "mylist = ['Ayomide', 'Racheal', 'Toluwani', 'Ashabi', 'Ogundipe']"
   ]
  },
  {
   "cell_type": "code",
   "execution_count": 3,
   "id": "b5329b0b",
   "metadata": {},
   "outputs": [
    {
     "name": "stdout",
     "output_type": "stream",
     "text": [
      "Ayomide\n",
      "Racheal\n",
      "Toluwani\n",
      "Ashabi\n",
      "Ogundipe\n"
     ]
    }
   ],
   "source": [
    "for names in mylist:\n",
    "    print(names)"
   ]
  },
  {
   "cell_type": "code",
   "execution_count": 4,
   "id": "451e08c3",
   "metadata": {},
   "outputs": [
    {
     "name": "stdout",
     "output_type": "stream",
     "text": [
      "What is your salary? 5000000\n",
      "How many years have you been working? 8\n",
      "Eligible for a bonus of 250000.0, Net pay is 5250000.0\n"
     ]
    }
   ],
   "source": [
    "Salary = int(input('What is your salary? '))\n",
    "Year = int(input('How many years have you been working? '))\n",
    "interest = 0.05\n",
    "if Year > 5:\n",
    "    print ('Eligible for a bonus of ' + str(interest * Salary) + ', ' + 'Net pay is ' + str(Salary + (interest * Salary)))\n",
    "else:\n",
    "    print('Ineligible')"
   ]
  },
  {
   "cell_type": "code",
   "execution_count": 5,
   "id": "5ba328f0",
   "metadata": {},
   "outputs": [
    {
     "name": "stdout",
     "output_type": "stream",
     "text": [
      "Hi User1, How old are you? 23\n",
      "Hi User2, How old are you? 34\n",
      "Hi User3, How old are you? 20\n",
      "Minimum user age is: 20\n",
      "Maximum user age is: 34\n"
     ]
    }
   ],
   "source": [
    "user1 = int(input('Hi User1, How old are you? '))\n",
    "user2 = int(input('Hi User2, How old are you? '))\n",
    "user3 = int(input('Hi User3, How old are you? '))\n",
    "\n",
    "user_age = []\n",
    "user_age.append(user1)\n",
    "user_age.append(user2)\n",
    "user_age.append(user3)\n",
    "\n",
    "print('Minimum user age is: ' + str(min(user_age)))\n",
    "print('Maximum user age is: ' + str(max(user_age)))"
   ]
  },
  {
   "cell_type": "code",
   "execution_count": 6,
   "id": "2f1476c7",
   "metadata": {},
   "outputs": [
    {
     "name": "stdout",
     "output_type": "stream",
     "text": [
      "What is your exam score, 0-100: 59\n",
      "C\n"
     ]
    }
   ],
   "source": [
    "Grade_mark = int(input('What is your exam score, 0-100: '))\n",
    "if Grade_mark < 25:\n",
    "    print('F')\n",
    "elif Grade_mark >= 25 and Grade_mark < 45:\n",
    "    print('E')\n",
    "elif Grade_mark >= 45 and Grade_mark < 50:\n",
    "    print('D')\n",
    "elif Grade_mark >= 50 and Grade_mark < 60:\n",
    "    print('C')\n",
    "elif Grade_mark >= 60 and Grade_mark < 80:\n",
    "    print('B')\n",
    "elif Grade_mark >= 80:\n",
    "    print('A')"
   ]
  },
  {
   "cell_type": "code",
   "execution_count": 7,
   "id": "6456dfb6",
   "metadata": {},
   "outputs": [
    {
     "name": "stdout",
     "output_type": "stream",
     "text": [
      "{'Ayomide': 20, 'Ajoke': 22, 'Olamilekan': 24, 'Sesan': 28}\n"
     ]
    }
   ],
   "source": [
    "dict1 = {'Ayomide' : 20, 'Ajoke' : 22}\n",
    "dict2 = {'Olamilekan' : 24, 'Sesan' : 28}\n",
    "general_dict = {**dict1, **dict2}\n",
    "print(general_dict)"
   ]
  },
  {
   "cell_type": "code",
   "execution_count": 8,
   "id": "ef5c884f",
   "metadata": {},
   "outputs": [
    {
     "data": {
      "text/plain": [
       "90"
      ]
     },
     "execution_count": 8,
     "metadata": {},
     "output_type": "execute_result"
    }
   ],
   "source": [
    "random_list = [32, 25, 67, 87, 90, 2, 4, 34, 5, 28, 18, 20]\n",
    "max(random_list)"
   ]
  },
  {
   "cell_type": "code",
   "execution_count": 9,
   "id": "afa876ae",
   "metadata": {},
   "outputs": [
    {
     "data": {
      "text/plain": [
       "{'Ajoke': 22, 'Olamilekan': 24, 'Sesan': 28}"
      ]
     },
     "execution_count": 9,
     "metadata": {},
     "output_type": "execute_result"
    }
   ],
   "source": [
    "general_dict.pop('Ayomide')\n",
    "general_dict"
   ]
  }
 ],
 "metadata": {
  "kernelspec": {
   "display_name": "Python 3 (ipykernel)",
   "language": "python",
   "name": "python3"
  },
  "language_info": {
   "codemirror_mode": {
    "name": "ipython",
    "version": 3
   },
   "file_extension": ".py",
   "mimetype": "text/x-python",
   "name": "python",
   "nbconvert_exporter": "python",
   "pygments_lexer": "ipython3",
   "version": "3.9.7"
  }
 },
 "nbformat": 4,
 "nbformat_minor": 5
}
