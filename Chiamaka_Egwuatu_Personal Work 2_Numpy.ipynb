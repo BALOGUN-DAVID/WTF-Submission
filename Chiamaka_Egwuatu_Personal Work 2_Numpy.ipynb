{
 "cells": [
  {
   "cell_type": "markdown",
   "id": "dc539752",
   "metadata": {},
   "source": [
    "# Numpy Inbuilt Methods"
   ]
  },
  {
   "cell_type": "markdown",
   "id": "9d5ea2da",
   "metadata": {},
   "source": [
    "1) #numpy.linspace\n",
    "This function returns evenly spaced numbers over a specified interval."
   ]
  },
  {
   "cell_type": "code",
   "execution_count": 3,
   "id": "3297bbdf",
   "metadata": {},
   "outputs": [],
   "source": [
    "import numpy as np\n",
    "import pandas as pd"
   ]
  },
  {
   "cell_type": "code",
   "execution_count": 39,
   "id": "2e05a23f",
   "metadata": {},
   "outputs": [
    {
     "name": "stdout",
     "output_type": "stream",
     "text": [
      "[ 0.  1.  2.  3.  4.  5.  6.  7.  8.  9. 10. 11. 12. 13. 14. 15. 16. 17.\n",
      " 18. 19.]\n"
     ]
    }
   ],
   "source": [
    "#numpy.linspace\n",
    "num=np.linspace(0,19,20) #start,stop,range\n",
    "print(num)"
   ]
  },
  {
   "cell_type": "markdown",
   "id": "2dcdc493",
   "metadata": {},
   "source": [
    "2) #numpy.repeat\n",
    "This function repeats the elements of an array."
   ]
  },
  {
   "cell_type": "code",
   "execution_count": 31,
   "id": "d197a11e",
   "metadata": {},
   "outputs": [
    {
     "data": {
      "text/plain": [
       "array([15, 15, 15, 15, 15, 15, 15])"
      ]
     },
     "execution_count": 31,
     "metadata": {},
     "output_type": "execute_result"
    }
   ],
   "source": [
    "np.repeat(15,7) #The number of repetitions is specified by the second argument."
   ]
  },
  {
   "cell_type": "markdown",
   "id": "a8b9043b",
   "metadata": {},
   "source": [
    "3) #numpy.random.rand\n",
    "This function returns random floats from the interval."
   ]
  },
  {
   "cell_type": "code",
   "execution_count": 34,
   "id": "b711c808",
   "metadata": {},
   "outputs": [
    {
     "data": {
      "text/plain": [
       "array([0.67972434, 0.18965819, 0.73479861, 0.3864146 , 0.315082  ,\n",
       "       0.38704008])"
      ]
     },
     "execution_count": 34,
     "metadata": {},
     "output_type": "execute_result"
    }
   ],
   "source": [
    "np.random.rand(6)"
   ]
  },
  {
   "cell_type": "markdown",
   "id": "64aa230f",
   "metadata": {},
   "source": [
    "4) #numpy.random.randint\n",
    "This function returns random integers from the specified interval."
   ]
  },
  {
   "cell_type": "code",
   "execution_count": 47,
   "id": "e78c20dc",
   "metadata": {},
   "outputs": [
    {
     "data": {
      "text/plain": [
       "array([3, 3, 2, 1, 3, 3])"
      ]
     },
     "execution_count": 47,
     "metadata": {},
     "output_type": "execute_result"
    }
   ],
   "source": [
    "np.random.randint(4, size=6) "
   ]
  },
  {
   "cell_type": "markdown",
   "id": "2c8a959f",
   "metadata": {},
   "source": [
    "5) #numpy.random.choice This function returns random sample from a given array."
   ]
  },
  {
   "cell_type": "code",
   "execution_count": 49,
   "id": "14169034",
   "metadata": {},
   "outputs": [
    {
     "data": {
      "text/plain": [
       "array([0, 0, 4, 0, 0, 0])"
      ]
     },
     "execution_count": 49,
     "metadata": {},
     "output_type": "execute_result"
    }
   ],
   "source": [
    "np.random.choice([0,4], size=6)"
   ]
  },
  {
   "cell_type": "markdown",
   "id": "bcf1d952",
   "metadata": {},
   "source": [
    "6) #numpy.argmax This function returns the position of the maximum values along an axis."
   ]
  },
  {
   "cell_type": "code",
   "execution_count": 56,
   "id": "33769e1b",
   "metadata": {},
   "outputs": [
    {
     "name": "stdout",
     "output_type": "stream",
     "text": [
      "7\n"
     ]
    }
   ],
   "source": [
    "num=np.array([[5,10,15,20],[25,30,35,40]])\n",
    "max_num= np.argmax(num)\n",
    "print(max_num)"
   ]
  },
  {
   "cell_type": "markdown",
   "id": "49456a3b",
   "metadata": {},
   "source": [
    "7) #numpy.array This function creates an array."
   ]
  },
  {
   "cell_type": "code",
   "execution_count": 71,
   "id": "bde1f52f",
   "metadata": {},
   "outputs": [
    {
     "data": {
      "text/plain": [
       "numpy.ndarray"
      ]
     },
     "execution_count": 71,
     "metadata": {},
     "output_type": "execute_result"
    }
   ],
   "source": [
    "num=[5,10,15,20,25,30]\n",
    "arr=np.array(num)\n",
    "type(arr)"
   ]
  },
  {
   "cell_type": "code",
   "execution_count": 72,
   "id": "a3420d0c",
   "metadata": {},
   "outputs": [
    {
     "data": {
      "text/plain": [
       "array([ 5, 10, 15, 20, 25, 30])"
      ]
     },
     "execution_count": 72,
     "metadata": {},
     "output_type": "execute_result"
    }
   ],
   "source": [
    "arr"
   ]
  },
  {
   "cell_type": "markdown",
   "id": "029f7a97",
   "metadata": {},
   "source": [
    "8) #arr.shape This function shows the total number of indices in an array."
   ]
  },
  {
   "cell_type": "code",
   "execution_count": 74,
   "id": "fd0cb47f",
   "metadata": {
    "scrolled": true
   },
   "outputs": [
    {
     "data": {
      "text/plain": [
       "(6,)"
      ]
     },
     "execution_count": 74,
     "metadata": {},
     "output_type": "execute_result"
    }
   ],
   "source": [
    "arr.shape"
   ]
  },
  {
   "cell_type": "markdown",
   "id": "1a56c908",
   "metadata": {},
   "source": [
    "9) #arr.reshape This function returns an array containing the same data with a new shape."
   ]
  },
  {
   "cell_type": "code",
   "execution_count": 80,
   "id": "462ee3e2",
   "metadata": {},
   "outputs": [
    {
     "data": {
      "text/plain": [
       "array([[ 5, 10, 15, 20, 25, 30],\n",
       "       [ 2,  4,  6,  8, 10, 12],\n",
       "       [ 3,  6,  9, 12, 15, 18],\n",
       "       [ 4,  8, 12, 16, 20, 24]])"
      ]
     },
     "execution_count": 80,
     "metadata": {},
     "output_type": "execute_result"
    }
   ],
   "source": [
    "num1=[5,10,15,20,25,30]\n",
    "num2=[2,4,6,8,10,12]\n",
    "num3=[3,6,9,12,15,18]\n",
    "num4=[4,8,12,16,20,24]\n",
    "arr=np.array([num1,num2,num3,num4])\n",
    "arr"
   ]
  },
  {
   "cell_type": "code",
   "execution_count": 81,
   "id": "94e2c5ad",
   "metadata": {},
   "outputs": [
    {
     "data": {
      "text/plain": [
       "(4, 6)"
      ]
     },
     "execution_count": 81,
     "metadata": {},
     "output_type": "execute_result"
    }
   ],
   "source": [
    "arr.shape"
   ]
  },
  {
   "cell_type": "code",
   "execution_count": 83,
   "id": "ab6ef3d3",
   "metadata": {},
   "outputs": [
    {
     "data": {
      "text/plain": [
       "array([[ 5, 10, 15, 20],\n",
       "       [25, 30,  2,  4],\n",
       "       [ 6,  8, 10, 12],\n",
       "       [ 3,  6,  9, 12],\n",
       "       [15, 18,  4,  8],\n",
       "       [12, 16, 20, 24]])"
      ]
     },
     "execution_count": 83,
     "metadata": {},
     "output_type": "execute_result"
    }
   ],
   "source": [
    "arr.reshape(6,4)"
   ]
  },
  {
   "cell_type": "markdown",
   "id": "a40cc15a",
   "metadata": {},
   "source": [
    "10) #numpy.digitize This function is used to segregate many arrays into a group of arrays according to their values."
   ]
  },
  {
   "cell_type": "code",
   "execution_count": 92,
   "id": "829f3aab",
   "metadata": {},
   "outputs": [
    {
     "name": "stdout",
     "output_type": "stream",
     "text": [
      "[3 3 3]\n"
     ]
    }
   ],
   "source": [
    "Age=np.array([12,24,36])\n",
    "Group=np.array([1,2,3])\n",
    "Bio=np.digitize(Age,Group)\n",
    "print(Bio)"
   ]
  },
  {
   "cell_type": "markdown",
   "id": "33337911",
   "metadata": {},
   "source": [
    "11) #numpy.arange This function is used to return evenly spaced values within a given interval."
   ]
  },
  {
   "cell_type": "code",
   "execution_count": 96,
   "id": "859a21b8",
   "metadata": {},
   "outputs": [
    {
     "data": {
      "text/plain": [
       "array([0, 1, 2, 3, 4, 5, 6, 7, 8, 9])"
      ]
     },
     "execution_count": 96,
     "metadata": {},
     "output_type": "execute_result"
    }
   ],
   "source": [
    "arr=np.arange(0,10,step=1)\n",
    "arr"
   ]
  },
  {
   "cell_type": "code",
   "execution_count": 98,
   "id": "c2ec3794",
   "metadata": {},
   "outputs": [
    {
     "data": {
      "text/plain": [
       "array([3, 4, 5, 6, 7, 8])"
      ]
     },
     "execution_count": 98,
     "metadata": {},
     "output_type": "execute_result"
    }
   ],
   "source": [
    "arr[3:9]"
   ]
  },
  {
   "cell_type": "markdown",
   "id": "0d3d2b3d",
   "metadata": {},
   "source": [
    "12) #numpy.ones This function returns a new array of given shape and type in the form of ones. "
   ]
  },
  {
   "cell_type": "code",
   "execution_count": 99,
   "id": "680e712f",
   "metadata": {},
   "outputs": [
    {
     "data": {
      "text/plain": [
       "array([1., 1., 1., 1., 1., 1.])"
      ]
     },
     "execution_count": 99,
     "metadata": {},
     "output_type": "execute_result"
    }
   ],
   "source": [
    "np.ones(6)"
   ]
  },
  {
   "cell_type": "code",
   "execution_count": 104,
   "id": "2b2e9122",
   "metadata": {},
   "outputs": [
    {
     "data": {
      "text/plain": [
       "array([[1, 1, 1, 1, 1, 1],\n",
       "       [1, 1, 1, 1, 1, 1],\n",
       "       [1, 1, 1, 1, 1, 1]])"
      ]
     },
     "execution_count": 104,
     "metadata": {},
     "output_type": "execute_result"
    }
   ],
   "source": [
    "np.ones((3,6,), dtype=int)"
   ]
  },
  {
   "cell_type": "markdown",
   "id": "73915098",
   "metadata": {},
   "source": [
    "13) #numpy.zeros This function returns a new array of given shape and type in the form of zeros. "
   ]
  },
  {
   "cell_type": "code",
   "execution_count": 105,
   "id": "92bf29d9",
   "metadata": {},
   "outputs": [
    {
     "data": {
      "text/plain": [
       "array([0., 0., 0., 0., 0.])"
      ]
     },
     "execution_count": 105,
     "metadata": {},
     "output_type": "execute_result"
    }
   ],
   "source": [
    "np.zeros(5)"
   ]
  },
  {
   "cell_type": "code",
   "execution_count": 108,
   "id": "44cfce58",
   "metadata": {},
   "outputs": [
    {
     "data": {
      "text/plain": [
       "array([[0., 0., 0., 0., 0., 0., 0., 0., 0., 0.],\n",
       "       [0., 0., 0., 0., 0., 0., 0., 0., 0., 0.],\n",
       "       [0., 0., 0., 0., 0., 0., 0., 0., 0., 0.],\n",
       "       [0., 0., 0., 0., 0., 0., 0., 0., 0., 0.],\n",
       "       [0., 0., 0., 0., 0., 0., 0., 0., 0., 0.]])"
      ]
     },
     "execution_count": 108,
     "metadata": {},
     "output_type": "execute_result"
    }
   ],
   "source": [
    "np.zeros((5,10,), dtype=float)"
   ]
  },
  {
   "cell_type": "markdown",
   "id": "38cbc9f9",
   "metadata": {},
   "source": [
    "14) #numpy.random.randn \n",
    "This function returns random sample from a standard normal distribution."
   ]
  },
  {
   "cell_type": "code",
   "execution_count": 111,
   "id": "e1db6789",
   "metadata": {},
   "outputs": [
    {
     "data": {
      "text/plain": [
       "array([[ 0.55918093, -0.47104053, -1.15303125,  0.29260571,  1.1976598 ],\n",
       "       [ 0.12586893,  0.54446406, -1.0652639 , -1.18936381,  2.60892346],\n",
       "       [ 0.32982191,  2.62350657, -0.13740828,  0.43308323,  0.02186395],\n",
       "       [-0.48014548, -0.28448002,  0.50100668,  0.67213184, -0.85500154],\n",
       "       [ 0.42911579, -0.41439164, -0.06714191, -0.9591153 ,  1.52765584]])"
      ]
     },
     "execution_count": 111,
     "metadata": {},
     "output_type": "execute_result"
    }
   ],
   "source": [
    "num=np.random.randn(5,5)\n",
    "num"
   ]
  },
  {
   "cell_type": "markdown",
   "id": "4b73d837",
   "metadata": {},
   "source": [
    "   15) #numpy.random.random_sample This function returns random floats in the half-open interval."
   ]
  },
  {
   "cell_type": "code",
   "execution_count": 114,
   "id": "0b86b358",
   "metadata": {},
   "outputs": [
    {
     "data": {
      "text/plain": [
       "array([[0.25647424, 0.15242984, 0.71842665, 0.65719281, 0.5612166 ]])"
      ]
     },
     "execution_count": 114,
     "metadata": {},
     "output_type": "execute_result"
    }
   ],
   "source": [
    "np.random.random_sample((1,5))"
   ]
  },
  {
   "cell_type": "markdown",
   "id": "fda82b9f",
   "metadata": {},
   "source": [
    "   16) #numpy.random.uniform \n",
    "   This function is used to describe probability where every event has equal chances of occuring."
   ]
  },
  {
   "cell_type": "code",
   "execution_count": 119,
   "id": "c3086744",
   "metadata": {},
   "outputs": [
    {
     "name": "stdout",
     "output_type": "stream",
     "text": [
      "[[0.58849856 0.3853261  0.83905263 0.80366586 0.17836217]]\n"
     ]
    }
   ],
   "source": [
    "item= np.random.uniform(size=(1,5))\n",
    "print(item)"
   ]
  },
  {
   "cell_type": "markdown",
   "id": "4b0f9d34",
   "metadata": {},
   "source": [
    "17) #numpy.random.logistics This function is used to describe growth."
   ]
  },
  {
   "cell_type": "code",
   "execution_count": 121,
   "id": "a95b8395",
   "metadata": {},
   "outputs": [
    {
     "name": "stdout",
     "output_type": "stream",
     "text": [
      "[[ 5.89489834  3.72143057 14.06059843  3.02018291 -1.14636946]]\n"
     ]
    }
   ],
   "source": [
    "item= np.random.logistic(loc=1, scale=5, size=(1,5))\n",
    "print(item)"
   ]
  },
  {
   "cell_type": "markdown",
   "id": "cb9c6b82",
   "metadata": {},
   "source": [
    "18) #numpy.diff This function is used to subtract two successive elements."
   ]
  },
  {
   "cell_type": "code",
   "execution_count": 123,
   "id": "a5e6d147",
   "metadata": {},
   "outputs": [
    {
     "name": "stdout",
     "output_type": "stream",
     "text": [
      "[ 5 10 10 15 25]\n"
     ]
    }
   ],
   "source": [
    "item= np.array([5,10,20,30,45,70])\n",
    "newitem=np.diff(item)\n",
    "print(newitem)"
   ]
  },
  {
   "cell_type": "markdown",
   "id": "7bd50d7d",
   "metadata": {},
   "source": [
    "19) #numpy.log This function is used to perform log at the base."
   ]
  },
  {
   "cell_type": "code",
   "execution_count": 128,
   "id": "c807466e",
   "metadata": {},
   "outputs": [
    {
     "name": "stdout",
     "output_type": "stream",
     "text": [
      "[0.         1.         1.5849625  2.         2.32192809 2.5849625\n",
      " 2.80735492 3.         3.169925   3.32192809 3.45943162 3.5849625\n",
      " 3.70043972 3.80735492 3.9068906  4.         4.08746284 4.169925  ]\n"
     ]
    }
   ],
   "source": [
    "item= np.arange(1,19) #base of 2\n",
    "print(np.log2(item))"
   ]
  },
  {
   "cell_type": "code",
   "execution_count": 137,
   "id": "27b04c76",
   "metadata": {},
   "outputs": [
    {
     "name": "stdout",
     "output_type": "stream",
     "text": [
      "[0.         0.30103    0.47712125 0.60205999 0.69897    0.77815125\n",
      " 0.84509804 0.90308999 0.95424251 1.         1.04139269 1.07918125\n",
      " 1.11394335 1.14612804 1.17609126 1.20411998 1.23044892 1.25527251]\n"
     ]
    }
   ],
   "source": [
    "item= np.arange(1,19) #base of 10\n",
    "print(np.log10(item))"
   ]
  },
  {
   "cell_type": "markdown",
   "id": "ebbba718",
   "metadata": {},
   "source": [
    "20) #numpy.chisquare This function is used to verify the hypothesis using df(degree of freedom) and size."
   ]
  },
  {
   "cell_type": "code",
   "execution_count": 136,
   "id": "a363aa7d",
   "metadata": {},
   "outputs": [
    {
     "name": "stdout",
     "output_type": "stream",
     "text": [
      "[[ 1.04175264  5.92274416  4.57494819  5.08267659  4.8867347   1.7874005\n",
      "   6.87905225  3.2275397  15.33711855  6.39517586]\n",
      " [ 3.17234101  5.27356901  2.39043856  5.03459897  5.56019201  3.03130381\n",
      "   9.56368275  4.36321054  6.75965874  0.60818762]\n",
      " [ 5.30913831  3.21632119  5.43663563  8.3299632   0.56794831  4.05771494\n",
      "   5.92622203  6.56506011  2.06033628  2.99071812]\n",
      " [ 6.3403263   3.49080558  5.85284391  1.60919764  2.23486076  5.4843614\n",
      "   4.36187942  2.4125982   4.20013628  2.0490207 ]\n",
      " [ 6.88445039  2.51602703  4.84935919  5.1895362   9.07863946  3.41582775\n",
      "   6.8374018   1.46235357  3.10651983  1.80005649]]\n"
     ]
    }
   ],
   "source": [
    "from numpy import random\n",
    "item=random.chisquare(df=5, size=(5,10))\n",
    "print(item)"
   ]
  }
 ],
 "metadata": {
  "kernelspec": {
   "display_name": "Python 3 (ipykernel)",
   "language": "python",
   "name": "python3"
  },
  "language_info": {
   "codemirror_mode": {
    "name": "ipython",
    "version": 3
   },
   "file_extension": ".py",
   "mimetype": "text/x-python",
   "name": "python",
   "nbconvert_exporter": "python",
   "pygments_lexer": "ipython3",
   "version": "3.9.12"
  }
 },
 "nbformat": 4,
 "nbformat_minor": 5
}
