{
 "cells": [
  {
   "cell_type": "markdown",
   "id": "b24ea4f2",
   "metadata": {},
   "source": [
    "## Ajoke Yusuf"
   ]
  },
  {
   "cell_type": "markdown",
   "id": "51429276",
   "metadata": {},
   "source": [
    "### Numpy Function"
   ]
  },
  {
   "cell_type": "code",
   "execution_count": 1,
   "id": "f8db156f",
   "metadata": {},
   "outputs": [],
   "source": [
    "import numpy as np"
   ]
  },
  {
   "cell_type": "markdown",
   "id": "a4822472",
   "metadata": {},
   "source": [
    "1. **eye()**"
   ]
  },
  {
   "cell_type": "code",
   "execution_count": 2,
   "id": "b18134be",
   "metadata": {},
   "outputs": [
    {
     "data": {
      "text/plain": [
       "array([[1., 0., 0.],\n",
       "       [0., 1., 0.],\n",
       "       [0., 0., 1.]])"
      ]
     },
     "execution_count": 2,
     "metadata": {},
     "output_type": "execute_result"
    }
   ],
   "source": [
    "np.eye(3)"
   ]
  },
  {
   "cell_type": "markdown",
   "id": "a69c7e3c",
   "metadata": {},
   "source": [
    "2. **arange()**"
   ]
  },
  {
   "cell_type": "code",
   "execution_count": 3,
   "id": "4ea5baa7",
   "metadata": {},
   "outputs": [
    {
     "data": {
      "text/plain": [
       "array([ 0,  1,  2,  3,  4,  5,  6,  7,  8,  9, 10, 11, 12, 13, 14])"
      ]
     },
     "execution_count": 3,
     "metadata": {},
     "output_type": "execute_result"
    }
   ],
   "source": [
    "np.arange(15)"
   ]
  },
  {
   "cell_type": "markdown",
   "id": "88530b7f",
   "metadata": {},
   "source": [
    "3. **zeros()**"
   ]
  },
  {
   "cell_type": "code",
   "execution_count": 4,
   "id": "26be376f",
   "metadata": {},
   "outputs": [
    {
     "data": {
      "text/plain": [
       "array([[0., 0., 0.],\n",
       "       [0., 0., 0.],\n",
       "       [0., 0., 0.]])"
      ]
     },
     "execution_count": 4,
     "metadata": {},
     "output_type": "execute_result"
    }
   ],
   "source": [
    "np.zeros((3,3))"
   ]
  },
  {
   "cell_type": "markdown",
   "id": "e1c4f094",
   "metadata": {},
   "source": [
    "4. **ones()**"
   ]
  },
  {
   "cell_type": "code",
   "execution_count": 5,
   "id": "b23ca617",
   "metadata": {},
   "outputs": [
    {
     "data": {
      "text/plain": [
       "array([[1., 1., 1.],\n",
       "       [1., 1., 1.],\n",
       "       [1., 1., 1.]])"
      ]
     },
     "execution_count": 5,
     "metadata": {},
     "output_type": "execute_result"
    }
   ],
   "source": [
    "np.ones((3,3))"
   ]
  },
  {
   "cell_type": "markdown",
   "id": "617ee56e",
   "metadata": {},
   "source": [
    "5. **linspace()**"
   ]
  },
  {
   "cell_type": "code",
   "execution_count": 6,
   "id": "95bebb23",
   "metadata": {},
   "outputs": [
    {
     "data": {
      "text/plain": [
       "array([ 0.        ,  1.66666667,  3.33333333,  5.        ,  6.66666667,\n",
       "        8.33333333, 10.        , 11.66666667, 13.33333333, 15.        ])"
      ]
     },
     "execution_count": 6,
     "metadata": {},
     "output_type": "execute_result"
    }
   ],
   "source": [
    "np.linspace(0,15,10)"
   ]
  },
  {
   "cell_type": "markdown",
   "id": "ae1c46bf",
   "metadata": {},
   "source": [
    "6. **random.rand()**"
   ]
  },
  {
   "cell_type": "code",
   "execution_count": 7,
   "id": "e85bec3e",
   "metadata": {},
   "outputs": [
    {
     "data": {
      "text/plain": [
       "array([0.63338303, 0.39456475, 0.21167285, 0.24615442])"
      ]
     },
     "execution_count": 7,
     "metadata": {},
     "output_type": "execute_result"
    }
   ],
   "source": [
    "np.random.rand(4)"
   ]
  },
  {
   "cell_type": "markdown",
   "id": "21164dcb",
   "metadata": {},
   "source": [
    "7. **random.randint()**"
   ]
  },
  {
   "cell_type": "code",
   "execution_count": 8,
   "id": "a06612f6",
   "metadata": {},
   "outputs": [
    {
     "data": {
      "text/plain": [
       "99"
      ]
     },
     "execution_count": 8,
     "metadata": {},
     "output_type": "execute_result"
    }
   ],
   "source": [
    "np.random.randint(95,100)"
   ]
  },
  {
   "cell_type": "markdown",
   "id": "a800e4c4",
   "metadata": {},
   "source": [
    "8. **random.randn()**"
   ]
  },
  {
   "cell_type": "code",
   "execution_count": 9,
   "id": "05e476c5",
   "metadata": {},
   "outputs": [
    {
     "data": {
      "text/plain": [
       "array([[-0.70585372, -0.39636939, -0.28963836, -1.75417647,  0.10530366,\n",
       "         1.44464767,  1.89776012],\n",
       "       [ 1.78918001,  1.11448461,  0.3231061 , -0.15516951,  0.73527332,\n",
       "         0.08832143,  1.34148858],\n",
       "       [-0.30675931,  1.79358545,  1.10007472,  1.78021234,  0.46455359,\n",
       "         1.61155831,  1.34867607],\n",
       "       [-0.86902849,  1.74069583, -0.71431349,  0.64825353, -0.23383409,\n",
       "        -0.07059382,  0.52649747],\n",
       "       [ 0.06741067,  0.58625624,  0.55740599,  0.70826982, -0.14285265,\n",
       "        -0.30296301, -1.45921837]])"
      ]
     },
     "execution_count": 9,
     "metadata": {},
     "output_type": "execute_result"
    }
   ],
   "source": [
    "np.random.randn(5,7)"
   ]
  },
  {
   "cell_type": "markdown",
   "id": "604a3d1e",
   "metadata": {},
   "source": [
    "9. **transpose()**"
   ]
  },
  {
   "cell_type": "code",
   "execution_count": 10,
   "id": "0968e91e",
   "metadata": {},
   "outputs": [
    {
     "data": {
      "text/plain": [
       "array([[ 1,  2,  3],\n",
       "       [ 4,  5,  6],\n",
       "       [78, 15,  7],\n",
       "       [12, 29, 18]])"
      ]
     },
     "execution_count": 10,
     "metadata": {},
     "output_type": "execute_result"
    }
   ],
   "source": [
    "arr = ([1,4,78,12],\n",
    "        [2,5,15,29],\n",
    "        [3,6,7,18])\n",
    "np.transpose(arr)"
   ]
  },
  {
   "cell_type": "markdown",
   "id": "c878fcd9",
   "metadata": {},
   "source": [
    "10. **sum()**"
   ]
  },
  {
   "cell_type": "code",
   "execution_count": 11,
   "id": "a8d9be31",
   "metadata": {},
   "outputs": [
    {
     "data": {
      "text/plain": [
       "180"
      ]
     },
     "execution_count": 11,
     "metadata": {},
     "output_type": "execute_result"
    }
   ],
   "source": [
    "np.sum(arr)"
   ]
  },
  {
   "cell_type": "markdown",
   "id": "2ddabaae",
   "metadata": {},
   "source": [
    "11. **std()**"
   ]
  },
  {
   "cell_type": "code",
   "execution_count": 12,
   "id": "f6b29302",
   "metadata": {},
   "outputs": [
    {
     "data": {
      "text/plain": [
       "20.530465167647808"
      ]
     },
     "execution_count": 12,
     "metadata": {},
     "output_type": "execute_result"
    }
   ],
   "source": [
    "np.std(arr)"
   ]
  },
  {
   "cell_type": "markdown",
   "id": "e5365f20",
   "metadata": {},
   "source": [
    "12. **min()**"
   ]
  },
  {
   "cell_type": "code",
   "execution_count": 13,
   "id": "5e3092c2",
   "metadata": {},
   "outputs": [
    {
     "data": {
      "text/plain": [
       "1"
      ]
     },
     "execution_count": 13,
     "metadata": {},
     "output_type": "execute_result"
    }
   ],
   "source": [
    "np.min(arr)"
   ]
  },
  {
   "cell_type": "markdown",
   "id": "e7451673",
   "metadata": {},
   "source": [
    "13. **max()**"
   ]
  },
  {
   "cell_type": "code",
   "execution_count": 14,
   "id": "6e450bd4",
   "metadata": {},
   "outputs": [
    {
     "data": {
      "text/plain": [
       "78"
      ]
     },
     "execution_count": 14,
     "metadata": {},
     "output_type": "execute_result"
    }
   ],
   "source": [
    "np.max(arr)"
   ]
  },
  {
   "cell_type": "markdown",
   "id": "0bfd8cb2",
   "metadata": {},
   "source": [
    "14. **argmax()**"
   ]
  },
  {
   "cell_type": "code",
   "execution_count": 15,
   "id": "15869f9f",
   "metadata": {},
   "outputs": [
    {
     "data": {
      "text/plain": [
       "2"
      ]
     },
     "execution_count": 15,
     "metadata": {},
     "output_type": "execute_result"
    }
   ],
   "source": [
    "np.argmax(arr)"
   ]
  },
  {
   "cell_type": "markdown",
   "id": "154c5b8d",
   "metadata": {},
   "source": [
    "15. **argmin()**"
   ]
  },
  {
   "cell_type": "code",
   "execution_count": 16,
   "id": "d406273a",
   "metadata": {},
   "outputs": [
    {
     "data": {
      "text/plain": [
       "0"
      ]
     },
     "execution_count": 16,
     "metadata": {},
     "output_type": "execute_result"
    }
   ],
   "source": [
    "np.argmin(arr)"
   ]
  },
  {
   "cell_type": "markdown",
   "id": "2375f707",
   "metadata": {},
   "source": [
    "16. **reshape()**"
   ]
  },
  {
   "cell_type": "code",
   "execution_count": 17,
   "id": "1478d6df",
   "metadata": {},
   "outputs": [
    {
     "data": {
      "text/plain": [
       "array([[ 0,  1,  2],\n",
       "       [ 3,  4,  5],\n",
       "       [ 6,  7,  8],\n",
       "       [ 9, 10, 11]])"
      ]
     },
     "execution_count": 17,
     "metadata": {},
     "output_type": "execute_result"
    }
   ],
   "source": [
    "np.arange(12).reshape((4,3))"
   ]
  },
  {
   "cell_type": "code",
   "execution_count": null,
   "id": "2b3207c2",
   "metadata": {},
   "outputs": [],
   "source": []
  },
  {
   "cell_type": "markdown",
   "id": "e5b4e7e8",
   "metadata": {},
   "source": [
    "### Pandas Function"
   ]
  },
  {
   "cell_type": "code",
   "execution_count": 18,
   "id": "377d4f5b",
   "metadata": {},
   "outputs": [],
   "source": [
    "import pandas as pd"
   ]
  },
  {
   "cell_type": "code",
   "execution_count": 19,
   "id": "4e8ef776",
   "metadata": {},
   "outputs": [],
   "source": [
    "df =pd.DataFrame({\"Name\": ['Ajoke','Chidinma', 'Femi', 'Tomi','Seun'],\n",
    "      \"Age\": [24, 65, 35,np.nan, 56],\n",
    "      \"Country\": ['Nigeria','China',np.nan,'Canada', 'China'],\n",
    "       \"Animal\": ['Dog','Cat','Lion', 'Kangaroo','Goat']})"
   ]
  },
  {
   "cell_type": "markdown",
   "id": "fb0b33f7",
   "metadata": {},
   "source": [
    "1. **info()**"
   ]
  },
  {
   "cell_type": "code",
   "execution_count": 20,
   "id": "f3fe6e5c",
   "metadata": {},
   "outputs": [
    {
     "name": "stdout",
     "output_type": "stream",
     "text": [
      "<class 'pandas.core.frame.DataFrame'>\n",
      "RangeIndex: 5 entries, 0 to 4\n",
      "Data columns (total 4 columns):\n",
      " #   Column   Non-Null Count  Dtype  \n",
      "---  ------   --------------  -----  \n",
      " 0   Name     5 non-null      object \n",
      " 1   Age      4 non-null      float64\n",
      " 2   Country  4 non-null      object \n",
      " 3   Animal   5 non-null      object \n",
      "dtypes: float64(1), object(3)\n",
      "memory usage: 288.0+ bytes\n"
     ]
    }
   ],
   "source": [
    "df.info()"
   ]
  },
  {
   "cell_type": "markdown",
   "id": "2eaf0ea6",
   "metadata": {},
   "source": [
    "2. **head()**"
   ]
  },
  {
   "cell_type": "code",
   "execution_count": 21,
   "id": "d1702e6a",
   "metadata": {},
   "outputs": [
    {
     "data": {
      "text/html": [
       "<div>\n",
       "<style scoped>\n",
       "    .dataframe tbody tr th:only-of-type {\n",
       "        vertical-align: middle;\n",
       "    }\n",
       "\n",
       "    .dataframe tbody tr th {\n",
       "        vertical-align: top;\n",
       "    }\n",
       "\n",
       "    .dataframe thead th {\n",
       "        text-align: right;\n",
       "    }\n",
       "</style>\n",
       "<table border=\"1\" class=\"dataframe\">\n",
       "  <thead>\n",
       "    <tr style=\"text-align: right;\">\n",
       "      <th></th>\n",
       "      <th>Name</th>\n",
       "      <th>Age</th>\n",
       "      <th>Country</th>\n",
       "      <th>Animal</th>\n",
       "    </tr>\n",
       "  </thead>\n",
       "  <tbody>\n",
       "    <tr>\n",
       "      <th>0</th>\n",
       "      <td>Ajoke</td>\n",
       "      <td>24.0</td>\n",
       "      <td>Nigeria</td>\n",
       "      <td>Dog</td>\n",
       "    </tr>\n",
       "    <tr>\n",
       "      <th>1</th>\n",
       "      <td>Chidinma</td>\n",
       "      <td>65.0</td>\n",
       "      <td>China</td>\n",
       "      <td>Cat</td>\n",
       "    </tr>\n",
       "  </tbody>\n",
       "</table>\n",
       "</div>"
      ],
      "text/plain": [
       "       Name   Age  Country Animal\n",
       "0     Ajoke  24.0  Nigeria    Dog\n",
       "1  Chidinma  65.0    China    Cat"
      ]
     },
     "execution_count": 21,
     "metadata": {},
     "output_type": "execute_result"
    }
   ],
   "source": [
    "df.head(2)"
   ]
  },
  {
   "cell_type": "markdown",
   "id": "9c2bc5ed",
   "metadata": {},
   "source": [
    "3. **tail()**"
   ]
  },
  {
   "cell_type": "code",
   "execution_count": 22,
   "id": "dc6a5115",
   "metadata": {},
   "outputs": [
    {
     "data": {
      "text/html": [
       "<div>\n",
       "<style scoped>\n",
       "    .dataframe tbody tr th:only-of-type {\n",
       "        vertical-align: middle;\n",
       "    }\n",
       "\n",
       "    .dataframe tbody tr th {\n",
       "        vertical-align: top;\n",
       "    }\n",
       "\n",
       "    .dataframe thead th {\n",
       "        text-align: right;\n",
       "    }\n",
       "</style>\n",
       "<table border=\"1\" class=\"dataframe\">\n",
       "  <thead>\n",
       "    <tr style=\"text-align: right;\">\n",
       "      <th></th>\n",
       "      <th>Name</th>\n",
       "      <th>Age</th>\n",
       "      <th>Country</th>\n",
       "      <th>Animal</th>\n",
       "    </tr>\n",
       "  </thead>\n",
       "  <tbody>\n",
       "    <tr>\n",
       "      <th>3</th>\n",
       "      <td>Tomi</td>\n",
       "      <td>NaN</td>\n",
       "      <td>Canada</td>\n",
       "      <td>Kangaroo</td>\n",
       "    </tr>\n",
       "    <tr>\n",
       "      <th>4</th>\n",
       "      <td>Seun</td>\n",
       "      <td>56.0</td>\n",
       "      <td>China</td>\n",
       "      <td>Goat</td>\n",
       "    </tr>\n",
       "  </tbody>\n",
       "</table>\n",
       "</div>"
      ],
      "text/plain": [
       "   Name   Age Country    Animal\n",
       "3  Tomi   NaN  Canada  Kangaroo\n",
       "4  Seun  56.0   China      Goat"
      ]
     },
     "execution_count": 22,
     "metadata": {},
     "output_type": "execute_result"
    }
   ],
   "source": [
    "df.tail(2)"
   ]
  },
  {
   "cell_type": "markdown",
   "id": "f5131210",
   "metadata": {},
   "source": [
    "4. **isna()**"
   ]
  },
  {
   "cell_type": "code",
   "execution_count": 23,
   "id": "19b19df4",
   "metadata": {},
   "outputs": [
    {
     "data": {
      "text/plain": [
       "Name       0\n",
       "Age        1\n",
       "Country    1\n",
       "Animal     0\n",
       "dtype: int64"
      ]
     },
     "execution_count": 23,
     "metadata": {},
     "output_type": "execute_result"
    }
   ],
   "source": [
    "df.isna().sum()"
   ]
  },
  {
   "cell_type": "markdown",
   "id": "a2b9040b",
   "metadata": {},
   "source": [
    "5. **set_axis()**"
   ]
  },
  {
   "cell_type": "code",
   "execution_count": 24,
   "id": "9697b8c8",
   "metadata": {},
   "outputs": [
    {
     "data": {
      "text/html": [
       "<div>\n",
       "<style scoped>\n",
       "    .dataframe tbody tr th:only-of-type {\n",
       "        vertical-align: middle;\n",
       "    }\n",
       "\n",
       "    .dataframe tbody tr th {\n",
       "        vertical-align: top;\n",
       "    }\n",
       "\n",
       "    .dataframe thead th {\n",
       "        text-align: right;\n",
       "    }\n",
       "</style>\n",
       "<table border=\"1\" class=\"dataframe\">\n",
       "  <thead>\n",
       "    <tr style=\"text-align: right;\">\n",
       "      <th></th>\n",
       "      <th>Name</th>\n",
       "      <th>Age</th>\n",
       "      <th>Country</th>\n",
       "      <th>Animal</th>\n",
       "    </tr>\n",
       "  </thead>\n",
       "  <tbody>\n",
       "    <tr>\n",
       "      <th>a</th>\n",
       "      <td>Ajoke</td>\n",
       "      <td>24.0</td>\n",
       "      <td>Nigeria</td>\n",
       "      <td>Dog</td>\n",
       "    </tr>\n",
       "    <tr>\n",
       "      <th>b</th>\n",
       "      <td>Chidinma</td>\n",
       "      <td>65.0</td>\n",
       "      <td>China</td>\n",
       "      <td>Cat</td>\n",
       "    </tr>\n",
       "    <tr>\n",
       "      <th>c</th>\n",
       "      <td>Femi</td>\n",
       "      <td>35.0</td>\n",
       "      <td>NaN</td>\n",
       "      <td>Lion</td>\n",
       "    </tr>\n",
       "    <tr>\n",
       "      <th>d</th>\n",
       "      <td>Tomi</td>\n",
       "      <td>NaN</td>\n",
       "      <td>Canada</td>\n",
       "      <td>Kangaroo</td>\n",
       "    </tr>\n",
       "    <tr>\n",
       "      <th>e</th>\n",
       "      <td>Seun</td>\n",
       "      <td>56.0</td>\n",
       "      <td>China</td>\n",
       "      <td>Goat</td>\n",
       "    </tr>\n",
       "  </tbody>\n",
       "</table>\n",
       "</div>"
      ],
      "text/plain": [
       "       Name   Age  Country    Animal\n",
       "a     Ajoke  24.0  Nigeria       Dog\n",
       "b  Chidinma  65.0    China       Cat\n",
       "c      Femi  35.0      NaN      Lion\n",
       "d      Tomi   NaN   Canada  Kangaroo\n",
       "e      Seun  56.0    China      Goat"
      ]
     },
     "execution_count": 24,
     "metadata": {},
     "output_type": "execute_result"
    }
   ],
   "source": [
    "df.set_axis(['a', 'b', 'c', 'd','e'], axis=0)"
   ]
  },
  {
   "cell_type": "markdown",
   "id": "352ebb94",
   "metadata": {},
   "source": [
    "6. **drop()**"
   ]
  },
  {
   "cell_type": "code",
   "execution_count": 25,
   "id": "cc614205",
   "metadata": {},
   "outputs": [
    {
     "data": {
      "text/html": [
       "<div>\n",
       "<style scoped>\n",
       "    .dataframe tbody tr th:only-of-type {\n",
       "        vertical-align: middle;\n",
       "    }\n",
       "\n",
       "    .dataframe tbody tr th {\n",
       "        vertical-align: top;\n",
       "    }\n",
       "\n",
       "    .dataframe thead th {\n",
       "        text-align: right;\n",
       "    }\n",
       "</style>\n",
       "<table border=\"1\" class=\"dataframe\">\n",
       "  <thead>\n",
       "    <tr style=\"text-align: right;\">\n",
       "      <th></th>\n",
       "      <th>Name</th>\n",
       "      <th>Country</th>\n",
       "      <th>Animal</th>\n",
       "    </tr>\n",
       "  </thead>\n",
       "  <tbody>\n",
       "    <tr>\n",
       "      <th>0</th>\n",
       "      <td>Ajoke</td>\n",
       "      <td>Nigeria</td>\n",
       "      <td>Dog</td>\n",
       "    </tr>\n",
       "    <tr>\n",
       "      <th>1</th>\n",
       "      <td>Chidinma</td>\n",
       "      <td>China</td>\n",
       "      <td>Cat</td>\n",
       "    </tr>\n",
       "    <tr>\n",
       "      <th>2</th>\n",
       "      <td>Femi</td>\n",
       "      <td>NaN</td>\n",
       "      <td>Lion</td>\n",
       "    </tr>\n",
       "    <tr>\n",
       "      <th>3</th>\n",
       "      <td>Tomi</td>\n",
       "      <td>Canada</td>\n",
       "      <td>Kangaroo</td>\n",
       "    </tr>\n",
       "    <tr>\n",
       "      <th>4</th>\n",
       "      <td>Seun</td>\n",
       "      <td>China</td>\n",
       "      <td>Goat</td>\n",
       "    </tr>\n",
       "  </tbody>\n",
       "</table>\n",
       "</div>"
      ],
      "text/plain": [
       "       Name  Country    Animal\n",
       "0     Ajoke  Nigeria       Dog\n",
       "1  Chidinma    China       Cat\n",
       "2      Femi      NaN      Lion\n",
       "3      Tomi   Canada  Kangaroo\n",
       "4      Seun    China      Goat"
      ]
     },
     "execution_count": 25,
     "metadata": {},
     "output_type": "execute_result"
    }
   ],
   "source": [
    "df.drop(['Age'], axis=1)"
   ]
  },
  {
   "cell_type": "markdown",
   "id": "b7cf6c8c",
   "metadata": {},
   "source": [
    "7. **dropna()**"
   ]
  },
  {
   "cell_type": "code",
   "execution_count": 26,
   "id": "cee60b80",
   "metadata": {},
   "outputs": [
    {
     "data": {
      "text/html": [
       "<div>\n",
       "<style scoped>\n",
       "    .dataframe tbody tr th:only-of-type {\n",
       "        vertical-align: middle;\n",
       "    }\n",
       "\n",
       "    .dataframe tbody tr th {\n",
       "        vertical-align: top;\n",
       "    }\n",
       "\n",
       "    .dataframe thead th {\n",
       "        text-align: right;\n",
       "    }\n",
       "</style>\n",
       "<table border=\"1\" class=\"dataframe\">\n",
       "  <thead>\n",
       "    <tr style=\"text-align: right;\">\n",
       "      <th></th>\n",
       "      <th>Name</th>\n",
       "      <th>Age</th>\n",
       "      <th>Country</th>\n",
       "      <th>Animal</th>\n",
       "    </tr>\n",
       "  </thead>\n",
       "  <tbody>\n",
       "    <tr>\n",
       "      <th>0</th>\n",
       "      <td>Ajoke</td>\n",
       "      <td>24.0</td>\n",
       "      <td>Nigeria</td>\n",
       "      <td>Dog</td>\n",
       "    </tr>\n",
       "    <tr>\n",
       "      <th>1</th>\n",
       "      <td>Chidinma</td>\n",
       "      <td>65.0</td>\n",
       "      <td>China</td>\n",
       "      <td>Cat</td>\n",
       "    </tr>\n",
       "    <tr>\n",
       "      <th>4</th>\n",
       "      <td>Seun</td>\n",
       "      <td>56.0</td>\n",
       "      <td>China</td>\n",
       "      <td>Goat</td>\n",
       "    </tr>\n",
       "  </tbody>\n",
       "</table>\n",
       "</div>"
      ],
      "text/plain": [
       "       Name   Age  Country Animal\n",
       "0     Ajoke  24.0  Nigeria    Dog\n",
       "1  Chidinma  65.0    China    Cat\n",
       "4      Seun  56.0    China   Goat"
      ]
     },
     "execution_count": 26,
     "metadata": {},
     "output_type": "execute_result"
    }
   ],
   "source": [
    "df.dropna()"
   ]
  },
  {
   "cell_type": "markdown",
   "id": "4653ab71",
   "metadata": {},
   "source": [
    "8. **sort_values()**"
   ]
  },
  {
   "cell_type": "code",
   "execution_count": 27,
   "id": "c2a937d1",
   "metadata": {},
   "outputs": [
    {
     "data": {
      "text/html": [
       "<div>\n",
       "<style scoped>\n",
       "    .dataframe tbody tr th:only-of-type {\n",
       "        vertical-align: middle;\n",
       "    }\n",
       "\n",
       "    .dataframe tbody tr th {\n",
       "        vertical-align: top;\n",
       "    }\n",
       "\n",
       "    .dataframe thead th {\n",
       "        text-align: right;\n",
       "    }\n",
       "</style>\n",
       "<table border=\"1\" class=\"dataframe\">\n",
       "  <thead>\n",
       "    <tr style=\"text-align: right;\">\n",
       "      <th></th>\n",
       "      <th>Name</th>\n",
       "      <th>Age</th>\n",
       "      <th>Country</th>\n",
       "      <th>Animal</th>\n",
       "    </tr>\n",
       "  </thead>\n",
       "  <tbody>\n",
       "    <tr>\n",
       "      <th>3</th>\n",
       "      <td>Tomi</td>\n",
       "      <td>NaN</td>\n",
       "      <td>Canada</td>\n",
       "      <td>Kangaroo</td>\n",
       "    </tr>\n",
       "    <tr>\n",
       "      <th>1</th>\n",
       "      <td>Chidinma</td>\n",
       "      <td>65.0</td>\n",
       "      <td>China</td>\n",
       "      <td>Cat</td>\n",
       "    </tr>\n",
       "    <tr>\n",
       "      <th>4</th>\n",
       "      <td>Seun</td>\n",
       "      <td>56.0</td>\n",
       "      <td>China</td>\n",
       "      <td>Goat</td>\n",
       "    </tr>\n",
       "    <tr>\n",
       "      <th>0</th>\n",
       "      <td>Ajoke</td>\n",
       "      <td>24.0</td>\n",
       "      <td>Nigeria</td>\n",
       "      <td>Dog</td>\n",
       "    </tr>\n",
       "    <tr>\n",
       "      <th>2</th>\n",
       "      <td>Femi</td>\n",
       "      <td>35.0</td>\n",
       "      <td>NaN</td>\n",
       "      <td>Lion</td>\n",
       "    </tr>\n",
       "  </tbody>\n",
       "</table>\n",
       "</div>"
      ],
      "text/plain": [
       "       Name   Age  Country    Animal\n",
       "3      Tomi   NaN   Canada  Kangaroo\n",
       "1  Chidinma  65.0    China       Cat\n",
       "4      Seun  56.0    China      Goat\n",
       "0     Ajoke  24.0  Nigeria       Dog\n",
       "2      Femi  35.0      NaN      Lion"
      ]
     },
     "execution_count": 27,
     "metadata": {},
     "output_type": "execute_result"
    }
   ],
   "source": [
    "df.sort_values(by='Country')"
   ]
  },
  {
   "cell_type": "markdown",
   "id": "92ff28c4",
   "metadata": {},
   "source": [
    "9. **drop_duplicates()**"
   ]
  },
  {
   "cell_type": "code",
   "execution_count": 28,
   "id": "4d09cce9",
   "metadata": {},
   "outputs": [
    {
     "data": {
      "text/html": [
       "<div>\n",
       "<style scoped>\n",
       "    .dataframe tbody tr th:only-of-type {\n",
       "        vertical-align: middle;\n",
       "    }\n",
       "\n",
       "    .dataframe tbody tr th {\n",
       "        vertical-align: top;\n",
       "    }\n",
       "\n",
       "    .dataframe thead th {\n",
       "        text-align: right;\n",
       "    }\n",
       "</style>\n",
       "<table border=\"1\" class=\"dataframe\">\n",
       "  <thead>\n",
       "    <tr style=\"text-align: right;\">\n",
       "      <th></th>\n",
       "      <th>Name</th>\n",
       "      <th>Age</th>\n",
       "      <th>Country</th>\n",
       "      <th>Animal</th>\n",
       "    </tr>\n",
       "  </thead>\n",
       "  <tbody>\n",
       "    <tr>\n",
       "      <th>0</th>\n",
       "      <td>Ajoke</td>\n",
       "      <td>24.0</td>\n",
       "      <td>Nigeria</td>\n",
       "      <td>Dog</td>\n",
       "    </tr>\n",
       "    <tr>\n",
       "      <th>1</th>\n",
       "      <td>Chidinma</td>\n",
       "      <td>65.0</td>\n",
       "      <td>China</td>\n",
       "      <td>Cat</td>\n",
       "    </tr>\n",
       "    <tr>\n",
       "      <th>2</th>\n",
       "      <td>Femi</td>\n",
       "      <td>35.0</td>\n",
       "      <td>NaN</td>\n",
       "      <td>Lion</td>\n",
       "    </tr>\n",
       "    <tr>\n",
       "      <th>3</th>\n",
       "      <td>Tomi</td>\n",
       "      <td>NaN</td>\n",
       "      <td>Canada</td>\n",
       "      <td>Kangaroo</td>\n",
       "    </tr>\n",
       "    <tr>\n",
       "      <th>4</th>\n",
       "      <td>Seun</td>\n",
       "      <td>56.0</td>\n",
       "      <td>China</td>\n",
       "      <td>Goat</td>\n",
       "    </tr>\n",
       "  </tbody>\n",
       "</table>\n",
       "</div>"
      ],
      "text/plain": [
       "       Name   Age  Country    Animal\n",
       "0     Ajoke  24.0  Nigeria       Dog\n",
       "1  Chidinma  65.0    China       Cat\n",
       "2      Femi  35.0      NaN      Lion\n",
       "3      Tomi   NaN   Canada  Kangaroo\n",
       "4      Seun  56.0    China      Goat"
      ]
     },
     "execution_count": 28,
     "metadata": {},
     "output_type": "execute_result"
    }
   ],
   "source": [
    "df.drop_duplicates()"
   ]
  },
  {
   "cell_type": "markdown",
   "id": "86426b23",
   "metadata": {},
   "source": [
    "10. **describe()**"
   ]
  },
  {
   "cell_type": "code",
   "execution_count": 29,
   "id": "485880c7",
   "metadata": {},
   "outputs": [
    {
     "data": {
      "text/html": [
       "<div>\n",
       "<style scoped>\n",
       "    .dataframe tbody tr th:only-of-type {\n",
       "        vertical-align: middle;\n",
       "    }\n",
       "\n",
       "    .dataframe tbody tr th {\n",
       "        vertical-align: top;\n",
       "    }\n",
       "\n",
       "    .dataframe thead th {\n",
       "        text-align: right;\n",
       "    }\n",
       "</style>\n",
       "<table border=\"1\" class=\"dataframe\">\n",
       "  <thead>\n",
       "    <tr style=\"text-align: right;\">\n",
       "      <th></th>\n",
       "      <th>Age</th>\n",
       "    </tr>\n",
       "  </thead>\n",
       "  <tbody>\n",
       "    <tr>\n",
       "      <th>count</th>\n",
       "      <td>4.000000</td>\n",
       "    </tr>\n",
       "    <tr>\n",
       "      <th>mean</th>\n",
       "      <td>45.000000</td>\n",
       "    </tr>\n",
       "    <tr>\n",
       "      <th>std</th>\n",
       "      <td>18.814888</td>\n",
       "    </tr>\n",
       "    <tr>\n",
       "      <th>min</th>\n",
       "      <td>24.000000</td>\n",
       "    </tr>\n",
       "    <tr>\n",
       "      <th>25%</th>\n",
       "      <td>32.250000</td>\n",
       "    </tr>\n",
       "    <tr>\n",
       "      <th>50%</th>\n",
       "      <td>45.500000</td>\n",
       "    </tr>\n",
       "    <tr>\n",
       "      <th>75%</th>\n",
       "      <td>58.250000</td>\n",
       "    </tr>\n",
       "    <tr>\n",
       "      <th>max</th>\n",
       "      <td>65.000000</td>\n",
       "    </tr>\n",
       "  </tbody>\n",
       "</table>\n",
       "</div>"
      ],
      "text/plain": [
       "             Age\n",
       "count   4.000000\n",
       "mean   45.000000\n",
       "std    18.814888\n",
       "min    24.000000\n",
       "25%    32.250000\n",
       "50%    45.500000\n",
       "75%    58.250000\n",
       "max    65.000000"
      ]
     },
     "execution_count": 29,
     "metadata": {},
     "output_type": "execute_result"
    }
   ],
   "source": [
    "df.describe()"
   ]
  },
  {
   "cell_type": "markdown",
   "id": "81282faa",
   "metadata": {},
   "source": [
    "11. **value_counts()**"
   ]
  },
  {
   "cell_type": "code",
   "execution_count": 30,
   "id": "c4e72409",
   "metadata": {},
   "outputs": [
    {
     "data": {
      "text/plain": [
       "China      2\n",
       "Nigeria    1\n",
       "Canada     1\n",
       "Name: Country, dtype: int64"
      ]
     },
     "execution_count": 30,
     "metadata": {},
     "output_type": "execute_result"
    }
   ],
   "source": [
    "df['Country'].value_counts()"
   ]
  },
  {
   "cell_type": "markdown",
   "id": "ebd4b44d",
   "metadata": {},
   "source": [
    "12. **replace()**"
   ]
  },
  {
   "cell_type": "code",
   "execution_count": 31,
   "id": "e2ddf169",
   "metadata": {},
   "outputs": [
    {
     "data": {
      "text/html": [
       "<div>\n",
       "<style scoped>\n",
       "    .dataframe tbody tr th:only-of-type {\n",
       "        vertical-align: middle;\n",
       "    }\n",
       "\n",
       "    .dataframe tbody tr th {\n",
       "        vertical-align: top;\n",
       "    }\n",
       "\n",
       "    .dataframe thead th {\n",
       "        text-align: right;\n",
       "    }\n",
       "</style>\n",
       "<table border=\"1\" class=\"dataframe\">\n",
       "  <thead>\n",
       "    <tr style=\"text-align: right;\">\n",
       "      <th></th>\n",
       "      <th>Name</th>\n",
       "      <th>Age</th>\n",
       "      <th>Country</th>\n",
       "      <th>Animal</th>\n",
       "    </tr>\n",
       "  </thead>\n",
       "  <tbody>\n",
       "    <tr>\n",
       "      <th>0</th>\n",
       "      <td>Ajoke</td>\n",
       "      <td>24.0</td>\n",
       "      <td>Nigeria</td>\n",
       "      <td>Dog</td>\n",
       "    </tr>\n",
       "    <tr>\n",
       "      <th>1</th>\n",
       "      <td>Chidinma</td>\n",
       "      <td>65.0</td>\n",
       "      <td>China</td>\n",
       "      <td>Cat</td>\n",
       "    </tr>\n",
       "    <tr>\n",
       "      <th>2</th>\n",
       "      <td>Femi</td>\n",
       "      <td>35.0</td>\n",
       "      <td>0</td>\n",
       "      <td>Lion</td>\n",
       "    </tr>\n",
       "    <tr>\n",
       "      <th>3</th>\n",
       "      <td>Tomi</td>\n",
       "      <td>0.0</td>\n",
       "      <td>Canada</td>\n",
       "      <td>Kangaroo</td>\n",
       "    </tr>\n",
       "    <tr>\n",
       "      <th>4</th>\n",
       "      <td>Seun</td>\n",
       "      <td>56.0</td>\n",
       "      <td>China</td>\n",
       "      <td>Goat</td>\n",
       "    </tr>\n",
       "  </tbody>\n",
       "</table>\n",
       "</div>"
      ],
      "text/plain": [
       "       Name   Age  Country    Animal\n",
       "0     Ajoke  24.0  Nigeria       Dog\n",
       "1  Chidinma  65.0    China       Cat\n",
       "2      Femi  35.0        0      Lion\n",
       "3      Tomi   0.0   Canada  Kangaroo\n",
       "4      Seun  56.0    China      Goat"
      ]
     },
     "execution_count": 31,
     "metadata": {},
     "output_type": "execute_result"
    }
   ],
   "source": [
    "df.replace(np.nan, 0)"
   ]
  },
  {
   "cell_type": "markdown",
   "id": "ae29e171",
   "metadata": {},
   "source": [
    "13. **rename()**"
   ]
  },
  {
   "cell_type": "code",
   "execution_count": 32,
   "id": "a1e2bef2",
   "metadata": {},
   "outputs": [
    {
     "data": {
      "text/html": [
       "<div>\n",
       "<style scoped>\n",
       "    .dataframe tbody tr th:only-of-type {\n",
       "        vertical-align: middle;\n",
       "    }\n",
       "\n",
       "    .dataframe tbody tr th {\n",
       "        vertical-align: top;\n",
       "    }\n",
       "\n",
       "    .dataframe thead th {\n",
       "        text-align: right;\n",
       "    }\n",
       "</style>\n",
       "<table border=\"1\" class=\"dataframe\">\n",
       "  <thead>\n",
       "    <tr style=\"text-align: right;\">\n",
       "      <th></th>\n",
       "      <th>First_Name</th>\n",
       "      <th>Age</th>\n",
       "      <th>Country</th>\n",
       "      <th>Animal</th>\n",
       "    </tr>\n",
       "  </thead>\n",
       "  <tbody>\n",
       "    <tr>\n",
       "      <th>0</th>\n",
       "      <td>Ajoke</td>\n",
       "      <td>24.0</td>\n",
       "      <td>Nigeria</td>\n",
       "      <td>Dog</td>\n",
       "    </tr>\n",
       "    <tr>\n",
       "      <th>1</th>\n",
       "      <td>Chidinma</td>\n",
       "      <td>65.0</td>\n",
       "      <td>China</td>\n",
       "      <td>Cat</td>\n",
       "    </tr>\n",
       "    <tr>\n",
       "      <th>2</th>\n",
       "      <td>Femi</td>\n",
       "      <td>35.0</td>\n",
       "      <td>NaN</td>\n",
       "      <td>Lion</td>\n",
       "    </tr>\n",
       "    <tr>\n",
       "      <th>3</th>\n",
       "      <td>Tomi</td>\n",
       "      <td>NaN</td>\n",
       "      <td>Canada</td>\n",
       "      <td>Kangaroo</td>\n",
       "    </tr>\n",
       "    <tr>\n",
       "      <th>4</th>\n",
       "      <td>Seun</td>\n",
       "      <td>56.0</td>\n",
       "      <td>China</td>\n",
       "      <td>Goat</td>\n",
       "    </tr>\n",
       "  </tbody>\n",
       "</table>\n",
       "</div>"
      ],
      "text/plain": [
       "  First_Name   Age  Country    Animal\n",
       "0      Ajoke  24.0  Nigeria       Dog\n",
       "1   Chidinma  65.0    China       Cat\n",
       "2       Femi  35.0      NaN      Lion\n",
       "3       Tomi   NaN   Canada  Kangaroo\n",
       "4       Seun  56.0    China      Goat"
      ]
     },
     "execution_count": 32,
     "metadata": {},
     "output_type": "execute_result"
    }
   ],
   "source": [
    "df.rename({'Name':'First_Name'},axis=1)"
   ]
  },
  {
   "cell_type": "markdown",
   "id": "994bd49b",
   "metadata": {},
   "source": [
    "14. **count()**"
   ]
  },
  {
   "cell_type": "code",
   "execution_count": 33,
   "id": "ca0229b9",
   "metadata": {},
   "outputs": [
    {
     "data": {
      "text/plain": [
       "4"
      ]
     },
     "execution_count": 33,
     "metadata": {},
     "output_type": "execute_result"
    }
   ],
   "source": [
    "df['Country'].count()"
   ]
  },
  {
   "cell_type": "markdown",
   "id": "3f6a9940",
   "metadata": {},
   "source": [
    "15. **pivot_table()**"
   ]
  },
  {
   "cell_type": "code",
   "execution_count": 34,
   "id": "9d1630a4",
   "metadata": {},
   "outputs": [
    {
     "data": {
      "text/html": [
       "<div>\n",
       "<style scoped>\n",
       "    .dataframe tbody tr th:only-of-type {\n",
       "        vertical-align: middle;\n",
       "    }\n",
       "\n",
       "    .dataframe tbody tr th {\n",
       "        vertical-align: top;\n",
       "    }\n",
       "\n",
       "    .dataframe thead th {\n",
       "        text-align: right;\n",
       "    }\n",
       "</style>\n",
       "<table border=\"1\" class=\"dataframe\">\n",
       "  <thead>\n",
       "    <tr style=\"text-align: right;\">\n",
       "      <th>Country</th>\n",
       "      <th>China</th>\n",
       "      <th>Nigeria</th>\n",
       "    </tr>\n",
       "    <tr>\n",
       "      <th>Name</th>\n",
       "      <th></th>\n",
       "      <th></th>\n",
       "    </tr>\n",
       "  </thead>\n",
       "  <tbody>\n",
       "    <tr>\n",
       "      <th>Ajoke</th>\n",
       "      <td>NaN</td>\n",
       "      <td>24.0</td>\n",
       "    </tr>\n",
       "    <tr>\n",
       "      <th>Chidinma</th>\n",
       "      <td>65.0</td>\n",
       "      <td>NaN</td>\n",
       "    </tr>\n",
       "    <tr>\n",
       "      <th>Seun</th>\n",
       "      <td>56.0</td>\n",
       "      <td>NaN</td>\n",
       "    </tr>\n",
       "  </tbody>\n",
       "</table>\n",
       "</div>"
      ],
      "text/plain": [
       "Country   China  Nigeria\n",
       "Name                    \n",
       "Ajoke       NaN     24.0\n",
       "Chidinma   65.0      NaN\n",
       "Seun       56.0      NaN"
      ]
     },
     "execution_count": 34,
     "metadata": {},
     "output_type": "execute_result"
    }
   ],
   "source": [
    "df.pivot_table(index='Name', columns='Country', values='Age')"
   ]
  },
  {
   "cell_type": "markdown",
   "id": "a136302a",
   "metadata": {},
   "source": [
    "16. **shape**"
   ]
  },
  {
   "cell_type": "code",
   "execution_count": 35,
   "id": "3afe6236",
   "metadata": {},
   "outputs": [
    {
     "data": {
      "text/plain": [
       "(5, 4)"
      ]
     },
     "execution_count": 35,
     "metadata": {},
     "output_type": "execute_result"
    }
   ],
   "source": [
    "df.shape"
   ]
  },
  {
   "cell_type": "markdown",
   "id": "b7bfe363",
   "metadata": {},
   "source": [
    "17. **dtypes**"
   ]
  },
  {
   "cell_type": "code",
   "execution_count": 36,
   "id": "45584bf0",
   "metadata": {},
   "outputs": [
    {
     "data": {
      "text/plain": [
       "Name        object\n",
       "Age        float64\n",
       "Country     object\n",
       "Animal      object\n",
       "dtype: object"
      ]
     },
     "execution_count": 36,
     "metadata": {},
     "output_type": "execute_result"
    }
   ],
   "source": [
    "df.dtypes"
   ]
  },
  {
   "cell_type": "markdown",
   "id": "d7c3bf4a",
   "metadata": {},
   "source": [
    "18. **unique()**"
   ]
  },
  {
   "cell_type": "code",
   "execution_count": 37,
   "id": "1ce259a9",
   "metadata": {},
   "outputs": [
    {
     "data": {
      "text/plain": [
       "array(['Nigeria', 'China', nan, 'Canada'], dtype=object)"
      ]
     },
     "execution_count": 37,
     "metadata": {},
     "output_type": "execute_result"
    }
   ],
   "source": [
    "df['Country'].unique()"
   ]
  },
  {
   "cell_type": "markdown",
   "id": "ef7eab8a",
   "metadata": {},
   "source": [
    "19. **nunique()**"
   ]
  },
  {
   "cell_type": "code",
   "execution_count": 38,
   "id": "efe411e5",
   "metadata": {},
   "outputs": [
    {
     "data": {
      "text/plain": [
       "Name       5\n",
       "Age        4\n",
       "Country    3\n",
       "Animal     5\n",
       "dtype: int64"
      ]
     },
     "execution_count": 38,
     "metadata": {},
     "output_type": "execute_result"
    }
   ],
   "source": [
    "df.nunique()"
   ]
  },
  {
   "cell_type": "markdown",
   "id": "b2d84e84",
   "metadata": {},
   "source": [
    "20. **groupby()**"
   ]
  },
  {
   "cell_type": "code",
   "execution_count": 39,
   "id": "ea6d6980",
   "metadata": {},
   "outputs": [
    {
     "data": {
      "text/plain": [
       "Name      Country\n",
       "Ajoke     Nigeria    1\n",
       "Chidinma  China      1\n",
       "Seun      China      1\n",
       "Tomi      Canada     1\n",
       "Name: Country, dtype: int64"
      ]
     },
     "execution_count": 39,
     "metadata": {},
     "output_type": "execute_result"
    }
   ],
   "source": [
    "df.groupby('Name')['Country'].value_counts()"
   ]
  },
  {
   "cell_type": "code",
   "execution_count": null,
   "id": "f514b9a7",
   "metadata": {},
   "outputs": [],
   "source": []
  }
 ],
 "metadata": {
  "kernelspec": {
   "display_name": "Python 3",
   "language": "python",
   "name": "python3"
  },
  "language_info": {
   "codemirror_mode": {
    "name": "ipython",
    "version": 3
   },
   "file_extension": ".py",
   "mimetype": "text/x-python",
   "name": "python",
   "nbconvert_exporter": "python",
   "pygments_lexer": "ipython3",
   "version": "3.8.8"
  }
 },
 "nbformat": 4,
 "nbformat_minor": 5
}
