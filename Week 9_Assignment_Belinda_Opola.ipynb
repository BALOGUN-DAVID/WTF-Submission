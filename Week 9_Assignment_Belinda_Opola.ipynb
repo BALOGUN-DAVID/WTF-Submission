{
 "cells": [
  {
   "cell_type": "markdown",
   "metadata": {},
   "source": [
    "### WTF/23/DS/A/051: Belinda Opola "
   ]
  },
  {
   "cell_type": "markdown",
   "metadata": {},
   "source": [
    "_Python Assignment: Tuesday, October 11, 2022_"
   ]
  },
  {
   "cell_type": "markdown",
   "metadata": {},
   "source": [
    "1 -- Print all elements of a list using for loop"
   ]
  },
  {
   "cell_type": "code",
   "execution_count": 11,
   "metadata": {},
   "outputs": [
    {
     "name": "stdout",
     "output_type": "stream",
     "text": [
      "Opola\n",
      "Akinyi\n",
      "Belinda\n"
     ]
    }
   ],
   "source": [
    "my_name = ['Opola', 'Akinyi', 'Belinda']\n",
    "i = 0\n",
    "for i in range (i, len(my_name)):\n",
    "    print(my_name[i])"
   ]
  },
  {
   "cell_type": "markdown",
   "metadata": {},
   "source": [
    "2 -- A company decided to give bonus of 5% to employee if his/her year of service is more than 5 years. Ask user for their salary and year of service and print the net bonus amount. "
   ]
  },
  {
   "cell_type": "code",
   "execution_count": 14,
   "metadata": {},
   "outputs": [
    {
     "name": "stdout",
     "output_type": "stream",
     "text": [
      "Please enter your salary amount:2000\n",
      "Please enter number of years in service:8\n",
      "100.0\n"
     ]
    }
   ],
   "source": [
    "salary = int(input('Please enter your salary amount:'))\n",
    "years = int(input('Please enter number of years in service:'))\n",
    "\n",
    "if years > 5:\n",
    "    bonus = salary * 0.05\n",
    "    print(bonus)\n",
    "else:\n",
    "    print('Sorry, no bonus for now')\n"
   ]
  },
  {
   "cell_type": "markdown",
   "metadata": {},
   "source": [
    "3 -- Take input of age of 3 people by user and determine oldest and youngest among them. "
   ]
  },
  {
   "cell_type": "code",
   "execution_count": 22,
   "metadata": {},
   "outputs": [
    {
     "name": "stdout",
     "output_type": "stream",
     "text": [
      "Enter first person's age:70\n",
      "Enter first person's age:10\n",
      "Enter first person's age:60\n",
      "The youngest person is 10 and the oldest person is 70\n"
     ]
    }
   ],
   "source": [
    "x = int(input('Enter first person\\'s age:'))\n",
    "y = int(input('Enter first person\\'s age:'))\n",
    "z = int(input('Enter first person\\'s age:'))\n",
    "age = [x,y,z]\n",
    "\n",
    "#this function evaluates the youngest\n",
    "def youngest(age):\n",
    "    min = age[0]\n",
    "    for a in age:\n",
    "        if a < min:\n",
    "            min = a\n",
    "    return min\n",
    "\n",
    "#this function evaluates the oldest       \n",
    "def oldest(age):\n",
    "    max = age[0]\n",
    "    for b in age:\n",
    "        if b > max:\n",
    "            max = b\n",
    "    return max\n",
    "print('The youngest person is', youngest(age), 'and the oldest person is', oldest(age))        \n",
    "\n"
   ]
  },
  {
   "cell_type": "markdown",
   "metadata": {},
   "source": [
    "4 -- A school has following rules for grading system: \n",
    "\n",
    "        a. Below 25 - F \n",
    "        b. 25 to 45 - E \n",
    "        c. 45 to 50 - D \n",
    "        d. 50 to 60 - C \n",
    "        e. 60 to 80 - B \n",
    "        f. Above 80 - A \n",
    "Ask user to enter marks and print the corresponding grade."
   ]
  },
  {
   "cell_type": "code",
   "execution_count": 29,
   "metadata": {},
   "outputs": [
    {
     "name": "stdout",
     "output_type": "stream",
     "text": [
      "Please enter your marks:60\n",
      "Grade B\n"
     ]
    }
   ],
   "source": [
    "marks = int(input('Please enter your marks:'))\n",
    "\n",
    "if marks < 25:\n",
    "    print('Grade F')\n",
    "elif marks >= 25 and marks < 45:\n",
    "    print('Grade E')\n",
    "elif marks >= 45 and marks < 50:\n",
    "    print('Grade D')\n",
    "elif marks >= 50 and marks < 60:\n",
    "    print('Grade C')\n",
    "elif marks >= 60 and marks < 80:\n",
    "    print('Grade B')\n",
    "elif marks >= 80 and marks <= 100:\n",
    "    print('Grade A')\n",
    "else:\n",
    "    print('Out of range')"
   ]
  },
  {
   "cell_type": "markdown",
   "metadata": {},
   "source": [
    "6 -- Write a Python script to merge two Python dictionaries "
   ]
  },
  {
   "cell_type": "code",
   "execution_count": 31,
   "metadata": {},
   "outputs": [
    {
     "name": "stdout",
     "output_type": "stream",
     "text": [
      "{'brand': 'VW', 'model': 'Golf', 'country': 'Germany', 'year': 1974}\n"
     ]
    }
   ],
   "source": [
    "car = {\n",
    "  \"brand\": \"VW\",\n",
    "  \"model\": \"Golf\"\n",
    "}\n",
    "\n",
    "origin = {\n",
    "  \"country\": \"Germany\",\n",
    "  \"year\": 1974\n",
    "}\n",
    "\n",
    "car_origin = car.copy()\n",
    "car_origin.update(origin)\n",
    "print(car_origin)"
   ]
  },
  {
   "cell_type": "markdown",
   "metadata": {},
   "source": [
    "7 -- Write a python program to get the largest number from a list "
   ]
  },
  {
   "cell_type": "code",
   "execution_count": 33,
   "metadata": {},
   "outputs": [
    {
     "name": "stdout",
     "output_type": "stream",
     "text": [
      "The largest number is: 780009\n"
     ]
    }
   ],
   "source": [
    "numbers = [1000, 34, 780009, 56909, 98777, 56]\n",
    "largest = max(numbers)\n",
    "print('The largest number is:', largest)"
   ]
  },
  {
   "cell_type": "markdown",
   "metadata": {},
   "source": [
    "8 -- Write a python program to remove a key from a dictionary"
   ]
  },
  {
   "cell_type": "code",
   "execution_count": 32,
   "metadata": {},
   "outputs": [
    {
     "name": "stdout",
     "output_type": "stream",
     "text": [
      "{'brand': 'VW', 'model': 'Golf', 'country': 'Germany'}\n"
     ]
    }
   ],
   "source": [
    "car = {'brand': 'VW', \n",
    "       'model': 'Golf', \n",
    "       'country': 'Germany', \n",
    "       'year': 1974}\n",
    "del car['year']\n",
    "print(car)"
   ]
  }
 ],
 "metadata": {
  "kernelspec": {
   "display_name": "Python 3",
   "language": "python",
   "name": "python3"
  },
  "language_info": {
   "codemirror_mode": {
    "name": "ipython",
    "version": 3
   },
   "file_extension": ".py",
   "mimetype": "text/x-python",
   "name": "python",
   "nbconvert_exporter": "python",
   "pygments_lexer": "ipython3",
   "version": "3.6.2"
  },
  "vscode": {
   "interpreter": {
    "hash": "0a54084e6b208ee8d1ce3989ffc20924477a5f55f5a43e22e699a6741623861e"
   }
  }
 },
 "nbformat": 4,
 "nbformat_minor": 5
}
