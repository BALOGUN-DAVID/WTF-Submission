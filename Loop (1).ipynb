{
 "cells": [
  {
   "cell_type": "markdown",
   "id": "22b49e51",
   "metadata": {},
   "source": [
    "What is Loop? \n",
    "In computer programming, a loop is a sequence of instruction s that is continually repeated until a certain condition is reached. \n",
    "Typically, a certain process is done, such as getting an item of data and changing it,\n",
    "and then some condition is checked such as whether a counter has reached a prescribed number."
   ]
  },
  {
   "cell_type": "code",
   "execution_count": 3,
   "id": "7e802c10",
   "metadata": {},
   "outputs": [
    {
     "name": "stdout",
     "output_type": "stream",
     "text": [
      "Hello world\n"
     ]
    }
   ],
   "source": [
    "print(\"Hello world\")"
   ]
  },
  {
   "cell_type": "code",
   "execution_count": 11,
   "id": "4c6d2ac7",
   "metadata": {
    "scrolled": true
   },
   "outputs": [
    {
     "name": "stdout",
     "output_type": "stream",
     "text": [
      "Hello world\n",
      "Hello world\n",
      "Hello world\n",
      "Hello world\n",
      "Hello world\n"
     ]
    }
   ],
   "source": [
    "#ada = ('a','b','c','d)\n",
    "for i in range (5):\n",
    "    print(\"Hello world\")"
   ]
  },
  {
   "cell_type": "code",
   "execution_count": null,
   "id": "b3fb9736",
   "metadata": {},
   "outputs": [],
   "source": []
  },
  {
   "cell_type": "code",
   "execution_count": null,
   "id": "82743707",
   "metadata": {},
   "outputs": [],
   "source": [
    "List =['a,'b','c','d']\n",
    "for i in List\n",
    "    print(\"Hello world\")             #for loop, while loop"
   ]
  },
  {
   "cell_type": "code",
   "execution_count": 11,
   "id": "2df56100",
   "metadata": {},
   "outputs": [
    {
     "name": "stdout",
     "output_type": "stream",
     "text": [
      "Blue\n",
      "Orange\n",
      "purple\n",
      "Grey\n"
     ]
    }
   ],
   "source": [
    "#print each colour in a colour list \n",
    "colour = [\"Blue\", \"Orange\", \"purple\", \"Grey\"]\n",
    "for x in colour:\n",
    "    print(x)"
   ]
  },
  {
   "cell_type": "code",
   "execution_count": 13,
   "id": "71abe4f7",
   "metadata": {},
   "outputs": [
    {
     "name": "stdout",
     "output_type": "stream",
     "text": [
      "Blue\n",
      "Orange\n",
      "purple\n"
     ]
    }
   ],
   "source": [
    "#Break statement with For loop\n",
    "colour = [\"Blue\", \"Orange\", \"purple\", \"Grey\"]\n",
    "for x in colour:\n",
    "    print(x)\n",
    "    if x == \"purple\":\n",
    "        break\n",
    "        print(x)\n"
   ]
  },
  {
   "cell_type": "code",
   "execution_count": 20,
   "id": "70b9e13a",
   "metadata": {},
   "outputs": [
    {
     "name": "stdout",
     "output_type": "stream",
     "text": [
      "Blue\n",
      "Orange\n",
      "purple\n",
      "Grey\n"
     ]
    }
   ],
   "source": [
    "#Continue statemnet with for loop\n",
    "\n",
    "colour = [\"Blue\", \"Orange\", \"purple\", \"Grey\"]\n",
    "for x in colour:\n",
    "    print(x)\n",
    "    if x == \"purple\":\n",
    "        continue\n",
    "        print(x)"
   ]
  },
  {
   "cell_type": "code",
   "execution_count": 21,
   "id": "03568bde",
   "metadata": {},
   "outputs": [
    {
     "name": "stdout",
     "output_type": "stream",
     "text": [
      "current letter\n",
      "current letter\n",
      "current letter\n",
      "current letter\n"
     ]
    }
   ],
   "source": [
    "#python = ('python')\n",
    "for letter in \"python\":\n",
    "    if letter == \"o\":\n",
    "        break \n",
    "    print (\"current letter\")\n",
    "        "
   ]
  },
  {
   "cell_type": "code",
   "execution_count": 23,
   "id": "b509bf09",
   "metadata": {},
   "outputs": [
    {
     "name": "stdout",
     "output_type": "stream",
     "text": [
      "s\n",
      "t\n",
      "r\n",
      "n\n",
      "g\n",
      "The end\n"
     ]
    }
   ],
   "source": [
    "for val in \"string\": \n",
    "    if val == \"i\":\n",
    "        continue\n",
    "    print(val)\n",
    "print(\"The end\")"
   ]
  },
  {
   "cell_type": "code",
   "execution_count": null,
   "id": "533acf63",
   "metadata": {},
   "outputs": [],
   "source": []
  },
  {
   "cell_type": "code",
   "execution_count": 30,
   "id": "d62a947c",
   "metadata": {},
   "outputs": [
    {
     "name": "stdout",
     "output_type": "stream",
     "text": [
      "current variable value \n",
      "current variable value \n",
      "current variable value \n",
      "current variable value \n",
      "current variable value \n",
      "current variable value \n",
      "current variable value \n",
      "Good bye\n"
     ]
    }
   ],
   "source": [
    "var = 10 \n",
    "while var > 0: \n",
    "    print (\"current variable value \")\n",
    "    var =var-1\n",
    "    if var == 5: \n",
    "        break\n",
    "print (\"Good bye\")"
   ]
  },
  {
   "cell_type": "code",
   "execution_count": 36,
   "id": "a03eb0a7",
   "metadata": {},
   "outputs": [
    {
     "name": "stdout",
     "output_type": "stream",
     "text": [
      "2\n",
      "4\n"
     ]
    }
   ],
   "source": [
    "#While loop\n",
    "i = 2\n",
    "while i < 6:\n",
    "    print(i)\n",
    "    i +=2"
   ]
  },
  {
   "cell_type": "code",
   "execution_count": 37,
   "id": "e3107ccf",
   "metadata": {},
   "outputs": [
    {
     "name": "stdout",
     "output_type": "stream",
     "text": [
      "1\n",
      "2\n",
      "3\n"
     ]
    }
   ],
   "source": [
    "#Break statement with while loop\n",
    "i = 1\n",
    "while i < 6:\n",
    "    print(i)\n",
    "    if i ==3:\n",
    "        break\n",
    "    i +=1"
   ]
  },
  {
   "cell_type": "code",
   "execution_count": null,
   "id": "ccc81fb1",
   "metadata": {},
   "outputs": [],
   "source": []
  }
 ],
 "metadata": {
  "kernelspec": {
   "display_name": "Python 3 (ipykernel)",
   "language": "python",
   "name": "python3"
  },
  "language_info": {
   "codemirror_mode": {
    "name": "ipython",
    "version": 3
   },
   "file_extension": ".py",
   "mimetype": "text/x-python",
   "name": "python",
   "nbconvert_exporter": "python",
   "pygments_lexer": "ipython3",
   "version": "3.9.12"
  }
 },
 "nbformat": 4,
 "nbformat_minor": 5
}
