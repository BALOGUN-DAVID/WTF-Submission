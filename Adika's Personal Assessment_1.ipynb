{
 "cells": [
  {
   "cell_type": "code",
   "execution_count": 57,
   "id": "58034b68",
   "metadata": {},
   "outputs": [
    {
     "name": "stdout",
     "output_type": "stream",
     "text": [
      "Adika\n",
      "Amarachi\n",
      "Joy\n",
      "20\n",
      "19.02\n"
     ]
    }
   ],
   "source": [
    "#Print all elements of a list using for loop.\n",
    "\n",
    "aaj = [\"Adika\", \"Amarachi\", \"Joy\", 20, 19.02]\n",
    "for i in aaj:\n",
    "    print (i)"
   ]
  },
  {
   "cell_type": "code",
   "execution_count": 6,
   "id": "91e77d96",
   "metadata": {},
   "outputs": [
    {
     "name": "stdout",
     "output_type": "stream",
     "text": [
      "[2, 4, 6, 8, 10, 12, 14, 16, 18, 20, 22, 24, 26, 28, 30, 32, 34, 36, 38, 40, 42, 44, 46, 48, 50, 52, 54, 56, 58, 60, 62, 64, 66, 68, 70, 72, 74, 76, 78, 80, 82, 84, 86, 88, 90, 92, 94, 96, 98, 100]\n",
      "[1, 3, 5, 7, 9, 11, 13, 15, 17, 19, 21, 23, 25, 27, 29, 31, 33, 35, 37, 39, 41, 43, 45, 47, 49, 51, 53, 55, 57, 59, 61, 63, 65, 67, 69, 71, 73, 75, 77, 79, 81, 83, 85, 87, 89, 91, 93, 95, 97, 99]\n"
     ]
    }
   ],
   "source": [
    "#Using range(1,101), make two list, one containing all even numbers and other containing all odd numbers.\n",
    "\n",
    "A = [i for i in range(1, 101,)]\n",
    "B = [x for x in A if x%2 == 0]\n",
    "C = [x for x in A if x%2 != 0]\n",
    "print (B)\n",
    "print (C)"
   ]
  },
  {
   "cell_type": "code",
   "execution_count": 8,
   "id": "1c54eb5f",
   "metadata": {},
   "outputs": [
    {
     "name": "stdout",
     "output_type": "stream",
     "text": [
      "Enter salary\n",
      "50000\n",
      "Enter year service\n",
      "6\n",
      "Bonus is 2500.0\n"
     ]
    }
   ],
   "source": [
    "#A company decided to give bonus of 5% to employee if his/her year of service is more than 5 years. \n",
    "#Ask user for their salary and year of service and print the net bonus amount.\n",
    "\n",
    "print ('Enter salary')\n",
    "Salary = int(input())\n",
    "print ('Enter year service')\n",
    "YoS = int(input())\n",
    "if YoS >5:\n",
    "    print ('Bonus is', 0.05 * Salary)\n",
    "else:\n",
    "    print ('You are not eligible for bouns')"
   ]
  },
  {
   "cell_type": "code",
   "execution_count": 58,
   "id": "d568e42a",
   "metadata": {},
   "outputs": [
    {
     "name": "stdout",
     "output_type": "stream",
     "text": [
      "Enter age for Adika25\n",
      "Enter age for Amara27\n",
      "Enter age for Joy22\n"
     ]
    }
   ],
   "source": [
    "#Take input of age of 3 people by user and determine oldest and youngest among them.\n",
    "\n",
    "Adika_age = int(input('Enter age for Adika'))\n",
    "Amara_age = int(input('Enter age for Amara'))\n",
    "Joy_age = int(input('Enter age for Joy'))\n"
   ]
  },
  {
   "cell_type": "code",
   "execution_count": 38,
   "id": "10809ab2",
   "metadata": {},
   "outputs": [
    {
     "name": "stdout",
     "output_type": "stream",
     "text": [
      "{'Abia': 'Umuahaia', 'Adamawa': 'Yola', 'Edo': 'Benin', 'Enugu': 'Enugu', 'Imo': 'Owerri', 'Bayelsa': 'Yenogua'}\n"
     ]
    }
   ],
   "source": [
    "#Write a Python script to merge two Python dictionaries\n",
    "\n",
    "States1 = {'Abia':'Umuahaia', 'Adamawa':'Yola', 'Edo':'Benin'}\n",
    "States2 = {'Enugu':'Enugu', 'Imo':'Owerri', 'Bayelsa':'Yenogua'}\n",
    "States = States1.copy()\n",
    "States.update(States2)\n",
    "print(States)"
   ]
  },
  {
   "cell_type": "code",
   "execution_count": 55,
   "id": "0785bb61",
   "metadata": {},
   "outputs": [
    {
     "name": "stdout",
     "output_type": "stream",
     "text": [
      "{'Abia': 'Umuahaia', 'Adamawa': 'Yola', 'Edo': 'Benin', 'Enugu': 'Enugu', 'Imo': 'Owerri', 'Bayelsa': 'Yenogua'}\n",
      "{'Adamawa': 'Yola', 'Edo': 'Benin', 'Enugu': 'Enugu', 'Imo': 'Owerri', 'Bayelsa': 'Yenogua'}\n"
     ]
    }
   ],
   "source": [
    "#Write a Python program to remove a key from a dictionary\n",
    "\n",
    "States\n",
    "print(States)\n",
    "if 'Abia' in States:\n",
    "    del States['Abia']\n",
    "print(States)"
   ]
  },
  {
   "cell_type": "code",
   "execution_count": 56,
   "id": "3e6065af",
   "metadata": {},
   "outputs": [
    {
     "name": "stdout",
     "output_type": "stream",
     "text": [
      "Largest element is: 160\n"
     ]
    }
   ],
   "source": [
    "#Write a Python program to get the largest number from a list\n",
    "\n",
    "num_list = [50, 58, 26, 44, 73, 106, 22, 116, 81, 160, 43, 101]\n",
    "print(\"Largest element is:\", max(num_list))\n"
   ]
  },
  {
   "cell_type": "code",
   "execution_count": null,
   "id": "206cc965",
   "metadata": {},
   "outputs": [],
   "source": []
  }
 ],
 "metadata": {
  "kernelspec": {
   "display_name": "Python 3 (ipykernel)",
   "language": "python",
   "name": "python3"
  },
  "language_info": {
   "codemirror_mode": {
    "name": "ipython",
    "version": 3
   },
   "file_extension": ".py",
   "mimetype": "text/x-python",
   "name": "python",
   "nbconvert_exporter": "python",
   "pygments_lexer": "ipython3",
   "version": "3.9.12"
  }
 },
 "nbformat": 4,
 "nbformat_minor": 5
}
