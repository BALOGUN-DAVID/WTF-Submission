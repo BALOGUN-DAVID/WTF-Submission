{
 "cells": [
  {
   "cell_type": "markdown",
   "id": "33956e8e",
   "metadata": {},
   "source": [
    "Research and write down 20 in built method on pandas and 20 on numpy with examples each.\n"
   ]
  },
  {
   "cell_type": "code",
   "execution_count": 1,
   "id": "730440a3",
   "metadata": {},
   "outputs": [],
   "source": [
    "import numpy as np\n",
    "import pandas as pd\n",
    "import random"
   ]
  },
  {
   "cell_type": "markdown",
   "id": "c1cfa3f2",
   "metadata": {},
   "source": [
    "Numpy Inbuilt Methods"
   ]
  },
  {
   "cell_type": "code",
   "execution_count": 2,
   "id": "4c512c33",
   "metadata": {},
   "outputs": [
    {
     "data": {
      "text/plain": [
       "array([[0, 0, 0, 0, 0, 0],\n",
       "       [0, 0, 0, 0, 0, 0],\n",
       "       [0, 0, 0, 0, 0, 0],\n",
       "       [0, 0, 0, 0, 0, 0],\n",
       "       [0, 0, 0, 0, 0, 0]])"
      ]
     },
     "execution_count": 2,
     "metadata": {},
     "output_type": "execute_result"
    }
   ],
   "source": [
    "#1. zeros() - create arrays of zeros (0)\n",
    "arr_zero =np.zeros((5,6), dtype=int)\n",
    "arr_zero"
   ]
  },
  {
   "cell_type": "code",
   "execution_count": 3,
   "id": "039ba252",
   "metadata": {
    "scrolled": true
   },
   "outputs": [
    {
     "data": {
      "text/plain": [
       "array([[1., 1., 1., 1., 1., 1.],\n",
       "       [1., 1., 1., 1., 1., 1.],\n",
       "       [1., 1., 1., 1., 1., 1.],\n",
       "       [1., 1., 1., 1., 1., 1.],\n",
       "       [1., 1., 1., 1., 1., 1.]])"
      ]
     },
     "execution_count": 3,
     "metadata": {},
     "output_type": "execute_result"
    }
   ],
   "source": [
    "#2. ones() - create arrays of ones (1)\n",
    "arr_ones = np.ones((5,6), dtype=float)\n",
    "arr_ones"
   ]
  },
  {
   "cell_type": "code",
   "execution_count": 4,
   "id": "2b7c4b9f",
   "metadata": {
    "scrolled": true
   },
   "outputs": [
    {
     "data": {
      "text/plain": [
       "array([10, 20, 30, 40, 50, 60, 70])"
      ]
     },
     "execution_count": 4,
     "metadata": {},
     "output_type": "execute_result"
    }
   ],
   "source": [
    "#3. array() - create arrays\n",
    "my_arr = np.array([10, 20, 30, 40, 50, 60, 70])\n",
    "my_arr"
   ]
  },
  {
   "cell_type": "code",
   "execution_count": 5,
   "id": "4f5a4264",
   "metadata": {
    "scrolled": true
   },
   "outputs": [
    {
     "data": {
      "text/plain": [
       "numpy.ndarray"
      ]
     },
     "execution_count": 5,
     "metadata": {},
     "output_type": "execute_result"
    }
   ],
   "source": [
    "#4. type() - shows the type of object in array\n",
    "type(my_arr)"
   ]
  },
  {
   "cell_type": "code",
   "execution_count": 6,
   "id": "bcdfd213",
   "metadata": {
    "scrolled": false
   },
   "outputs": [
    {
     "data": {
      "text/plain": [
       "array([ 10,  20,  30,  40,  50,  60,  70,  80,  90, 100])"
      ]
     },
     "execution_count": 6,
     "metadata": {},
     "output_type": "execute_result"
    }
   ],
   "source": [
    "#5. append() - add new elements to an array\n",
    "new_myarr = np.append(my_arr, [80,90,100])\n",
    "new_myarr"
   ]
  },
  {
   "cell_type": "code",
   "execution_count": 7,
   "id": "2f6ad869",
   "metadata": {
    "scrolled": true
   },
   "outputs": [
    {
     "data": {
      "text/plain": [
       "array([[ 10,  20,  30,  40,  50],\n",
       "       [ 60,  70,  80,  90, 100]])"
      ]
     },
     "execution_count": 7,
     "metadata": {},
     "output_type": "execute_result"
    }
   ],
   "source": [
    "#6. reshape() \n",
    "b_arr = new_myarr.reshape(2,5)\n",
    "b_arr"
   ]
  },
  {
   "cell_type": "code",
   "execution_count": 8,
   "id": "700bd562",
   "metadata": {
    "scrolled": true
   },
   "outputs": [
    {
     "data": {
      "text/plain": [
       "(2, 5)"
      ]
     },
     "execution_count": 8,
     "metadata": {},
     "output_type": "execute_result"
    }
   ],
   "source": [
    "#7. shape()\n",
    "b_arr.shape"
   ]
  },
  {
   "cell_type": "code",
   "execution_count": 9,
   "id": "2a01e8ad",
   "metadata": {
    "scrolled": true
   },
   "outputs": [
    {
     "data": {
      "text/plain": [
       "array([ 0.        ,  0.6122449 ,  1.2244898 ,  1.83673469,  2.44897959,\n",
       "        3.06122449,  3.67346939,  4.28571429,  4.89795918,  5.51020408,\n",
       "        6.12244898,  6.73469388,  7.34693878,  7.95918367,  8.57142857,\n",
       "        9.18367347,  9.79591837, 10.40816327, 11.02040816, 11.63265306,\n",
       "       12.24489796, 12.85714286, 13.46938776, 14.08163265, 14.69387755,\n",
       "       15.30612245, 15.91836735, 16.53061224, 17.14285714, 17.75510204,\n",
       "       18.36734694, 18.97959184, 19.59183673, 20.20408163, 20.81632653,\n",
       "       21.42857143, 22.04081633, 22.65306122, 23.26530612, 23.87755102,\n",
       "       24.48979592, 25.10204082, 25.71428571, 26.32653061, 26.93877551,\n",
       "       27.55102041, 28.16326531, 28.7755102 , 29.3877551 , 30.        ])"
      ]
     },
     "execution_count": 9,
     "metadata": {},
     "output_type": "execute_result"
    }
   ],
   "source": [
    "#8. linspace() - returns evenly spaced numbers inclusive of the range number.\n",
    "l_arr =np.linspace(0, 30, 50)\n",
    "l_arr"
   ]
  },
  {
   "cell_type": "code",
   "execution_count": 10,
   "id": "64a080f2",
   "metadata": {},
   "outputs": [
    {
     "data": {
      "text/plain": [
       "array([ 10,  20,  30,  40,  50,  60,  70,  80,  90, 100, 200, 300, 400,\n",
       "       500, 600])"
      ]
     },
     "execution_count": 10,
     "metadata": {},
     "output_type": "execute_result"
    }
   ],
   "source": [
    "#9. concatenate() - used to join arrays\n",
    "c_arr = np.array([200, 300, 400, 500, 600])\n",
    "\n",
    "arr = np.concatenate((new_myarr, c_arr))\n",
    "arr"
   ]
  },
  {
   "cell_type": "code",
   "execution_count": 11,
   "id": "96b5559e",
   "metadata": {
    "scrolled": true
   },
   "outputs": [
    {
     "data": {
      "text/plain": [
       "600"
      ]
     },
     "execution_count": 11,
     "metadata": {},
     "output_type": "execute_result"
    }
   ],
   "source": [
    "#10. max() - returns maximum element\n",
    "arr.max()"
   ]
  },
  {
   "cell_type": "code",
   "execution_count": 12,
   "id": "b467918a",
   "metadata": {
    "scrolled": true
   },
   "outputs": [
    {
     "data": {
      "text/plain": [
       "10"
      ]
     },
     "execution_count": 12,
     "metadata": {},
     "output_type": "execute_result"
    }
   ],
   "source": [
    "#11. min() - returns minimum element\n",
    "arr.min()"
   ]
  },
  {
   "cell_type": "code",
   "execution_count": 13,
   "id": "b093fb9a",
   "metadata": {
    "scrolled": true
   },
   "outputs": [
    {
     "data": {
      "text/plain": [
       "170.0"
      ]
     },
     "execution_count": 13,
     "metadata": {},
     "output_type": "execute_result"
    }
   ],
   "source": [
    "#12. mean _ returns the mean value of the array set\n",
    "arr.mean()"
   ]
  },
  {
   "cell_type": "code",
   "execution_count": 14,
   "id": "40aa4bd4",
   "metadata": {
    "scrolled": true
   },
   "outputs": [
    {
     "data": {
      "text/plain": [
       "1"
      ]
     },
     "execution_count": 14,
     "metadata": {},
     "output_type": "execute_result"
    }
   ],
   "source": [
    "#13. ndim() - checks the array dimension\n",
    "arr.ndim"
   ]
  },
  {
   "cell_type": "code",
   "execution_count": 15,
   "id": "39665bef",
   "metadata": {},
   "outputs": [
    {
     "data": {
      "text/plain": [
       "array([[10, 20, 30, 40, 50, 60, 70],\n",
       "       [ 1,  2,  3,  4,  5,  6,  7]])"
      ]
     },
     "execution_count": 15,
     "metadata": {},
     "output_type": "execute_result"
    }
   ],
   "source": [
    "#14. vstack() - vertical stacking of arrays( also used to join arrays by adding along columns)\n",
    "d_arr = np.array([1,2,3,4,5, 6,7])\n",
    "v_arr = np.vstack((my_arr, d_arr))\n",
    "v_arr"
   ]
  },
  {
   "cell_type": "code",
   "execution_count": 16,
   "id": "b4bb8647",
   "metadata": {},
   "outputs": [
    {
     "data": {
      "text/plain": [
       "array([[10],\n",
       "       [20],\n",
       "       [30],\n",
       "       [40],\n",
       "       [50],\n",
       "       [60],\n",
       "       [70],\n",
       "       [ 1],\n",
       "       [ 2],\n",
       "       [ 3],\n",
       "       [ 4],\n",
       "       [ 5],\n",
       "       [ 6],\n",
       "       [ 7]])"
      ]
     },
     "execution_count": 16,
     "metadata": {},
     "output_type": "execute_result"
    }
   ],
   "source": [
    "d_arr = np.array([1,2,3,4,5, 6,7])\n",
    "v_arr = np.vstack(((my_arr.reshape(-1,1)), d_arr.reshape(-1, 1)))\n",
    "v_arr"
   ]
  },
  {
   "cell_type": "code",
   "execution_count": 17,
   "id": "f34c7596",
   "metadata": {},
   "outputs": [
    {
     "data": {
      "text/plain": [
       "array([10, 20, 30, 40, 50, 60, 70,  1,  2,  3,  4,  5,  6,  7])"
      ]
     },
     "execution_count": 17,
     "metadata": {},
     "output_type": "execute_result"
    }
   ],
   "source": [
    "#15. hstack() - stacking arrays along rows\n",
    "h_arr = np.hstack((my_arr, d_arr))\n",
    "h_arr"
   ]
  },
  {
   "cell_type": "code",
   "execution_count": 18,
   "id": "cbb7bf2c",
   "metadata": {},
   "outputs": [
    {
     "data": {
      "text/plain": [
       "array([[10,  1],\n",
       "       [20,  2],\n",
       "       [30,  3],\n",
       "       [40,  4],\n",
       "       [50,  5],\n",
       "       [60,  6],\n",
       "       [70,  7]])"
      ]
     },
     "execution_count": 18,
     "metadata": {},
     "output_type": "execute_result"
    }
   ],
   "source": [
    "d_arr = np.array([1,2,3,4,5, 6,7])\n",
    "h_arr = np.hstack(((my_arr.reshape(-1,1)), d_arr.reshape(-1, 1)))\n",
    "h_arr"
   ]
  },
  {
   "cell_type": "code",
   "execution_count": 19,
   "id": "983c1151",
   "metadata": {},
   "outputs": [
    {
     "data": {
      "text/plain": [
       "array([[ 10,  60],\n",
       "       [ 20,  70],\n",
       "       [ 30,  80],\n",
       "       [ 40,  90],\n",
       "       [ 50, 100]])"
      ]
     },
     "execution_count": 19,
     "metadata": {},
     "output_type": "execute_result"
    }
   ],
   "source": [
    "#16. transpose()\n",
    "np.transpose(b_arr)"
   ]
  },
  {
   "cell_type": "code",
   "execution_count": 20,
   "id": "82c602a5",
   "metadata": {},
   "outputs": [
    {
     "data": {
      "text/plain": [
       "2550"
      ]
     },
     "execution_count": 20,
     "metadata": {},
     "output_type": "execute_result"
    }
   ],
   "source": [
    "#17. sum() - sum up elements in the array\n",
    "np.sum(arr)"
   ]
  },
  {
   "cell_type": "code",
   "execution_count": 21,
   "id": "442a448e",
   "metadata": {},
   "outputs": [
    {
     "data": {
      "text/plain": [
       "2550"
      ]
     },
     "execution_count": 21,
     "metadata": {},
     "output_type": "execute_result"
    }
   ],
   "source": [
    "arr.sum()"
   ]
  },
  {
   "cell_type": "code",
   "execution_count": 22,
   "id": "40fb12ab",
   "metadata": {},
   "outputs": [
    {
     "data": {
      "text/plain": [
       "array([  10,   30,   60,  100,  150,  210,  280,  360,  450,  550,  750,\n",
       "       1050, 1450, 1950, 2550], dtype=int32)"
      ]
     },
     "execution_count": 22,
     "metadata": {},
     "output_type": "execute_result"
    }
   ],
   "source": [
    "#18. cumsum() - cummulative addition of the elements in the array\n",
    "np.cumsum(arr)"
   ]
  },
  {
   "cell_type": "code",
   "execution_count": 23,
   "id": "b7137be2",
   "metadata": {},
   "outputs": [
    {
     "data": {
      "text/plain": [
       "array([  10,   30,   60,  100,  150,  210,  280,  360,  450,  550,  750,\n",
       "       1050, 1450, 1950, 2550], dtype=int32)"
      ]
     },
     "execution_count": 23,
     "metadata": {},
     "output_type": "execute_result"
    }
   ],
   "source": [
    "arr.cumsum()"
   ]
  },
  {
   "cell_type": "code",
   "execution_count": 24,
   "id": "06638d2a",
   "metadata": {},
   "outputs": [
    {
     "data": {
      "text/plain": [
       "array([[1., 0., 0., 0., 0.],\n",
       "       [0., 1., 0., 0., 0.],\n",
       "       [0., 0., 1., 0., 0.],\n",
       "       [0., 0., 0., 1., 0.],\n",
       "       [0., 0., 0., 0., 1.]])"
      ]
     },
     "execution_count": 24,
     "metadata": {},
     "output_type": "execute_result"
    }
   ],
   "source": [
    "#19. eye()\n",
    "np.eye(5, dtype=float)"
   ]
  },
  {
   "cell_type": "code",
   "execution_count": 26,
   "id": "e55375da",
   "metadata": {},
   "outputs": [
    {
     "data": {
      "text/plain": [
       "[array([10, 20, 30]),\n",
       " array([40, 50, 60]),\n",
       " array([70, 80, 90]),\n",
       " array([100, 200, 300]),\n",
       " array([400, 500, 600])]"
      ]
     },
     "execution_count": 26,
     "metadata": {},
     "output_type": "execute_result"
    }
   ],
   "source": [
    "#20. array_split()\n",
    "np.array_split(arr, 5)"
   ]
  },
  {
   "cell_type": "markdown",
   "id": "e7da6f90",
   "metadata": {},
   "source": [
    "Pandas Inbuilt Methods"
   ]
  },
  {
   "cell_type": "code",
   "execution_count": 36,
   "id": "6fa2f607",
   "metadata": {
    "scrolled": true
   },
   "outputs": [
    {
     "data": {
      "text/plain": [
       "Bisi     200\n",
       "John     300\n",
       "Mary     400\n",
       "Abdul    500\n",
       "Ope      600\n",
       "dtype: int32"
      ]
     },
     "execution_count": 36,
     "metadata": {},
     "output_type": "execute_result"
    }
   ],
   "source": [
    "#1. Series()\n",
    "names = [\"Bisi\", \"John\", \"Mary\", \"Abdul\", \"Ope\" ]\n",
    "new_ser = pd.Series(data= c_arr, index = names)\n",
    "new_ser"
   ]
  },
  {
   "cell_type": "code",
   "execution_count": 44,
   "id": "c014217d",
   "metadata": {
    "scrolled": true
   },
   "outputs": [
    {
     "data": {
      "text/plain": [
       "Bisi     200\n",
       "John     300\n",
       "Mary     400\n",
       "Abdul    500\n",
       "Ope      600\n",
       "dtype: int32"
      ]
     },
     "execution_count": 44,
     "metadata": {},
     "output_type": "execute_result"
    }
   ],
   "source": [
    "new_ser = pd.Series(c_arr, names)\n",
    "new_ser"
   ]
  },
  {
   "cell_type": "code",
   "execution_count": 55,
   "id": "958b3e07",
   "metadata": {},
   "outputs": [
    {
     "data": {
      "text/plain": [
       "5"
      ]
     },
     "execution_count": 55,
     "metadata": {},
     "output_type": "execute_result"
    }
   ],
   "source": [
    "#2. count()\n",
    "new_ser.count()"
   ]
  },
  {
   "cell_type": "code",
   "execution_count": 64,
   "id": "2a59f583",
   "metadata": {},
   "outputs": [],
   "source": [
    "#3.\n"
   ]
  }
 ],
 "metadata": {
  "kernelspec": {
   "display_name": "Python 3 (ipykernel)",
   "language": "python",
   "name": "python3"
  },
  "language_info": {
   "codemirror_mode": {
    "name": "ipython",
    "version": 3
   },
   "file_extension": ".py",
   "mimetype": "text/x-python",
   "name": "python",
   "nbconvert_exporter": "python",
   "pygments_lexer": "ipython3",
   "version": "3.9.12"
  }
 },
 "nbformat": 4,
 "nbformat_minor": 5
}
