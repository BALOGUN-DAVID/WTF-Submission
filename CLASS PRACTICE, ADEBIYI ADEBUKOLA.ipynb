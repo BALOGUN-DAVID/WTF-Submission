{
 "cells": [
  {
   "cell_type": "markdown",
   "id": "46585b43",
   "metadata": {},
   "source": [
    "# 1. Print all elements of a list using \"for loop\"\n"
   ]
  },
  {
   "cell_type": "code",
   "execution_count": 20,
   "id": "211d0134",
   "metadata": {
    "scrolled": true
   },
   "outputs": [
    {
     "name": "stdout",
     "output_type": "stream",
     "text": [
      "[0]\n",
      "[0, 2]\n",
      "[0, 2, 4]\n",
      "[0, 2, 4, 6]\n",
      "[0, 2, 4, 6, 8]\n"
     ]
    }
   ],
   "source": [
    "list = []\n",
    "for i in range(0,10,2):\n",
    "    list.append(i)\n",
    "    print(list)\n",
    "    "
   ]
  },
  {
   "cell_type": "code",
   "execution_count": 17,
   "id": "194010e9",
   "metadata": {},
   "outputs": [
    {
     "name": "stdout",
     "output_type": "stream",
     "text": [
      "['John', 'Jane', 'Mike']\n"
     ]
    }
   ],
   "source": [
    "names = \"John\", \"Jane\" , \"Mike\"\n",
    "first_names = []\n",
    "for name in names:\n",
    "   first_names.append(name.split(\" \")[0])\n",
    "print(first_names)"
   ]
  },
  {
   "cell_type": "markdown",
   "id": "56c686e3",
   "metadata": {},
   "source": [
    "# 2. Using range(1,101), make two list, one containing all even numbers and\n",
    "# other containing all odd numbers."
   ]
  },
  {
   "cell_type": "code",
   "execution_count": 29,
   "id": "00c91e9e",
   "metadata": {},
   "outputs": [
    {
     "name": "stdout",
     "output_type": "stream",
     "text": [
      "2\n",
      "4\n",
      "6\n",
      "8\n",
      "10\n",
      "12\n",
      "14\n",
      "16\n",
      "18\n",
      "20\n",
      "22\n",
      "24\n",
      "26\n",
      "28\n",
      "30\n",
      "32\n",
      "34\n",
      "36\n",
      "38\n",
      "40\n",
      "42\n",
      "44\n",
      "46\n",
      "48\n",
      "50\n",
      "52\n",
      "54\n",
      "56\n",
      "58\n",
      "60\n",
      "62\n",
      "64\n",
      "66\n",
      "68\n",
      "70\n",
      "72\n",
      "74\n",
      "76\n",
      "78\n",
      "80\n",
      "82\n",
      "84\n",
      "86\n",
      "88\n",
      "90\n",
      "92\n",
      "94\n",
      "96\n",
      "98\n",
      "100\n"
     ]
    }
   ],
   "source": [
    "for even_numbers in range(1, 101):\n",
    "    if even_numbers % 2 == 0:\n",
    "        print(even_numbers)"
   ]
  },
  {
   "cell_type": "code",
   "execution_count": 28,
   "id": "fa32a6a0",
   "metadata": {},
   "outputs": [
    {
     "name": "stdout",
     "output_type": "stream",
     "text": [
      "1\n",
      "3\n",
      "5\n",
      "7\n",
      "9\n",
      "11\n",
      "13\n",
      "15\n",
      "17\n",
      "19\n",
      "21\n",
      "23\n",
      "25\n",
      "27\n",
      "29\n",
      "31\n",
      "33\n",
      "35\n",
      "37\n",
      "39\n",
      "41\n",
      "43\n",
      "45\n",
      "47\n",
      "49\n",
      "51\n",
      "53\n",
      "55\n",
      "57\n",
      "59\n",
      "61\n",
      "63\n",
      "65\n",
      "67\n",
      "69\n",
      "71\n",
      "73\n",
      "75\n",
      "77\n",
      "79\n",
      "81\n",
      "83\n",
      "85\n",
      "87\n",
      "89\n",
      "91\n",
      "93\n",
      "95\n",
      "97\n",
      "99\n"
     ]
    }
   ],
   "source": [
    "for odd_numbers in range(1, 101):\n",
    "    if odd_numbers % 2 != 0:\n",
    "        print(odd_numbers)"
   ]
  },
  {
   "cell_type": "markdown",
   "id": "d4b597bd",
   "metadata": {},
   "source": [
    "# 3. A company decided to give bonus of 5% to employee if his/her year of service is more than 5\n",
    "# years. Ask user for their salary and year of service and print the net bonus amount "
   ]
  },
  {
   "cell_type": "code",
   "execution_count": null,
   "id": "26a2dc97",
   "metadata": {},
   "outputs": [],
   "source": []
  },
  {
   "cell_type": "code",
   "execution_count": null,
   "id": "c58986b2",
   "metadata": {},
   "outputs": [],
   "source": []
  },
  {
   "cell_type": "markdown",
   "id": "2d27f8c3",
   "metadata": {},
   "source": [
    "# 4. Take input of age of 3 people by user and determine oldest and youngest among them.\n"
   ]
  },
  {
   "cell_type": "code",
   "execution_count": 34,
   "id": "24bd901a",
   "metadata": {},
   "outputs": [
    {
     "data": {
      "text/plain": [
       "14"
      ]
     },
     "execution_count": 34,
     "metadata": {},
     "output_type": "execute_result"
    }
   ],
   "source": [
    "age = (14, 16, 20)\n",
    "min(age)"
   ]
  },
  {
   "cell_type": "code",
   "execution_count": 31,
   "id": "3850d6fc",
   "metadata": {},
   "outputs": [
    {
     "data": {
      "text/plain": [
       "20"
      ]
     },
     "execution_count": 31,
     "metadata": {},
     "output_type": "execute_result"
    }
   ],
   "source": [
    "age = (14, 16, 20)\n",
    "max(age)"
   ]
  },
  {
   "cell_type": "markdown",
   "id": "3df655e7",
   "metadata": {},
   "source": [
    "# 5. A school has following rules for grading system:"
   ]
  },
  {
   "cell_type": "code",
   "execution_count": 16,
   "id": "dcf1d14c",
   "metadata": {},
   "outputs": [],
   "source": [
    "score = ( 20, 25, 30, 40, 45, 50 ,47, 56, 70,75, 90, 92)\n",
    "def determine_grade(score):\n",
    "    if score > 80:\n",
    "        return 'A'\n",
    "    elif score >= 60:\n",
    "        return 'B'\n",
    "    elif score >= 50:\n",
    "        return 'C'\n",
    "    elif scores >= 45:\n",
    "        return 'D'\n",
    "    elif scores >= 25:\n",
    "        return 'E'\n",
    "    else:\n",
    "        return 'F'"
   ]
  },
  {
   "cell_type": "markdown",
   "id": "6ea39cb7",
   "metadata": {},
   "source": [
    "# 6. Write a Python script to merge two Python dictionaries\n"
   ]
  },
  {
   "cell_type": "code",
   "execution_count": 42,
   "id": "eaad575d",
   "metadata": {},
   "outputs": [
    {
     "name": "stdout",
     "output_type": "stream",
     "text": [
      "{'Ade': 'pink', 'Joke': 'yellow', 'Ojo': 'red', 'Joy': 'black', 'name': ['Ade', 'Joke', 'Ojo', 'Joy'], 'age': [12, 10, 14, 11]}\n"
     ]
    }
   ],
   "source": [
    "Student_best_Colours = {'Ade': 'pink', 'Joke': 'yellow', 'Ojo': 'red', 'Joy': 'black'}\n",
    "biodata = {\"name\": [\"Ade\", \"Joke\", \"Ojo\", \"Joy\"], \"age\" :[12, 10, 14, 11]}\n",
    "merge = {**Student_best_Colours , **biodata}\n",
    "print(merge)"
   ]
  },
  {
   "cell_type": "markdown",
   "id": "f5fc2288",
   "metadata": {},
   "source": [
    "# 7. Write a Python program to remove a key from a dictionary"
   ]
  },
  {
   "cell_type": "code",
   "execution_count": 46,
   "id": "f9c88f5a",
   "metadata": {},
   "outputs": [],
   "source": [
    "Student_best_Colours = {'Ade': 'pink', 'Joke': 'yellow', 'Ojo': 'red', 'Joy': 'black'}\n",
    "\n",
    "del Student_best_Colours[\"Joke\"]"
   ]
  },
  {
   "cell_type": "code",
   "execution_count": 48,
   "id": "61d7137f",
   "metadata": {},
   "outputs": [
    {
     "name": "stdout",
     "output_type": "stream",
     "text": [
      "{'Ade': 'pink', 'Ojo': 'red', 'Joy': 'black'}\n"
     ]
    }
   ],
   "source": [
    "print(Student_best_Colours)"
   ]
  },
  {
   "cell_type": "markdown",
   "id": "e9458c8f",
   "metadata": {},
   "source": [
    "# 8. Write a Python program to get the largest number from a list"
   ]
  },
  {
   "cell_type": "code",
   "execution_count": 52,
   "id": "502bb20e",
   "metadata": {},
   "outputs": [
    {
     "data": {
      "text/plain": [
       "100"
      ]
     },
     "execution_count": 52,
     "metadata": {},
     "output_type": "execute_result"
    }
   ],
   "source": [
    "scores_of_students = [50, 70, 90, 100, 65, 75, 85]\n",
    "max(scores_of_students)"
   ]
  },
  {
   "cell_type": "code",
   "execution_count": null,
   "id": "8c98a499",
   "metadata": {},
   "outputs": [],
   "source": []
  }
 ],
 "metadata": {
  "kernelspec": {
   "display_name": "Python 3 (ipykernel)",
   "language": "python",
   "name": "python3"
  },
  "language_info": {
   "codemirror_mode": {
    "name": "ipython",
    "version": 3
   },
   "file_extension": ".py",
   "mimetype": "text/x-python",
   "name": "python",
   "nbconvert_exporter": "python",
   "pygments_lexer": "ipython3",
   "version": "3.9.12"
  }
 },
 "nbformat": 4,
 "nbformat_minor": 5
}
