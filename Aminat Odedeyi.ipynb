{
 "cells": [
  {
   "cell_type": "markdown",
   "id": "503dca85",
   "metadata": {},
   "source": [
    "11/10/2022 - ASSIGNMENT 1"
   ]
  },
  {
   "cell_type": "markdown",
   "id": "166b8cb8",
   "metadata": {},
   "source": [
    "1)Print all elements of a list using for loop"
   ]
  },
  {
   "cell_type": "code",
   "execution_count": 1,
   "id": "6bf86240",
   "metadata": {},
   "outputs": [
    {
     "name": "stdout",
     "output_type": "stream",
     "text": [
      "oranges mangoes apples berries cashews pineapples "
     ]
    }
   ],
   "source": [
    "#Method 1\n",
    "#program to print all the elements in a list using a for loop\n",
    "fruits = [\"oranges\", \"mangoes\", \"apples\", \"berries\", \"cashews\", \"pineapples\"]\n",
    "#to iterate for all the items in fruits\n",
    "for items in fruits:\n",
    "    print(items, end = ' ')"
   ]
  },
  {
   "cell_type": "code",
   "execution_count": 2,
   "id": "90200f86",
   "metadata": {},
   "outputs": [
    {
     "name": "stdout",
     "output_type": "stream",
     "text": [
      "oranges\n",
      "mangoes\n",
      "apples\n",
      "berries\n",
      "cashews\n",
      "pineapples\n"
     ]
    }
   ],
   "source": [
    "#Alternative Method\n",
    "#program to print all the elements in a list using a for loop\n",
    "fruits = [\"oranges\", \"mangoes\", \"apples\", \"berries\", \"cashews\", \"pineapples\"]\n",
    "#to iterate for all the items in fruits\n",
    "for items in range(len(fruits)):\n",
    "    print(fruits[items])"
   ]
  },
  {
   "cell_type": "markdown",
   "id": "5c5c0cfd",
   "metadata": {},
   "source": [
    "2)A company decided to give bonus of 5% to employee if his/her year of service is more than 5 years. Ask user for their salary and year of service and print the net bonus amount."
   ]
  },
  {
   "cell_type": "code",
   "execution_count": 3,
   "id": "980aae31",
   "metadata": {},
   "outputs": [
    {
     "name": "stdout",
     "output_type": "stream",
     "text": [
      "Enter your years of service:10\n",
      "Congratulations, you are qualified for this bonus\n",
      "Enter your salary:3810.20\n",
      "Your net bonus is $ 190.51\n"
     ]
    }
   ],
   "source": [
    "#Program to calculate net bonus amount\n",
    "Service_year = float(input(\"Enter your years of service:\"))\n",
    "if Service_year > 5:\n",
    "    print(\"Congratulations, you are qualified for this bonus\")\n",
    "    Salary = float(input(\"Enter your salary:\")) #this prompts the employee to type in the salary amount\n",
    "    bonus = 0.05   #5%\n",
    "    Net_bonus = Salary*bonus #calculates the net bonus amount\n",
    "    print(\"Your net bonus is $\",Net_bonus) \n",
    "else:\n",
    "    #if the years of service is not more than 5\n",
    "    if Service_year <= 5:\n",
    "        print(\"You do not qualify for this bonus\")"
   ]
  },
  {
   "cell_type": "markdown",
   "id": "ab0cf114",
   "metadata": {},
   "source": [
    "3)Take input of age of 3 people by user and determine oldest and youngest among them."
   ]
  },
  {
   "cell_type": "code",
   "execution_count": 4,
   "id": "3690b2e8",
   "metadata": {
    "scrolled": true
   },
   "outputs": [
    {
     "name": "stdout",
     "output_type": "stream",
     "text": [
      "Enter the age (in years) of first person: 36\n",
      "Enter the age (in years) of second person: 24\n",
      "Enter the age (in years) of third person: 47\n",
      "Third person is the oldest\n",
      "Second person is the youngest\n"
     ]
    }
   ],
   "source": [
    "#Program that takes input of the ages of 3people and determines the oldest and youngest\n",
    "First_age = int(input(\"Enter the age (in years) of first person: \"))\n",
    "Second_age = int(input(\"Enter the age (in years) of second person: \"))\n",
    "Third_age = int(input(\"Enter the age (in years) of third person: \"))\n",
    "#determining the oldest person\n",
    "if (First_age > Second_age) and (First_age > Third_age):\n",
    "    print(\"First person is the oldest\")\n",
    "elif (Second_age > First_age) and (Second_age > Third_age):\n",
    "    print(\"Second person is the oldest\")\n",
    "else:\n",
    "    print(\"Third person is the oldest\")\n",
    "#determining the youngest person\n",
    "if (First_age < Second_age) and (First_age < Third_age):\n",
    "    print(\"First person is the youngest\")\n",
    "elif (Second_age < First_age) and (Second_age < Third_age):\n",
    "    print(\"Second person is the youngest\")\n",
    "else:\n",
    "    print(\"Third person is the youngest\")\n"
   ]
  },
  {
   "cell_type": "markdown",
   "id": "164f9609",
   "metadata": {},
   "source": [
    "4)A school has following rules for grading system:\n",
    "a. Below 25 -F\n",
    "b. 25 to 45 -E\n",
    "c. 45 to 50 -D\n",
    "d. 50 to 60 -C\n",
    "e. 60 to 80 -B\n",
    "f. Above 80 -A\n",
    "5)Ask user to enter marks and print the corresponding grade."
   ]
  },
  {
   "cell_type": "code",
   "execution_count": 5,
   "id": "8ef2d08f",
   "metadata": {},
   "outputs": [
    {
     "name": "stdout",
     "output_type": "stream",
     "text": [
      "Enter your marks: 81\n",
      "Grade = A\n"
     ]
    }
   ],
   "source": [
    "#Program that print grades\n",
    "Marks = float(input(\"Enter your marks: \")) #This line of code prompts the user to input marks\n",
    "if Marks < 25:\n",
    "    print(\"Grade = F\")\n",
    "elif Marks >= 25 and Marks < 45:\n",
    "    print(\"Grade = E\")\n",
    "elif Marks >= 45 and Marks < 50:\n",
    "    print(\"Grade = D\")\n",
    "elif Marks >= 50 and Marks < 60:\n",
    "    print(\"Grade = C\")\n",
    "elif Marks >= 60 and Marks <= 80:\n",
    "    print(\"Grade = B\")\n",
    "else:\n",
    "    if Marks > 80:\n",
    "        print(\"Grade = A\")"
   ]
  },
  {
   "cell_type": "markdown",
   "id": "b46bdfb8",
   "metadata": {},
   "source": [
    "6)Write a Python script to merge two Python dictionaries"
   ]
  },
  {
   "cell_type": "code",
   "execution_count": 2,
   "id": "318d7c65",
   "metadata": {},
   "outputs": [
    {
     "data": {
      "text/plain": [
       "{'School': 'UI',\n",
       " 'Department': 'Biochemistry',\n",
       " 'Level': 'Postgraduate',\n",
       " 'Hobby': 'Dancing',\n",
       " 'Height': '5.0feet',\n",
       " 'Food': 'Amala',\n",
       " 'Lagos': 'Ikeja',\n",
       " 'Ogun': 'Abeokuta',\n",
       " 'Kogi': 'Lokoja',\n",
       " 'Borno': 'Maiduguri'}"
      ]
     },
     "execution_count": 2,
     "metadata": {},
     "output_type": "execute_result"
    }
   ],
   "source": [
    "#creating two dictionaries\n",
    "dict1 = {\"School\": \"UI\", \"Department\": \"Biochemistry\", \"Level\": \"Postgraduate\", \"Hobby\":\"Dancing\", \"Height\":\"5.0feet\",\"Food\": \"Amala\"}\n",
    "dict2 = {\"Lagos\": \"Ikeja\", \"Ogun\": \"Abeokuta\", \"Kogi\": \"Lokoja\", \"Borno\":\"Maiduguri\"}\n",
    "my_dict = dict1.copy()\n",
    "my_dict.update(dict2) #merging the two dictionaries\n",
    "my_dict"
   ]
  },
  {
   "cell_type": "markdown",
   "id": "a21b1ea3",
   "metadata": {},
   "source": [
    "7)Write a python program to get the largest number from a list "
   ]
  },
  {
   "cell_type": "code",
   "execution_count": 11,
   "id": "c5c8caa0",
   "metadata": {},
   "outputs": [
    {
     "name": "stdout",
     "output_type": "stream",
     "text": [
      "The largest number is 120\n"
     ]
    }
   ],
   "source": [
    "#method 1\n",
    "#defining the function largest_num\n",
    "def largest_num(list):\n",
    "    max = list[0]\n",
    "    for number in list:\n",
    "        if number > max:\n",
    "            max = number \n",
    "    return max\n",
    "list = [36, 47, 53, 48, 24, 87, 120, 65, 100]\n",
    "mylist = largest_num(list)\n",
    "print(\"The largest number is\",mylist)\n",
    "            \n"
   ]
  },
  {
   "cell_type": "code",
   "execution_count": 12,
   "id": "42c43d9f",
   "metadata": {},
   "outputs": [
    {
     "name": "stdout",
     "output_type": "stream",
     "text": [
      "120\n"
     ]
    }
   ],
   "source": [
    "#Alternative method\n",
    "list = [36, 47, 53, 48, 24, 87, 120, 65, 100]\n",
    "largest_num = max(list) #max() is an inbuilt function that returns the maximum value\n",
    "print(largest_num)"
   ]
  },
  {
   "cell_type": "markdown",
   "id": "ee3b65e4",
   "metadata": {},
   "source": [
    "8)Write a python program to remove a key from a dictionary"
   ]
  },
  {
   "cell_type": "code",
   "execution_count": 3,
   "id": "cdc9acb3",
   "metadata": {},
   "outputs": [
    {
     "data": {
      "text/plain": [
       "{'School': 'UI',\n",
       " 'Department': 'Biochemistry',\n",
       " 'Level': 'Postgraduate',\n",
       " 'Hobby': 'Dancing',\n",
       " 'Height': '5.0feet',\n",
       " 'Food': 'Amala',\n",
       " 'Lagos': 'Ikeja',\n",
       " 'Ogun': 'Abeokuta',\n",
       " 'Kogi': 'Lokoja',\n",
       " 'Borno': 'Maiduguri'}"
      ]
     },
     "execution_count": 3,
     "metadata": {},
     "output_type": "execute_result"
    }
   ],
   "source": [
    "#using my_dict dictionary created in question 6.\n",
    "my_dict"
   ]
  },
  {
   "cell_type": "code",
   "execution_count": 4,
   "id": "32e23a18",
   "metadata": {
    "scrolled": true
   },
   "outputs": [
    {
     "name": "stdout",
     "output_type": "stream",
     "text": [
      "{'School': 'UI', 'Department': 'Biochemistry', 'Level': 'Postgraduate', 'Hobby': 'Dancing', 'Height': '5.0feet', 'Food': 'Amala', 'Lagos': 'Ikeja', 'Ogun': 'Abeokuta', 'Kogi': 'Lokoja'}\n"
     ]
    }
   ],
   "source": [
    "#to delete a key from the dictionary\n",
    "if \"Borno\"  in my_dict:\n",
    "    del my_dict[\"Borno\"]\n",
    "print(my_dict)\n"
   ]
  },
  {
   "cell_type": "code",
   "execution_count": null,
   "id": "40024e89",
   "metadata": {},
   "outputs": [],
   "source": []
  }
 ],
 "metadata": {
  "kernelspec": {
   "display_name": "Python 3 (ipykernel)",
   "language": "python",
   "name": "python3"
  },
  "language_info": {
   "codemirror_mode": {
    "name": "ipython",
    "version": 3
   },
   "file_extension": ".py",
   "mimetype": "text/x-python",
   "name": "python",
   "nbconvert_exporter": "python",
   "pygments_lexer": "ipython3",
   "version": "3.9.12"
  }
 },
 "nbformat": 4,
 "nbformat_minor": 5
}
