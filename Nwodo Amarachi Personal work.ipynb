{
 "cells": [
  {
   "cell_type": "markdown",
   "id": "c614ea89",
   "metadata": {},
   "source": [
    "1 Print all elements of a list using for loop"
   ]
  },
  {
   "cell_type": "code",
   "execution_count": 1,
   "id": "80f4464f",
   "metadata": {},
   "outputs": [
    {
     "name": "stdout",
     "output_type": "stream",
     "text": [
      "Michelle\n",
      "Aria\n",
      "Grace\n",
      "Purity\n",
      "Delight\n"
     ]
    }
   ],
   "source": [
    "#Printing all elements of a list using for loop\n",
    "name = ['Michelle', 'Aria', 'Grace', 'Purity', 'Delight']\n",
    "for item in name:\n",
    "    print(item)"
   ]
  },
  {
   "cell_type": "markdown",
   "id": "a6c9bbd3",
   "metadata": {},
   "source": [
    "2 Write a Python script to merge two Python dictionaries"
   ]
  },
  {
   "cell_type": "code",
   "execution_count": 2,
   "id": "4d9b9d15",
   "metadata": {},
   "outputs": [
    {
     "name": "stdout",
     "output_type": "stream",
     "text": [
      "{'Samuel': 30, 'Favour': 24, 'Ade': 27, 'Kester': 17, 'Michel': 35, 'Sopuru': 26}\n"
     ]
    }
   ],
   "source": [
    "#creating two dictionaries to be merged\n",
    "dict_1 = {'Samuel': 30, 'Favour': 24, 'Ade': 27}\n",
    "dict_2 = {'Kester' :17 , 'Michel' : 35, 'Sopuru' :26}\n",
    "d = dict_1.copy()\n",
    "d.update(dict_2)\n",
    "print (d)"
   ]
  },
  {
   "cell_type": "markdown",
   "id": "dcf60d39",
   "metadata": {},
   "source": [
    "3 Write a python program to get the largest number from a list"
   ]
  },
  {
   "cell_type": "code",
   "execution_count": 3,
   "id": "b5d51c31",
   "metadata": {},
   "outputs": [
    {
     "name": "stdout",
     "output_type": "stream",
     "text": [
      "12\n"
     ]
    }
   ],
   "source": [
    "#getting largest number froma list\n",
    "def max_num_in_list (list):\n",
    "    max = list[0]\n",
    "    for a in list:\n",
    "        if a > max:\n",
    "            max = a\n",
    "    return max\n",
    "print(max_num_in_list([12,5,-15,8,4]))\n",
    " "
   ]
  },
  {
   "cell_type": "markdown",
   "id": "ccbe3b84",
   "metadata": {},
   "source": [
    "4 Write a python program to remove a key from a dictionary"
   ]
  },
  {
   "cell_type": "code",
   "execution_count": 4,
   "id": "28b9e56e",
   "metadata": {},
   "outputs": [
    {
     "name": "stdout",
     "output_type": "stream",
     "text": [
      "{'paul': 10, 'amaka': 50, 'cherish': 30, 'ola': 70}\n",
      "{'amaka': 50, 'cherish': 30, 'ola': 70}\n"
     ]
    }
   ],
   "source": [
    "dict1 = {\"paul\": 10, \"amaka\": 50, \"cherish\": 30, \"ola\":70}\n",
    "print(dict1)\n",
    "if \"paul\"  in dict1:\n",
    "    del dict1[\"paul\"]\n",
    "print(dict1)"
   ]
  },
  {
   "cell_type": "markdown",
   "id": "8dfedc0b",
   "metadata": {},
   "source": [
    "5 Take input of age of 3 people by user and determine oldest and youngest among them."
   ]
  },
  {
   "cell_type": "code",
   "execution_count": 5,
   "id": "dd77c2f6",
   "metadata": {},
   "outputs": [
    {
     "name": "stdout",
     "output_type": "stream",
     "text": [
      "100\n"
     ]
    }
   ],
   "source": [
    "# Determining the oldest and youngest age\n",
    "age = [75, 45, 100]\n",
    "max_age = max(age)\n",
    "print(max_age)"
   ]
  },
  {
   "cell_type": "code",
   "execution_count": 7,
   "id": "edafb279",
   "metadata": {},
   "outputs": [
    {
     "name": "stdout",
     "output_type": "stream",
     "text": [
      "45\n"
     ]
    }
   ],
   "source": [
    "# youngest age\n",
    "min_age = min(age)\n",
    "print(min_age)"
   ]
  },
  {
   "cell_type": "markdown",
   "id": "c1ae4b9c",
   "metadata": {},
   "source": [
    "6 A school has following rules for grading system:\n",
    "a. Below 25 - F\n",
    "b. 25 to 45 - E\n",
    "c. 45 to 50 - D\n",
    "d. 50 to 60 - C\n",
    "e. 60 to 80 - B\n",
    "f. Above 80 - A"
   ]
  },
  {
   "cell_type": "markdown",
   "id": "7304dd87",
   "metadata": {},
   "source": [
    "7 Ask user to enter marks and print the corresponding grade."
   ]
  },
  {
   "cell_type": "code",
   "execution_count": null,
   "id": "de4b7cff",
   "metadata": {},
   "outputs": [],
   "source": [
    "marks=int(input(\"Enter the marks:\"))\n",
    "if(marks>80):\n",
    "    print(\"Grade A\")\n",
    "elif(mark>60):\n",
    "    print(\"Grade B\")\n",
    "elif(mark>50):\n",
    "    print(\"Grade C\")\n",
    "elif(mark>45):\n",
    "    print(\"Grade D\")\n",
    "elif(mark>25):\n",
    "    print(\"Grade E\")\n",
    "else:\n",
    "    print(\"Fail\")"
   ]
  },
  {
   "cell_type": "markdown",
   "id": "79748bab",
   "metadata": {},
   "source": [
    "8 A company decided to give bonus of 5% to employee if his/her year of service is more than 5\n",
    "years. Ask user for their salary and year of service and print the net bonus amount."
   ]
  },
  {
   "cell_type": "code",
   "execution_count": null,
   "id": "3c676114",
   "metadata": {},
   "outputs": [],
   "source": [
    "salary = int(input(\"Enter your salary =\"))\n",
    "year = int(input(\"Enter your service year =\"))\n",
    "if year>5:\n",
    "    Print(\"your net bonus is\", 0.05*salary)"
   ]
  }
 ],
 "metadata": {
  "kernelspec": {
   "display_name": "Python 3 (ipykernel)",
   "language": "python",
   "name": "python3"
  },
  "language_info": {
   "codemirror_mode": {
    "name": "ipython",
    "version": 3
   },
   "file_extension": ".py",
   "mimetype": "text/x-python",
   "name": "python",
   "nbconvert_exporter": "python",
   "pygments_lexer": "ipython3",
   "version": "3.9.12"
  }
 },
 "nbformat": 4,
 "nbformat_minor": 5
}
