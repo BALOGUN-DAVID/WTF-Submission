{
 "cells": [
  {
   "cell_type": "markdown",
   "id": "f3708f9c",
   "metadata": {},
   "source": [
    "### PYTHON ASSIGNMENT\n",
    "###### 12/10/2022\n",
    "#### WTF/DS/A/077"
   ]
  },
  {
   "cell_type": "code",
   "execution_count": null,
   "id": "1ecad7a8",
   "metadata": {},
   "outputs": [],
   "source": [
    "# PROGRAM to Print all elements of a list using for loop"
   ]
  },
  {
   "cell_type": "code",
   "execution_count": 3,
   "id": "9ef444f1",
   "metadata": {},
   "outputs": [
    {
     "name": "stdout",
     "output_type": "stream",
     "text": [
      "1\n",
      "2\n",
      "3\n",
      "4\n",
      "5\n"
     ]
    }
   ],
   "source": [
    "#solution:\n",
    "\n",
    "work = [1, 2, 3, 4, 5]\n",
    " \n",
    "# printing the list using loop\n",
    "for x in range(len(work)):\n",
    "    print (work[x])"
   ]
  },
  {
   "cell_type": "code",
   "execution_count": null,
   "id": "6b9e220e",
   "metadata": {},
   "outputs": [],
   "source": [
    "#Using range(1,101), make two list, one containing all even numbers and other containing all odd numbers."
   ]
  },
  {
   "cell_type": "code",
   "execution_count": 15,
   "id": "ae062369",
   "metadata": {},
   "outputs": [
    {
     "name": "stdout",
     "output_type": "stream",
     "text": [
      "even number: [8, 14, 18, 70, 80]\n",
      "odd number: [5, 43, 77, 99]\n"
     ]
    }
   ],
   "source": [
    "num =[5, 8, 14, 18, 43, 70, 77, 80, 99]\n",
    "\n",
    "def split(num):\n",
    "    even_list = []\n",
    "    odd_list = []\n",
    "\n",
    "    for i in num:\n",
    "        if(i%2 == 0):\n",
    "            even_list.append(i)\n",
    "        \n",
    "        else:\n",
    "        \n",
    "            odd_list.append(i)\n",
    "\n",
    "    print(\"even number:\",even_list)\n",
    "\n",
    "    print(\"odd number:\", odd_list)\n",
    "\n",
    "split(num)"
   ]
  },
  {
   "cell_type": "code",
   "execution_count": null,
   "id": "969c8a3e",
   "metadata": {},
   "outputs": [],
   "source": [
    "# A company decided to give bonus of 5% to employee if his/her year of service is more than 5\n",
    " # years. Ask user for their salary and year of service and print the net bonus amount."
   ]
  },
  {
   "cell_type": "code",
   "execution_count": 16,
   "id": "ec9129fa",
   "metadata": {},
   "outputs": [
    {
     "name": "stdout",
     "output_type": "stream",
     "text": [
      "Enter your salary = 4000\n",
      "Enter your year of service = 7\n",
      "Your Net bonus is 200.0\n"
     ]
    }
   ],
   "source": [
    "employee_salary = int(input(\"Enter your salary = \"))\n",
    "\n",
    "year_of_service = int(input(\"Enter your year of service = \"))\n",
    "\n",
    "if year_of_service >5:\n",
    "\n",
    "   print(\"Your Net bonus is\",0.05* employee_salary)"
   ]
  },
  {
   "cell_type": "code",
   "execution_count": null,
   "id": "dd201af1",
   "metadata": {},
   "outputs": [],
   "source": [
    "#Take input of age of 3 people by user and determine oldest and youngest among them.\n"
   ]
  },
  {
   "cell_type": "code",
   "execution_count": 17,
   "id": "aac64576",
   "metadata": {},
   "outputs": [
    {
     "name": "stdout",
     "output_type": "stream",
     "text": [
      "Enter age Person 1: 34\n",
      "Enter age Person 2: 33\n",
      "Enter age Person 3: 32\n",
      "\n",
      "Person 1 is the oldest\n",
      "Person 3 is the youngest\n"
     ]
    }
   ],
   "source": [
    "age1 = int(input(\"Enter age Person 1: \"))\n",
    "age2 = int(input(\"Enter age Person 2: \"))\n",
    "age3 = int(input(\"Enter age Person 3: \"))\n",
    "print()\n",
    "if (age1 > age2) & (age1 > age3):\n",
    "    print('Person 1 is the oldest')\n",
    "    if age2 < age3:\n",
    "        print('Person 2 is the youngest')\n",
    "    else:\n",
    "        print('Person 3 is the youngest')\n",
    "elif (age2 > age1) & (age2 > age3):\n",
    "    print('Person 2 is the oldest')\n",
    "    if age1 < age3:\n",
    "        print('Person 1 is the youngest')\n",
    "    else:\n",
    "        print('Person 3 is the youngest')\n",
    "else:\n",
    "     print('Person 3 is the oldest')\n",
    "     if age1 < age2:\n",
    "         print('Person 1 is the youngest')\n",
    "     else:\n",
    "         print('Person 2 is the youngest')"
   ]
  },
  {
   "cell_type": "code",
   "execution_count": null,
   "id": "3a145089",
   "metadata": {},
   "outputs": [],
   "source": [
    "#program to merge two dictionaries"
   ]
  },
  {
   "cell_type": "code",
   "execution_count": 18,
   "id": "d2953477",
   "metadata": {},
   "outputs": [
    {
     "name": "stdout",
     "output_type": "stream",
     "text": [
      "{'a': 100, 'b': 200, 'x': 300, 'y': 200}\n"
     ]
    }
   ],
   "source": [
    "d1 = {'a': 100, 'b': 200}\n",
    "d2 = {'x': 300, 'y': 200}\n",
    "d = d1.copy()\n",
    "d.update(d2)\n",
    "print(d)"
   ]
  },
  {
   "cell_type": "code",
   "execution_count": null,
   "id": "b08031be",
   "metadata": {},
   "outputs": [],
   "source": [
    "#Write a Python program to remove a key from a dictionary.\n"
   ]
  },
  {
   "cell_type": "code",
   "execution_count": 21,
   "id": "12bd0ddf",
   "metadata": {},
   "outputs": [
    {
     "name": "stdout",
     "output_type": "stream",
     "text": [
      "{'a': 1, 'b': 2, 'c': 3, 'd': 4}\n",
      "{'a': 1, 'b': 2, 'c': 3}\n"
     ]
    }
   ],
   "source": [
    "myDict = {'a':1,'b':2,'c':3,'d':4}\n",
    "print(myDict)\n",
    "if 'd' in myDict: \n",
    "    del myDict['d']\n",
    "print(myDict)"
   ]
  },
  {
   "cell_type": "code",
   "execution_count": null,
   "id": "a723ef61",
   "metadata": {},
   "outputs": [],
   "source": [
    "#8) Write a Python program to get the largest number from a list"
   ]
  },
  {
   "cell_type": "code",
   "execution_count": 20,
   "id": "ebd29586",
   "metadata": {},
   "outputs": [
    {
     "name": "stdout",
     "output_type": "stream",
     "text": [
      "Largest number is: 99\n"
     ]
    }
   ],
   "source": [
    "list1 = [10, 20, 4, 45, 99]\n",
    " \n",
    "print(\"Largest number is:\", max(list1))"
   ]
  },
  {
   "cell_type": "code",
   "execution_count": null,
   "id": "a0c8b0ae",
   "metadata": {},
   "outputs": [],
   "source": []
  }
 ],
 "metadata": {
  "kernelspec": {
   "display_name": "Python 3 (ipykernel)",
   "language": "python",
   "name": "python3"
  },
  "language_info": {
   "codemirror_mode": {
    "name": "ipython",
    "version": 3
   },
   "file_extension": ".py",
   "mimetype": "text/x-python",
   "name": "python",
   "nbconvert_exporter": "python",
   "pygments_lexer": "ipython3",
   "version": "3.9.12"
  }
 },
 "nbformat": 4,
 "nbformat_minor": 5
}
