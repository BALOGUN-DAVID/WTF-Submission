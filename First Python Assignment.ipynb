{
 "cells": [
  {
   "cell_type": "code",
   "execution_count": 2,
   "id": "72683791",
   "metadata": {},
   "outputs": [
    {
     "name": "stdout",
     "output_type": "stream",
     "text": [
      "Yam\n",
      "Garri\n",
      "Beans\n",
      "Rice\n",
      "Spaghetti\n",
      "Egg\n"
     ]
    }
   ],
   "source": [
    "#Print all elements of a list using for loop\n",
    "foodList=[\"Yam\", \"Garri\", \"Beans\", \"Rice\", \"Spaghetti\", \"Egg\"]\n",
    "\n",
    "for count in range(0,len(foodList)):\n",
    "    print(foodList[count])"
   ]
  },
  {
   "cell_type": "code",
   "execution_count": 3,
   "id": "05250788",
   "metadata": {},
   "outputs": [
    {
     "name": "stdout",
     "output_type": "stream",
     "text": [
      "{'Name': ['Adijat', 'Olaide', 'Toke'], 'Bestfood': ['Yam', 'Rice', 'Beans']}\n"
     ]
    }
   ],
   "source": [
    "#Write a python script to merge two python dictionaries\n",
    "my_dict={'Name': ['Adijat', 'Olaide', 'Toke'], 'Bestfood': ['Yam', 'Rice', 'Beans']}\n",
    "print(my_dict)"
   ]
  },
  {
   "cell_type": "code",
   "execution_count": 4,
   "id": "553bc5d9",
   "metadata": {},
   "outputs": [
    {
     "name": "stdout",
     "output_type": "stream",
     "text": [
      "{'Colour': ['Red', 'Green', 'White']}\n"
     ]
    }
   ],
   "source": [
    "dict_2={'Colour': ['Red', 'Green', 'White']}\n",
    "print(dict_2)"
   ]
  },
  {
   "cell_type": "code",
   "execution_count": 5,
   "id": "2a58fb31",
   "metadata": {},
   "outputs": [
    {
     "name": "stdout",
     "output_type": "stream",
     "text": [
      "{'Name': ['Adijat', 'Olaide', 'Toke'], 'Bestfood': ['Yam', 'Rice', 'Beans'], 'Colour': ['Red', 'Green', 'White']}\n"
     ]
    }
   ],
   "source": [
    "my_dict.update(dict_2)\n",
    "print(my_dict)"
   ]
  },
  {
   "cell_type": "code",
   "execution_count": 6,
   "id": "7f5dcebe",
   "metadata": {},
   "outputs": [
    {
     "name": "stdout",
     "output_type": "stream",
     "text": [
      "largest number is: 500\n"
     ]
    }
   ],
   "source": [
    "#Write a python program to get the largest number from a list\n",
    "mylist=[20, 10, 5, 500, 100, 25]\n",
    "print('largest number is:', max(mylist))"
   ]
  },
  {
   "cell_type": "code",
   "execution_count": 8,
   "id": "f1d9c205",
   "metadata": {},
   "outputs": [
    {
     "name": "stdout",
     "output_type": "stream",
     "text": [
      "The oldest person is the age of: 56\n",
      "The youngest person is the age of: 14\n"
     ]
    }
   ],
   "source": [
    "#Take input of age of 3 people by user and determine the oldest and youngest among them\n",
    "Age=[14, 56, 21]\n",
    "print('The oldest person is the age of:', max(Age))\n",
    "print('The youngest person is the age of:', min(Age))"
   ]
  },
  {
   "cell_type": "code",
   "execution_count": 9,
   "id": "47157311",
   "metadata": {},
   "outputs": [
    {
     "name": "stdout",
     "output_type": "stream",
     "text": [
      "{'Adijat': 'Red', 'Olaide': 'White', 'Toke': 'Green'}\n",
      "{'Olaide': 'White', 'Toke': 'Green'}\n"
     ]
    }
   ],
   "source": [
    "#Write a python program to remove a key from a dictionary\n",
    "my_dict={'Adijat':'Red', 'Olaide':'White', 'Toke':'Green'}\n",
    "print(my_dict)  #original dict\n",
    "if 'Adijat' in my_dict:\n",
    "    del my_dict['Adijat']\n",
    "print (my_dict)  #after deleting"
   ]
  }
 ],
 "metadata": {
  "kernelspec": {
   "display_name": "Python 3 (ipykernel)",
   "language": "python",
   "name": "python3"
  },
  "language_info": {
   "codemirror_mode": {
    "name": "ipython",
    "version": 3
   },
   "file_extension": ".py",
   "mimetype": "text/x-python",
   "name": "python",
   "nbconvert_exporter": "python",
   "pygments_lexer": "ipython3",
   "version": "3.9.12"
  }
 },
 "nbformat": 4,
 "nbformat_minor": 5
}
