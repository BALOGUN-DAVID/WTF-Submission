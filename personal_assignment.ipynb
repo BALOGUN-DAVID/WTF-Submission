{
 "cells": [
  {
   "cell_type": "markdown",
   "id": "30152358",
   "metadata": {},
   "source": [
    "# QUESTION 1\n",
    "Print all elements of a list using for loop"
   ]
  },
  {
   "cell_type": "code",
   "execution_count": 3,
   "id": "e7d19932",
   "metadata": {},
   "outputs": [
    {
     "name": "stdout",
     "output_type": "stream",
     "text": [
      "2500\n",
      "5000\n",
      "7500\n",
      "10000\n",
      "12500\n",
      "15000\n",
      "17500\n",
      "20000\n",
      "22500\n",
      "25000\n"
     ]
    }
   ],
   "source": [
    "My_list =[2500,5000,7500,10000,12500,15000,17500,20000,22500,25000]\n",
    "for i in My_list:\n",
    "    print(i)"
   ]
  },
  {
   "cell_type": "markdown",
   "id": "f653a193",
   "metadata": {},
   "source": [
    "# QUESTION 2\n",
    "A company decided to give bonus of 5% to employee if his/her year of service is more than 5 years. Ask user for their salary and year of service and print the net bonus amount"
   ]
  },
  {
   "cell_type": "code",
   "execution_count": 21,
   "id": "ac0326c2",
   "metadata": {},
   "outputs": [
    {
     "name": "stdout",
     "output_type": "stream",
     "text": [
      "Enter salary: 250000\n",
      "Enter years of service: 6\n",
      "Bonus is 12500.0\n"
     ]
    }
   ],
   "source": [
    "Salary= int(input(\"Enter salary: \"))\n",
    "Years_of_service= int(input(\"Enter years of service: \"))\n",
    "if Years_of_service > 5:\n",
    "    print (\"Bonus is\", 0.05*Salary)\n",
    "else:\n",
    "    print (\"No Bonus\")"
   ]
  },
  {
   "cell_type": "markdown",
   "id": "a853c1e4",
   "metadata": {},
   "source": [
    "# QUESTION 3\n",
    "Take input of age of 3 people by user and determine oldest and youngest among them"
   ]
  },
  {
   "cell_type": "code",
   "execution_count": 13,
   "id": "022ba5cb",
   "metadata": {
    "scrolled": true
   },
   "outputs": [
    {
     "name": "stdout",
     "output_type": "stream",
     "text": [
      "Enter age Person 1: 28\n",
      "Enter age Person 2: 16\n",
      "Enter age Person 3: 33\n",
      "\n",
      "Person 3 is the oldest\n",
      "Person 2 is the youngest\n"
     ]
    }
   ],
   "source": [
    "First_age = int(input(\"Enter age Person 1: \"))\n",
    "Second_age = int(input(\"Enter age Person 2: \"))\n",
    "Third_age = int(input(\"Enter age Person 3: \"))\n",
    "print()\n",
    "if (First_age > Second_age) & (First_age > Third_age):\n",
    "    print(\"Person 1 is the oldest\")\n",
    "    if Second_age < Third_age:\n",
    "        print(\"Person 2 is the youngest\")\n",
    "    else:\n",
    "        print(\"Person 3 is the youngest\")\n",
    "elif (Second_age > First_age) & (Second_age > Third_age):\n",
    "    print(\"Person 2 is the oldest\")\n",
    "    if First_age < Third_age:\n",
    "        print(\"Person 1 is the youngest\")\n",
    "    else:\n",
    "        print(\"Person 3 is the youngest\")\n",
    "else:\n",
    "     print(\"Person 3 is the oldest\")\n",
    "     if First_age < Second_age:\n",
    "         print(\"Person 1 is the youngest\")\n",
    "     else:\n",
    "         print(\"Person 2 is the youngest\")"
   ]
  },
  {
   "cell_type": "markdown",
   "id": "2ca4c79d",
   "metadata": {},
   "source": [
    "# QUESTION 4\n",
    "A school has following rules for grading system:\n",
    "a. Below 25 -F   b. 25 to 45 -E    c. 45 to 50 -D      d. 50 to 60 -C    e. 60 to 80 -B     f. Above 80 -A"
   ]
  },
  {
   "cell_type": "markdown",
   "id": "54a2cc8a",
   "metadata": {},
   "source": [
    "# QUESTION 5\n",
    "Ask user to enter marks and print the corresponding grade"
   ]
  },
  {
   "cell_type": "code",
   "execution_count": 20,
   "id": "fd129fa4",
   "metadata": {},
   "outputs": [
    {
     "name": "stdout",
     "output_type": "stream",
     "text": [
      "Enter marks: 91\n",
      "A\n"
     ]
    }
   ],
   "source": [
    "Marks = int(input(\"Enter marks: \"))\n",
    "if Marks <25:\n",
    "  print(\"F\")\n",
    "elif Marks >= 25 and Marks <45:\n",
    "  print(\"E\")\n",
    "elif Marks >=45 and Marks <50:\n",
    "  print(\"D\")\n",
    "elif Marks >=50 and Marks <60:\n",
    "  print(\"C\")\n",
    "elif Marks >=60 and Marks <80:\n",
    "  print(\"B\")\n",
    "else:\n",
    "  print(\"A\")"
   ]
  },
  {
   "cell_type": "markdown",
   "id": "5a7fbb55",
   "metadata": {},
   "source": [
    "# QUESTION 6\n",
    "Write a Python script to merge two Python dictionaries"
   ]
  },
  {
   "cell_type": "code",
   "execution_count": 27,
   "id": "f18a2865",
   "metadata": {},
   "outputs": [
    {
     "data": {
      "text/plain": [
       "{'Bread': 'Tea',\n",
       " 'Beans': 'Yam',\n",
       " 'Eba': 'Soup',\n",
       " 'Indomie': 'Egg',\n",
       " 'Rice': 'Stew'}"
      ]
     },
     "execution_count": 27,
     "metadata": {},
     "output_type": "execute_result"
    }
   ],
   "source": [
    "Dictionary1={\"Bread\": \"Tea\", \"Beans\":\"Yam\", \"Eba\":\"Soup\"}\n",
    "Dictionary2={\"Indomie\":\"Egg\", \"Rice\":\"Stew\"}\n",
    "Merged_dictionary=Dictionary1.copy()\n",
    "Merged_dictionary.update(Dictionary2)\n",
    "Merged_dictionary"
   ]
  },
  {
   "cell_type": "markdown",
   "id": "60786030",
   "metadata": {},
   "source": [
    "# QUESTION 7\n",
    "Write a python program to get the largest number from a list "
   ]
  },
  {
   "cell_type": "code",
   "execution_count": 15,
   "id": "25022401",
   "metadata": {},
   "outputs": [
    {
     "name": "stdout",
     "output_type": "stream",
     "text": [
      "200\n"
     ]
    }
   ],
   "source": [
    "Age=[20,25,30,35,40,50,55,60,80,200]\n",
    "Max_age=max(Age)\n",
    "print(Max_age)"
   ]
  },
  {
   "cell_type": "markdown",
   "id": "155e809c",
   "metadata": {},
   "source": [
    "# QUESTION 8\n",
    "Write a python program to remove a key from a dictionary"
   ]
  },
  {
   "cell_type": "code",
   "execution_count": 23,
   "id": "c55cc266",
   "metadata": {},
   "outputs": [
    {
     "name": "stdout",
     "output_type": "stream",
     "text": [
      "{'Nigeria': 'Abuja', 'Ghana': 'Accra', 'Senegal': 'Dakar', 'Egypt': 'Cairo', 'Uganda': 'Kampala'}\n",
      "{'Nigeria': 'Abuja', 'Ghana': 'Accra', 'Egypt': 'Cairo', 'Uganda': 'Kampala'}\n"
     ]
    }
   ],
   "source": [
    "My_dictionary={\"Nigeria\":\"Abuja\",\"Ghana\":\"Accra\",\"Senegal\":\"Dakar\",\"Egypt\":\"Cairo\",\"Uganda\":\"Kampala\"}\n",
    "print(My_dictionary)\n",
    "if \"Senegal\" in My_dictionary:\n",
    "    del My_dictionary[\"Senegal\"]\n",
    "print(My_dictionary)"
   ]
  }
 ],
 "metadata": {
  "kernelspec": {
   "display_name": "Python 3 (ipykernel)",
   "language": "python",
   "name": "python3"
  },
  "language_info": {
   "codemirror_mode": {
    "name": "ipython",
    "version": 3
   },
   "file_extension": ".py",
   "mimetype": "text/x-python",
   "name": "python",
   "nbconvert_exporter": "python",
   "pygments_lexer": "ipython3",
   "version": "3.9.12"
  }
 },
 "nbformat": 4,
 "nbformat_minor": 5
}
