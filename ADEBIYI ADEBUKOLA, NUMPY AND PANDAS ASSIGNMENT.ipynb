{
 "cells": [
  {
   "cell_type": "markdown",
   "id": "105d3110",
   "metadata": {},
   "source": [
    "### Research on 20 in built method on pandas and 20 on numpy with examples each."
   ]
  },
  {
   "cell_type": "markdown",
   "id": "61646a3b",
   "metadata": {},
   "source": [
    "### Numpy::\n",
    "\n",
    "### 1. append() : The .append() function adds values to the end of an array and returns a ndarray with the values appended.\n",
    "\n"
   ]
  },
  {
   "cell_type": "code",
   "execution_count": 2,
   "id": "e389272c",
   "metadata": {},
   "outputs": [],
   "source": [
    "import numpy as np"
   ]
  },
  {
   "cell_type": "code",
   "execution_count": 9,
   "id": "836c167d",
   "metadata": {},
   "outputs": [
    {
     "name": "stdout",
     "output_type": "stream",
     "text": [
      "[1 2 3 4 5 6 7 8 9]\n",
      "[1 3 5]\n",
      "[1 2 3 4 5 6 7 8 9 1 3 5]\n"
     ]
    }
   ],
   "source": [
    "a1 = np.arange(1,10)\n",
    "a2 = np.arange(1,6,2)\n",
    "\n",
    "print(a1)\n",
    "print(a2)\n",
    "print(np.append(a1,a2))"
   ]
  },
  {
   "cell_type": "markdown",
   "id": "85abbaed",
   "metadata": {},
   "source": [
    "### 2. log() : The .log() function returns an element-wise natural logarithm of an array"
   ]
  },
  {
   "cell_type": "code",
   "execution_count": 10,
   "id": "cae885f9",
   "metadata": {},
   "outputs": [
    {
     "name": "stdout",
     "output_type": "stream",
     "text": [
      "[0.         0.69314718 1.09861229 1.38629436 1.60943791 1.79175947\n",
      " 1.94591015 2.07944154 2.19722458]\n"
     ]
    }
   ],
   "source": [
    "print(np.log(a1))"
   ]
  },
  {
   "cell_type": "markdown",
   "id": "b87f2c20",
   "metadata": {},
   "source": [
    "### 3. sum() : The .sum() function sums the elements of an array over a given axis."
   ]
  },
  {
   "cell_type": "code",
   "execution_count": 15,
   "id": "b180f9f3",
   "metadata": {},
   "outputs": [
    {
     "name": "stdout",
     "output_type": "stream",
     "text": [
      "21\n",
      "[5 7 9]\n",
      "[ 6 15]\n"
     ]
    }
   ],
   "source": [
    "nd = np.array([[1,2,3],[4,5,6]])\n",
    "\n",
    "print(np.sum(nd))\n",
    "print(np.sum(nd, axis=0))\n",
    "print(np.sum(nd, axis=1))"
   ]
  },
  {
   "cell_type": "code",
   "execution_count": 14,
   "id": "a5279fcd",
   "metadata": {},
   "outputs": [
    {
     "name": "stdout",
     "output_type": "stream",
     "text": [
      "45\n"
     ]
    }
   ],
   "source": [
    "print(np.sum(a1))"
   ]
  },
  {
   "cell_type": "markdown",
   "id": "cd9fa723",
   "metadata": {},
   "source": [
    "### 4. Transpose() : The .transpose() function reverses or permutes the axes of an ndarray"
   ]
  },
  {
   "cell_type": "code",
   "execution_count": 16,
   "id": "64a1e0a2",
   "metadata": {},
   "outputs": [
    {
     "name": "stdout",
     "output_type": "stream",
     "text": [
      "[[1 2 3]\n",
      " [4 5 6]]\n",
      "[[1 4]\n",
      " [2 5]\n",
      " [3 6]]\n"
     ]
    }
   ],
   "source": [
    "num = np.array([[1,2,3],[4,5,6]])\n",
    "\n",
    "print(num)\n",
    "print(np.transpose(num))"
   ]
  },
  {
   "cell_type": "markdown",
   "id": "c317dc88",
   "metadata": {},
   "source": [
    "### 5. linspace : The .linspace() function returns an array of evenly-spaced numbers over a specified interval [start,stop], optionally excluding the stop value."
   ]
  },
  {
   "cell_type": "code",
   "execution_count": 20,
   "id": "f80e4ebe",
   "metadata": {},
   "outputs": [
    {
     "name": "stdout",
     "output_type": "stream",
     "text": [
      "[10. 12. 14. 16. 18. 20.]\n",
      "[10.         11.66666667 13.33333333 15.         16.66666667 18.33333333]\n"
     ]
    }
   ],
   "source": [
    "result = np.linspace(10, 20, num=6)\n",
    "print(result)\n",
    "\n",
    "result2 = np.linspace(10, 20, num=6, endpoint=False)\n",
    "print(result2)\n",
    "\n"
   ]
  },
  {
   "cell_type": "markdown",
   "id": "c52a5d1b",
   "metadata": {},
   "source": [
    "### 6. reshape() : The .reshape() function rearranges the data in an ndarray into a new shape. The new shape must be compatible with the old one, though an index of -1 can be used to infer one dimension.\n",
    "\n"
   ]
  },
  {
   "cell_type": "code",
   "execution_count": 21,
   "id": "11da403c",
   "metadata": {},
   "outputs": [
    {
     "name": "stdout",
     "output_type": "stream",
     "text": [
      "[[1 2 3]\n",
      " [4 5 6]\n",
      " [7 8 9]]\n"
     ]
    }
   ],
   "source": [
    "\n",
    "print(np.reshape(a1,(3,3)))\n"
   ]
  },
  {
   "cell_type": "markdown",
   "id": "25678d64",
   "metadata": {},
   "source": [
    "### 7. repeat() : The numpy.repeat(a, repeats, axis=None) function repeats the elements of an array. The number of repetitions is specified by the second argument repeats."
   ]
  },
  {
   "cell_type": "code",
   "execution_count": 26,
   "id": "3f61a2fb",
   "metadata": {},
   "outputs": [
    {
     "data": {
      "text/plain": [
       "array(['2015', '2015', '2015', '2015', '2015'], dtype='<U4')"
      ]
     },
     "execution_count": 26,
     "metadata": {},
     "output_type": "execute_result"
    }
   ],
   "source": [
    "# repeat string '2015' 5 times\n",
    "np.repeat(\"2015\",5)"
   ]
  },
  {
   "cell_type": "code",
   "execution_count": 24,
   "id": "e9b9caf4",
   "metadata": {},
   "outputs": [
    {
     "data": {
      "text/plain": [
       "array([3, 3, 3, 3, 3])"
      ]
     },
     "execution_count": 24,
     "metadata": {},
     "output_type": "execute_result"
    }
   ],
   "source": [
    "# repeat number 3 5 times\n",
    "np.repeat(3,5)\n"
   ]
  },
  {
   "cell_type": "markdown",
   "id": "22b37cf0",
   "metadata": {},
   "source": [
    "### 8. random\n",
    "\n",
    "### random.randint : The numpy.random.randint(low, high=None, size=None, dtype=’l’) function returns random integers from the interval [low,high). If high parameter is missing (None), the random numbers are selected from the interval [0,low). By default, a single random number(int) is returned. To generate a narray of random integers, the shape of the array is provided in the parameter size."
   ]
  },
  {
   "cell_type": "code",
   "execution_count": 28,
   "id": "82a97eaf",
   "metadata": {},
   "outputs": [
    {
     "data": {
      "text/plain": [
       "0"
      ]
     },
     "execution_count": 28,
     "metadata": {},
     "output_type": "execute_result"
    }
   ],
   "source": [
    "# toss a coin\n",
    "np.random.randint(2)\n",
    "\n",
    "\n"
   ]
  },
  {
   "cell_type": "code",
   "execution_count": 29,
   "id": "e825d362",
   "metadata": {},
   "outputs": [
    {
     "data": {
      "text/plain": [
       "array([0, 1, 0, 0, 0])"
      ]
     },
     "execution_count": 29,
     "metadata": {},
     "output_type": "execute_result"
    }
   ],
   "source": [
    "# toss a coin 5 times\n",
    "np.random.randint(2,size=5)\n",
    "\n"
   ]
  },
  {
   "cell_type": "code",
   "execution_count": 30,
   "id": "5cf79e30",
   "metadata": {},
   "outputs": [
    {
     "data": {
      "text/plain": [
       "1"
      ]
     },
     "execution_count": 30,
     "metadata": {},
     "output_type": "execute_result"
    }
   ],
   "source": [
    "# roll a dice\n",
    "np.random.randint(1,7)\n"
   ]
  },
  {
   "cell_type": "code",
   "execution_count": 31,
   "id": "a807d192",
   "metadata": {},
   "outputs": [
    {
     "data": {
      "text/plain": [
       "array([6, 4, 2, 4, 6, 3, 1, 2, 4, 1])"
      ]
     },
     "execution_count": 31,
     "metadata": {},
     "output_type": "execute_result"
    }
   ],
   "source": [
    "# roll a dice 10 times\n",
    "np.random.randint(1,7,size=10)\n"
   ]
  },
  {
   "cell_type": "markdown",
   "id": "21ffd931",
   "metadata": {},
   "source": [
    "### 9. random.choice : The numpy.random.choice(a, size=None, replace=True, p=None) returns a random sample from a given array. By default, a single value is returned. To return more elements, the output shape can be specified in the parameter size as we did before with the numpy.random.randint function."
   ]
  },
  {
   "cell_type": "code",
   "execution_count": 32,
   "id": "04fa4483",
   "metadata": {},
   "outputs": [
    {
     "data": {
      "text/plain": [
       "0"
      ]
     },
     "execution_count": 32,
     "metadata": {},
     "output_type": "execute_result"
    }
   ],
   "source": [
    "# toss a coin\n",
    "np.random.choice([0,1])\n",
    "\n",
    "\n",
    "\n"
   ]
  },
  {
   "cell_type": "code",
   "execution_count": 33,
   "id": "1b45a477",
   "metadata": {},
   "outputs": [
    {
     "data": {
      "text/plain": [
       "array([1, 0, 1, 0, 1])"
      ]
     },
     "execution_count": 33,
     "metadata": {},
     "output_type": "execute_result"
    }
   ],
   "source": [
    "# toss a coin 5 times\n",
    "np.random.choice([0,1],size=5)\n",
    "\n",
    "\n"
   ]
  },
  {
   "cell_type": "code",
   "execution_count": 34,
   "id": "f8ead29c",
   "metadata": {},
   "outputs": [
    {
     "data": {
      "text/plain": [
       "4"
      ]
     },
     "execution_count": 34,
     "metadata": {},
     "output_type": "execute_result"
    }
   ],
   "source": [
    "# roll a dice\n",
    "np.random.choice([1,2,3,4,5,6])\n",
    "\n"
   ]
  },
  {
   "cell_type": "code",
   "execution_count": 35,
   "id": "b0cb95d6",
   "metadata": {},
   "outputs": [
    {
     "data": {
      "text/plain": [
       "array([1, 6, 1, 3, 5, 4, 4, 1, 6, 3])"
      ]
     },
     "execution_count": 35,
     "metadata": {},
     "output_type": "execute_result"
    }
   ],
   "source": [
    "np.random.choice([1,2,3,4,5,6],size=10)\n",
    "#array([3, 5, 6, 6, 6, 2, 5, 5, 1, 2])"
   ]
  },
  {
   "cell_type": "markdown",
   "id": "d3589de4",
   "metadata": {},
   "source": [
    "### 10. random.binomial : The numpy.random.binomial(n, p, size=None) draws samples from a binomial distribution. The binomial distribution is used when there are two mutually exclusive outcomes, providing the number of successes of n trials with a probability of success on a single trial p."
   ]
  },
  {
   "cell_type": "code",
   "execution_count": 36,
   "id": "10ac2c00",
   "metadata": {},
   "outputs": [
    {
     "data": {
      "text/plain": [
       "8"
      ]
     },
     "execution_count": 36,
     "metadata": {},
     "output_type": "execute_result"
    }
   ],
   "source": [
    "# number of successes (number of heads) in 10 coin flips\n",
    "np.random.binomial(10,0.5)\n",
    "\n",
    "\n"
   ]
  },
  {
   "cell_type": "code",
   "execution_count": 37,
   "id": "52af6290",
   "metadata": {},
   "outputs": [
    {
     "data": {
      "text/plain": [
       "8"
      ]
     },
     "execution_count": 37,
     "metadata": {},
     "output_type": "execute_result"
    }
   ],
   "source": [
    "# number of successes (number of heads) in 10 coin flips - biased coin with a 0.8 probability of obtaining heads\n",
    "np.random.binomial(10,0.8)\n"
   ]
  },
  {
   "cell_type": "markdown",
   "id": "5082fb12",
   "metadata": {},
   "source": [
    "### 11. argmax : The numpy.argmax(a, axis=None, out=None) function returns the indices of the maximum values along an axis."
   ]
  },
  {
   "cell_type": "code",
   "execution_count": 38,
   "id": "4ca79a30",
   "metadata": {},
   "outputs": [
    {
     "data": {
      "text/plain": [
       "5"
      ]
     },
     "execution_count": 38,
     "metadata": {},
     "output_type": "execute_result"
    }
   ],
   "source": [
    "# numpy array\n",
    "array = np.array([[1,2,3],[4,5,6]])\n",
    "\n",
    "# index of maximum value\n",
    "max_value = np.argmax(array)\n",
    "\n",
    "max_value"
   ]
  },
  {
   "cell_type": "markdown",
   "id": "e7d45859",
   "metadata": {},
   "source": [
    "### 12 .squeeze(): The numpy.squeeze(a, axis=None) removes single-dimensional entries from the shape of an array. The argument axis specifies the axis we want to squeeze out. If the shape of the selected axis is greater than 1 a ValueError is raised."
   ]
  },
  {
   "cell_type": "code",
   "execution_count": 40,
   "id": "adc8df8c",
   "metadata": {},
   "outputs": [
    {
     "name": "stdout",
     "output_type": "stream",
     "text": [
      "[1 2 3 4 5 6 7 8 9]\n"
     ]
    },
    {
     "data": {
      "text/plain": [
       "array([1, 2, 3, 4, 5, 6, 7, 8, 9])"
      ]
     },
     "execution_count": 40,
     "metadata": {},
     "output_type": "execute_result"
    }
   ],
   "source": [
    "print(a1)\n",
    "np.shape(a1)\n",
    "np.squeeze(a1)"
   ]
  },
  {
   "cell_type": "code",
   "execution_count": 43,
   "id": "28e886d4",
   "metadata": {},
   "outputs": [
    {
     "data": {
      "text/plain": [
       "(2, 1)"
      ]
     },
     "execution_count": 43,
     "metadata": {},
     "output_type": "execute_result"
    }
   ],
   "source": [
    "\n",
    "# numpy array of shape (1,2,1)\n",
    "\n",
    "arr = np.array([[[1],[1]]])\n",
    "\n",
    "arr.shape\n",
    "\n",
    "# squeeze out axis 0\n",
    "arr0 = np.squeeze(arr,axis=0)\n",
    "arr0\n",
    "#array([[1],[1]])\n",
    "arr0.shape\n",
    "\n"
   ]
  },
  {
   "cell_type": "markdown",
   "id": "4bad3750",
   "metadata": {},
   "source": [
    "### 13. split() ; The split function helps splitting an array into multiple sub-arrays of equal or near-equal size.\n"
   ]
  },
  {
   "cell_type": "code",
   "execution_count": 45,
   "id": "fe9e44f8",
   "metadata": {},
   "outputs": [
    {
     "name": "stdout",
     "output_type": "stream",
     "text": [
      "[0 1 2 3 4 5 6 7]\n",
      "sub-parts of array a: [array([0, 1]), array([2, 3]), array([4, 5]), array([6, 7])]\n"
     ]
    }
   ],
   "source": [
    "\n",
    "a = np.arange(8)\n",
    "print (a)\n",
    "print (\"sub-parts of array a:\", np.split(a, 4))"
   ]
  },
  {
   "cell_type": "markdown",
   "id": "1d34344e",
   "metadata": {},
   "source": [
    "### 14: square() : This mathematical function helps user to calculate square value of each element in the array."
   ]
  },
  {
   "cell_type": "code",
   "execution_count": 61,
   "id": "bb60db79",
   "metadata": {},
   "outputs": [
    {
     "name": "stdout",
     "output_type": "stream",
     "text": [
      "Square Value of ar1 : \n",
      " [     1      9    225 217156]\n",
      "\n",
      "Square Value of ar2 :  [ 529 3136]\n"
     ]
    }
   ],
   "source": [
    "ar1 = [1, -3, 15, -466]\n",
    "print (\"Square Value of ar1 : \\n\", np.square(ar1))\n",
    "  \n",
    "ar2 = [23 ,-56]\n",
    "print (\"\\nSquare Value of ar2 : \", np.square(ar2))"
   ]
  },
  {
   "cell_type": "markdown",
   "id": "17a5c4b3",
   "metadata": {},
   "source": [
    "### 15. sort() : Sorting means putting elements in an ordered sequence.\n",
    "\n",
    "### Ordered sequence is any sequence that has an order corresponding to elements, like numeric or alphabetical, ascending or descending.\n",
    "\n"
   ]
  },
  {
   "cell_type": "code",
   "execution_count": 54,
   "id": "61d2e078",
   "metadata": {},
   "outputs": [
    {
     "name": "stdout",
     "output_type": "stream",
     "text": [
      "[0 1 2 3]\n"
     ]
    }
   ],
   "source": [
    "arr = np.array([3, 2, 0, 1])\n",
    "print(np.sort(arr))"
   ]
  },
  {
   "cell_type": "markdown",
   "id": "4179f4b0",
   "metadata": {},
   "source": [
    "### 16. where() : You can search an array for a certain value, and return the indexes that get a match.\n",
    "\n",
    "### To search an array, use the where() method."
   ]
  },
  {
   "cell_type": "code",
   "execution_count": 55,
   "id": "30febec6",
   "metadata": {},
   "outputs": [
    {
     "name": "stdout",
     "output_type": "stream",
     "text": [
      "(array([3, 5, 6], dtype=int64),)\n"
     ]
    }
   ],
   "source": [
    "arr = np.array([1, 2, 3, 4, 5, 4, 4])\n",
    "\n",
    "x = np.where(arr == 4)\n",
    "\n",
    "print(x)\n",
    "# Which means that the value 4 is present at index 3, 5, and 6."
   ]
  },
  {
   "cell_type": "markdown",
   "id": "5b063788",
   "metadata": {},
   "source": [
    "### 17. min() : It returns the minimum value from the passed numpy array"
   ]
  },
  {
   "cell_type": "code",
   "execution_count": 56,
   "id": "844e896c",
   "metadata": {},
   "outputs": [
    {
     "data": {
      "text/plain": [
       "1"
      ]
     },
     "execution_count": 56,
     "metadata": {},
     "output_type": "execute_result"
    }
   ],
   "source": [
    "arr.min()"
   ]
  },
  {
   "cell_type": "markdown",
   "id": "8ef96dd1",
   "metadata": {},
   "source": [
    "### 18. max() : It returns the maximum value from the passed numpy array"
   ]
  },
  {
   "cell_type": "code",
   "execution_count": 57,
   "id": "5528aabd",
   "metadata": {},
   "outputs": [
    {
     "data": {
      "text/plain": [
       "5"
      ]
     },
     "execution_count": 57,
     "metadata": {},
     "output_type": "execute_result"
    }
   ],
   "source": [
    "arr.max()"
   ]
  },
  {
   "cell_type": "markdown",
   "id": "27f62432",
   "metadata": {},
   "source": [
    "### 19. reciprocal(): This mathematical function is used to calculate reciprocal of all the elements in the input array"
   ]
  },
  {
   "cell_type": "code",
   "execution_count": 58,
   "id": "f4650157",
   "metadata": {},
   "outputs": [
    {
     "name": "stdout",
     "output_type": "stream",
     "text": [
      "Input  number :  2.0\n",
      "Output number :  0.5\n"
     ]
    }
   ],
   "source": [
    "in_num = 2.0\n",
    "print (\"Input  number : \", in_num)\n",
    " \n",
    "out_num = np.reciprocal(in_num)\n",
    "print (\"Output number : \", out_num)"
   ]
  },
  {
   "cell_type": "markdown",
   "id": "dace5700",
   "metadata": {},
   "source": [
    "### divide() ; Array element from first array is divided by elements from second element (all happens element-wise). Both arr1 and arr2 must have same shape and element in arr2 must not be zero; otherwise it will raise an error. "
   ]
  },
  {
   "cell_type": "code",
   "execution_count": 59,
   "id": "86791c35",
   "metadata": {},
   "outputs": [
    {
     "name": "stdout",
     "output_type": "stream",
     "text": [
      "arr1         :  [2, 27, 2, 21, 23]\n",
      "arr2         :  [2, 3, 4, 5, 6]\n",
      "\n",
      "Output array : \n",
      " [1.         9.         0.5        4.2        3.83333333]\n"
     ]
    }
   ],
   "source": [
    "# input_array\n",
    "arr1 = [2, 27, 2, 21, 23]\n",
    "arr2 = [2, 3, 4, 5, 6]\n",
    "print (\"arr1         : \", arr1)\n",
    "print (\"arr2         : \", arr2)\n",
    " \n",
    "# output_array\n",
    "out = np.divide(arr1, arr2)\n",
    "print (\"\\nOutput array : \\n\", out)"
   ]
  },
  {
   "cell_type": "code",
   "execution_count": null,
   "id": "31ea480f",
   "metadata": {},
   "outputs": [],
   "source": []
  }
 ],
 "metadata": {
  "kernelspec": {
   "display_name": "Python 3 (ipykernel)",
   "language": "python",
   "name": "python3"
  },
  "language_info": {
   "codemirror_mode": {
    "name": "ipython",
    "version": 3
   },
   "file_extension": ".py",
   "mimetype": "text/x-python",
   "name": "python",
   "nbconvert_exporter": "python",
   "pygments_lexer": "ipython3",
   "version": "3.9.12"
  }
 },
 "nbformat": 4,
 "nbformat_minor": 5
}
