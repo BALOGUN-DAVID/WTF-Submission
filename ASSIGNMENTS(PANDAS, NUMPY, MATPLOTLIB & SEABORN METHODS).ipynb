{
 "cells": [
  {
   "cell_type": "markdown",
   "id": "6b0f87db",
   "metadata": {},
   "source": [
    "### (PANDAS, NUMPY, MATPLOTLIB & SEABORN METHODS) \n",
    "\n",
    "by Chimeremma S. Amadi\n",
    "\n",
    "WTF/23/DS/A/O77\n",
    "\n",
    "24/10/2022\n",
    "\n",
    "\n"
   ]
  },
  {
   "cell_type": "code",
   "execution_count": null,
   "id": "80de7ff6",
   "metadata": {},
   "outputs": [],
   "source": []
  },
  {
   "cell_type": "markdown",
   "id": "407e273f",
   "metadata": {},
   "source": [
    "### - PANDAS\n",
    "\n",
    "1. df.head()\n",
    "2. df.tail()\n",
    "3. df.mean()\n",
    "4. df.describe()\n",
    "5. df.median()\n",
    "6. df.append()\n",
    "7. df.join()\n",
    "8. pd.read_csv()\n",
    "9. pd.Series()\n",
    "10.pd.DataFrame()\n",
    "11. df.to_csv()\n",
    "12. df.rename()\n",
    "13. df.groupby()\n",
    "14. df.dropna()\n",
    "15. df.fillna()\n",
    "16. df.sort_values()\n",
    "17. df.apply()\n",
    "18. df.max()\n",
    "19. df.min()\n",
    "20. df.std()"
   ]
  },
  {
   "cell_type": "code",
   "execution_count": null,
   "id": "ca95bed3",
   "metadata": {},
   "outputs": [],
   "source": []
  },
  {
   "cell_type": "markdown",
   "id": "97e00f7b",
   "metadata": {},
   "source": [
    "### - NUMPY METHODS :\n",
    "\n",
    "1. np.random.randn()\n",
    "2. np.arange()\n",
    "3. np.expand_dims()\n",
    "4. np.array()\n",
    "5. np.digitize()\n",
    "6. np.random.randint()\n",
    "7. np.argwhere()\n",
    "8. np.zeros()\n",
    "9. np.ones()\n",
    "10. np.full()\n",
    "11. np.eye()\n",
    "12. np.identity()\n",
    "13. np.ravel()\n",
    "14. np.vsplit()\n",
    "15. np.hsplit()\n",
    "16. np.transpose()\n",
    "17. np.abs()\n",
    "18. np.round()\n",
    "19. np.hstack()\n",
    "20. np.vstack()\n",
    "21. np.count_nonzero()\n",
    "22. np.random.shuffle()\n",
    "23. np.random.random()\n",
    "24. np.random.sample()\n",
    "25. np.argmax()\n",
    "26. np.argmin()\n",
    "27. np.unique()\n",
    "28. np.linspace()\n",
    "29. np.logspace()\n",
    "30. np.mean()"
   ]
  },
  {
   "cell_type": "code",
   "execution_count": null,
   "id": "08103233",
   "metadata": {},
   "outputs": [],
   "source": []
  },
  {
   "cell_type": "markdown",
   "id": "b99ac466",
   "metadata": {},
   "source": [
    "### MATPLOTLIB \n",
    "\n",
    "\n",
    "1. plt.hist()\n",
    "2. plt.show()\n",
    "3. plt.bar()\n",
    "4. plt.legend()\n",
    "5. plt.scatter()\n",
    "6. plt.pie()\n",
    "7. plt.figure()\n",
    "8. plt.boxplot()\n",
    "9. plt.fill_between()\n",
    "10. plt.axis()\n",
    "11. plt.margin()\n",
    "12. plt.clim()\n",
    "13. plt.close()\n",
    "14. plt.violinplot()\n",
    "15. plt.twiny()\n",
    "16. plt.ylim()\n",
    "17. plt.yscale()\n",
    "18. plt.triplot()\n",
    "19. plt.xlabel()\n",
    "20. plt.title()"
   ]
  },
  {
   "cell_type": "code",
   "execution_count": null,
   "id": "91d0065c",
   "metadata": {},
   "outputs": [],
   "source": []
  },
  {
   "cell_type": "markdown",
   "id": "66b21032",
   "metadata": {},
   "source": [
    "### - SEABORN\n",
    "\n",
    "\n",
    "1. catplot()\n",
    "2. histplot()\n",
    "3. violinplot()\n",
    "4. kdeplot()\n",
    "5. ecdfplot()\n",
    "6. rugplot()\n",
    "7. scatterplot()\n",
    "8. lineplot()\n",
    "9. stripplot()\n",
    "10. swarmplot()\n",
    "11. boxplot()\n",
    "12. sns. relplot()\n",
    "13. sns.pairplot()\n",
    "14. sns.jointplot()\n",
    "15. sns.FacetGrid()"
   ]
  },
  {
   "cell_type": "code",
   "execution_count": null,
   "id": "92230c54",
   "metadata": {},
   "outputs": [],
   "source": []
  }
 ],
 "metadata": {
  "kernelspec": {
   "display_name": "Python 3 (ipykernel)",
   "language": "python",
   "name": "python3"
  },
  "language_info": {
   "codemirror_mode": {
    "name": "ipython",
    "version": 3
   },
   "file_extension": ".py",
   "mimetype": "text/x-python",
   "name": "python",
   "nbconvert_exporter": "python",
   "pygments_lexer": "ipython3",
   "version": "3.9.12"
  }
 },
 "nbformat": 4,
 "nbformat_minor": 5
}
