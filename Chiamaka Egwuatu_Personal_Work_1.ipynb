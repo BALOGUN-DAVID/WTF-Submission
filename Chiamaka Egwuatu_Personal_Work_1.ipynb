{
 "cells": [
  {
   "cell_type": "markdown",
   "id": "c0b89c62",
   "metadata": {},
   "source": [
    "# Question 1\n",
    "Print all elements of a list using for loop"
   ]
  },
  {
   "cell_type": "code",
   "execution_count": 128,
   "id": "af281d31",
   "metadata": {},
   "outputs": [
    {
     "name": "stdout",
     "output_type": "stream",
     "text": [
      "1\n",
      "2\n",
      "3\n",
      "0.1\n",
      "0.2\n",
      "0.3\n",
      "Boy\n",
      "Girl\n",
      "True\n",
      "False\n"
     ]
    }
   ],
   "source": [
    "#Method 1\n",
    "List= [1,2,3,0.1,0.2,0.3,\"Boy\",\"Girl\", True, False] #created a list variable with assigned values and called items in the list.\n",
    "for items in List:\n",
    "    print(items)"
   ]
  },
  {
   "cell_type": "code",
   "execution_count": 129,
   "id": "8ace84e0",
   "metadata": {},
   "outputs": [
    {
     "name": "stdout",
     "output_type": "stream",
     "text": [
      "1\n",
      "2\n",
      "3\n",
      "0.1\n",
      "0.2\n",
      "0.3\n",
      "Boy\n",
      "Girl\n",
      "True\n",
      "False\n"
     ]
    }
   ],
   "source": [
    "#Method 2\n",
    "for items in [1,2,3,0.1,0.2,0.3,\"Boy\",\"Girl\", True, False]: #called items directly in the list.\n",
    "    print(items)"
   ]
  },
  {
   "cell_type": "code",
   "execution_count": 203,
   "id": "ca87ad36",
   "metadata": {},
   "outputs": [
    {
     "name": "stdout",
     "output_type": "stream",
     "text": [
      "1 , 2 , 3 , 0.1 , 0.2 , 0.3 , Boy , Girl , True , False , "
     ]
    }
   ],
   "source": [
    "#Method 3\n",
    "for items in [1,2,3,0.1,0.2,0.3,\"Boy\",\"Girl\", True, False]: #printed items called directed from a list on same line using the end keyword.\n",
    "    print(items,end=\" , \")"
   ]
  },
  {
   "cell_type": "markdown",
   "id": "1561e82e",
   "metadata": {},
   "source": [
    "# Question 2\n",
    "#A company decided to give bonus of 5% to employee if his/her year of service is more than 5 years. Ask user for their salary and year of service and print the net bonus amount."
   ]
  },
  {
   "cell_type": "code",
   "execution_count": 133,
   "id": "31a02a21",
   "metadata": {},
   "outputs": [
    {
     "name": "stdout",
     "output_type": "stream",
     "text": [
      "Enter your salary: 2000\n",
      "Enter your year of service: 6\n",
      "100.0\n"
     ]
    }
   ],
   "source": [
    "#method 1\n",
    "Salary=int(input(\"Enter your salary: \"))  #used a single if function and calculated the bonus first to make sure the netbonus amount is correct.\n",
    "Year=int(input(\"Enter your year of service: \"))\n",
    "\n",
    "if Year >5:    \n",
    "    bonus=0.05*Salary\n",
    "    print(bonus)"
   ]
  },
  {
   "cell_type": "code",
   "execution_count": 87,
   "id": "0a1ae89a",
   "metadata": {},
   "outputs": [
    {
     "name": "stdout",
     "output_type": "stream",
     "text": [
      "Enter your salary: 2000\n",
      "Enter your year of service: 7\n",
      "Your net bonus amount is:  700.0\n"
     ]
    }
   ],
   "source": [
    "#method 2\n",
    "Salary=int(input(\"Enter your salary: \"))  #used a double if function\n",
    "Year=int(input(\"Enter your year of service: \"))\n",
    "\n",
    "if Year >5:    \n",
    "    bonus=0.05*Salary\n",
    "if Year >5:\n",
    "    netbonusamount=bonus*1*Year\n",
    "    print(\"Your net bonus amount is: \",netbonusamount)\n",
    "else:\n",
    "    print(\"There is no bonus for you.\")"
   ]
  },
  {
   "cell_type": "code",
   "execution_count": 91,
   "id": "81d12279",
   "metadata": {},
   "outputs": [
    {
     "name": "stdout",
     "output_type": "stream",
     "text": [
      "Enter your salary: 2000\n",
      "Enter your year of service: 6\n",
      "Your net bonus amount is:  600.0\n"
     ]
    }
   ],
   "source": [
    "#method 3\n",
    "Salary=int(input(\"Enter your salary: \")) #enclosed the year parameter in a bracket while calculating.\n",
    "Year=int(input(\"Enter your year of service: \"))\n",
    "\n",
    "if Year >5:    \n",
    "    bonus=0.05*Salary\n",
    "    netbonusamount=bonus*(1*Year)\n",
    "    print(\"Your net bonus amount is: \",netbonusamount)\n",
    "else:\n",
    "    print(\"There is no bonus for you.\")"
   ]
  },
  {
   "cell_type": "code",
   "execution_count": 92,
   "id": "9b38c7d0",
   "metadata": {},
   "outputs": [
    {
     "name": "stdout",
     "output_type": "stream",
     "text": [
      "Enter your salary: 2000\n",
      "Enter your year of service: 5\n",
      "There is no bonus for you.\n"
     ]
    }
   ],
   "source": [
    "#method 4\n",
    "Salary=int(input(\"Enter your salary: \")) #used a double if function and checked for output <=5 to test code.\n",
    "Year=int(input(\"Enter your year of service: \"))\n",
    "\n",
    "if Year >5:    \n",
    "    bonus=0.05*Salary\n",
    "if Year >5:\n",
    "    netbonusamount=bonus*(1*Year)\n",
    "    print(\"Your net bonus amount is: \",netbonusamount)\n",
    "else:\n",
    "    print(\"There is no bonus for you.\")"
   ]
  },
  {
   "cell_type": "markdown",
   "id": "12751d7e",
   "metadata": {},
   "source": [
    "# Question 3\n",
    "#Take input of age of 3 people by user and determine oldest and youngest among them."
   ]
  },
  {
   "cell_type": "code",
   "execution_count": 215,
   "id": "d796acce",
   "metadata": {},
   "outputs": [
    {
     "name": "stdout",
     "output_type": "stream",
     "text": [
      "PersonA: Enter your age: 11\n",
      "PersonB: Enter your age: 12\n",
      "PersonC: Enter your age: 13\n",
      "The oldest is PersonC\n",
      "The youngest is PersonA\n"
     ]
    }
   ],
   "source": [
    "PersonA=int(input(\"PersonA: Enter your age: \"))\n",
    "PersonB=int(input(\"PersonB: Enter your age: \"))\n",
    "PersonC=int(input(\"PersonC: Enter your age: \"))\n",
    "#Determining the oldest\n",
    "if PersonA>PersonB and PersonA>PersonC:\n",
    "    print(\"The oldest is PersonA\")\n",
    "    \n",
    "elif PersonB>PersonA and PersonB>PersonC:\n",
    "    print(\"The oldest is PersonB\")\n",
    "    \n",
    "if (PersonC>PersonA and PersonC>PersonB):\n",
    "    print(\"The oldest is PersonC\")\n",
    "    \n",
    "    #Determining the youngest\n",
    "if PersonA<PersonB and PersonA<PersonC:\n",
    "    print(\"The youngest is PersonA\")\n",
    "    \n",
    "elif PersonB<PersonA and PersonB<PersonC:\n",
    "    print(\"The youngest is PersonB\")\n",
    "    \n",
    "if (PersonC<PersonA and PersonC<PersonB):\n",
    "    print(\"The youngest is PersonC\")"
   ]
  },
  {
   "cell_type": "markdown",
   "id": "c95d7cb1",
   "metadata": {},
   "source": [
    "# Question 4\n",
    "#School Grading System"
   ]
  },
  {
   "cell_type": "code",
   "execution_count": 251,
   "id": "165496fe",
   "metadata": {},
   "outputs": [],
   "source": [
    "def grading_system(scores):\n",
    "    if scores >=0 and scores<25:\n",
    "        return \"F\"\n",
    "    elif scores >=25 and scores<45:\n",
    "        return \"E\"\n",
    "    elif scores >=45 and scores<50:\n",
    "        return \"D\"\n",
    "    elif scores >=50 and scores<60:\n",
    "        return \"C\"\n",
    "    elif scores >=60 and scores<80:\n",
    "        return \"B\"\n",
    "    elif scores>80 and scores<=100:\n",
    "        return \"A\"\n",
    "    else:\n",
    "        print(\"None\")   "
   ]
  },
  {
   "cell_type": "markdown",
   "id": "12abc94c",
   "metadata": {},
   "source": [
    "# Question 5\n",
    "#Ask user to enter marks and print the corresponding grade."
   ]
  },
  {
   "cell_type": "code",
   "execution_count": 246,
   "id": "4645cff8",
   "metadata": {},
   "outputs": [
    {
     "name": "stdout",
     "output_type": "stream",
     "text": [
      "Enter your mark: 67\n",
      "Your Grade is: B\n"
     ]
    }
   ],
   "source": [
    "#method 1\n",
    "Mark=int(input(\"Enter your mark: \"))\n",
    "if scores >=0 and scores<25:\n",
    "        print(\"Your Grade is: F\")\n",
    "elif scores >=25 and scores<45:\n",
    "        print(\"Your Grade is: E\")\n",
    "elif scores >=45 and scores<50:\n",
    "        print(\" Your Grade is: D\")\n",
    "elif scores >=50 and scores<60:\n",
    "         print(\" Your Grade is: C\")\n",
    "elif scores >=60 and scores<80:\n",
    "        print(\"Your Grade is: B\")\n",
    "elif scores>80 and scores<=100:\n",
    "         print(\"Your Grade is: A\")\n",
    "else:\n",
    "    print(\"Null\")"
   ]
  },
  {
   "cell_type": "markdown",
   "id": "94c6cd8f",
   "metadata": {},
   "source": [
    "# Question 6\n",
    "#Write a python script to merge two python dictionaries"
   ]
  },
  {
   "cell_type": "code",
   "execution_count": 186,
   "id": "00af1d1d",
   "metadata": {},
   "outputs": [
    {
     "name": "stdout",
     "output_type": "stream",
     "text": [
      "{'Fruit': 'Pawpaw', 'Price': 2000, 'Quantity': 10, 'Food': 'Breadfruit', 'Colour': 'Yellow', 'Size': 'Big'}\n"
     ]
    }
   ],
   "source": [
    "#method 1\n",
    "Dict1= {\"Fruit\":\"Pawpaw\", \"Price\": 2000, \"Quantity\": 10 }\n",
    "Dict2= {\"Food\":\"Breadfruit\", \"Colour\": \"Yellow\", \"Size\": \"Big\" }\n",
    "Dict= Dict1.copy()\n",
    "Dict.update(Dict2)\n",
    "print(Dict)"
   ]
  },
  {
   "cell_type": "code",
   "execution_count": 188,
   "id": "681def2b",
   "metadata": {},
   "outputs": [
    {
     "name": "stdout",
     "output_type": "stream",
     "text": [
      "{'Fruit': 'Pawpaw', 'Price': 2000, 'Quantity': 10, 'Food': 'Breadfruit', 'Colour': 'Yellow', 'Size': 'Big'}\n"
     ]
    }
   ],
   "source": [
    "#method 2\n",
    "Dict1= {\"Fruit\":\"Pawpaw\", \"Price\": 2000, \"Quantity\": 10 }\n",
    "Dict2= {\"Food\":\"Breadfruit\", \"Colour\": \"Yellow\", \"Size\": \"Big\" }\n",
    "Dict1.update(Dict2)\n",
    "print(Dict1)"
   ]
  },
  {
   "cell_type": "markdown",
   "id": "631866e4",
   "metadata": {},
   "source": [
    "# Question 7\n",
    "#Write a python program to get the largest number from a list"
   ]
  },
  {
   "cell_type": "code",
   "execution_count": 193,
   "id": "a35db460",
   "metadata": {},
   "outputs": [
    {
     "name": "stdout",
     "output_type": "stream",
     "text": [
      "The largest is: 100"
     ]
    }
   ],
   "source": [
    "#method 1\n",
    "List=[5, 10, 15, 20, 25, 30, 35, 40, 45, 50, 55, 60, 65, 100]\n",
    "max(List)\n",
    "print(\"The largest is:\",max(List),end=\"\")"
   ]
  },
  {
   "cell_type": "code",
   "execution_count": 195,
   "id": "c58de25f",
   "metadata": {},
   "outputs": [
    {
     "name": "stdout",
     "output_type": "stream",
     "text": [
      "The largest is: 100\n"
     ]
    }
   ],
   "source": [
    "#method 2\n",
    "List=[5, 10, 15, 20, 25, 30, 35, 40, 45, 50, 55, 60, 65, 100]\n",
    "print(\"The largest is:\",max(List))"
   ]
  },
  {
   "cell_type": "code",
   "execution_count": 196,
   "id": "3e944c6f",
   "metadata": {},
   "outputs": [
    {
     "name": "stdout",
     "output_type": "stream",
     "text": [
      "100\n"
     ]
    }
   ],
   "source": [
    "#method 3\n",
    "def max_num_in_my_list (List):\n",
    "    max=List[0]\n",
    "    for num in List:\n",
    "        if num > max:\n",
    "            max=num\n",
    "    return max\n",
    "print(max_num_in_my_list([5, 10, 15, 20, 25, 30, 35, 40, 45, 50, 55, 60, 65, 100]))"
   ]
  },
  {
   "cell_type": "markdown",
   "id": "23d452ce",
   "metadata": {},
   "source": [
    "# Question 8\n",
    "#Write a python program to remove key from a dictionary."
   ]
  },
  {
   "cell_type": "code",
   "execution_count": 198,
   "id": "33423ed7",
   "metadata": {},
   "outputs": [
    {
     "name": "stdout",
     "output_type": "stream",
     "text": [
      "{'Fruit': 'Pawpaw', 'Price': 2000, 'Quantity': 10}\n",
      "{'Fruit': 'Pawpaw', 'Price': 2000}\n"
     ]
    }
   ],
   "source": [
    "#method 1\n",
    "dict= {\"Fruit\":\"Pawpaw\", \"Price\": 2000, \"Quantity\": 10 }\n",
    "print(dict)\n",
    "if \"Quantity\" in dict:\n",
    "    del dict[\"Quantity\"]\n",
    "print(dict)"
   ]
  },
  {
   "cell_type": "code",
   "execution_count": 201,
   "id": "fdf5ce0b",
   "metadata": {},
   "outputs": [
    {
     "name": "stdout",
     "output_type": "stream",
     "text": [
      "{'Fruit': 'Pawpaw', 'Price': 2000, 'Quantity': 10}\n",
      "{'Fruit': 'Pawpaw', 'Price': 2000}\n"
     ]
    }
   ],
   "source": [
    "#method 2\n",
    "dict= {\"Fruit\":\"Pawpaw\", \"Price\": 2000, \"Quantity\": 10 }\n",
    "print(dict)\n",
    "dict.pop(\"Quantity\")\n",
    "print(dict)"
   ]
  }
 ],
 "metadata": {
  "kernelspec": {
   "display_name": "Python 3 (ipykernel)",
   "language": "python",
   "name": "python3"
  },
  "language_info": {
   "codemirror_mode": {
    "name": "ipython",
    "version": 3
   },
   "file_extension": ".py",
   "mimetype": "text/x-python",
   "name": "python",
   "nbconvert_exporter": "python",
   "pygments_lexer": "ipython3",
   "version": "3.9.12"
  }
 },
 "nbformat": 4,
 "nbformat_minor": 5
}
