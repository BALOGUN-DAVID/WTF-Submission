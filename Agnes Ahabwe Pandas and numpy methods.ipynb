{
 "cells": [
  {
   "cell_type": "markdown",
   "id": "91ed4e26",
   "metadata": {},
   "source": [
    "20 inbuilt methods in Numpy"
   ]
  },
  {
   "cell_type": "code",
   "execution_count": 16,
   "id": "6b4880de",
   "metadata": {},
   "outputs": [
    {
     "data": {
      "text/plain": [
       "numpy.ndarray"
      ]
     },
     "execution_count": 16,
     "metadata": {},
     "output_type": "execute_result"
    }
   ],
   "source": [
    "#array method. returns output as an array\n",
    "import numpy as np\n",
    "x = [1, 8, 2, 3, 5]\n",
    "nums = np.array([1, 8, 2, 3, 5])\n",
    "type(nums)"
   ]
  },
  {
   "cell_type": "code",
   "execution_count": 17,
   "id": "8178afc1",
   "metadata": {},
   "outputs": [
    {
     "data": {
      "text/plain": [
       "array([ 2, 16,  4,  6, 10])"
      ]
     },
     "execution_count": 17,
     "metadata": {},
     "output_type": "execute_result"
    }
   ],
   "source": [
    "#arithmetic operation with arrays\n",
    "nums3 = nums + nums\n",
    "nums3"
   ]
  },
  {
   "cell_type": "code",
   "execution_count": 18,
   "id": "92ddc9ac",
   "metadata": {},
   "outputs": [
    {
     "name": "stdout",
     "output_type": "stream",
     "text": [
      "[0.         2.07944154 0.69314718 1.09861229 1.60943791]\n"
     ]
    }
   ],
   "source": [
    "#log function\n",
    "nums3 = np.log(nums)\n",
    "print(nums3)"
   ]
  },
  {
   "cell_type": "code",
   "execution_count": 19,
   "id": "34f6640d",
   "metadata": {},
   "outputs": [
    {
     "name": "stdout",
     "output_type": "stream",
     "text": [
      "[2.71828183e+00 2.98095799e+03 7.38905610e+00 2.00855369e+01\n",
      " 1.48413159e+02]\n"
     ]
    }
   ],
   "source": [
    "#exponential function\n",
    "nums3 = np.exp(nums)\n",
    "print(nums3)"
   ]
  },
  {
   "cell_type": "code",
   "execution_count": null,
   "id": "094edcea",
   "metadata": {},
   "outputs": [
    {
     "data": {
      "text/plain": [
       "array([3, 5, 7])"
      ]
     },
     "execution_count": 4,
     "metadata": {},
     "output_type": "execute_result"
    }
   ],
   "source": [
    "#arange method. takes the start and end index plus an optional step size.\n",
    "nums = np.arange(3,9,2)\n",
    "nums"
   ]
  },
  {
   "cell_type": "code",
   "execution_count": 42,
   "id": "a6cdb1b2",
   "metadata": {},
   "outputs": [
    {
     "name": "stdout",
     "output_type": "stream",
     "text": [
      "6\n"
     ]
    }
   ],
   "source": [
    "#indexing with one dimensional arrays\n",
    "nums = np.arange(3,9)\n",
    "print(nums[3])"
   ]
  },
  {
   "cell_type": "code",
   "execution_count": 43,
   "id": "047b0e3a",
   "metadata": {},
   "outputs": [
    {
     "name": "stdout",
     "output_type": "stream",
     "text": [
      "[4 5 6 7 8]\n"
     ]
    }
   ],
   "source": [
    "#print numbers in a range by indexing\n",
    "print(nums[1:6])"
   ]
  },
  {
   "cell_type": "code",
   "execution_count": 44,
   "id": "9ab46aa6",
   "metadata": {},
   "outputs": [
    {
     "data": {
      "text/plain": [
       "array([4, 6, 8])"
      ]
     },
     "execution_count": 44,
     "metadata": {},
     "output_type": "execute_result"
    }
   ],
   "source": [
    "#slicing. start index, stop index, step size\n",
    "nums[1:7:2]"
   ]
  },
  {
   "cell_type": "code",
   "execution_count": 32,
   "id": "63a5859d",
   "metadata": {},
   "outputs": [
    {
     "data": {
      "text/plain": [
       "array([[ 1,  2,  3],\n",
       "       [ 4,  5,  6],\n",
       "       [ 7,  8,  9],\n",
       "       [10, 11, 12]])"
      ]
     },
     "execution_count": 32,
     "metadata": {},
     "output_type": "execute_result"
    }
   ],
   "source": [
    "#reshape method. to convert 1d array into 2d array\n",
    "nums = np.arange(1,13)\n",
    "nums\n",
    "nums2=nums.reshape(4,3)\n",
    "nums2"
   ]
  },
  {
   "cell_type": "code",
   "execution_count": null,
   "metadata": {},
   "outputs": [
    {
     "data": {
      "text/plain": [
       "array([0., 0., 0., 0., 0., 0., 0., 0.])"
      ]
     },
     "execution_count": 10,
     "metadata": {},
     "output_type": "execute_result"
    }
   ],
   "source": [
    "#zeros method. creates an array of only zeroes\n",
    "zeroes = np.zeros(8)\n",
    "zeroes"
   ]
  },
  {
   "cell_type": "code",
   "execution_count": null,
   "id": "4fc917d2",
   "metadata": {},
   "outputs": [
    {
     "data": {
      "text/plain": [
       "array([[0., 0., 0., 0., 0.],\n",
       "       [0., 0., 0., 0., 0.],\n",
       "       [0., 0., 0., 0., 0.]])"
      ]
     },
     "execution_count": 13,
     "metadata": {},
     "output_type": "execute_result"
    }
   ],
   "source": [
    "#2 dimensional array of zeroes\n",
    "zeroes = np.zeros([3,5])\n",
    "zeroes"
   ]
  },
  {
   "cell_type": "code",
   "execution_count": null,
   "metadata": {},
   "outputs": [
    {
     "data": {
      "text/plain": [
       "array([1., 1., 1., 1.])"
      ]
     },
     "execution_count": 7,
     "metadata": {},
     "output_type": "execute_result"
    }
   ],
   "source": [
    "#ones method. creates an array of only ones\n",
    "ones = np.ones(4)\n",
    "ones"
   ]
  },
  {
   "cell_type": "code",
   "execution_count": null,
   "id": "bcff0c7b",
   "metadata": {},
   "outputs": [
    {
     "data": {
      "text/plain": [
       "array([[1., 1.],\n",
       "       [1., 1.]])"
      ]
     },
     "execution_count": 14,
     "metadata": {},
     "output_type": "execute_result"
    }
   ],
   "source": [
    "ones = np.ones([2,2])\n",
    "ones"
   ]
  },
  {
   "cell_type": "code",
   "execution_count": null,
   "metadata": {},
   "outputs": [
    {
     "data": {
      "text/plain": [
       "array([1.        , 1.44444444, 1.88888889, 2.33333333, 2.77777778,\n",
       "       3.22222222, 3.66666667, 4.11111111, 4.55555556, 5.        ])"
      ]
     },
     "execution_count": 18,
     "metadata": {},
     "output_type": "execute_result"
    }
   ],
   "source": [
    "#linspace method takes start and end indexes and number of linearly spaced numbers needed in a specified range\n",
    "linspace = np.linspace(1,5,10)\n",
    "linspace"
   ]
  },
  {
   "cell_type": "code",
   "execution_count": null,
   "metadata": {},
   "outputs": [
    {
     "data": {
      "text/plain": [
       "array([[1., 0., 0.],\n",
       "       [0., 1., 0.],\n",
       "       [0., 0., 1.]])"
      ]
     },
     "execution_count": 20,
     "metadata": {},
     "output_type": "execute_result"
    }
   ],
   "source": [
    "#eye method. used to make identity matrix\n",
    "idn = np.eye(3)\n",
    "idn"
   ]
  },
  {
   "cell_type": "code",
   "execution_count": null,
   "id": "12b11720",
   "metadata": {},
   "outputs": [
    {
     "data": {
      "text/plain": [
       "array([[0.09319346, 0.83142385, 0.51205973, 0.72307443],\n",
       "       [0.09501085, 0.45092956, 0.7861287 , 0.49893605]])"
      ]
     },
     "execution_count": 21,
     "metadata": {},
     "output_type": "execute_result"
    }
   ],
   "source": [
    "#random method. to create arrays with random numbers.\n",
    "random = np.random.rand(2,4)\n",
    "random"
   ]
  },
  {
   "cell_type": "code",
   "execution_count": null,
   "id": "7d716bda",
   "metadata": {},
   "outputs": [
    {
     "data": {
      "text/plain": [
       "array([[-0.33103789, -1.02503366,  0.21933478, -0.89119722],\n",
       "       [ 2.06676377, -0.87315649, -1.0346524 ,  0.49690136]])"
      ]
     },
     "execution_count": 22,
     "metadata": {},
     "output_type": "execute_result"
    }
   ],
   "source": [
    "#random method to return matrix of normal distribution\n",
    "random = np.random.randn(2,4)\n",
    "random"
   ]
  },
  {
   "cell_type": "code",
   "execution_count": null,
   "metadata": {},
   "outputs": [
    {
     "data": {
      "text/plain": [
       "array([11, 14, 12, 19])"
      ]
     },
     "execution_count": 26,
     "metadata": {},
     "output_type": "execute_result"
    }
   ],
   "source": [
    "#random method to create array for random integers.\n",
    "# upper and lower limits, and how many integers to \n",
    "# return are defined\n",
    "random = np.random.randint(10,20,4)\n",
    "random"
   ]
  },
  {
   "cell_type": "code",
   "execution_count": 35,
   "id": "534bb2a1",
   "metadata": {},
   "outputs": [
    {
     "data": {
      "text/plain": [
       "array([ 2, 23, 21, 36, 21, 49,  2, 43, 38, 25])"
      ]
     },
     "execution_count": 35,
     "metadata": {},
     "output_type": "execute_result"
    }
   ],
   "source": [
    "#min method\n",
    "random = np.random.randint(1,50,10)\n",
    "random"
   ]
  },
  {
   "cell_type": "code",
   "execution_count": 36,
   "metadata": {},
   "outputs": [
    {
     "data": {
      "text/plain": [
       "2"
      ]
     },
     "execution_count": 36,
     "metadata": {},
     "output_type": "execute_result"
    }
   ],
   "source": [
    "xmin = random.min()\n",
    "xmin"
   ]
  },
  {
   "cell_type": "code",
   "execution_count": 37,
   "metadata": {},
   "outputs": [
    {
     "data": {
      "text/plain": [
       "49"
      ]
     },
     "execution_count": 37,
     "metadata": {},
     "output_type": "execute_result"
    }
   ],
   "source": [
    "xmax = random.max()\n",
    "xmax"
   ]
  },
  {
   "cell_type": "code",
   "execution_count": 38,
   "id": "2cdc6736",
   "metadata": {},
   "outputs": [
    {
     "name": "stdout",
     "output_type": "stream",
     "text": [
      "5\n"
     ]
    }
   ],
   "source": [
    "#arg method to return the index of the minimum and maximum values\n",
    "print(random.argmax())"
   ]
  },
  {
   "cell_type": "code",
   "execution_count": 39,
   "id": "2607b8a2",
   "metadata": {},
   "outputs": [
    {
     "name": "stdout",
     "output_type": "stream",
     "text": [
      "0\n"
     ]
    }
   ],
   "source": [
    "print(random.argmin())"
   ]
  },
  {
   "cell_type": "markdown",
   "id": "946a5e0f",
   "metadata": {},
   "source": [
    "20 inbuilt pandas methods"
   ]
  },
  {
   "cell_type": "code",
   "execution_count": 21,
   "id": "79eb3e64",
   "metadata": {},
   "outputs": [],
   "source": [
    "import numpy as np\n",
    "import pandas as pd"
   ]
  },
  {
   "cell_type": "code",
   "execution_count": 26,
   "id": "8341357a",
   "metadata": {},
   "outputs": [
    {
     "name": "stdout",
     "output_type": "stream",
     "text": [
      "{'x': 13, 'y': 69, 'z': 42}\n"
     ]
    }
   ],
   "source": [
    "#labels method\n",
    "labels = [\"x\",\"y\",\"z\"]\n",
    "list = [13, 69, 42]\n",
    "arr = np.array([13, 69, 42])\n",
    "w = {\"x\":13, \"y\":69, \"z\":42}\n",
    "print(w)"
   ]
  },
  {
   "cell_type": "code",
   "execution_count": 29,
   "id": "904b6e27",
   "metadata": {},
   "outputs": [
    {
     "data": {
      "text/plain": [
       "0    13\n",
       "1    69\n",
       "2    42\n",
       "dtype: int64"
      ]
     },
     "execution_count": 29,
     "metadata": {},
     "output_type": "execute_result"
    }
   ],
   "source": [
    "# Creating a series\n",
    "pd.Series(data = list)\n"
   ]
  },
  {
   "cell_type": "code",
   "execution_count": 30,
   "id": "dd47029d",
   "metadata": {},
   "outputs": [
    {
     "data": {
      "text/html": [
       "<div>\n",
       "<style scoped>\n",
       "    .dataframe tbody tr th:only-of-type {\n",
       "        vertical-align: middle;\n",
       "    }\n",
       "\n",
       "    .dataframe tbody tr th {\n",
       "        vertical-align: top;\n",
       "    }\n",
       "\n",
       "    .dataframe thead th {\n",
       "        text-align: right;\n",
       "    }\n",
       "</style>\n",
       "<table border=\"1\" class=\"dataframe\">\n",
       "  <thead>\n",
       "    <tr style=\"text-align: right;\">\n",
       "      <th></th>\n",
       "      <th>Name</th>\n",
       "      <th>Age</th>\n",
       "      <th>Salary</th>\n",
       "    </tr>\n",
       "  </thead>\n",
       "  <tbody>\n",
       "    <tr>\n",
       "      <th>0</th>\n",
       "      <td>Elish</td>\n",
       "      <td>95</td>\n",
       "      <td>100000</td>\n",
       "    </tr>\n",
       "    <tr>\n",
       "      <th>1</th>\n",
       "      <td>Sanguine</td>\n",
       "      <td>75</td>\n",
       "      <td>20000</td>\n",
       "    </tr>\n",
       "    <tr>\n",
       "      <th>2</th>\n",
       "      <td>Drake</td>\n",
       "      <td>72</td>\n",
       "      <td>40000</td>\n",
       "    </tr>\n",
       "    <tr>\n",
       "      <th>3</th>\n",
       "      <td>Jade</td>\n",
       "      <td>19</td>\n",
       "      <td>10000</td>\n",
       "    </tr>\n",
       "  </tbody>\n",
       "</table>\n",
       "</div>"
      ],
      "text/plain": [
       "       Name  Age  Salary\n",
       "0     Elish   95  100000\n",
       "1  Sanguine   75   20000\n",
       "2     Drake   72   40000\n",
       "3      Jade   19   10000"
      ]
     },
     "execution_count": 30,
     "metadata": {},
     "output_type": "execute_result"
    }
   ],
   "source": [
    "#creating a dataframe\n",
    "chimeras = pd.DataFrame({\"Name\":[\"Elish\", \"Sanguine\", \"Drake\", \"Jade\"], \"Age\": [95,75,72,19], \"Salary\": [100000, 20000, 40000, 10000],})\n",
    "chimeras"
   ]
  },
  {
   "cell_type": "code",
   "execution_count": 33,
   "id": "b48935d9",
   "metadata": {},
   "outputs": [
    {
     "data": {
      "text/plain": [
       "100000"
      ]
     },
     "execution_count": 33,
     "metadata": {},
     "output_type": "execute_result"
    }
   ],
   "source": [
    "#find the largest value in dataframe\n",
    "chimeras[\"Salary\"].max()"
   ]
  },
  {
   "cell_type": "code",
   "execution_count": 34,
   "id": "4b37a2cb",
   "metadata": {},
   "outputs": [
    {
     "data": {
      "text/plain": [
       "95"
      ]
     },
     "execution_count": 34,
     "metadata": {},
     "output_type": "execute_result"
    }
   ],
   "source": [
    "#find smallest value in dataframe\n",
    "chimeras[\"Age\"].max()"
   ]
  },
  {
   "cell_type": "code",
   "execution_count": 35,
   "id": "dc13de47",
   "metadata": {},
   "outputs": [
    {
     "data": {
      "text/html": [
       "<div>\n",
       "<style scoped>\n",
       "    .dataframe tbody tr th:only-of-type {\n",
       "        vertical-align: middle;\n",
       "    }\n",
       "\n",
       "    .dataframe tbody tr th {\n",
       "        vertical-align: top;\n",
       "    }\n",
       "\n",
       "    .dataframe thead th {\n",
       "        text-align: right;\n",
       "    }\n",
       "</style>\n",
       "<table border=\"1\" class=\"dataframe\">\n",
       "  <thead>\n",
       "    <tr style=\"text-align: right;\">\n",
       "      <th></th>\n",
       "      <th>Age</th>\n",
       "      <th>Salary</th>\n",
       "    </tr>\n",
       "  </thead>\n",
       "  <tbody>\n",
       "    <tr>\n",
       "      <th>count</th>\n",
       "      <td>4.000000</td>\n",
       "      <td>4.000000</td>\n",
       "    </tr>\n",
       "    <tr>\n",
       "      <th>mean</th>\n",
       "      <td>65.250000</td>\n",
       "      <td>42500.000000</td>\n",
       "    </tr>\n",
       "    <tr>\n",
       "      <th>std</th>\n",
       "      <td>32.479481</td>\n",
       "      <td>40311.288741</td>\n",
       "    </tr>\n",
       "    <tr>\n",
       "      <th>min</th>\n",
       "      <td>19.000000</td>\n",
       "      <td>10000.000000</td>\n",
       "    </tr>\n",
       "    <tr>\n",
       "      <th>25%</th>\n",
       "      <td>58.750000</td>\n",
       "      <td>17500.000000</td>\n",
       "    </tr>\n",
       "    <tr>\n",
       "      <th>50%</th>\n",
       "      <td>73.500000</td>\n",
       "      <td>30000.000000</td>\n",
       "    </tr>\n",
       "    <tr>\n",
       "      <th>75%</th>\n",
       "      <td>80.000000</td>\n",
       "      <td>55000.000000</td>\n",
       "    </tr>\n",
       "    <tr>\n",
       "      <th>max</th>\n",
       "      <td>95.000000</td>\n",
       "      <td>100000.000000</td>\n",
       "    </tr>\n",
       "  </tbody>\n",
       "</table>\n",
       "</div>"
      ],
      "text/plain": [
       "             Age         Salary\n",
       "count   4.000000       4.000000\n",
       "mean   65.250000   42500.000000\n",
       "std    32.479481   40311.288741\n",
       "min    19.000000   10000.000000\n",
       "25%    58.750000   17500.000000\n",
       "50%    73.500000   30000.000000\n",
       "75%    80.000000   55000.000000\n",
       "max    95.000000  100000.000000"
      ]
     },
     "execution_count": 35,
     "metadata": {},
     "output_type": "execute_result"
    }
   ],
   "source": [
    "#describe. generating desriptvie statistics\n",
    "chimeras.describe()"
   ]
  },
  {
   "cell_type": "code",
   "execution_count": 36,
   "id": "444bd74b",
   "metadata": {},
   "outputs": [
    {
     "data": {
      "text/plain": [
       "Name      object\n",
       "Age        int64\n",
       "Salary     int64\n",
       "dtype: object"
      ]
     },
     "execution_count": 36,
     "metadata": {},
     "output_type": "execute_result"
    }
   ],
   "source": [
    "#dtypes\n",
    "chimeras.dtypes"
   ]
  },
  {
   "cell_type": "code",
   "execution_count": 37,
   "id": "f785aa24",
   "metadata": {},
   "outputs": [
    {
     "data": {
      "text/html": [
       "<div>\n",
       "<style scoped>\n",
       "    .dataframe tbody tr th:only-of-type {\n",
       "        vertical-align: middle;\n",
       "    }\n",
       "\n",
       "    .dataframe tbody tr th {\n",
       "        vertical-align: top;\n",
       "    }\n",
       "\n",
       "    .dataframe thead th {\n",
       "        text-align: right;\n",
       "    }\n",
       "</style>\n",
       "<table border=\"1\" class=\"dataframe\">\n",
       "  <thead>\n",
       "    <tr style=\"text-align: right;\">\n",
       "      <th></th>\n",
       "      <th>Name</th>\n",
       "      <th>Age</th>\n",
       "      <th>Salary</th>\n",
       "    </tr>\n",
       "  </thead>\n",
       "  <tbody>\n",
       "    <tr>\n",
       "      <th>0</th>\n",
       "      <td>Elish</td>\n",
       "      <td>95</td>\n",
       "      <td>100000</td>\n",
       "    </tr>\n",
       "    <tr>\n",
       "      <th>1</th>\n",
       "      <td>Sanguine</td>\n",
       "      <td>75</td>\n",
       "      <td>20000</td>\n",
       "    </tr>\n",
       "  </tbody>\n",
       "</table>\n",
       "</div>"
      ],
      "text/plain": [
       "       Name  Age  Salary\n",
       "0     Elish   95  100000\n",
       "1  Sanguine   75   20000"
      ]
     },
     "execution_count": 37,
     "metadata": {},
     "output_type": "execute_result"
    }
   ],
   "source": [
    "#head method. returns required number of rows\n",
    "chimeras.head(2)"
   ]
  },
  {
   "cell_type": "code",
   "execution_count": 38,
   "id": "2da273c2",
   "metadata": {},
   "outputs": [
    {
     "data": {
      "text/plain": [
       "<bound method DataFrame.info of        Name  Age  Salary\n",
       "0     Elish   95  100000\n",
       "1  Sanguine   75   20000\n",
       "2     Drake   72   40000\n",
       "3      Jade   19   10000>"
      ]
     },
     "execution_count": 38,
     "metadata": {},
     "output_type": "execute_result"
    }
   ],
   "source": [
    "#print summary of data frama\n",
    "chimeras.info"
   ]
  },
  {
   "cell_type": "code",
   "execution_count": 39,
   "id": "35851893",
   "metadata": {},
   "outputs": [
    {
     "data": {
      "text/plain": [
       "65.25"
      ]
     },
     "execution_count": 39,
     "metadata": {},
     "output_type": "execute_result"
    }
   ],
   "source": [
    "#calculate mean of values in data frame\n",
    "chimeras[\"Age\"].mean()"
   ]
  },
  {
   "cell_type": "code",
   "execution_count": 40,
   "id": "13825f2e",
   "metadata": {},
   "outputs": [
    {
     "data": {
      "text/plain": [
       "30000.0"
      ]
     },
     "execution_count": 40,
     "metadata": {},
     "output_type": "execute_result"
    }
   ],
   "source": [
    "#median value in data frame\n",
    "chimeras[\"Salary\"].median()"
   ]
  },
  {
   "cell_type": "code",
   "execution_count": 42,
   "id": "b02336ea",
   "metadata": {},
   "outputs": [
    {
     "data": {
      "text/plain": [
       "0       ELISH\n",
       "1    SANGUINE\n",
       "2       DRAKE\n",
       "3        JADE\n",
       "Name: Name, dtype: object"
      ]
     },
     "execution_count": 42,
     "metadata": {},
     "output_type": "execute_result"
    }
   ],
   "source": [
    "#changing a string to lower case or uppercase\n",
    "chimeras[\"Name\"].str.upper()"
   ]
  },
  {
   "cell_type": "code",
   "execution_count": 43,
   "id": "b2b384d0",
   "metadata": {},
   "outputs": [
    {
     "data": {
      "text/plain": [
       "0       Elish\n",
       "1    Sanguine\n",
       "2       Drake\n",
       "3        Jade\n",
       "Name: Name, dtype: object"
      ]
     },
     "execution_count": 43,
     "metadata": {},
     "output_type": "execute_result"
    }
   ],
   "source": [
    "#capitalize first letter of items in string\n",
    "chimeras[\"Name\"].str.capitalize()"
   ]
  },
  {
   "cell_type": "code",
   "execution_count": 44,
   "id": "db4e3c60",
   "metadata": {},
   "outputs": [
    {
     "data": {
      "text/plain": [
       "0    False\n",
       "1    False\n",
       "2    False\n",
       "3    False\n",
       "Name: Name, dtype: bool"
      ]
     },
     "execution_count": 44,
     "metadata": {},
     "output_type": "execute_result"
    }
   ],
   "source": [
    "# looks up a value and returns true or false if the value is there or not\n",
    "chimeras[\"Name\"].str.contains(\"Silas\")"
   ]
  },
  {
   "cell_type": "code",
   "execution_count": 46,
   "id": "30b7f545",
   "metadata": {},
   "outputs": [
    {
     "data": {
      "text/plain": [
       "0     True\n",
       "1    False\n",
       "2    False\n",
       "3    False\n",
       "Name: Name, dtype: bool"
      ]
     },
     "execution_count": 46,
     "metadata": {},
     "output_type": "execute_result"
    }
   ],
   "source": [
    "#look up value and return true for where the value is and false for where it is not\n",
    "chimeras[\"Name\"].str.contains(\"Elish\")"
   ]
  },
  {
   "cell_type": "code",
   "execution_count": 47,
   "id": "43bbaa60",
   "metadata": {},
   "outputs": [
    {
     "data": {
      "text/plain": [
       "0    5\n",
       "1    8\n",
       "2    5\n",
       "3    4\n",
       "Name: Name, dtype: int64"
      ]
     },
     "execution_count": 47,
     "metadata": {},
     "output_type": "execute_result"
    }
   ],
   "source": [
    "#finds the number of characters in a string\n",
    "chimeras[\"Name\"].str.len()"
   ]
  },
  {
   "cell_type": "code",
   "execution_count": 48,
   "id": "52c30399",
   "metadata": {},
   "outputs": [
    {
     "data": {
      "text/plain": [
       "1"
      ]
     },
     "execution_count": 48,
     "metadata": {},
     "output_type": "execute_result"
    }
   ],
   "source": [
    "#returns the index with the longest characters\n",
    "chimeras[\"Name\"].str.len().idxmax()"
   ]
  },
  {
   "cell_type": "code",
   "execution_count": 50,
   "id": "97747af4",
   "metadata": {},
   "outputs": [
    {
     "data": {
      "text/plain": [
       "Joaquin    1\n",
       "Apollo     2\n",
       "Artemis    3\n",
       "Ares       4\n",
       "Reaver     5\n",
       "dtype: int64"
      ]
     },
     "execution_count": 50,
     "metadata": {},
     "output_type": "execute_result"
    }
   ],
   "source": [
    "#using index\n",
    "brothers = pd.Series([1,2,3,4,5], index = [\"Joaquin\", \"Apollo\", \"Artemis\", \"Ares\", \"Reaver\"])\n",
    "brothers\n"
   ]
  },
  {
   "cell_type": "code",
   "execution_count": 53,
   "id": "a2bbfc10",
   "metadata": {},
   "outputs": [
    {
     "data": {
      "text/plain": [
       "Elish    200\n",
       "Ellis    213\n",
       "Nero     137\n",
       "dtype: int64"
      ]
     },
     "execution_count": 53,
     "metadata": {},
     "output_type": "execute_result"
    }
   ],
   "source": [
    "# adding two series\n",
    "gen1_IQ = pd.Series([95,93,65], index = [\"Elish\", \"Ellis\", \"Nero\"])\n",
    "gen1_IQ1 = pd.Series([105,120,72], index = [\"Elish\", \"Ellis\", \"Nero\"] )\n",
    "gen1_IQ + gen1_IQ1"
   ]
  },
  {
   "cell_type": "code",
   "execution_count": 54,
   "id": "29c50964",
   "metadata": {},
   "outputs": [],
   "source": [
    "from numpy.random import randn\n",
    "np.random.seed(50)"
   ]
  },
  {
   "cell_type": "code",
   "execution_count": 56,
   "id": "f3c4c066",
   "metadata": {},
   "outputs": [
    {
     "data": {
      "text/html": [
       "<div>\n",
       "<style scoped>\n",
       "    .dataframe tbody tr th:only-of-type {\n",
       "        vertical-align: middle;\n",
       "    }\n",
       "\n",
       "    .dataframe tbody tr th {\n",
       "        vertical-align: top;\n",
       "    }\n",
       "\n",
       "    .dataframe thead th {\n",
       "        text-align: right;\n",
       "    }\n",
       "</style>\n",
       "<table border=\"1\" class=\"dataframe\">\n",
       "  <thead>\n",
       "    <tr style=\"text-align: right;\">\n",
       "      <th></th>\n",
       "      <th>S</th>\n",
       "      <th>P</th>\n",
       "      <th>Q</th>\n",
       "      <th>R</th>\n",
       "    </tr>\n",
       "  </thead>\n",
       "  <tbody>\n",
       "    <tr>\n",
       "      <th>F</th>\n",
       "      <td>0.139531</td>\n",
       "      <td>0.285469</td>\n",
       "      <td>-0.281262</td>\n",
       "      <td>1.710907</td>\n",
       "    </tr>\n",
       "    <tr>\n",
       "      <th>G</th>\n",
       "      <td>-0.149767</td>\n",
       "      <td>0.690307</td>\n",
       "      <td>1.095210</td>\n",
       "      <td>1.338409</td>\n",
       "    </tr>\n",
       "    <tr>\n",
       "      <th>H</th>\n",
       "      <td>-1.368982</td>\n",
       "      <td>0.486428</td>\n",
       "      <td>0.753522</td>\n",
       "      <td>0.363465</td>\n",
       "    </tr>\n",
       "    <tr>\n",
       "      <th>J</th>\n",
       "      <td>-0.314710</td>\n",
       "      <td>1.373281</td>\n",
       "      <td>-0.624417</td>\n",
       "      <td>0.375754</td>\n",
       "    </tr>\n",
       "    <tr>\n",
       "      <th>K</th>\n",
       "      <td>-0.200416</td>\n",
       "      <td>0.743038</td>\n",
       "      <td>0.857362</td>\n",
       "      <td>-1.506189</td>\n",
       "    </tr>\n",
       "  </tbody>\n",
       "</table>\n",
       "</div>"
      ],
      "text/plain": [
       "          S         P         Q         R\n",
       "F  0.139531  0.285469 -0.281262  1.710907\n",
       "G -0.149767  0.690307  1.095210  1.338409\n",
       "H -1.368982  0.486428  0.753522  0.363465\n",
       "J -0.314710  1.373281 -0.624417  0.375754\n",
       "K -0.200416  0.743038  0.857362 -1.506189"
      ]
     },
     "execution_count": 56,
     "metadata": {},
     "output_type": "execute_result"
    }
   ],
   "source": [
    "#arranges data into rows and columns\n",
    "df = pd.DataFrame(randn(5,4), index = 'F G H J K '.split(), columns = 'S P Q R'.split())\n",
    "df"
   ]
  },
  {
   "cell_type": "code",
   "execution_count": 57,
   "id": "be8532a1",
   "metadata": {},
   "outputs": [
    {
     "data": {
      "text/html": [
       "<div>\n",
       "<style scoped>\n",
       "    .dataframe tbody tr th:only-of-type {\n",
       "        vertical-align: middle;\n",
       "    }\n",
       "\n",
       "    .dataframe tbody tr th {\n",
       "        vertical-align: top;\n",
       "    }\n",
       "\n",
       "    .dataframe thead th {\n",
       "        text-align: right;\n",
       "    }\n",
       "</style>\n",
       "<table border=\"1\" class=\"dataframe\">\n",
       "  <thead>\n",
       "    <tr style=\"text-align: right;\">\n",
       "      <th></th>\n",
       "      <th>S</th>\n",
       "      <th>P</th>\n",
       "      <th>Q</th>\n",
       "    </tr>\n",
       "  </thead>\n",
       "  <tbody>\n",
       "    <tr>\n",
       "      <th>F</th>\n",
       "      <td>0.139531</td>\n",
       "      <td>0.285469</td>\n",
       "      <td>-0.281262</td>\n",
       "    </tr>\n",
       "    <tr>\n",
       "      <th>G</th>\n",
       "      <td>-0.149767</td>\n",
       "      <td>0.690307</td>\n",
       "      <td>1.095210</td>\n",
       "    </tr>\n",
       "    <tr>\n",
       "      <th>H</th>\n",
       "      <td>-1.368982</td>\n",
       "      <td>0.486428</td>\n",
       "      <td>0.753522</td>\n",
       "    </tr>\n",
       "    <tr>\n",
       "      <th>J</th>\n",
       "      <td>-0.314710</td>\n",
       "      <td>1.373281</td>\n",
       "      <td>-0.624417</td>\n",
       "    </tr>\n",
       "    <tr>\n",
       "      <th>K</th>\n",
       "      <td>-0.200416</td>\n",
       "      <td>0.743038</td>\n",
       "      <td>0.857362</td>\n",
       "    </tr>\n",
       "  </tbody>\n",
       "</table>\n",
       "</div>"
      ],
      "text/plain": [
       "          S         P         Q\n",
       "F  0.139531  0.285469 -0.281262\n",
       "G -0.149767  0.690307  1.095210\n",
       "H -1.368982  0.486428  0.753522\n",
       "J -0.314710  1.373281 -0.624417\n",
       "K -0.200416  0.743038  0.857362"
      ]
     },
     "execution_count": 57,
     "metadata": {},
     "output_type": "execute_result"
    }
   ],
   "source": [
    "#removing a column from a data frame\n",
    "new = df.drop(\"R\", axis = 1)\n",
    "new"
   ]
  },
  {
   "cell_type": "code",
   "execution_count": 58,
   "id": "2b9179f0",
   "metadata": {},
   "outputs": [
    {
     "data": {
      "text/plain": [
       "S   -1.368982\n",
       "P    0.486428\n",
       "Q    0.753522\n",
       "Name: H, dtype: float64"
      ]
     },
     "execution_count": 58,
     "metadata": {},
     "output_type": "execute_result"
    }
   ],
   "source": [
    "# loc method. indexes and returns its elements\n",
    "new.loc[\"H\"]"
   ]
  },
  {
   "cell_type": "code",
   "execution_count": 63,
   "id": "c2808eaf",
   "metadata": {},
   "outputs": [
    {
     "data": {
      "text/plain": [
       "S   -0.149767\n",
       "P    0.690307\n",
       "Q    1.095210\n",
       "Name: G, dtype: float64"
      ]
     },
     "execution_count": 63,
     "metadata": {},
     "output_type": "execute_result"
    }
   ],
   "source": [
    "#iloc method. uses index to look up values\n",
    "new.iloc[1]"
   ]
  }
 ],
 "metadata": {
  "kernelspec": {
   "display_name": "Python 3.9.12 ('base')",
   "language": "python",
   "name": "python3"
  },
  "language_info": {
   "codemirror_mode": {
    "name": "ipython",
    "version": 3
   },
   "file_extension": ".py",
   "mimetype": "text/x-python",
   "name": "python",
   "nbconvert_exporter": "python",
   "pygments_lexer": "ipython3",
   "version": "3.9.12"
  },
  "vscode": {
   "interpreter": {
    "hash": "d418518a19425454e35a770d2b796f9f5c34dc43fc11edf2d9aad56d21e6ec76"
   }
  }
 },
 "nbformat": 4,
 "nbformat_minor": 5
}
