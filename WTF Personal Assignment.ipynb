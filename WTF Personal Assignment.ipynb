{
 "cells": [
  {
   "cell_type": "markdown",
   "id": "a91fa1e1",
   "metadata": {},
   "source": [
    "# WT FELLOWSHIP PERSONAL WORK\n",
    "\n",
    "### 1) Print all elements of a list using for loop\n"
   ]
  },
  {
   "cell_type": "code",
   "execution_count": 1,
   "id": "32cf45d7",
   "metadata": {
    "scrolled": false
   },
   "outputs": [
    {
     "name": "stdout",
     "output_type": "stream",
     "text": [
      "mango\n",
      "apple\n",
      "pawpaw\n",
      "banana\n",
      "cherry\n"
     ]
    }
   ],
   "source": [
    "fruits = [\"mango\", \"apple\", \"pawpaw\", \"banana\", \"cherry\"]\n",
    "for x in fruits:\n",
    "  print(x)"
   ]
  },
  {
   "cell_type": "markdown",
   "id": "0f3c0707",
   "metadata": {},
   "source": [
    "### 2)A company decided to give bonus of 5% to employee if his/her year of service is more than 5 years. Ask user for their salary and year of service and print the net bonus amount.\n"
   ]
  },
  {
   "cell_type": "code",
   "execution_count": 14,
   "id": "61059e8c",
   "metadata": {},
   "outputs": [
    {
     "name": "stdout",
     "output_type": "stream",
     "text": [
      "How much do you earn?: 2000\n",
      "\n",
      "How many years of service do you have?: 6\n",
      "\n",
      "Your net bonus amount is 100 + 2000 = 2100\n"
     ]
    }
   ],
   "source": [
    "salary = int(input(\"How much do you earn?: \"))\n",
    "print()\n",
    "years_of_service = int(input(\"How many years of service do you have?: \"))\n",
    "print()\n",
    "if years_of_service > 5:\n",
    "    print (\"Your net bonus amount is \" + str(int(salary * 0.05)) + \" + \" + str(salary) + \" = \"+ str(int(salary * 0.05 + salary)))\n",
    "else :\n",
    "    print(\"You do not have net bonus but your salary is \" + str(int(salary)))"
   ]
  },
  {
   "cell_type": "code",
   "execution_count": 15,
   "id": "d3ca3914",
   "metadata": {},
   "outputs": [
    {
     "name": "stdout",
     "output_type": "stream",
     "text": [
      "How much do you earn?\n",
      "2000\n",
      "\n",
      "How many years of service do you have?\n",
      "6\n",
      "\n",
      "Your net bonus amount is 100 + 2000 = 2100\n"
     ]
    }
   ],
   "source": [
    "print (\"How much do you earn?\")\n",
    "salary = int(input())\n",
    "print()\n",
    "print (\"How many years of service do you have?\")\n",
    "years_of_service = int(input())\n",
    "print()\n",
    "if years_of_service > 5:\n",
    "    print (\"Your net bonus amount is \" + str(int(salary * 0.05)) + \" + \" + str(salary) + \" = \" + str(int(salary * 0.05 + salary)))\n",
    "else :\n",
    "    print(\"You do not have net bonus but your salary is \" + str(int(salary)))"
   ]
  },
  {
   "cell_type": "markdown",
   "id": "b0103679",
   "metadata": {},
   "source": [
    "### 3) Take input of age of 3 people by user and determine oldest and youngest among them."
   ]
  },
  {
   "cell_type": "code",
   "execution_count": 8,
   "id": "7cf629df",
   "metadata": {},
   "outputs": [
    {
     "name": "stdout",
     "output_type": "stream",
     "text": [
      "Hi... How old are you?: 20\n",
      "\n",
      "Hey... How old are you?: 22\n",
      "\n",
      "Hello... How old are you?: 23\n",
      "\n",
      "The youngest is 20years old\n",
      "\n",
      "The oldest is 23years old\n"
     ]
    }
   ],
   "source": [
    "user_1 = int(input(\"Hi... How old are you?: \"))\n",
    "print()\n",
    "user_2 = int(input(\"Hey... How old are you?: \"))\n",
    "print()\n",
    "user_3 = int(input(\"Hello... How old are you?: \"))\n",
    "print()\n",
    "\n",
    "Age = (user_1,user_2,user_3)\n",
    "\n",
    "print(\"The youngest is \" + str(min(Age)) + \"years old\")\n",
    "print()\n",
    "print(\"The oldest is \" + str(max(Age)) + \"years old\")"
   ]
  },
  {
   "cell_type": "code",
   "execution_count": null,
   "id": "98af99e8",
   "metadata": {},
   "outputs": [],
   "source": [
    "print(\"Hi... How old are you?\")\n",
    "user_1 = int(input())\n",
    "print()\n",
    "print(\"Hey... How old are you?\")\n",
    "user_2 = int(input())\n",
    "print()\n",
    "print(\"Hello... How old are you?\")\n",
    "user_3 = int(input())\n",
    "print()\n",
    "\n",
    "Age = (user_1,user_2,user_3)\n",
    "\n",
    "print(\"The youngest is \" + str(min(Age)) + \"years old\")\n",
    "print()\n",
    "print(\"The oldest is \" + str(max(Age)) + \"years old\")"
   ]
  },
  {
   "cell_type": "markdown",
   "id": "eb069654",
   "metadata": {},
   "source": [
    "### 4) A school has following rules for grading system:\n",
    "#### a. Below 25 - F\n",
    "#### b. 25 to 45 - E\n",
    "#### c. 45 to 50 - D\n",
    "#### d. 50 to 60 - C\n",
    "#### e. 60 to 80 - B\n",
    "#### f. Above 80 - A\n",
    "### Ask user to enter marks and print the corresponding grade."
   ]
  },
  {
   "cell_type": "code",
   "execution_count": 4,
   "id": "a9b1e35d",
   "metadata": {},
   "outputs": [
    {
     "name": "stdout",
     "output_type": "stream",
     "text": [
      "Please enter your score: 56\n",
      "Good! You had a C\n"
     ]
    }
   ],
   "source": [
    "score = int(input(\"Please enter your score: \"))\n",
    "\n",
    "if score > 80:\n",
    "    print(\"Genius!!! You had an A\")\n",
    "elif score >= 60 and score <= 80:\n",
    "    print(\"Great!! You had a B\")\n",
    "elif score >= 50 and score <= 60:\n",
    "    print(\"Good! You had a C\")\n",
    "elif score >= 45 and score <= 50:\n",
    "    print(\"Pass. You had a D\")\n",
    "elif score >= 25 and score <= 45:\n",
    "    print(\"Poor. You had an E\")\n",
    "elif score < 25:\n",
    "    print(\"Fail. You had a F\")"
   ]
  },
  {
   "cell_type": "markdown",
   "id": "51ca71f1",
   "metadata": {},
   "source": [
    "### Write a Python script to merge two Python dictionaries\n"
   ]
  },
  {
   "cell_type": "code",
   "execution_count": 5,
   "id": "0b0de525",
   "metadata": {
    "scrolled": true
   },
   "outputs": [
    {
     "name": "stdout",
     "output_type": "stream",
     "text": [
      "Updated dictionary:\n",
      "{'first_name': 'Adeola', 'state': 'Ogun', 'color': 'black', 'drink': 'Fanta', 'tribe': 'Yoruba', 'complextion': 'Dark', 'language': 'English'}\n"
     ]
    }
   ],
   "source": [
    "dict_1 = {\"first_name\":\"Adeola\", \"state\":\"Ogun\", \"color\":\"black\", \"drink\":\"Fanta\"}\n",
    "dict_2 = {\"tribe\":\"Yoruba\", \"complextion\":\"Dark\", \"language\":\"English\"} \n",
    "dict_1.update(dict_2)\n",
    "print('Updated dictionary:')\n",
    "print(dict_1)"
   ]
  },
  {
   "cell_type": "markdown",
   "id": "04760141",
   "metadata": {},
   "source": [
    "### 7) Write a python program to get the largest number from a list "
   ]
  },
  {
   "cell_type": "code",
   "execution_count": 6,
   "id": "4d638ccc",
   "metadata": {},
   "outputs": [
    {
     "name": "stdout",
     "output_type": "stream",
     "text": [
      "500\n"
     ]
    }
   ],
   "source": [
    "numbers = (2,8.4,8,12.05,20,56,10.1,500,70)\n",
    "print(max(numbers))"
   ]
  },
  {
   "cell_type": "markdown",
   "id": "6e5d9f87",
   "metadata": {},
   "source": [
    "### 8) Write a python program to remove a key from a dictionary"
   ]
  },
  {
   "cell_type": "code",
   "execution_count": 7,
   "id": "c7f3a5fd",
   "metadata": {},
   "outputs": [
    {
     "name": "stdout",
     "output_type": "stream",
     "text": [
      "{'Adeola': 32, 'Elizabeth': 23, 'Olawale': 27, 'Precious': 20, 'Chuchu': 5, 'Eri': 16}\n",
      "{'Adeola': 32, 'Elizabeth': 23, 'Olawale': 27, 'Precious': 20, 'Eri': 16}\n"
     ]
    }
   ],
   "source": [
    "names_and_age = {'Adeola':32, 'Elizabeth': 23, 'Olawale': 27, 'Precious': 20, 'Chuchu': 5, 'Eri': 16}\n",
    "print(names_and_age)\n",
    "removed_value = names_and_age.pop('Chuchu')\n",
    "print(names_and_age)"
   ]
  }
 ],
 "metadata": {
  "kernelspec": {
   "display_name": "Python 3 (ipykernel)",
   "language": "python",
   "name": "python3"
  },
  "language_info": {
   "codemirror_mode": {
    "name": "ipython",
    "version": 3
   },
   "file_extension": ".py",
   "mimetype": "text/x-python",
   "name": "python",
   "nbconvert_exporter": "python",
   "pygments_lexer": "ipython3",
   "version": "3.9.12"
  }
 },
 "nbformat": 4,
 "nbformat_minor": 5
}
