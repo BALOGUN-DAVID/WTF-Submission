{
 "cells": [
  {
   "cell_type": "markdown",
   "id": "d54d45ce",
   "metadata": {},
   "source": [
    "# print all elements of a list using for loop"
   ]
  },
  {
   "cell_type": "code",
   "execution_count": 1,
   "id": "6f35a4b6",
   "metadata": {},
   "outputs": [
    {
     "name": "stdout",
     "output_type": "stream",
     "text": [
      "James\n",
      "Otobong\n",
      "Temitayo\n",
      "Blessing\n",
      "Benard\n",
      "Anthony\n",
      "Isangha\n",
      "Hilary\n",
      "Opeoluwa\n",
      "Victory\n"
     ]
    }
   ],
   "source": [
    "myList = ['James', 'Otobong', 'Temitayo', 'Blessing', 'Benard', 'Anthony', 'Isangha', 'Hilary', 'Opeoluwa', 'Victory']\n",
    "\n",
    "for student in myList:\n",
    "    print(student)"
   ]
  },
  {
   "cell_type": "markdown",
   "id": "5a2d5b07",
   "metadata": {},
   "source": [
    "# using range(1,101), make two list, one containing all even numbers and other containing all odd numbers\n",
    "\n"
   ]
  },
  {
   "cell_type": "code",
   "execution_count": 21,
   "id": "5cd2c9af",
   "metadata": {},
   "outputs": [
    {
     "name": "stdout",
     "output_type": "stream",
     "text": [
      "Even numbers between 1 and 101 are:\n",
      "2\n",
      "4\n",
      "6\n",
      "8\n",
      "10\n",
      "12\n",
      "14\n",
      "16\n",
      "18\n",
      "20\n",
      "22\n",
      "24\n",
      "26\n",
      "28\n",
      "30\n",
      "32\n",
      "34\n",
      "36\n",
      "38\n",
      "40\n",
      "42\n",
      "44\n",
      "46\n",
      "48\n",
      "50\n",
      "52\n",
      "54\n",
      "56\n",
      "58\n",
      "60\n",
      "62\n",
      "64\n",
      "66\n",
      "68\n",
      "70\n",
      "72\n",
      "74\n",
      "76\n",
      "78\n",
      "80\n",
      "82\n",
      "84\n",
      "86\n",
      "88\n",
      "90\n",
      "92\n",
      "94\n",
      "96\n",
      "98\n",
      "100\n"
     ]
    }
   ],
   "source": [
    "lowerRange = 1\n",
    "upperRange = 101\n",
    "i = 2\n",
    "\n",
    "print(\"Even numbers between\", lowerRange, \"and\", upperRange, \"are:\")\n",
    "\n",
    "for Z in range(lowerRange, upperRange + 1):\n",
    "      if Z > 1:\n",
    "            if (Z % i) == 0:\n",
    "                print(Z)"
   ]
  },
  {
   "cell_type": "code",
   "execution_count": 20,
   "id": "7a4e6e34",
   "metadata": {},
   "outputs": [
    {
     "name": "stdout",
     "output_type": "stream",
     "text": [
      "Odd numbers between 1 and 101 are:\n",
      "1\n",
      "3\n",
      "5\n",
      "7\n",
      "9\n",
      "11\n",
      "13\n",
      "15\n",
      "17\n",
      "19\n",
      "21\n",
      "23\n",
      "25\n",
      "27\n",
      "29\n",
      "31\n",
      "33\n",
      "35\n",
      "37\n",
      "39\n",
      "41\n",
      "43\n",
      "45\n",
      "47\n",
      "49\n",
      "51\n",
      "53\n",
      "55\n",
      "57\n",
      "59\n",
      "61\n",
      "63\n",
      "65\n",
      "67\n",
      "69\n",
      "71\n",
      "73\n",
      "75\n",
      "77\n",
      "79\n",
      "81\n",
      "83\n",
      "85\n",
      "87\n",
      "89\n",
      "91\n",
      "93\n",
      "95\n",
      "97\n",
      "99\n",
      "101\n"
     ]
    }
   ],
   "source": [
    "lowerRange = 1\n",
    "upperRange = 101\n",
    "i = 2\n",
    "\n",
    "print(\"Odd numbers between\", lowerRange, \"and\", upperRange, \"are:\")\n",
    "\n",
    "for Z in range(lowerRange, upperRange + 1):\n",
    "      if Z >= 1:\n",
    "            if (Z % i) != 0:\n",
    "                print(Z)"
   ]
  },
  {
   "cell_type": "markdown",
   "id": "c1ea7eda",
   "metadata": {},
   "source": [
    "# A company decided to give bonus of 5% to employee if his/her year of service is more than 5 years. Ask user for their salary and year of service and print the net bonus amount"
   ]
  },
  {
   "cell_type": "code",
   "execution_count": 41,
   "id": "48ad05e7",
   "metadata": {},
   "outputs": [],
   "source": [
    "target = 5\n",
    "def bonusCalc(sal,year):\n",
    "    if year > target:\n",
    "        netBonus = sal*0.05\n",
    "        print('Your net bonus is: ', netBonus)\n",
    "        return netBonus\n",
    "    else:\n",
    "        print('Sorry, but at this time, you are not qualified for bonus')\n",
    "    "
   ]
  },
  {
   "cell_type": "code",
   "execution_count": 42,
   "id": "9d86d7cd",
   "metadata": {},
   "outputs": [
    {
     "name": "stdout",
     "output_type": "stream",
     "text": [
      "How much is your salary40000\n",
      "how long is your year of service in this organization10\n",
      "Your net bonus is:  2000.0\n"
     ]
    },
    {
     "data": {
      "text/plain": [
       "2000.0"
      ]
     },
     "execution_count": 42,
     "metadata": {},
     "output_type": "execute_result"
    }
   ],
   "source": [
    "salary = input('How much is your salary')\n",
    "Year = input('how long is your year of service in this organization')\n",
    "\n",
    "bonusCalc(int(salary),int(Year))"
   ]
  },
  {
   "cell_type": "markdown",
   "id": "15173add",
   "metadata": {},
   "source": [
    "# Take Input of age 3 people by user and determine oldest and youngest among them"
   ]
  },
  {
   "cell_type": "code",
   "execution_count": 52,
   "id": "690d4cc0",
   "metadata": {},
   "outputs": [],
   "source": [
    "def ageRange(age1,age2,age3):\n",
    "    if (age1 > age2) & (age1 > age3):\n",
    "        print('the oldest is the first person')\n",
    "        if age2 < age3:\n",
    "                print('the youngest is the second person')\n",
    "        else:\n",
    "                print('the youngest is the third person')\n",
    "                \n",
    "    elif (age2 > age1) & (age2 > age3):\n",
    "        print('the oldest pesron is the second person')\n",
    "        if age1 < age3:\n",
    "                print('the youngest is the first person')\n",
    "        else:\n",
    "                print('the youngest is the third person')\n",
    "    else:\n",
    "        print('the oldest is the third person')\n",
    "        if age1 < age2:\n",
    "                print('the youngest is the first person')\n",
    "        else:\n",
    "                print('the youngest is the second person')\n",
    "        \n",
    "    "
   ]
  },
  {
   "cell_type": "code",
   "execution_count": 72,
   "id": "bd0d45ff",
   "metadata": {},
   "outputs": [
    {
     "name": "stdout",
     "output_type": "stream",
     "text": [
      "how old are you? 56\n",
      "how old are you? 39\n",
      "how old are you? 10\n",
      "the oldest is the first person\n",
      "the youngest is the third person\n"
     ]
    }
   ],
   "source": [
    "firstPerson = input('how old are you? ')\n",
    "secondPerson = input('how old are you? ')\n",
    "thirdPerson = input('how old are you? ')\n",
    "\n",
    "ageRange(int(firstPerson), int(secondPerson), int(thirdPerson))"
   ]
  },
  {
   "cell_type": "markdown",
   "id": "e959fee6",
   "metadata": {},
   "source": [
    "# A school has following rules for grading system:\n",
    "    Below 25 -F\n",
    "    25 to 45 -E\n",
    "    45 to 50 -D\n",
    "    50 to 60 -C\n",
    "    60 to 80 -B\n",
    "    Above 80 -A"
   ]
  },
  {
   "cell_type": "code",
   "execution_count": 33,
   "id": "3af90ef8",
   "metadata": {},
   "outputs": [],
   "source": [
    "def scoreGrade(score):\n",
    "    if score > 80:\n",
    "        print(\"your grade is 'A'\")\n",
    "    elif score >60 and score <=80:\n",
    "        print(\"your grade is 'B'\")\n",
    "    elif score >50 and score <=60:\n",
    "        print(\"your grade is 'C'\")\n",
    "    elif score >45 and score <=50:\n",
    "        print(\"your grade is 'D'\")\n",
    "    elif score >25 and score <=45:\n",
    "            print(\"your grade is 'E'\")\n",
    "\n",
    "    else: \n",
    "        print(\"your grade is 'F'\")\n",
    "#return grd     "
   ]
  },
  {
   "cell_type": "code",
   "execution_count": 34,
   "id": "1f9d1330",
   "metadata": {},
   "outputs": [
    {
     "name": "stdout",
     "output_type": "stream",
     "text": [
      "what was your score25\n",
      "your grade is 'F'\n"
     ]
    }
   ],
   "source": [
    "score = input('what was your score')  \n",
    "scoreGrade(int(score))"
   ]
  },
  {
   "cell_type": "markdown",
   "id": "b793a6cb",
   "metadata": {},
   "source": [
    "# Write a Python script to merge two python dictionaries"
   ]
  },
  {
   "cell_type": "code",
   "execution_count": 57,
   "id": "f84cdeb7",
   "metadata": {},
   "outputs": [
    {
     "name": "stdout",
     "output_type": "stream",
     "text": [
      "{'NGN': 470, 'GBP': 0.99, 'MXN': 20.1, 'ZAR': 17.99, 'ZMK': 15830, 'GHS': 10.5, 'DEM': 1.99, 'USD': 1, 'CAD': 1.52, 'EUR': 1.14, 'Tola': 4, 'Temmy': 40}\n"
     ]
    }
   ],
   "source": [
    "\n",
    "dict2 = {'CAD':1.52, 'EUR':1.14, 'Tola':4, 'Temmy':40}\n",
    "\n",
    "dict1.update(dict2)\n",
    "print(dict1)dict1 = {'NGN':470, 'GBP':0.99, 'MXN':20.1, 'ZAR':17.99, 'ZMK':15830, 'GHS':10.5, 'DEM':1.99, 'USD':1}"
   ]
  },
  {
   "cell_type": "markdown",
   "id": "1417b3e7",
   "metadata": {},
   "source": [
    "# Write a Python program to remove a key from a dictionary"
   ]
  },
  {
   "cell_type": "code",
   "execution_count": 64,
   "id": "64b1b50d",
   "metadata": {},
   "outputs": [
    {
     "name": "stdout",
     "output_type": "stream",
     "text": [
      "{'NGN': 470, 'GBP': 0.99, 'MXN': 20.1, 'ZAR': 17.99, 'ZMK': 15830, 'GHS': 10.5, 'DEM': 1.99, 'USD': 1, 'CAD': 1.52, 'EUR': 1.14, 'Tola': 4}\n"
     ]
    }
   ],
   "source": [
    "mergedDict = {'NGN': 470, 'GBP': 0.99, 'MXN': 20.1, 'ZAR': 17.99, 'ZMK': 15830, 'GHS': 10.5, 'DEM': 1.99, \n",
    "              'USD': 1, 'CAD': 1.52, 'EUR': 1.14, 'Tola': 4, 'Temmy': 40}\n",
    "\n",
    "mergedDict.pop(\"Temmy\")\n",
    "print(mergedDict)"
   ]
  },
  {
   "cell_type": "markdown",
   "id": "67f563b9",
   "metadata": {},
   "source": [
    "# Write a Python program to get the largest number from a list"
   ]
  },
  {
   "cell_type": "code",
   "execution_count": 71,
   "id": "d9f665f7",
   "metadata": {},
   "outputs": [
    {
     "name": "stdout",
     "output_type": "stream",
     "text": [
      "90\n"
     ]
    }
   ],
   "source": [
    "listEsden = [90, 28, 31, 23, 25, 59, 65]\n",
    "\n",
    "def largestNum(listEsden):\n",
    "    max = listEsden[0]\n",
    "    for a in listEsden:\n",
    "        if a > max:\n",
    "            max = a \n",
    "    return max\n",
    "print(largestNum(listEsden))"
   ]
  },
  {
   "cell_type": "code",
   "execution_count": null,
   "id": "03d0c431",
   "metadata": {},
   "outputs": [],
   "source": []
  }
 ],
 "metadata": {
  "kernelspec": {
   "display_name": "Python 3 (ipykernel)",
   "language": "python",
   "name": "python3"
  },
  "language_info": {
   "codemirror_mode": {
    "name": "ipython",
    "version": 3
   },
   "file_extension": ".py",
   "mimetype": "text/x-python",
   "name": "python",
   "nbconvert_exporter": "python",
   "pygments_lexer": "ipython3",
   "version": "3.9.7"
  }
 },
 "nbformat": 4,
 "nbformat_minor": 5
}
