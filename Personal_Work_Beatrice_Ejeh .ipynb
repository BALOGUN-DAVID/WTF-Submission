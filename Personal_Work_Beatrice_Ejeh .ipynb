{
 "cells": [
  {
   "cell_type": "markdown",
   "id": "f3698cc8",
   "metadata": {},
   "source": [
    "Question 1: Print all the elements of a list using for loop"
   ]
  },
  {
   "cell_type": "code",
   "execution_count": 7,
   "id": "947f643f",
   "metadata": {},
   "outputs": [
    {
     "name": "stdout",
     "output_type": "stream",
     "text": [
      "10\n",
      "20\n",
      "30\n",
      "40\n",
      "50\n",
      "60\n",
      "70\n",
      "80\n",
      "90\n"
     ]
    }
   ],
   "source": [
    "my_list = [10, 20, 30, 40, 50, 60, 70, 80, 90]\n",
    "\n",
    "for i in my_list:\n",
    "    print(i)"
   ]
  },
  {
   "cell_type": "markdown",
   "id": "9c178d8c",
   "metadata": {},
   "source": [
    "Question 2: Using range(1,101), make two list, one containing all even numbers and\n",
    "other containing all odd numbers"
   ]
  },
  {
   "cell_type": "code",
   "execution_count": 11,
   "id": "30ae5844",
   "metadata": {},
   "outputs": [
    {
     "name": "stdout",
     "output_type": "stream",
     "text": [
      "Even numbers: [2, 4, 6, 8, 10, 12, 14, 16, 18, 20, 22, 24, 26, 28, 30, 32, 34, 36, 38, 40, 42, 44, 46, 48, 50, 52, 54, 56, 58, 60, 62, 64, 66, 68, 70, 72, 74, 76, 78, 80, 82, 84, 86, 88, 90, 92, 94, 96, 98, 100]\n"
     ]
    }
   ],
   "source": [
    "#List of all the even numbers in range (1,101)\n",
    "def even_numbers(num):\n",
    "    even = []\n",
    "    i = 1\n",
    "    while i in range(1,101):\n",
    "        if i % 2 == 0:\n",
    "            even.append(i)\n",
    "        i = i+1\n",
    "    print(\"Even numbers:\", even)\n",
    "num =101\n",
    "even_numbers(num)"
   ]
  },
  {
   "cell_type": "code",
   "execution_count": 8,
   "id": "41946247",
   "metadata": {},
   "outputs": [
    {
     "name": "stdout",
     "output_type": "stream",
     "text": [
      "Odd numbers: [1, 3, 5, 7, 9, 11, 13, 15, 17, 19, 21, 23, 25, 27, 29, 31, 33, 35, 37, 39, 41, 43, 45, 47, 49, 51, 53, 55, 57, 59, 61, 63, 65, 67, 69, 71, 73, 75, 77, 79, 81, 83, 85, 87, 89, 91, 93, 95, 97, 99]\n"
     ]
    }
   ],
   "source": [
    "#List of all the odd numbers in range (1,101)\n",
    "def odd_numbers(num):\n",
    "    odd = []\n",
    "    i = 1\n",
    "    while i in range(1,101):\n",
    "        if i % 2 != 0:\n",
    "            odd.append(i)\n",
    "        i = i+1\n",
    "    print(\"Odd numbers:\", odd)\n",
    "num =101\n",
    "odd_numbers(num)"
   ]
  },
  {
   "cell_type": "markdown",
   "id": "a3a39f22",
   "metadata": {},
   "source": [
    "Question 3: A company decided to give bonus of 5% to employee if his/her year of service is more than 5\n",
    "years. Ask user for their salary and year of service and print the net bonus amount"
   ]
  },
  {
   "cell_type": "code",
   "execution_count": 29,
   "id": "781e83ef",
   "metadata": {},
   "outputs": [
    {
     "name": "stdout",
     "output_type": "stream",
     "text": [
      "Enter Salary:\n",
      "80000\n",
      "Enter years of service:\n",
      "7\n",
      "Bonus is: 4000.0\n"
     ]
    }
   ],
   "source": [
    "print('Enter Salary:')\n",
    "Salary = int(input())\n",
    "print('Enter years of service:')\n",
    "years_of_service = int(input())\n",
    "\n",
    "if years_of_service > 5:\n",
    "    print('Bonus is:', 0.05*Salary)\n",
    "else:\n",
    "    print('No bonus!')"
   ]
  },
  {
   "cell_type": "markdown",
   "id": "66cec1b6",
   "metadata": {},
   "source": [
    "Question 4: Take input of age of 3 people by user and determine oldest and youngest among them"
   ]
  },
  {
   "cell_type": "code",
   "execution_count": 22,
   "id": "d28188ba",
   "metadata": {},
   "outputs": [
    {
     "name": "stdout",
     "output_type": "stream",
     "text": [
      "Enter the age of the Person 1:15\n",
      "Enter the age of the Person 2:20\n",
      "Enter the age of the Person 3:10\n",
      "Person 2 is the oldest\n",
      "Person 3 is the youngest\n"
     ]
    }
   ],
   "source": [
    "age_1 = int(input('Enter the age of the Person 1:'))\n",
    "age_2 = int(input('Enter the age of the Person 2:'))\n",
    "age_3 = int(input('Enter the age of the Person 3:'))\n",
    "\n",
    "if age_1 > age_2 and age_1 > age_3:\n",
    "    print('Person 1 is the oldest')\n",
    "    \n",
    "    if age_2 < age_3:\n",
    "        print('Person 2 is the youngest')\n",
    "    else:\n",
    "        print('Person 3 is the youngest')\n",
    "elif age_2 > age_1 and age_2 > age_3:\n",
    "    print('Person 2 is the oldest')\n",
    "    \n",
    "    if age_1 < age_3:\n",
    "        print('Person 1 is the youngest')\n",
    "    else:\n",
    "        print('Person 3 is the youngest')\n",
    "else:\n",
    "    print('Person 3 is the oldest')\n",
    "    if age_1 < age_2:\n",
    "        print('Person 1 is the youngest')\n",
    "    else:\n",
    "        print('Person 2 is the youngest')"
   ]
  },
  {
   "cell_type": "markdown",
   "id": "0fa63093",
   "metadata": {},
   "source": [
    "Question 5: A school has following rules for grading system:"
   ]
  },
  {
   "cell_type": "raw",
   "id": "71e90a6c",
   "metadata": {},
   "source": [
    "a. Below 25 - F\n",
    "b. 25 to 45 - E\n",
    "c. 45 to 50 - D\n",
    "d. 50 to 60 - C\n",
    "e. 60 to 80 - B\n",
    "f. Above 80 - A"
   ]
  },
  {
   "cell_type": "code",
   "execution_count": 23,
   "id": "ba925378",
   "metadata": {},
   "outputs": [
    {
     "name": "stdout",
     "output_type": "stream",
     "text": [
      "Enter the marks obtained in the subject:\n",
      "-10\n",
      "Invalid Input!\n"
     ]
    }
   ],
   "source": [
    "#Ask user to enter marks and print the corresponding grade\n",
    "print ('Enter the marks obtained in the subject:')\n",
    "mark_obtained = int(input())\n",
    "\n",
    "if mark_obtained >= 80 and mark_obtained <= 100:\n",
    "    print('Your grade is A')\n",
    "elif mark_obtained >= 60 and mark_obtained < 80:\n",
    "    print('Your grade is B')\n",
    "elif mark_obtained >= 50 and mark_obtained < 60:\n",
    "    print('Your grade is C')\n",
    "elif mark_obtained >= 45 and mark_obtained < 50:\n",
    "    print('Your grade is D')\n",
    "elif mark_obtained >= 25 and mark_obtained < 45:\n",
    "    print('Your grade is E')\n",
    "elif mark_obtained >= 0 and mark_obtained < 25:\n",
    "    print('Your grade is F')\n",
    "else:\n",
    "    print('Invalid Input!')"
   ]
  },
  {
   "cell_type": "markdown",
   "id": "061fc301",
   "metadata": {},
   "source": [
    "Question 6: Write a Python script to merge two Python dictionaries"
   ]
  },
  {
   "cell_type": "code",
   "execution_count": 16,
   "id": "ff293f58",
   "metadata": {},
   "outputs": [
    {
     "name": "stdout",
     "output_type": "stream",
     "text": [
      "{'a': 10, 'b': 20, 'c': 30, 'd': 40, 'w': 50, 'x': 60, 'y': 70, 'z': 80}\n"
     ]
    }
   ],
   "source": [
    "dict_1 = {'a': 10, 'b': 20, 'c':30, 'd': 40}\n",
    "dict_2 = {'w': 50, 'x': 60, 'y':70, 'z': 80}\n",
    "\n",
    "dict_3 = dict_1.copy()\n",
    "\n",
    "for key, value in dict_2.items():\n",
    "    dict_3[key] = value\n",
    "print(dict_3)"
   ]
  },
  {
   "cell_type": "markdown",
   "id": "9d55fe8d",
   "metadata": {},
   "source": [
    "Question 7: Write a Python program to remove a key from a dictionary"
   ]
  },
  {
   "cell_type": "code",
   "execution_count": 20,
   "id": "3439fdc8",
   "metadata": {},
   "outputs": [
    {
     "name": "stdout",
     "output_type": "stream",
     "text": [
      "{'m': 50, 'n': 100, 'o': 150, 'p': 200}\n",
      "{'m': 50, 'o': 150, 'p': 200}\n"
     ]
    }
   ],
   "source": [
    "my_dict = {'m': 50, 'n': 100, 'o': 150, 'p':200}\n",
    "print(my_dict)\n",
    "if 'n'  in my_dict:\n",
    "    del my_dict['n']\n",
    "print(my_dict)"
   ]
  },
  {
   "cell_type": "markdown",
   "id": "1fbedfb4",
   "metadata": {},
   "source": [
    "Question 8: Write a Python program to get the largest number from a list"
   ]
  },
  {
   "cell_type": "code",
   "execution_count": 18,
   "id": "59f77d83",
   "metadata": {},
   "outputs": [
    {
     "name": "stdout",
     "output_type": "stream",
     "text": [
      "75\n"
     ]
    }
   ],
   "source": [
    "def largest_num_in_list (list):\n",
    "    largest = list[0]\n",
    "    for a in list:\n",
    "        if a > largest:\n",
    "            largest = a \n",
    "    return largest\n",
    "print(largest_num_in_list([-10, 20, -5, 60, 75]))"
   ]
  }
 ],
 "metadata": {
  "kernelspec": {
   "display_name": "Python 3 (ipykernel)",
   "language": "python",
   "name": "python3"
  },
  "language_info": {
   "codemirror_mode": {
    "name": "ipython",
    "version": 3
   },
   "file_extension": ".py",
   "mimetype": "text/x-python",
   "name": "python",
   "nbconvert_exporter": "python",
   "pygments_lexer": "ipython3",
   "version": "3.9.12"
  }
 },
 "nbformat": 4,
 "nbformat_minor": 5
}
