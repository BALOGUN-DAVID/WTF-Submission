{
 "cells": [
  {
   "cell_type": "code",
   "execution_count": 6,
   "id": "7c591d51",
   "metadata": {},
   "outputs": [
    {
     "name": "stdout",
     "output_type": "stream",
     "text": [
      "1\n",
      "2\n",
      "3\n",
      "4\n",
      "5\n",
      "6\n",
      "7\n",
      "8\n",
      "9\n"
     ]
    }
   ],
   "source": [
    "# Print all elements of a list using for loop\n",
    "my_list=[1,2,3,4,5,6,7,8,9]\n",
    "\n",
    "for x in my_list:\n",
    "    print (x)"
   ]
  },
  {
   "cell_type": "code",
   "execution_count": 9,
   "id": "b37b2751",
   "metadata": {},
   "outputs": [
    {
     "name": "stdout",
     "output_type": "stream",
     "text": [
      "Hello, what is your current salary in naira?:50000\n",
      "How many years have you served?:4\n",
      "2500.0\n",
      "You do not qualify for bonus\n"
     ]
    }
   ],
   "source": [
    "#A company decided to give bonus of 5% to employee if his/her year of service is more than 5 years. Ask user for their salary and year of service and print the net bonus amount.\n",
    "employer_current_salary= int(input(\"Hello, what is your current salary in naira?:\"))\n",
    "employer_year_service= int(input(\"How many years have you served?:\"))\n",
    "netbonus= employer_current_salary* 5/100\n",
    "print(netbonus)\n",
    "if employer_year_service >= 5:\n",
    "    print (netbonus)\n",
    "else:\n",
    "    print (\"You do not qualify for bonus\")\n"
   ]
  },
  {
   "cell_type": "code",
   "execution_count": 16,
   "id": "e1972c27",
   "metadata": {},
   "outputs": [
    {
     "name": "stdout",
     "output_type": "stream",
     "text": [
      "23\n",
      "45\n",
      "67\n",
      "The youngest person is 23\n",
      "The oldest person is 67\n"
     ]
    }
   ],
   "source": [
    "#Take input of age of 3 people by user and determine oldest and youngest among them.\n",
    "age1= input()\n",
    "age2= input()\n",
    "age3= input()\n",
    "age_list=[age1,age2,age3]\n",
    "print(\"The youngest person is\" ,min(age_list))\n",
    "print(\"The oldest person is\" ,max(age_list))"
   ]
  },
  {
   "cell_type": "code",
   "execution_count": 46,
   "id": "f65d4540",
   "metadata": {},
   "outputs": [
    {
     "name": "stdout",
     "output_type": "stream",
     "text": [
      "Please enter your mark: 45\n",
      "D\n"
     ]
    }
   ],
   "source": [
    "#A school has following rules for grading system:\n",
    "#a. Below 25 - F\n",
    "#b. 25 to 45 - E\n",
    "#c. 45 to 50 - D\n",
    "#d. 50 to 60 - C\n",
    "#e. 60 to 80 - B\n",
    "#f. Above 80 - A\n",
    "#Ask user to enter marks and print the corresponding grade.\n",
    "marks= int(input(\"Please enter your mark: \"))\n",
    "if marks < 25:\n",
    " print(\"F\")\n",
    "elif marks>=25 and marks<45:\n",
    "  print (\"E\")\n",
    "elif marks>=45 and marks<50:\n",
    "  print (\"D\")\n",
    "elif marks>=50 and marks<60:\n",
    "  print (\"C\")\n",
    "elif marks>=60 and marks<80:\n",
    "  print (\"B\")\n",
    "else:\n",
    "  print (\"A\")"
   ]
  },
  {
   "cell_type": "code",
   "execution_count": 50,
   "id": "5b649a6f",
   "metadata": {},
   "outputs": [
    {
     "name": "stdout",
     "output_type": "stream",
     "text": [
      "{'Name': 'Ameenah', 'Height': '157cm', 'Birthday': 'Oct 12', 'Favourite colour': 'Undecided', 'Hobby': 'swimming'}\n"
     ]
    }
   ],
   "source": [
    "#Write a Python script to merge two Python dictionaries\n",
    "dict1 ={'Name': 'Ameenah', 'Height': '157cm', 'Birthday': 'Oct 12'}\n",
    "dict2={'Favourite colour': 'Undecided', 'Hobby': 'swimming'}\n",
    "dict1.update(dict2)\n",
    "print (dict1)"
   ]
  },
  {
   "cell_type": "code",
   "execution_count": 51,
   "id": "9b6c941c",
   "metadata": {},
   "outputs": [
    {
     "name": "stdout",
     "output_type": "stream",
     "text": [
      "9\n"
     ]
    }
   ],
   "source": [
    "#Write a python program to get the largest number from a list\n",
    "my_list=[1,2,3,4,5,6,7,8,9]\n",
    "print(max(my_list))"
   ]
  },
  {
   "cell_type": "code",
   "execution_count": 53,
   "id": "569e781c",
   "metadata": {},
   "outputs": [
    {
     "name": "stdout",
     "output_type": "stream",
     "text": [
      "{'Name': 'Ameenah', 'Height': '157cm', 'Birthday': 'Oct 12', 'Favourite colour': 'Undecided', 'Hobby': 'swimming'}\n",
      "{'Name': 'Ameenah', 'Height': '157cm', 'Birthday': 'Oct 12', 'Favourite colour': 'Undecided'}\n"
     ]
    }
   ],
   "source": [
    "#Write a python program to remove a key from a dictionary\n",
    "print(dict1)\n",
    "del dict1['Hobby']\n",
    "print(dict1)"
   ]
  },
  {
   "cell_type": "code",
   "execution_count": null,
   "id": "487b2b87",
   "metadata": {},
   "outputs": [],
   "source": []
  }
 ],
 "metadata": {
  "kernelspec": {
   "display_name": "Python 3 (ipykernel)",
   "language": "python",
   "name": "python3"
  },
  "language_info": {
   "codemirror_mode": {
    "name": "ipython",
    "version": 3
   },
   "file_extension": ".py",
   "mimetype": "text/x-python",
   "name": "python",
   "nbconvert_exporter": "python",
   "pygments_lexer": "ipython3",
   "version": "3.9.12"
  }
 },
 "nbformat": 4,
 "nbformat_minor": 5
}
