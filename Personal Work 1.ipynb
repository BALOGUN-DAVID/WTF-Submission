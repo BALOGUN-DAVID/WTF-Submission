{
 "cells": [
  {
   "cell_type": "code",
   "execution_count": null,
   "metadata": {},
   "outputs": [],
   "source": [
    "# 1. print all the elements from a list using a loop\n",
    "\n",
    "New List = [1, 2,3,4,5,6,7,8,9, 0]\n",
    "for i in New List:\n",
    "    Print(i)"
   ]
  },
  {
   "cell_type": "code",
   "execution_count": 5,
   "metadata": {},
   "outputs": [
    {
     "name": "stdout",
     "output_type": "stream",
     "text": [
      "Enter your salary6\n",
      "Enter your year of service2\n",
      "You have no bonus\n"
     ]
    }
   ],
   "source": [
    "#2. A company decidec to give bonus of 5% to tmployee if his/her year of service is more that 5 year.\n",
    "# Ask user for their salary and year of service and print net bonus\n",
    "\n",
    "salary= int(input(\"Enter your salary\"))\n",
    "Year_of_Servie= int(input(\"Enter your year of service\"))\n",
    "\n",
    "if Year_of_Servie > 5:\n",
    "    Bonus = 0.05 * salary\n",
    "    print(\"Your Bonus is\" , salary)\n",
    "else:\n",
    "    print(\"You have no bonus\")"
   ]
  },
  {
   "cell_type": "code",
   "execution_count": 3,
   "metadata": {},
   "outputs": [
    {
     "name": "stdout",
     "output_type": "stream",
     "text": [
      "Enter first age8\n",
      "Enter second age9\n",
      "Enter third age10\n",
      "Maximum age is 10\n"
     ]
    }
   ],
   "source": [
    "#3. Take input of age of 3 peoplle by user and determine the oldest and youngest among them\n",
    "\n",
    "Person_1 = int(input(\"Enter first age\"))\n",
    "Person_2 = int(input(\"Enter second age\"))\n",
    "Person_3 = int(input(\"Enter third age\"))\n",
    "\n",
    "Age = [Person_1, Person_2, Person_3]\n",
    "\n",
    "print(\"Maximum age is\", max(Age))\n",
    "print (\"Minimum age is\", min(Age))"
   ]
  },
  {
   "cell_type": "code",
   "execution_count": null,
   "metadata": {},
   "outputs": [],
   "source": [
    "#4. & 5\n",
    "\n",
    "grade = int(input(\"Enter your grade \"))\n",
    "if grade > 80:\n",
    "    print(\"A\")\n",
    "elif grade >60 and <=80:\n",
    "    print(\"B\")\n",
    "elif grade >50 and <= 60:\n",
    "    print(\"C\")\n",
    "elif grade >45 and <= 50:\n",
    "    print(\"D\")\n",
    "elif grade >45 and <= 25:\n",
    "    print(\"E\")\n",
    "else:\n",
    "    print(F)"
   ]
  },
  {
   "cell_type": "code",
   "execution_count": null,
   "metadata": {},
   "outputs": [],
   "source": [
    "#7 Write a python program to print the largest number from a list\n",
    "\n",
    "large = [1, 4, 70, 56, 50]\n",
    "Print(max(large))"
   ]
  },
  {
   "cell_type": "code",
   "execution_count": 10,
   "metadata": {},
   "outputs": [],
   "source": [
    "#write a python program to remove a key from a dictionary\n",
    "\n",
    "Dict = {2 :\" Two\",\n",
    "       3 : \"Three\",\n",
    "       4 : \"Four\",\n",
    "       5 : \"Five\" }\n",
    "del Dict[5]"
   ]
  },
  {
   "cell_type": "code",
   "execution_count": null,
   "metadata": {},
   "outputs": [],
   "source": []
  }
 ],
 "metadata": {
  "kernelspec": {
   "display_name": "Python 3",
   "language": "python",
   "name": "python3"
  },
  "language_info": {
   "codemirror_mode": {
    "name": "ipython",
    "version": 3
   },
   "file_extension": ".py",
   "mimetype": "text/x-python",
   "name": "python",
   "nbconvert_exporter": "python",
   "pygments_lexer": "ipython3",
   "version": "3.8.5"
  }
 },
 "nbformat": 4,
 "nbformat_minor": 4
}
