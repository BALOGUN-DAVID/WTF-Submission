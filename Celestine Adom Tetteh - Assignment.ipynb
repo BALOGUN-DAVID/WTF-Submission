{
 "cells": [
  {
   "cell_type": "markdown",
   "id": "a6457045",
   "metadata": {},
   "source": [
    "# Question 1"
   ]
  },
  {
   "cell_type": "code",
   "execution_count": 1,
   "id": "ae879688",
   "metadata": {},
   "outputs": [
    {
     "name": "stdout",
     "output_type": "stream",
     "text": [
      "Apple is an element in my_list\n",
      "Pear is an element in my_list\n",
      "1 is an element in my_list\n",
      "2 is an element in my_list\n",
      "4 is an element in my_list\n"
     ]
    }
   ],
   "source": [
    "my_list = [\"Apple\", \"Pear\", 1, 2, 4]\n",
    "for i in my_list:\n",
    "    print(str(i) + \" is an element in my_list\")"
   ]
  },
  {
   "cell_type": "markdown",
   "id": "5728eb92",
   "metadata": {},
   "source": [
    "# Question 2"
   ]
  },
  {
   "cell_type": "code",
   "execution_count": 2,
   "id": "6520b0bb",
   "metadata": {},
   "outputs": [
    {
     "name": "stdout",
     "output_type": "stream",
     "text": [
      "The even numbers are: [2, 4, 6, 8, 10, 12, 14, 16, 18, 20, 22, 24, 26, 28, 30, 32, 34, 36, 38, 40, 42, 44, 46, 48, 50, 52, 54, 56, 58, 60, 62, 64, 66, 68, 70, 72, 74, 76, 78, 80, 82, 84, 86, 88, 90, 92, 94, 96, 98, 100]\n"
     ]
    }
   ],
   "source": [
    "even_list = []\n",
    "odd_list = []\n",
    "for i in range(1, 101):\n",
    "    if i%2==0:\n",
    "        even_list.append(i)\n",
    "    else:\n",
    "        odd_list.append(i)\n",
    "        \n",
    "print(\"The even numbers are: \" + str(even_list))"
   ]
  },
  {
   "cell_type": "code",
   "execution_count": 3,
   "id": "1493e751",
   "metadata": {},
   "outputs": [
    {
     "name": "stdout",
     "output_type": "stream",
     "text": [
      "The odd numbers are: [1, 3, 5, 7, 9, 11, 13, 15, 17, 19, 21, 23, 25, 27, 29, 31, 33, 35, 37, 39, 41, 43, 45, 47, 49, 51, 53, 55, 57, 59, 61, 63, 65, 67, 69, 71, 73, 75, 77, 79, 81, 83, 85, 87, 89, 91, 93, 95, 97, 99]\n"
     ]
    }
   ],
   "source": [
    "print(\"The odd numbers are: \" + str(odd_list))"
   ]
  },
  {
   "cell_type": "markdown",
   "id": "2a05306a",
   "metadata": {},
   "source": [
    "# Question 3"
   ]
  },
  {
   "cell_type": "code",
   "execution_count": 4,
   "id": "001257a6",
   "metadata": {},
   "outputs": [
    {
     "name": "stdout",
     "output_type": "stream",
     "text": [
      "Please enter your years of service: 7\n",
      "Please enter your salary: 6000\n",
      "Congratulations your net bonus is: 300.0\n",
      " Your new salary is: 6300.0\n"
     ]
    }
   ],
   "source": [
    "bonus_percentage = 5/100\n",
    "\n",
    "year_of_service = int(input(\"Please enter your years of service: \"))\n",
    "\n",
    "salary = int(input(\"Please enter your salary: \"))\n",
    "\n",
    "def bonus_for_service(year_of_service, salary, bonus_percentage):\n",
    "    \n",
    "    net_bonus_amount = bonus_percentage * salary\n",
    "    \n",
    "    net_amount = salary\n",
    "    \n",
    "    net_salary_with_bonus = bonus_percentage * salary + salary\n",
    "    \n",
    "    if year_of_service >=5:\n",
    "        \n",
    "        return (\"Congratulations your net bonus is: \" + str(net_bonus_amount) +\"\\n Your new salary is: \" + \n",
    "                str(net_salary_with_bonus))\n",
    "    \n",
    "    else:\n",
    "        \n",
    "        return \"Sorry you are not qualified for a bonus yet \" + str(net_amount)\n",
    "    \n",
    "        \n",
    "print(bonus_for_service(year_of_service, salary, bonus_percentage))"
   ]
  },
  {
   "cell_type": "markdown",
   "id": "dad57285",
   "metadata": {},
   "source": [
    "# Question 4"
   ]
  },
  {
   "cell_type": "code",
   "execution_count": 5,
   "id": "7446c7f8",
   "metadata": {},
   "outputs": [
    {
     "name": "stdout",
     "output_type": "stream",
     "text": [
      "Please enter your age: 40\n",
      "Please enter your age: 75\n",
      "Please enter your age: 12\n",
      "The oldest person's age is: 75\n",
      "The youngest person's age is: 12\n"
     ]
    }
   ],
   "source": [
    "user1 = int(input(\"Please enter your age: \"))\n",
    "user2 = int(input(\"Please enter your age: \"))\n",
    "user3 = int(input(\"Please enter your age: \"))\n",
    "\n",
    "age = [user1, user2, user3]\n",
    "    \n",
    "print(\"The oldest person's age is: \" + str(max(age)))\n",
    "print(\"The youngest person's age is: \" + str(min(age)))"
   ]
  },
  {
   "cell_type": "markdown",
   "id": "01e6f5e2",
   "metadata": {},
   "source": [
    "# Question 5"
   ]
  },
  {
   "cell_type": "code",
   "execution_count": 6,
   "id": "7f09b001",
   "metadata": {
    "scrolled": true
   },
   "outputs": [
    {
     "name": "stdout",
     "output_type": "stream",
     "text": [
      "Please enter your marks: 65\n",
      "Your grade for the semester is B\n"
     ]
    }
   ],
   "source": [
    "marks = int(input(\"Please enter your marks: \"))\n",
    "if marks < 25:\n",
    "    print(\"Your grade for the semester is F\")\n",
    "    \n",
    "elif marks >= 25 and marks < 45:\n",
    "    print(\"Your grade for the semester is E\")\n",
    "    \n",
    "elif marks >= 45 and marks < 50:\n",
    "    print(\"Your grade for the semester is D\")\n",
    "    \n",
    "elif marks >= 50 and marks < 60:\n",
    "    print(\"Your grade for the semester is C\")\n",
    "    \n",
    "elif marks >= 60 and marks < 80:\n",
    "    print(\"Your grade for the semester is B\")\n",
    "    \n",
    "else:\n",
    "    print(\"Your grade for the semester is A\")"
   ]
  },
  {
   "cell_type": "markdown",
   "id": "88749a63",
   "metadata": {},
   "source": [
    "# Question 6"
   ]
  },
  {
   "cell_type": "code",
   "execution_count": 7,
   "id": "4bd08752",
   "metadata": {},
   "outputs": [
    {
     "name": "stdout",
     "output_type": "stream",
     "text": [
      "{'orange': 1, 'mango': 3, 'guava': 5, 'kiwi': 4, 'melon': 7}\n"
     ]
    }
   ],
   "source": [
    "dict_1 = {\"orange\" : 1, \"mango\" : 3, \"guava\": 5}\n",
    "dict_2 = {\"kiwi\" : 4, \"melon\" : 7}\n",
    "print(dict_1 | dict_2)"
   ]
  },
  {
   "cell_type": "markdown",
   "id": "627a816d",
   "metadata": {},
   "source": [
    "# Question 7"
   ]
  },
  {
   "cell_type": "code",
   "execution_count": 8,
   "id": "8c512da0",
   "metadata": {},
   "outputs": [
    {
     "data": {
      "text/plain": [
       "{'calm': 9, 'faith': 6}"
      ]
     },
     "execution_count": 8,
     "metadata": {},
     "output_type": "execute_result"
    }
   ],
   "source": [
    "my_dict = {\"bright\" : 8, \"calm\" : 9, \"faith\" : 6}\n",
    "my_dict.pop(\"bright\")\n",
    "my_dict"
   ]
  },
  {
   "cell_type": "markdown",
   "id": "e4911bcd",
   "metadata": {},
   "source": [
    "# Question 8"
   ]
  },
  {
   "cell_type": "code",
   "execution_count": 9,
   "id": "272dd3c1",
   "metadata": {},
   "outputs": [
    {
     "name": "stdout",
     "output_type": "stream",
     "text": [
      "The largest number in my_list is: 90\n"
     ]
    }
   ],
   "source": [
    "my_list = [10, 23, 56, 10, 90, 1]\n",
    "print(\"The largest number in my_list is: \" + str(max(my_list)))"
   ]
  },
  {
   "cell_type": "code",
   "execution_count": null,
   "id": "6eb701bc",
   "metadata": {},
   "outputs": [],
   "source": []
  }
 ],
 "metadata": {
  "kernelspec": {
   "display_name": "Python 3 (ipykernel)",
   "language": "python",
   "name": "python3"
  },
  "language_info": {
   "codemirror_mode": {
    "name": "ipython",
    "version": 3
   },
   "file_extension": ".py",
   "mimetype": "text/x-python",
   "name": "python",
   "nbconvert_exporter": "python",
   "pygments_lexer": "ipython3",
   "version": "3.9.12"
  }
 },
 "nbformat": 4,
 "nbformat_minor": 5
}
