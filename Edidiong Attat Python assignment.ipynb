{
 "cells": [
  {
   "cell_type": "code",
   "execution_count": null,
   "id": "8ca3d1f8",
   "metadata": {},
   "outputs": [],
   "source": [
    "1)Print all elements of a list using for loop\n",
    "2)A company decided to give bonus of 5% to employee if his/her year of service is more than 5 years. Ask user for their salary and year of service and print the net bonus amount.\n",
    "3)Take input of age of 3 people by user and determine oldest and youngest among them.\n",
    "\n",
    " 6)Write a Python script to merge two Python dictionaries\n",
    " 7)Write a python programto get the largest number from a list \n",
    " 8)Write a python program to remove a key from a dictionary"
   ]
  },
  {
   "cell_type": "markdown",
   "id": "45c529e2",
   "metadata": {},
   "source": [
    "1)Print all elements of a list using for loop"
   ]
  },
  {
   "cell_type": "code",
   "execution_count": 73,
   "id": "cb27ce18",
   "metadata": {},
   "outputs": [
    {
     "name": "stdout",
     "output_type": "stream",
     "text": [
      "('Coleslaw', 'rice', 'beans', 'chicken', 'pineapples', 'juice')\n",
      "('Coleslaw', 'rice', 'beans', 'chicken', 'pineapples', 'juice')\n",
      "('Coleslaw', 'rice', 'beans', 'chicken', 'pineapples', 'juice')\n",
      "('Coleslaw', 'rice', 'beans', 'chicken', 'pineapples', 'juice')\n",
      "('Coleslaw', 'rice', 'beans', 'chicken', 'pineapples', 'juice')\n",
      "('Coleslaw', 'rice', 'beans', 'chicken', 'pineapples', 'juice')\n"
     ]
    }
   ],
   "source": [
    "Breakfast = ('Coleslaw','rice', 'beans', 'chicken', 'pineapples', 'juice')\n",
    "for food in Breakfast:\n",
    "    print (Breakfast)"
   ]
  },
  {
   "cell_type": "markdown",
   "id": "7aefb8ca",
   "metadata": {},
   "source": [
    "2)A company decided to give bonus of 5% to employee if his/her year of service is more than 5 years. Ask user for their salary and year of service and print the net bonus amount."
   ]
  },
  {
   "cell_type": "code",
   "execution_count": 28,
   "id": "ec0f95dd",
   "metadata": {},
   "outputs": [
    {
     "name": "stdout",
     "output_type": "stream",
     "text": [
      "Hello, there\n",
      "what is your currrent salary?\n",
      "5000\n",
      "How many years have you served in this company?\n",
      "6\n",
      "250.0\n"
     ]
    }
   ],
   "source": [
    "\n",
    "print (\"Hello, there\")\n",
    "print (\"what is your currrent salary?\")\n",
    "my_salary = input()\n",
    "print (\"How many years have you served in this company?\")\n",
    "year_of_service = input()\n",
    "if year_of_service > '5':\n",
    "    print(float(my_salary) * 0.05)"
   ]
  },
  {
   "cell_type": "markdown",
   "id": "f74a9db9",
   "metadata": {},
   "source": [
    "3)Take input of age of 3 people by user and determine oldest and youngest among them."
   ]
  },
  {
   "cell_type": "code",
   "execution_count": 47,
   "id": "5b870f39",
   "metadata": {},
   "outputs": [
    {
     "name": "stdout",
     "output_type": "stream",
     "text": [
      "Enter your age\n",
      "54\n",
      "54\n",
      "65\n",
      "65\n",
      "75\n",
      "75\n",
      "This is the maximum age 75\n",
      "This is the minimum age 54\n"
     ]
    }
   ],
   "source": [
    "print ('Enter your age')\n",
    "entry1 = input()\n",
    "print (entry1)\n",
    "entry2 = input()\n",
    "print (entry2)\n",
    "entry3 = input()\n",
    "print (entry3)\n",
    "print ('This is the maximum age', (max(entry1, entry2, entry3)))\n",
    "print ('This is the minimum age', (min(entry1, entry2, entry3)))"
   ]
  },
  {
   "cell_type": "markdown",
   "id": "757a4d04",
   "metadata": {},
   "source": [
    "4)A school has following rules for grading system:\n",
    "    a. Below 25 -F\n",
    "    b. 25 to 45 -E\n",
    "    c. 45 to 50 -D\n",
    "    d. 50 to 60 -C\n",
    "    e. 60 to 80 -B\n",
    "    f. Above 80 -A\n",
    "    5)Ask user to enter marks and print the corresponding grade."
   ]
  },
  {
   "cell_type": "code",
   "execution_count": 39,
   "id": "0f6c67f3",
   "metadata": {},
   "outputs": [
    {
     "name": "stdout",
     "output_type": "stream",
     "text": [
      "Welcome, Please input a grade.\n",
      "45\n",
      "E\n"
     ]
    }
   ],
   "source": [
    "print ('Welcome, Please input a grade.')\n",
    "grade = input()\n",
    "if grade < '25':\n",
    "    print ('F')\n",
    "elif grade <= '45':\n",
    "    print ('E')\n",
    "elif grade <= '50':\n",
    "    print ('D')\n",
    "elif grade <= '60':\n",
    "    print ('C')\n",
    "elif grade <= '80':\n",
    "    print ('B')\n",
    "elif grade > '80':\n",
    "    print ('A')\n",
    "    \n",
    "    "
   ]
  },
  {
   "cell_type": "markdown",
   "id": "9b8c55bd",
   "metadata": {},
   "source": [
    "6)Write a Python script to merge two Python dictionaries"
   ]
  },
  {
   "cell_type": "code",
   "execution_count": 60,
   "id": "a51492c3",
   "metadata": {},
   "outputs": [
    {
     "name": "stdout",
     "output_type": "stream",
     "text": [
      "{'emy': 1, 'edy': 2, 'conny': 3}\n",
      "{'mary': 4, 'okon': 5}\n",
      "{'emy': 1, 'edy': 2, 'conny': 3, 'mary': 4, 'okon': 5}\n"
     ]
    }
   ],
   "source": [
    "dict1 = {'emy': 1, 'edy':2, 'conny':3}\n",
    "print (dict1)\n",
    "dict2 = {'mary': 4, 'okon':5}\n",
    "print (dict2)\n",
    "dict1.update(dict2)\n",
    "print (dict1)"
   ]
  },
  {
   "cell_type": "markdown",
   "id": "7dcc766d",
   "metadata": {},
   "source": [
    "7)Write a python programto get the largest number from a list "
   ]
  },
  {
   "cell_type": "code",
   "execution_count": 64,
   "id": "2265a56a",
   "metadata": {},
   "outputs": [
    {
     "name": "stdout",
     "output_type": "stream",
     "text": [
      "(3, 45, 7, 8, 10, 23)\n",
      "45\n"
     ]
    }
   ],
   "source": [
    "keys = (3, 45, 7, 8, 10, 23)\n",
    "print (keys)\n",
    "print (max (keys))"
   ]
  },
  {
   "cell_type": "markdown",
   "id": "e2f1ca29",
   "metadata": {},
   "source": [
    " 8)Write a python program to remove a key from a dictionary"
   ]
  },
  {
   "cell_type": "code",
   "execution_count": 72,
   "id": "38f16aea",
   "metadata": {},
   "outputs": [
    {
     "name": "stdout",
     "output_type": "stream",
     "text": [
      "{'emy': 1, 'edy': 2, 'conny': 3}\n",
      "{'emy': 1, 'edy': 2}\n"
     ]
    }
   ],
   "source": [
    "dictionary = {'emy': 1, 'edy':2, 'conny':3}\n",
    "print (dictionary)\n",
    "del dictionary['conny']\n",
    "print (dictionary)"
   ]
  },
  {
   "cell_type": "code",
   "execution_count": null,
   "id": "5d9d5053",
   "metadata": {},
   "outputs": [],
   "source": []
  }
 ],
 "metadata": {
  "kernelspec": {
   "display_name": "Python 3 (ipykernel)",
   "language": "python",
   "name": "python3"
  },
  "language_info": {
   "codemirror_mode": {
    "name": "ipython",
    "version": 3
   },
   "file_extension": ".py",
   "mimetype": "text/x-python",
   "name": "python",
   "nbconvert_exporter": "python",
   "pygments_lexer": "ipython3",
   "version": "3.9.12"
  }
 },
 "nbformat": 4,
 "nbformat_minor": 5
}
