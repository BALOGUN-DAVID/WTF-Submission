{
 "cells": [
  {
   "cell_type": "code",
   "execution_count": 89,
   "id": "07eeac9c",
   "metadata": {},
   "outputs": [],
   "source": [
    "import numpy as np"
   ]
  },
  {
   "cell_type": "markdown",
   "id": "ba2cc087",
   "metadata": {},
   "source": [
    "### 1. Creating an array"
   ]
  },
  {
   "cell_type": "code",
   "execution_count": 90,
   "id": "ad7506ca",
   "metadata": {},
   "outputs": [
    {
     "name": "stdout",
     "output_type": "stream",
     "text": [
      "[1 2 3 4]\n"
     ]
    }
   ],
   "source": [
    "a = np.array ([1,2,3,4])\n",
    "print(a)"
   ]
  },
  {
   "cell_type": "code",
   "execution_count": 91,
   "id": "52f529e8",
   "metadata": {},
   "outputs": [
    {
     "name": "stdout",
     "output_type": "stream",
     "text": [
      "[[3 4 5]\n",
      " [6 7 8]]\n"
     ]
    }
   ],
   "source": [
    "b = np.array([[3,4,5,],[6,7,8]])\n",
    "print(b)"
   ]
  },
  {
   "cell_type": "markdown",
   "id": "4152ea79",
   "metadata": {},
   "source": [
    "### 2. Getting the dimensions of the array"
   ]
  },
  {
   "cell_type": "code",
   "execution_count": 92,
   "id": "5b906004",
   "metadata": {},
   "outputs": [
    {
     "data": {
      "text/plain": [
       "1"
      ]
     },
     "execution_count": 92,
     "metadata": {},
     "output_type": "execute_result"
    }
   ],
   "source": [
    "a.ndim"
   ]
  },
  {
   "cell_type": "code",
   "execution_count": 93,
   "id": "28122488",
   "metadata": {},
   "outputs": [
    {
     "data": {
      "text/plain": [
       "2"
      ]
     },
     "execution_count": 93,
     "metadata": {},
     "output_type": "execute_result"
    }
   ],
   "source": [
    "b.ndim"
   ]
  },
  {
   "cell_type": "markdown",
   "id": "8550b82d",
   "metadata": {},
   "source": [
    "### 3. Get shape"
   ]
  },
  {
   "cell_type": "code",
   "execution_count": 94,
   "id": "a46f0a04",
   "metadata": {},
   "outputs": [
    {
     "data": {
      "text/plain": [
       "(4,)"
      ]
     },
     "execution_count": 94,
     "metadata": {},
     "output_type": "execute_result"
    }
   ],
   "source": [
    "a.shape"
   ]
  },
  {
   "cell_type": "code",
   "execution_count": 95,
   "id": "cf9a0c4f",
   "metadata": {},
   "outputs": [
    {
     "data": {
      "text/plain": [
       "(2, 3)"
      ]
     },
     "execution_count": 95,
     "metadata": {},
     "output_type": "execute_result"
    }
   ],
   "source": [
    "b.shape"
   ]
  },
  {
   "cell_type": "markdown",
   "id": "baef9bed",
   "metadata": {},
   "source": [
    "### 4. Getting type\n"
   ]
  },
  {
   "cell_type": "code",
   "execution_count": 97,
   "id": "daca98a8",
   "metadata": {},
   "outputs": [
    {
     "data": {
      "text/plain": [
       "dtype('int32')"
      ]
     },
     "execution_count": 97,
     "metadata": {},
     "output_type": "execute_result"
    }
   ],
   "source": [
    "a.dtype"
   ]
  },
  {
   "cell_type": "code",
   "execution_count": 98,
   "id": "a2a53683",
   "metadata": {},
   "outputs": [
    {
     "data": {
      "text/plain": [
       "dtype('int32')"
      ]
     },
     "execution_count": 98,
     "metadata": {},
     "output_type": "execute_result"
    }
   ],
   "source": [
    "b.dtype"
   ]
  },
  {
   "cell_type": "markdown",
   "id": "d2b88a95",
   "metadata": {},
   "source": [
    "### 5.Get size\n"
   ]
  },
  {
   "cell_type": "code",
   "execution_count": 99,
   "id": "84c24713",
   "metadata": {},
   "outputs": [
    {
     "data": {
      "text/plain": [
       "4"
      ]
     },
     "execution_count": 99,
     "metadata": {},
     "output_type": "execute_result"
    }
   ],
   "source": [
    "a.itemsize"
   ]
  },
  {
   "cell_type": "markdown",
   "id": "7146dbfa",
   "metadata": {},
   "source": [
    "### 6. Get total size\n"
   ]
  },
  {
   "cell_type": "code",
   "execution_count": 119,
   "id": "06e85f57",
   "metadata": {},
   "outputs": [
    {
     "data": {
      "text/plain": [
       "16"
      ]
     },
     "execution_count": 119,
     "metadata": {},
     "output_type": "execute_result"
    }
   ],
   "source": [
    "a.size*a.itemsize "
   ]
  },
  {
   "cell_type": "code",
   "execution_count": 120,
   "id": "cfc2b78f",
   "metadata": {},
   "outputs": [
    {
     "data": {
      "text/plain": [
       "24"
      ]
     },
     "execution_count": 120,
     "metadata": {},
     "output_type": "execute_result"
    }
   ],
   "source": [
    "b.size*b.itemsize"
   ]
  },
  {
   "cell_type": "code",
   "execution_count": 121,
   "id": "35d833c9",
   "metadata": {},
   "outputs": [
    {
     "data": {
      "text/plain": [
       "16"
      ]
     },
     "execution_count": 121,
     "metadata": {},
     "output_type": "execute_result"
    }
   ],
   "source": [
    "# OR\n",
    "a.nbytes"
   ]
  },
  {
   "cell_type": "code",
   "execution_count": 122,
   "id": "41b9b220",
   "metadata": {},
   "outputs": [
    {
     "data": {
      "text/plain": [
       "24"
      ]
     },
     "execution_count": 122,
     "metadata": {},
     "output_type": "execute_result"
    }
   ],
   "source": [
    "\n",
    "b.nbytes"
   ]
  },
  {
   "cell_type": "markdown",
   "id": "177e9baf",
   "metadata": {},
   "source": [
    "### 7. arrange: Return evenly spaced values within a given interval."
   ]
  },
  {
   "cell_type": "code",
   "execution_count": 154,
   "id": "472180af",
   "metadata": {},
   "outputs": [
    {
     "data": {
      "text/plain": [
       "array([ 0,  1,  2,  3,  4,  5,  6,  7,  8,  9, 10, 11, 12, 13, 14, 15, 16,\n",
       "       17, 18, 19])"
      ]
     },
     "execution_count": 154,
     "metadata": {},
     "output_type": "execute_result"
    }
   ],
   "source": [
    "np.arange(0,20)"
   ]
  },
  {
   "cell_type": "markdown",
   "id": "7fab781e",
   "metadata": {},
   "source": [
    "### 8. All 1s matrix\n"
   ]
  },
  {
   "cell_type": "code",
   "execution_count": 126,
   "id": "9814154e",
   "metadata": {},
   "outputs": [
    {
     "data": {
      "text/plain": [
       "array([[1., 1., 1.],\n",
       "       [1., 1., 1.]])"
      ]
     },
     "execution_count": 126,
     "metadata": {},
     "output_type": "execute_result"
    }
   ],
   "source": [
    "np.ones((2,3))"
   ]
  },
  {
   "cell_type": "markdown",
   "id": "ce6cf75f",
   "metadata": {},
   "source": [
    "### 9.  Random Decimal number\n"
   ]
  },
  {
   "cell_type": "code",
   "execution_count": 127,
   "id": "041ec266",
   "metadata": {},
   "outputs": [
    {
     "data": {
      "text/plain": [
       "array([[0.79844965, 0.46638252],\n",
       "       [0.10030767, 0.7624191 ],\n",
       "       [0.89164678, 0.23442672],\n",
       "       [0.46971368, 0.52419522]])"
      ]
     },
     "execution_count": 127,
     "metadata": {},
     "output_type": "execute_result"
    }
   ],
   "source": [
    "np.random.rand(4,2)"
   ]
  },
  {
   "cell_type": "markdown",
   "id": "7f8cbf3f",
   "metadata": {},
   "source": [
    "### 10. Random integer values\n"
   ]
  },
  {
   "cell_type": "code",
   "execution_count": 128,
   "id": "3b2abe96",
   "metadata": {},
   "outputs": [
    {
     "data": {
      "text/plain": [
       "array([[ 3, -3],\n",
       "       [-3,  1]])"
      ]
     },
     "execution_count": 128,
     "metadata": {},
     "output_type": "execute_result"
    }
   ],
   "source": [
    "np.random.randint(-3,5, size=(2,2))"
   ]
  },
  {
   "cell_type": "markdown",
   "id": "2c6e1ae4",
   "metadata": {},
   "source": [
    "### 11.  The identity matrix\n"
   ]
  },
  {
   "cell_type": "code",
   "execution_count": 129,
   "id": "4ce176f6",
   "metadata": {},
   "outputs": [
    {
     "data": {
      "text/plain": [
       "array([[1., 0., 0., 0.],\n",
       "       [0., 1., 0., 0.],\n",
       "       [0., 0., 1., 0.],\n",
       "       [0., 0., 0., 1.]])"
      ]
     },
     "execution_count": 129,
     "metadata": {},
     "output_type": "execute_result"
    }
   ],
   "source": [
    "np.identity(4)"
   ]
  },
  {
   "cell_type": "markdown",
   "id": "19ecd6e7",
   "metadata": {},
   "source": [
    "### 12. Repeating array\n"
   ]
  },
  {
   "cell_type": "code",
   "execution_count": 130,
   "id": "06b69013",
   "metadata": {},
   "outputs": [
    {
     "name": "stdout",
     "output_type": "stream",
     "text": [
      "[[1 2 4]\n",
      " [1 2 4]\n",
      " [1 2 4]]\n"
     ]
    }
   ],
   "source": [
    "arr = np.array([[1,2,4]])\n",
    "A1 = np.repeat(arr,3, axis = 0)\n",
    "print(A1)"
   ]
  },
  {
   "cell_type": "markdown",
   "id": "5323f81d",
   "metadata": {},
   "source": [
    "### 13. Copying arrays\n"
   ]
  },
  {
   "cell_type": "code",
   "execution_count": 131,
   "id": "922f2c9a",
   "metadata": {},
   "outputs": [
    {
     "data": {
      "text/plain": [
       "array([1, 2, 3])"
      ]
     },
     "execution_count": 131,
     "metadata": {},
     "output_type": "execute_result"
    }
   ],
   "source": [
    "a = np.array([1,2,3])\n",
    "b = a\n",
    "b"
   ]
  },
  {
   "cell_type": "markdown",
   "id": "0836c599",
   "metadata": {},
   "source": [
    "### 14. Getting the maximum value"
   ]
  },
  {
   "cell_type": "code",
   "execution_count": 132,
   "id": "9e3b207a",
   "metadata": {},
   "outputs": [
    {
     "name": "stdout",
     "output_type": "stream",
     "text": [
      "Largest value\n",
      "3\n"
     ]
    }
   ],
   "source": [
    "n = a.max()\n",
    "print(\"Largest value\")\n",
    "print(n)"
   ]
  },
  {
   "cell_type": "markdown",
   "id": "0748c9c1",
   "metadata": {},
   "source": [
    "### 15. Getting the minimum value"
   ]
  },
  {
   "cell_type": "code",
   "execution_count": 139,
   "id": "f0edcb51",
   "metadata": {},
   "outputs": [
    {
     "name": "stdout",
     "output_type": "stream",
     "text": [
      "smallest value\n",
      "1\n"
     ]
    }
   ],
   "source": [
    "n = a.min()\n",
    "print(\"smallest value\")\n",
    "print(n)"
   ]
  },
  {
   "cell_type": "markdown",
   "id": "c50ef487",
   "metadata": {},
   "source": [
    "### 16. Appending arrays"
   ]
  },
  {
   "cell_type": "code",
   "execution_count": 140,
   "id": "b4352a22",
   "metadata": {},
   "outputs": [
    {
     "name": "stdout",
     "output_type": "stream",
     "text": [
      "Original array\n",
      "[0 1 2 3 4 5 6 7]\n",
      "\n",
      "\n",
      "Array with appended values at the end\n",
      "[ 0  1  2  3  4  5  6  7  8  9 10]\n"
     ]
    }
   ],
   "source": [
    "print(\"Original array\")\n",
    "numbers = np.arange(8)\n",
    "print(numbers)\n",
    "print(\"\\n\")\n",
    "print(\"Array with appended values at the end\")\n",
    "print(np.append(numbers, (8,9,10)))"
   ]
  },
  {
   "cell_type": "code",
   "execution_count": 141,
   "id": "ed27bd7d",
   "metadata": {},
   "outputs": [
    {
     "name": "stdout",
     "output_type": "stream",
     "text": [
      "Original array\n",
      "[[ 2  3  4]\n",
      " [ 5  6  7]\n",
      " [ 8  9 10]]\n",
      "\n",
      "\n",
      "Arrays with appended values at the end\n",
      "[[ 2  3  4]\n",
      " [ 5  6  7]\n",
      " [ 8  9 10]\n",
      " [12 13 14]]\n"
     ]
    }
   ],
   "source": [
    "print(\"Original array\")\n",
    "q = np.arange(2,11).reshape (3,3)\n",
    "print(q)\n",
    "print(\"\\n\")\n",
    "print(\"Arrays with appended values at the end\")\n",
    "print(np.append(q, [[12,13,14]], axis = 0))"
   ]
  },
  {
   "cell_type": "markdown",
   "id": "c2a3d5dc",
   "metadata": {},
   "source": [
    "### 17. Printing all boarders 1s and 0s inside"
   ]
  },
  {
   "cell_type": "code",
   "execution_count": 142,
   "id": "12d02b9f",
   "metadata": {},
   "outputs": [
    {
     "name": "stdout",
     "output_type": "stream",
     "text": [
      "Original array\n",
      "[[1. 1. 1. 1. 1. 1.]\n",
      " [1. 1. 1. 1. 1. 1.]\n",
      " [1. 1. 1. 1. 1. 1.]\n",
      " [1. 1. 1. 1. 1. 1.]\n",
      " [1. 1. 1. 1. 1. 1.]\n",
      " [1. 1. 1. 1. 1. 1.]]\n",
      "\n",
      "\n",
      "Arrays with one on the boarder and zeros inside\n",
      "[[1. 1. 1. 1. 1. 1.]\n",
      " [1. 0. 0. 0. 0. 1.]\n",
      " [1. 0. 0. 0. 0. 1.]\n",
      " [1. 0. 0. 0. 0. 1.]\n",
      " [1. 0. 0. 0. 0. 1.]\n",
      " [1. 1. 1. 1. 1. 1.]]\n"
     ]
    }
   ],
   "source": [
    "print(\"Original array\")\n",
    "array_2d = np.ones((6,6))\n",
    "print(array_2d)\n",
    "print(\"\\n\")\n",
    "print(\"Arrays with one on the boarder and zeros inside\")\n",
    "array_2d[1:-1,1:-1] = 0\n",
    "print(array_2d)"
   ]
  },
  {
   "cell_type": "markdown",
   "id": "a88b29fe",
   "metadata": {},
   "source": [
    "### 18. eye: Another way of printing identity matrix"
   ]
  },
  {
   "cell_type": "code",
   "execution_count": 143,
   "id": "19600f10",
   "metadata": {},
   "outputs": [
    {
     "data": {
      "text/plain": [
       "array([[1., 0., 0., 0., 0., 0.],\n",
       "       [0., 1., 0., 0., 0., 0.],\n",
       "       [0., 0., 1., 0., 0., 0.],\n",
       "       [0., 0., 0., 1., 0., 0.],\n",
       "       [0., 0., 0., 0., 1., 0.],\n",
       "       [0., 0., 0., 0., 0., 1.]])"
      ]
     },
     "execution_count": 143,
     "metadata": {},
     "output_type": "execute_result"
    }
   ],
   "source": [
    "np.eye(6)"
   ]
  },
  {
   "cell_type": "markdown",
   "id": "8b8dbff8",
   "metadata": {},
   "source": [
    "### 19. linspace: Return evenly spaced numbers over a specified interval."
   ]
  },
  {
   "cell_type": "code",
   "execution_count": 144,
   "id": "043bd1ce",
   "metadata": {},
   "outputs": [
    {
     "data": {
      "text/plain": [
       "array([ 0.,  5., 10.])"
      ]
     },
     "execution_count": 144,
     "metadata": {},
     "output_type": "execute_result"
    }
   ],
   "source": [
    "np.linspace(0,10,3)"
   ]
  },
  {
   "cell_type": "markdown",
   "id": "bebae02a",
   "metadata": {},
   "source": [
    "### 20. printing all zeros arrays"
   ]
  },
  {
   "cell_type": "code",
   "execution_count": 151,
   "id": "b3de3a2f",
   "metadata": {},
   "outputs": [
    {
     "data": {
      "text/plain": [
       "array([0., 0., 0.])"
      ]
     },
     "execution_count": 151,
     "metadata": {},
     "output_type": "execute_result"
    }
   ],
   "source": [
    "np.zeros((3))"
   ]
  },
  {
   "cell_type": "markdown",
   "id": "bb3a72a3",
   "metadata": {},
   "source": [
    "# 20 FUNCTIONS IN PANDAS"
   ]
  },
  {
   "cell_type": "code",
   "execution_count": 15,
   "id": "e80da545",
   "metadata": {},
   "outputs": [],
   "source": [
    "import pandas as pd"
   ]
  },
  {
   "cell_type": "markdown",
   "id": "b18d6183",
   "metadata": {},
   "source": [
    "### 1. Creating a table from the scratch  using dictionary"
   ]
  },
  {
   "cell_type": "code",
   "execution_count": 18,
   "id": "8238a201",
   "metadata": {},
   "outputs": [],
   "source": [
    "Table = {\"Names\": [\"Chisom\", \"Ugomsi\", \"Nneka\", \"Oge\", \"Blessing\"],\n",
    "        \"Age\":[25, 1, 23, 24, 22],\n",
    "        \"States\": [\"Enugu\", \"Enugu\", \"Anambra\", \"Ebonyi\", \"Abia\"]}"
   ]
  },
  {
   "cell_type": "code",
   "execution_count": 19,
   "id": "19e37430",
   "metadata": {},
   "outputs": [],
   "source": [
    "df = pd.DataFrame(Table)"
   ]
  },
  {
   "cell_type": "code",
   "execution_count": 20,
   "id": "13d61a32",
   "metadata": {},
   "outputs": [
    {
     "data": {
      "text/html": [
       "<div>\n",
       "<style scoped>\n",
       "    .dataframe tbody tr th:only-of-type {\n",
       "        vertical-align: middle;\n",
       "    }\n",
       "\n",
       "    .dataframe tbody tr th {\n",
       "        vertical-align: top;\n",
       "    }\n",
       "\n",
       "    .dataframe thead th {\n",
       "        text-align: right;\n",
       "    }\n",
       "</style>\n",
       "<table border=\"1\" class=\"dataframe\">\n",
       "  <thead>\n",
       "    <tr style=\"text-align: right;\">\n",
       "      <th></th>\n",
       "      <th>Names</th>\n",
       "      <th>Age</th>\n",
       "      <th>States</th>\n",
       "    </tr>\n",
       "  </thead>\n",
       "  <tbody>\n",
       "    <tr>\n",
       "      <th>0</th>\n",
       "      <td>Chisom</td>\n",
       "      <td>25</td>\n",
       "      <td>Enugu</td>\n",
       "    </tr>\n",
       "    <tr>\n",
       "      <th>1</th>\n",
       "      <td>Ugomsi</td>\n",
       "      <td>1</td>\n",
       "      <td>Enugu</td>\n",
       "    </tr>\n",
       "    <tr>\n",
       "      <th>2</th>\n",
       "      <td>Nneka</td>\n",
       "      <td>23</td>\n",
       "      <td>Anambra</td>\n",
       "    </tr>\n",
       "    <tr>\n",
       "      <th>3</th>\n",
       "      <td>Oge</td>\n",
       "      <td>24</td>\n",
       "      <td>Ebonyi</td>\n",
       "    </tr>\n",
       "    <tr>\n",
       "      <th>4</th>\n",
       "      <td>Blessing</td>\n",
       "      <td>22</td>\n",
       "      <td>Abia</td>\n",
       "    </tr>\n",
       "  </tbody>\n",
       "</table>\n",
       "</div>"
      ],
      "text/plain": [
       "      Names  Age   States\n",
       "0    Chisom   25    Enugu\n",
       "1    Ugomsi    1    Enugu\n",
       "2     Nneka   23  Anambra\n",
       "3       Oge   24   Ebonyi\n",
       "4  Blessing   22     Abia"
      ]
     },
     "execution_count": 20,
     "metadata": {},
     "output_type": "execute_result"
    }
   ],
   "source": [
    "df"
   ]
  },
  {
   "cell_type": "markdown",
   "id": "124e2365",
   "metadata": {},
   "source": [
    "### 2. Sum: Return the sum of the values over the requested axis.\n"
   ]
  },
  {
   "cell_type": "code",
   "execution_count": 24,
   "id": "3f928530",
   "metadata": {},
   "outputs": [
    {
     "data": {
      "text/plain": [
       "95"
      ]
     },
     "execution_count": 24,
     "metadata": {},
     "output_type": "execute_result"
    }
   ],
   "source": [
    "df[\"Age\"].sum ()"
   ]
  },
  {
   "cell_type": "code",
   "execution_count": 28,
   "id": "8fd4bb5d",
   "metadata": {},
   "outputs": [
    {
     "data": {
      "text/plain": [
       "26"
      ]
     },
     "execution_count": 28,
     "metadata": {},
     "output_type": "execute_result"
    }
   ],
   "source": [
    "df[\"Age\"][0:2].sum()"
   ]
  },
  {
   "cell_type": "markdown",
   "id": "8e731ae9",
   "metadata": {},
   "source": [
    "### 3. Mean: Return the mean of the values over the requested axis."
   ]
  },
  {
   "cell_type": "code",
   "execution_count": 34,
   "id": "1f055426",
   "metadata": {},
   "outputs": [
    {
     "data": {
      "text/plain": [
       "19.0"
      ]
     },
     "execution_count": 34,
     "metadata": {},
     "output_type": "execute_result"
    }
   ],
   "source": [
    "df[\"Age\"].mean()"
   ]
  },
  {
   "cell_type": "markdown",
   "id": "e111b5a0",
   "metadata": {},
   "source": [
    "### 4. Min: Return the minimum of the values over the requested axis.\n"
   ]
  },
  {
   "cell_type": "code",
   "execution_count": 36,
   "id": "94153215",
   "metadata": {},
   "outputs": [
    {
     "data": {
      "text/plain": [
       "1"
      ]
     },
     "execution_count": 36,
     "metadata": {},
     "output_type": "execute_result"
    }
   ],
   "source": [
    "df[\"Age\"].min()"
   ]
  },
  {
   "cell_type": "markdown",
   "id": "43e802a2",
   "metadata": {},
   "source": [
    "### 5. Max: Return the maximum of the values over the requested axis."
   ]
  },
  {
   "cell_type": "code",
   "execution_count": 37,
   "id": "3f2adada",
   "metadata": {},
   "outputs": [
    {
     "data": {
      "text/plain": [
       "25"
      ]
     },
     "execution_count": 37,
     "metadata": {},
     "output_type": "execute_result"
    }
   ],
   "source": [
    "df[\"Age\"].max()"
   ]
  },
  {
   "cell_type": "markdown",
   "id": "ac8b98b8",
   "metadata": {},
   "source": [
    "### 6. Count: Count non-NA cells for each column or row."
   ]
  },
  {
   "cell_type": "code",
   "execution_count": 42,
   "id": "ee7acc07",
   "metadata": {},
   "outputs": [
    {
     "data": {
      "text/plain": [
       "5"
      ]
     },
     "execution_count": 42,
     "metadata": {},
     "output_type": "execute_result"
    }
   ],
   "source": [
    "df[\"Age\"].count()"
   ]
  },
  {
   "cell_type": "markdown",
   "id": "4c486c9c",
   "metadata": {},
   "source": [
    "### 7. df.columns: Used to find the columns on the table"
   ]
  },
  {
   "cell_type": "code",
   "execution_count": 50,
   "id": "c46389e7",
   "metadata": {},
   "outputs": [
    {
     "data": {
      "text/plain": [
       "Index(['Names', 'Age', 'States'], dtype='object')"
      ]
     },
     "execution_count": 50,
     "metadata": {},
     "output_type": "execute_result"
    }
   ],
   "source": [
    "df.columns"
   ]
  },
  {
   "cell_type": "markdown",
   "id": "287aeaf8",
   "metadata": {},
   "source": [
    "### 8. Loc: Access a group of rows and columns by label(s) or a boolean array.\n"
   ]
  },
  {
   "cell_type": "code",
   "execution_count": 55,
   "id": "c8114a90",
   "metadata": {},
   "outputs": [
    {
     "data": {
      "text/plain": [
       "Names     Chisom\n",
       "Age           25\n",
       "States     Enugu\n",
       "Name: 0, dtype: object"
      ]
     },
     "execution_count": 55,
     "metadata": {},
     "output_type": "execute_result"
    }
   ],
   "source": [
    "df.loc[0]"
   ]
  },
  {
   "cell_type": "code",
   "execution_count": 67,
   "id": "4416269f",
   "metadata": {},
   "outputs": [
    {
     "data": {
      "text/plain": [
       "0    Chisom\n",
       "1    Ugomsi\n",
       "2     Nneka\n",
       "Name: Names, dtype: object"
      ]
     },
     "execution_count": 67,
     "metadata": {},
     "output_type": "execute_result"
    }
   ],
   "source": [
    "df.loc[0:2, \"Names\"]"
   ]
  },
  {
   "cell_type": "markdown",
   "id": "fbe1419d",
   "metadata": {},
   "source": [
    "### 9. iloc: Purely integer-location based indexing for selection by position.\n"
   ]
  },
  {
   "cell_type": "code",
   "execution_count": 69,
   "id": "eeb3694b",
   "metadata": {},
   "outputs": [
    {
     "data": {
      "text/html": [
       "<div>\n",
       "<style scoped>\n",
       "    .dataframe tbody tr th:only-of-type {\n",
       "        vertical-align: middle;\n",
       "    }\n",
       "\n",
       "    .dataframe tbody tr th {\n",
       "        vertical-align: top;\n",
       "    }\n",
       "\n",
       "    .dataframe thead th {\n",
       "        text-align: right;\n",
       "    }\n",
       "</style>\n",
       "<table border=\"1\" class=\"dataframe\">\n",
       "  <thead>\n",
       "    <tr style=\"text-align: right;\">\n",
       "      <th></th>\n",
       "      <th>Names</th>\n",
       "      <th>Age</th>\n",
       "      <th>States</th>\n",
       "    </tr>\n",
       "  </thead>\n",
       "  <tbody>\n",
       "    <tr>\n",
       "      <th>0</th>\n",
       "      <td>Chisom</td>\n",
       "      <td>25</td>\n",
       "      <td>Enugu</td>\n",
       "    </tr>\n",
       "    <tr>\n",
       "      <th>1</th>\n",
       "      <td>Ugomsi</td>\n",
       "      <td>1</td>\n",
       "      <td>Enugu</td>\n",
       "    </tr>\n",
       "  </tbody>\n",
       "</table>\n",
       "</div>"
      ],
      "text/plain": [
       "    Names  Age States\n",
       "0  Chisom   25  Enugu\n",
       "1  Ugomsi    1  Enugu"
      ]
     },
     "execution_count": 69,
     "metadata": {},
     "output_type": "execute_result"
    }
   ],
   "source": [
    "df.iloc~[0:2]"
   ]
  },
  {
   "cell_type": "markdown",
   "id": "d039dbab",
   "metadata": {},
   "source": [
    "### 10. Where: Replace values where the condition is False.\n"
   ]
  },
  {
   "cell_type": "code",
   "execution_count": 61,
   "id": "a6f3d93a",
   "metadata": {},
   "outputs": [
    {
     "data": {
      "text/plain": [
       "94.0"
      ]
     },
     "execution_count": 61,
     "metadata": {},
     "output_type": "execute_result"
    }
   ],
   "source": [
    "# method chaining (Equivalance of sumif)\n",
    "df[\"Age\"].where(df[\"Age\"]>20).sum()"
   ]
  },
  {
   "cell_type": "markdown",
   "id": "45703af3",
   "metadata": {},
   "source": [
    "### 11. Value_counts: Return a Series containing counts of unique rows in the DataFrame.\n"
   ]
  },
  {
   "cell_type": "code",
   "execution_count": 63,
   "id": "2519ff48",
   "metadata": {},
   "outputs": [
    {
     "data": {
      "text/plain": [
       "25.0    1\n",
       "23.0    1\n",
       "24.0    1\n",
       "22.0    1\n",
       "Name: Age, dtype: int64"
      ]
     },
     "execution_count": 63,
     "metadata": {},
     "output_type": "execute_result"
    }
   ],
   "source": [
    "# method chain (Equivalance of countif)\n",
    "df[\"Age\"].where(df[\"Age\"]>20).value_counts()"
   ]
  },
  {
   "cell_type": "code",
   "execution_count": 64,
   "id": "e1384c12",
   "metadata": {},
   "outputs": [
    {
     "data": {
      "text/plain": [
       "4"
      ]
     },
     "execution_count": 64,
     "metadata": {},
     "output_type": "execute_result"
    }
   ],
   "source": [
    "df[\"Age\"].where(df[\"Age\"]>20).value_counts().sum()"
   ]
  },
  {
   "cell_type": "markdown",
   "id": "5594d7d2",
   "metadata": {},
   "source": [
    "### 12. Count: Count non-NA cells for each column or row."
   ]
  },
  {
   "cell_type": "code",
   "execution_count": 66,
   "id": "8e37ff53",
   "metadata": {},
   "outputs": [
    {
     "data": {
      "text/plain": [
       "4"
      ]
     },
     "execution_count": 66,
     "metadata": {},
     "output_type": "execute_result"
    }
   ],
   "source": [
    "df[\"Age\"].where(df[\"Age\"]>20).count()"
   ]
  },
  {
   "cell_type": "markdown",
   "id": "676a0c35",
   "metadata": {},
   "source": [
    "### 13. pd.read: Read an Excel file into a pandas DataFrame."
   ]
  },
  {
   "cell_type": "code",
   "execution_count": 101,
   "id": "839fe558",
   "metadata": {},
   "outputs": [],
   "source": [
    "df = pd.read_excel(\"Order sales pandas.xlsx\")"
   ]
  },
  {
   "cell_type": "markdown",
   "id": "fe0e8635",
   "metadata": {},
   "source": [
    "### 14. head: This function returns the first `n` rows for the object based on position. It is useful for quickly testing if your object\n",
    "### has the right type of data in it."
   ]
  },
  {
   "cell_type": "code",
   "execution_count": 108,
   "id": "357fe0d1",
   "metadata": {},
   "outputs": [
    {
     "data": {
      "text/html": [
       "<div>\n",
       "<style scoped>\n",
       "    .dataframe tbody tr th:only-of-type {\n",
       "        vertical-align: middle;\n",
       "    }\n",
       "\n",
       "    .dataframe tbody tr th {\n",
       "        vertical-align: top;\n",
       "    }\n",
       "\n",
       "    .dataframe thead th {\n",
       "        text-align: right;\n",
       "    }\n",
       "</style>\n",
       "<table border=\"1\" class=\"dataframe\">\n",
       "  <thead>\n",
       "    <tr style=\"text-align: right;\">\n",
       "      <th></th>\n",
       "      <th>Order Quantity</th>\n",
       "      <th>Sales</th>\n",
       "      <th>Discount</th>\n",
       "      <th>Ship Mode</th>\n",
       "      <th>Profit</th>\n",
       "      <th>Unit Price</th>\n",
       "      <th>Shipping Cost</th>\n",
       "      <th>Customer Name</th>\n",
       "      <th>Province</th>\n",
       "      <th>Region</th>\n",
       "      <th>Customer Segment</th>\n",
       "      <th>Product Category</th>\n",
       "      <th>Product Sub-Category</th>\n",
       "      <th>Product Name</th>\n",
       "      <th>Product Container</th>\n",
       "      <th>Product Base Margin</th>\n",
       "      <th>Ship Date</th>\n",
       "    </tr>\n",
       "  </thead>\n",
       "  <tbody>\n",
       "    <tr>\n",
       "      <th>0</th>\n",
       "      <td>6</td>\n",
       "      <td>261.5400</td>\n",
       "      <td>0.04</td>\n",
       "      <td>Regular Air</td>\n",
       "      <td>-213.2500</td>\n",
       "      <td>38.94</td>\n",
       "      <td>35.00</td>\n",
       "      <td>Muhammed MacIntyre</td>\n",
       "      <td>Nunavut</td>\n",
       "      <td>Nunavut</td>\n",
       "      <td>Small Business</td>\n",
       "      <td>Office Supplies</td>\n",
       "      <td>Storage &amp; Organization</td>\n",
       "      <td>Eldon Base for stackable storage shelf, platinum</td>\n",
       "      <td>Large Box</td>\n",
       "      <td>0.80</td>\n",
       "      <td>2010-10-20</td>\n",
       "    </tr>\n",
       "    <tr>\n",
       "      <th>1</th>\n",
       "      <td>49</td>\n",
       "      <td>10123.0200</td>\n",
       "      <td>0.07</td>\n",
       "      <td>Delivery Truck</td>\n",
       "      <td>457.8100</td>\n",
       "      <td>208.16</td>\n",
       "      <td>68.02</td>\n",
       "      <td>Barry French</td>\n",
       "      <td>Nunavut</td>\n",
       "      <td>Nunavut</td>\n",
       "      <td>Consumer</td>\n",
       "      <td>Office Supplies</td>\n",
       "      <td>Appliances</td>\n",
       "      <td>1.7 Cubic Foot Compact \"Cube\" Office Refrigera...</td>\n",
       "      <td>Jumbo Drum</td>\n",
       "      <td>0.58</td>\n",
       "      <td>2012-10-02</td>\n",
       "    </tr>\n",
       "    <tr>\n",
       "      <th>2</th>\n",
       "      <td>27</td>\n",
       "      <td>244.5700</td>\n",
       "      <td>0.01</td>\n",
       "      <td>Regular Air</td>\n",
       "      <td>46.7075</td>\n",
       "      <td>8.69</td>\n",
       "      <td>2.99</td>\n",
       "      <td>Barry French</td>\n",
       "      <td>Nunavut</td>\n",
       "      <td>Nunavut</td>\n",
       "      <td>Consumer</td>\n",
       "      <td>Office Supplies</td>\n",
       "      <td>Binders and Binder Accessories</td>\n",
       "      <td>Cardinal Slant-D® Ring Binder, Heavy Gauge Vinyl</td>\n",
       "      <td>Small Box</td>\n",
       "      <td>0.39</td>\n",
       "      <td>2012-10-03</td>\n",
       "    </tr>\n",
       "    <tr>\n",
       "      <th>3</th>\n",
       "      <td>30</td>\n",
       "      <td>4965.7595</td>\n",
       "      <td>0.08</td>\n",
       "      <td>Regular Air</td>\n",
       "      <td>1198.9710</td>\n",
       "      <td>195.99</td>\n",
       "      <td>3.99</td>\n",
       "      <td>Clay Rozendal</td>\n",
       "      <td>Nunavut</td>\n",
       "      <td>Nunavut</td>\n",
       "      <td>Corporate</td>\n",
       "      <td>Technology</td>\n",
       "      <td>Telephones and Communication</td>\n",
       "      <td>R380</td>\n",
       "      <td>Small Box</td>\n",
       "      <td>0.58</td>\n",
       "      <td>2011-07-12</td>\n",
       "    </tr>\n",
       "    <tr>\n",
       "      <th>4</th>\n",
       "      <td>19</td>\n",
       "      <td>394.2700</td>\n",
       "      <td>0.08</td>\n",
       "      <td>Regular Air</td>\n",
       "      <td>30.9400</td>\n",
       "      <td>21.78</td>\n",
       "      <td>5.94</td>\n",
       "      <td>Carlos Soltero</td>\n",
       "      <td>Nunavut</td>\n",
       "      <td>Nunavut</td>\n",
       "      <td>Consumer</td>\n",
       "      <td>Office Supplies</td>\n",
       "      <td>Appliances</td>\n",
       "      <td>Holmes HEPA Air Purifier</td>\n",
       "      <td>Medium Box</td>\n",
       "      <td>0.50</td>\n",
       "      <td>2010-08-30</td>\n",
       "    </tr>\n",
       "  </tbody>\n",
       "</table>\n",
       "</div>"
      ],
      "text/plain": [
       "   Order Quantity       Sales  Discount       Ship Mode     Profit  \\\n",
       "0               6    261.5400      0.04     Regular Air  -213.2500   \n",
       "1              49  10123.0200      0.07  Delivery Truck   457.8100   \n",
       "2              27    244.5700      0.01     Regular Air    46.7075   \n",
       "3              30   4965.7595      0.08     Regular Air  1198.9710   \n",
       "4              19    394.2700      0.08     Regular Air    30.9400   \n",
       "\n",
       "   Unit Price  Shipping Cost       Customer Name Province   Region  \\\n",
       "0       38.94          35.00  Muhammed MacIntyre  Nunavut  Nunavut   \n",
       "1      208.16          68.02        Barry French  Nunavut  Nunavut   \n",
       "2        8.69           2.99        Barry French  Nunavut  Nunavut   \n",
       "3      195.99           3.99       Clay Rozendal  Nunavut  Nunavut   \n",
       "4       21.78           5.94      Carlos Soltero  Nunavut  Nunavut   \n",
       "\n",
       "  Customer Segment Product Category            Product Sub-Category  \\\n",
       "0   Small Business  Office Supplies          Storage & Organization   \n",
       "1         Consumer  Office Supplies                      Appliances   \n",
       "2         Consumer  Office Supplies  Binders and Binder Accessories   \n",
       "3        Corporate       Technology    Telephones and Communication   \n",
       "4         Consumer  Office Supplies                      Appliances   \n",
       "\n",
       "                                        Product Name Product Container  \\\n",
       "0   Eldon Base for stackable storage shelf, platinum         Large Box   \n",
       "1  1.7 Cubic Foot Compact \"Cube\" Office Refrigera...        Jumbo Drum   \n",
       "2   Cardinal Slant-D® Ring Binder, Heavy Gauge Vinyl         Small Box   \n",
       "3                                               R380         Small Box   \n",
       "4                           Holmes HEPA Air Purifier        Medium Box   \n",
       "\n",
       "   Product Base Margin  Ship Date  \n",
       "0                 0.80 2010-10-20  \n",
       "1                 0.58 2012-10-02  \n",
       "2                 0.39 2012-10-03  \n",
       "3                 0.58 2011-07-12  \n",
       "4                 0.50 2010-08-30  "
      ]
     },
     "execution_count": 108,
     "metadata": {},
     "output_type": "execute_result"
    }
   ],
   "source": [
    "df.head()"
   ]
  },
  {
   "cell_type": "markdown",
   "id": "081be31d",
   "metadata": {},
   "source": [
    "### 15. info: Print a concise summary of a DataFrame."
   ]
  },
  {
   "cell_type": "code",
   "execution_count": 105,
   "id": "6beb9c60",
   "metadata": {},
   "outputs": [
    {
     "name": "stdout",
     "output_type": "stream",
     "text": [
      "<class 'pandas.core.frame.DataFrame'>\n",
      "RangeIndex: 8399 entries, 0 to 8398\n",
      "Data columns (total 17 columns):\n",
      " #   Column                Non-Null Count  Dtype         \n",
      "---  ------                --------------  -----         \n",
      " 0   Order Quantity        8399 non-null   int64         \n",
      " 1   Sales                 8399 non-null   float64       \n",
      " 2   Discount              8399 non-null   float64       \n",
      " 3   Ship Mode             8399 non-null   object        \n",
      " 4   Profit                8399 non-null   float64       \n",
      " 5   Unit Price            8399 non-null   float64       \n",
      " 6   Shipping Cost         8399 non-null   float64       \n",
      " 7   Customer Name         8399 non-null   object        \n",
      " 8   Province              8399 non-null   object        \n",
      " 9   Region                8399 non-null   object        \n",
      " 10  Customer Segment      8399 non-null   object        \n",
      " 11  Product Category      8399 non-null   object        \n",
      " 12  Product Sub-Category  8399 non-null   object        \n",
      " 13  Product Name          8399 non-null   object        \n",
      " 14  Product Container     8399 non-null   object        \n",
      " 15  Product Base Margin   8336 non-null   float64       \n",
      " 16  Ship Date             8399 non-null   datetime64[ns]\n",
      "dtypes: datetime64[ns](1), float64(6), int64(1), object(9)\n",
      "memory usage: 1.1+ MB\n"
     ]
    }
   ],
   "source": [
    "df.info()"
   ]
  },
  {
   "cell_type": "markdown",
   "id": "1bf50863",
   "metadata": {},
   "source": [
    "### 16. Shape: Return a tuple representing the dimensionality of the DataFrame."
   ]
  },
  {
   "cell_type": "code",
   "execution_count": 114,
   "id": "3ef2fa36",
   "metadata": {},
   "outputs": [
    {
     "data": {
      "text/plain": [
       "(8399, 17)"
      ]
     },
     "execution_count": 114,
     "metadata": {},
     "output_type": "execute_result"
    }
   ],
   "source": [
    "df.shape"
   ]
  },
  {
   "cell_type": "markdown",
   "id": "c52a06d6",
   "metadata": {},
   "source": [
    "### 17. Size: Return an int representing the number of elements in this object."
   ]
  },
  {
   "cell_type": "code",
   "execution_count": 115,
   "id": "704c557f",
   "metadata": {},
   "outputs": [
    {
     "data": {
      "text/plain": [
       "142783"
      ]
     },
     "execution_count": 115,
     "metadata": {},
     "output_type": "execute_result"
    }
   ],
   "source": [
    "df.size"
   ]
  },
  {
   "cell_type": "markdown",
   "id": "b12d6c54",
   "metadata": {},
   "source": [
    "### 18. Sample: Return a random sample of items from an axis of object."
   ]
  },
  {
   "cell_type": "code",
   "execution_count": 116,
   "id": "445c4582",
   "metadata": {},
   "outputs": [
    {
     "data": {
      "text/html": [
       "<div>\n",
       "<style scoped>\n",
       "    .dataframe tbody tr th:only-of-type {\n",
       "        vertical-align: middle;\n",
       "    }\n",
       "\n",
       "    .dataframe tbody tr th {\n",
       "        vertical-align: top;\n",
       "    }\n",
       "\n",
       "    .dataframe thead th {\n",
       "        text-align: right;\n",
       "    }\n",
       "</style>\n",
       "<table border=\"1\" class=\"dataframe\">\n",
       "  <thead>\n",
       "    <tr style=\"text-align: right;\">\n",
       "      <th></th>\n",
       "      <th>Order Quantity</th>\n",
       "      <th>Sales</th>\n",
       "      <th>Discount</th>\n",
       "      <th>Ship Mode</th>\n",
       "      <th>Profit</th>\n",
       "      <th>Unit Price</th>\n",
       "      <th>Shipping Cost</th>\n",
       "      <th>Customer Name</th>\n",
       "      <th>Province</th>\n",
       "      <th>Region</th>\n",
       "      <th>Customer Segment</th>\n",
       "      <th>Product Category</th>\n",
       "      <th>Product Sub-Category</th>\n",
       "      <th>Product Name</th>\n",
       "      <th>Product Container</th>\n",
       "      <th>Product Base Margin</th>\n",
       "      <th>Ship Date</th>\n",
       "    </tr>\n",
       "  </thead>\n",
       "  <tbody>\n",
       "    <tr>\n",
       "      <th>5706</th>\n",
       "      <td>7</td>\n",
       "      <td>189.7300</td>\n",
       "      <td>0.01</td>\n",
       "      <td>Regular Air</td>\n",
       "      <td>43.1715</td>\n",
       "      <td>24.95</td>\n",
       "      <td>2.99</td>\n",
       "      <td>Jennifer Jackson</td>\n",
       "      <td>Saskachewan</td>\n",
       "      <td>Prarie</td>\n",
       "      <td>Home Office</td>\n",
       "      <td>Office Supplies</td>\n",
       "      <td>Binders and Binder Accessories</td>\n",
       "      <td>Large Capacity Hanging Post Binders</td>\n",
       "      <td>Small Box</td>\n",
       "      <td>0.39</td>\n",
       "      <td>2011-05-21</td>\n",
       "    </tr>\n",
       "    <tr>\n",
       "      <th>1772</th>\n",
       "      <td>13</td>\n",
       "      <td>728.0250</td>\n",
       "      <td>0.04</td>\n",
       "      <td>Regular Air</td>\n",
       "      <td>19.9980</td>\n",
       "      <td>65.99</td>\n",
       "      <td>2.50</td>\n",
       "      <td>Duane Benoit</td>\n",
       "      <td>Ontario</td>\n",
       "      <td>Ontario</td>\n",
       "      <td>Home Office</td>\n",
       "      <td>Technology</td>\n",
       "      <td>Telephones and Communication</td>\n",
       "      <td>6000</td>\n",
       "      <td>Small Box</td>\n",
       "      <td>0.55</td>\n",
       "      <td>2012-03-27</td>\n",
       "    </tr>\n",
       "    <tr>\n",
       "      <th>2411</th>\n",
       "      <td>50</td>\n",
       "      <td>196.3900</td>\n",
       "      <td>0.07</td>\n",
       "      <td>Regular Air</td>\n",
       "      <td>82.6000</td>\n",
       "      <td>4.13</td>\n",
       "      <td>0.50</td>\n",
       "      <td>George Ashbrook</td>\n",
       "      <td>Ontario</td>\n",
       "      <td>Ontario</td>\n",
       "      <td>Consumer</td>\n",
       "      <td>Office Supplies</td>\n",
       "      <td>Labels</td>\n",
       "      <td>Avery 506</td>\n",
       "      <td>Small Box</td>\n",
       "      <td>0.39</td>\n",
       "      <td>2011-02-18</td>\n",
       "    </tr>\n",
       "    <tr>\n",
       "      <th>7964</th>\n",
       "      <td>36</td>\n",
       "      <td>1921.1275</td>\n",
       "      <td>0.08</td>\n",
       "      <td>Regular Air</td>\n",
       "      <td>248.5800</td>\n",
       "      <td>65.99</td>\n",
       "      <td>8.99</td>\n",
       "      <td>Claire Good</td>\n",
       "      <td>Alberta</td>\n",
       "      <td>West</td>\n",
       "      <td>Home Office</td>\n",
       "      <td>Technology</td>\n",
       "      <td>Telephones and Communication</td>\n",
       "      <td>Talkabout T8367</td>\n",
       "      <td>Small Box</td>\n",
       "      <td>0.56</td>\n",
       "      <td>2012-02-29</td>\n",
       "    </tr>\n",
       "    <tr>\n",
       "      <th>4329</th>\n",
       "      <td>47</td>\n",
       "      <td>1291.3500</td>\n",
       "      <td>0.04</td>\n",
       "      <td>Regular Air</td>\n",
       "      <td>479.6200</td>\n",
       "      <td>26.38</td>\n",
       "      <td>5.86</td>\n",
       "      <td>Odella Nelson</td>\n",
       "      <td>Ontario</td>\n",
       "      <td>Ontario</td>\n",
       "      <td>Small Business</td>\n",
       "      <td>Office Supplies</td>\n",
       "      <td>Paper</td>\n",
       "      <td>Xerox 1935</td>\n",
       "      <td>Small Box</td>\n",
       "      <td>0.39</td>\n",
       "      <td>2010-07-27</td>\n",
       "    </tr>\n",
       "    <tr>\n",
       "      <th>3099</th>\n",
       "      <td>30</td>\n",
       "      <td>257.4200</td>\n",
       "      <td>0.01</td>\n",
       "      <td>Regular Air</td>\n",
       "      <td>59.1800</td>\n",
       "      <td>8.01</td>\n",
       "      <td>2.87</td>\n",
       "      <td>Sanjit Jacobs</td>\n",
       "      <td>Quebec</td>\n",
       "      <td>Quebec</td>\n",
       "      <td>Consumer</td>\n",
       "      <td>Office Supplies</td>\n",
       "      <td>Paper</td>\n",
       "      <td>TOPS Money Receipt Book, Consecutively Numbere...</td>\n",
       "      <td>Wrap Bag</td>\n",
       "      <td>0.40</td>\n",
       "      <td>2009-01-18</td>\n",
       "    </tr>\n",
       "    <tr>\n",
       "      <th>2199</th>\n",
       "      <td>7</td>\n",
       "      <td>81.5800</td>\n",
       "      <td>0.04</td>\n",
       "      <td>Regular Air</td>\n",
       "      <td>-7.7800</td>\n",
       "      <td>10.98</td>\n",
       "      <td>3.37</td>\n",
       "      <td>Edward Nazzal</td>\n",
       "      <td>Ontario</td>\n",
       "      <td>Ontario</td>\n",
       "      <td>Home Office</td>\n",
       "      <td>Office Supplies</td>\n",
       "      <td>Scissors, Rulers and Trimmers</td>\n",
       "      <td>Fiskars® Softgrip Scissors</td>\n",
       "      <td>Small Pack</td>\n",
       "      <td>0.57</td>\n",
       "      <td>2012-03-27</td>\n",
       "    </tr>\n",
       "    <tr>\n",
       "      <th>2143</th>\n",
       "      <td>28</td>\n",
       "      <td>1642.0500</td>\n",
       "      <td>0.03</td>\n",
       "      <td>Regular Air</td>\n",
       "      <td>829.7300</td>\n",
       "      <td>55.98</td>\n",
       "      <td>4.86</td>\n",
       "      <td>Linda Cazamias</td>\n",
       "      <td>Ontario</td>\n",
       "      <td>Ontario</td>\n",
       "      <td>Corporate</td>\n",
       "      <td>Office Supplies</td>\n",
       "      <td>Paper</td>\n",
       "      <td>Xerox 1908</td>\n",
       "      <td>Small Box</td>\n",
       "      <td>0.36</td>\n",
       "      <td>2009-09-20</td>\n",
       "    </tr>\n",
       "    <tr>\n",
       "      <th>1059</th>\n",
       "      <td>17</td>\n",
       "      <td>2285.1200</td>\n",
       "      <td>0.08</td>\n",
       "      <td>Delivery Truck</td>\n",
       "      <td>-455.8000</td>\n",
       "      <td>140.98</td>\n",
       "      <td>36.09</td>\n",
       "      <td>Khloe Miller</td>\n",
       "      <td>British Columbia</td>\n",
       "      <td>West</td>\n",
       "      <td>Home Office</td>\n",
       "      <td>Furniture</td>\n",
       "      <td>Bookcases</td>\n",
       "      <td>Sauder Forest Hills Library, Woodland Oak Finish</td>\n",
       "      <td>Jumbo Box</td>\n",
       "      <td>0.77</td>\n",
       "      <td>2010-12-27</td>\n",
       "    </tr>\n",
       "    <tr>\n",
       "      <th>6147</th>\n",
       "      <td>19</td>\n",
       "      <td>6991.6500</td>\n",
       "      <td>0.08</td>\n",
       "      <td>Delivery Truck</td>\n",
       "      <td>906.8000</td>\n",
       "      <td>399.98</td>\n",
       "      <td>12.06</td>\n",
       "      <td>Andy Gerbode</td>\n",
       "      <td>Saskachewan</td>\n",
       "      <td>Prarie</td>\n",
       "      <td>Consumer</td>\n",
       "      <td>Technology</td>\n",
       "      <td>Office Machines</td>\n",
       "      <td>Okidata ML320 Series Turbo Dot Matrix Printers</td>\n",
       "      <td>Jumbo Box</td>\n",
       "      <td>0.56</td>\n",
       "      <td>2009-01-18</td>\n",
       "    </tr>\n",
       "  </tbody>\n",
       "</table>\n",
       "</div>"
      ],
      "text/plain": [
       "      Order Quantity      Sales  Discount       Ship Mode    Profit  \\\n",
       "5706               7   189.7300      0.01     Regular Air   43.1715   \n",
       "1772              13   728.0250      0.04     Regular Air   19.9980   \n",
       "2411              50   196.3900      0.07     Regular Air   82.6000   \n",
       "7964              36  1921.1275      0.08     Regular Air  248.5800   \n",
       "4329              47  1291.3500      0.04     Regular Air  479.6200   \n",
       "3099              30   257.4200      0.01     Regular Air   59.1800   \n",
       "2199               7    81.5800      0.04     Regular Air   -7.7800   \n",
       "2143              28  1642.0500      0.03     Regular Air  829.7300   \n",
       "1059              17  2285.1200      0.08  Delivery Truck -455.8000   \n",
       "6147              19  6991.6500      0.08  Delivery Truck  906.8000   \n",
       "\n",
       "      Unit Price  Shipping Cost     Customer Name          Province   Region  \\\n",
       "5706       24.95           2.99  Jennifer Jackson       Saskachewan   Prarie   \n",
       "1772       65.99           2.50      Duane Benoit           Ontario  Ontario   \n",
       "2411        4.13           0.50   George Ashbrook           Ontario  Ontario   \n",
       "7964       65.99           8.99       Claire Good           Alberta     West   \n",
       "4329       26.38           5.86     Odella Nelson           Ontario  Ontario   \n",
       "3099        8.01           2.87     Sanjit Jacobs            Quebec   Quebec   \n",
       "2199       10.98           3.37     Edward Nazzal           Ontario  Ontario   \n",
       "2143       55.98           4.86    Linda Cazamias           Ontario  Ontario   \n",
       "1059      140.98          36.09      Khloe Miller  British Columbia     West   \n",
       "6147      399.98          12.06      Andy Gerbode       Saskachewan   Prarie   \n",
       "\n",
       "     Customer Segment Product Category            Product Sub-Category  \\\n",
       "5706      Home Office  Office Supplies  Binders and Binder Accessories   \n",
       "1772      Home Office       Technology    Telephones and Communication   \n",
       "2411         Consumer  Office Supplies                          Labels   \n",
       "7964      Home Office       Technology    Telephones and Communication   \n",
       "4329   Small Business  Office Supplies                           Paper   \n",
       "3099         Consumer  Office Supplies                           Paper   \n",
       "2199      Home Office  Office Supplies   Scissors, Rulers and Trimmers   \n",
       "2143        Corporate  Office Supplies                           Paper   \n",
       "1059      Home Office        Furniture                       Bookcases   \n",
       "6147         Consumer       Technology                 Office Machines   \n",
       "\n",
       "                                           Product Name Product Container  \\\n",
       "5706                Large Capacity Hanging Post Binders         Small Box   \n",
       "1772                                               6000         Small Box   \n",
       "2411                                          Avery 506         Small Box   \n",
       "7964                                    Talkabout T8367         Small Box   \n",
       "4329                                         Xerox 1935         Small Box   \n",
       "3099  TOPS Money Receipt Book, Consecutively Numbere...          Wrap Bag   \n",
       "2199                         Fiskars® Softgrip Scissors        Small Pack   \n",
       "2143                                         Xerox 1908         Small Box   \n",
       "1059   Sauder Forest Hills Library, Woodland Oak Finish         Jumbo Box   \n",
       "6147     Okidata ML320 Series Turbo Dot Matrix Printers         Jumbo Box   \n",
       "\n",
       "      Product Base Margin  Ship Date  \n",
       "5706                 0.39 2011-05-21  \n",
       "1772                 0.55 2012-03-27  \n",
       "2411                 0.39 2011-02-18  \n",
       "7964                 0.56 2012-02-29  \n",
       "4329                 0.39 2010-07-27  \n",
       "3099                 0.40 2009-01-18  \n",
       "2199                 0.57 2012-03-27  \n",
       "2143                 0.36 2009-09-20  \n",
       "1059                 0.77 2010-12-27  \n",
       "6147                 0.56 2009-01-18  "
      ]
     },
     "execution_count": 116,
     "metadata": {},
     "output_type": "execute_result"
    }
   ],
   "source": [
    "df.sample(n=10)"
   ]
  },
  {
   "cell_type": "markdown",
   "id": "1a7ca353",
   "metadata": {},
   "source": [
    "### 19. Describe: Generate descriptive statistics.Descriptive statistics include those that summarize the central\n",
    "### tendency, dispersion and shape of a\n",
    "### dataset's distribution, excluding ``NaN`` values."
   ]
  },
  {
   "cell_type": "code",
   "execution_count": 117,
   "id": "1100a487",
   "metadata": {},
   "outputs": [
    {
     "data": {
      "text/html": [
       "<div>\n",
       "<style scoped>\n",
       "    .dataframe tbody tr th:only-of-type {\n",
       "        vertical-align: middle;\n",
       "    }\n",
       "\n",
       "    .dataframe tbody tr th {\n",
       "        vertical-align: top;\n",
       "    }\n",
       "\n",
       "    .dataframe thead th {\n",
       "        text-align: right;\n",
       "    }\n",
       "</style>\n",
       "<table border=\"1\" class=\"dataframe\">\n",
       "  <thead>\n",
       "    <tr style=\"text-align: right;\">\n",
       "      <th></th>\n",
       "      <th>Order Quantity</th>\n",
       "      <th>Sales</th>\n",
       "      <th>Discount</th>\n",
       "      <th>Profit</th>\n",
       "      <th>Unit Price</th>\n",
       "      <th>Shipping Cost</th>\n",
       "      <th>Product Base Margin</th>\n",
       "    </tr>\n",
       "  </thead>\n",
       "  <tbody>\n",
       "    <tr>\n",
       "      <th>count</th>\n",
       "      <td>8399.000000</td>\n",
       "      <td>8399.000000</td>\n",
       "      <td>8399.000000</td>\n",
       "      <td>8399.000000</td>\n",
       "      <td>8399.000000</td>\n",
       "      <td>8399.000000</td>\n",
       "      <td>8336.000000</td>\n",
       "    </tr>\n",
       "    <tr>\n",
       "      <th>mean</th>\n",
       "      <td>25.571735</td>\n",
       "      <td>1775.878179</td>\n",
       "      <td>0.049671</td>\n",
       "      <td>181.184422</td>\n",
       "      <td>89.346259</td>\n",
       "      <td>12.838557</td>\n",
       "      <td>0.512513</td>\n",
       "    </tr>\n",
       "    <tr>\n",
       "      <th>std</th>\n",
       "      <td>14.481071</td>\n",
       "      <td>3585.050525</td>\n",
       "      <td>0.031823</td>\n",
       "      <td>1196.653326</td>\n",
       "      <td>290.354383</td>\n",
       "      <td>17.264052</td>\n",
       "      <td>0.135589</td>\n",
       "    </tr>\n",
       "    <tr>\n",
       "      <th>min</th>\n",
       "      <td>1.000000</td>\n",
       "      <td>2.240000</td>\n",
       "      <td>0.000000</td>\n",
       "      <td>-14140.701600</td>\n",
       "      <td>0.990000</td>\n",
       "      <td>0.490000</td>\n",
       "      <td>0.350000</td>\n",
       "    </tr>\n",
       "    <tr>\n",
       "      <th>25%</th>\n",
       "      <td>13.000000</td>\n",
       "      <td>143.195000</td>\n",
       "      <td>0.020000</td>\n",
       "      <td>-83.315000</td>\n",
       "      <td>6.480000</td>\n",
       "      <td>3.300000</td>\n",
       "      <td>0.380000</td>\n",
       "    </tr>\n",
       "    <tr>\n",
       "      <th>50%</th>\n",
       "      <td>26.000000</td>\n",
       "      <td>449.420000</td>\n",
       "      <td>0.050000</td>\n",
       "      <td>-1.500000</td>\n",
       "      <td>20.990000</td>\n",
       "      <td>6.070000</td>\n",
       "      <td>0.520000</td>\n",
       "    </tr>\n",
       "    <tr>\n",
       "      <th>75%</th>\n",
       "      <td>38.000000</td>\n",
       "      <td>1709.320000</td>\n",
       "      <td>0.080000</td>\n",
       "      <td>162.748000</td>\n",
       "      <td>85.990000</td>\n",
       "      <td>13.990000</td>\n",
       "      <td>0.590000</td>\n",
       "    </tr>\n",
       "    <tr>\n",
       "      <th>max</th>\n",
       "      <td>50.000000</td>\n",
       "      <td>89061.050000</td>\n",
       "      <td>0.250000</td>\n",
       "      <td>27220.690000</td>\n",
       "      <td>6783.020000</td>\n",
       "      <td>164.730000</td>\n",
       "      <td>0.850000</td>\n",
       "    </tr>\n",
       "  </tbody>\n",
       "</table>\n",
       "</div>"
      ],
      "text/plain": [
       "       Order Quantity         Sales     Discount        Profit   Unit Price  \\\n",
       "count     8399.000000   8399.000000  8399.000000   8399.000000  8399.000000   \n",
       "mean        25.571735   1775.878179     0.049671    181.184422    89.346259   \n",
       "std         14.481071   3585.050525     0.031823   1196.653326   290.354383   \n",
       "min          1.000000      2.240000     0.000000 -14140.701600     0.990000   \n",
       "25%         13.000000    143.195000     0.020000    -83.315000     6.480000   \n",
       "50%         26.000000    449.420000     0.050000     -1.500000    20.990000   \n",
       "75%         38.000000   1709.320000     0.080000    162.748000    85.990000   \n",
       "max         50.000000  89061.050000     0.250000  27220.690000  6783.020000   \n",
       "\n",
       "       Shipping Cost  Product Base Margin  \n",
       "count    8399.000000          8336.000000  \n",
       "mean       12.838557             0.512513  \n",
       "std        17.264052             0.135589  \n",
       "min         0.490000             0.350000  \n",
       "25%         3.300000             0.380000  \n",
       "50%         6.070000             0.520000  \n",
       "75%        13.990000             0.590000  \n",
       "max       164.730000             0.850000  "
      ]
     },
     "execution_count": 117,
     "metadata": {},
     "output_type": "execute_result"
    }
   ],
   "source": [
    "df.describe()"
   ]
  },
  {
   "cell_type": "code",
   "execution_count": 155,
   "id": "086f1b9f",
   "metadata": {},
   "outputs": [
    {
     "data": {
      "text/html": [
       "<div>\n",
       "<style scoped>\n",
       "    .dataframe tbody tr th:only-of-type {\n",
       "        vertical-align: middle;\n",
       "    }\n",
       "\n",
       "    .dataframe tbody tr th {\n",
       "        vertical-align: top;\n",
       "    }\n",
       "\n",
       "    .dataframe thead th {\n",
       "        text-align: right;\n",
       "    }\n",
       "</style>\n",
       "<table border=\"1\" class=\"dataframe\">\n",
       "  <thead>\n",
       "    <tr style=\"text-align: right;\">\n",
       "      <th></th>\n",
       "      <th>count</th>\n",
       "      <th>mean</th>\n",
       "      <th>std</th>\n",
       "      <th>min</th>\n",
       "      <th>25%</th>\n",
       "      <th>50%</th>\n",
       "      <th>75%</th>\n",
       "      <th>max</th>\n",
       "    </tr>\n",
       "  </thead>\n",
       "  <tbody>\n",
       "    <tr>\n",
       "      <th>Order Quantity</th>\n",
       "      <td>8399.0</td>\n",
       "      <td>25.571735</td>\n",
       "      <td>14.481071</td>\n",
       "      <td>1.0000</td>\n",
       "      <td>13.000</td>\n",
       "      <td>26.00</td>\n",
       "      <td>38.000</td>\n",
       "      <td>50.00</td>\n",
       "    </tr>\n",
       "    <tr>\n",
       "      <th>Sales</th>\n",
       "      <td>8399.0</td>\n",
       "      <td>1775.878179</td>\n",
       "      <td>3585.050525</td>\n",
       "      <td>2.2400</td>\n",
       "      <td>143.195</td>\n",
       "      <td>449.42</td>\n",
       "      <td>1709.320</td>\n",
       "      <td>89061.05</td>\n",
       "    </tr>\n",
       "    <tr>\n",
       "      <th>Discount</th>\n",
       "      <td>8399.0</td>\n",
       "      <td>0.049671</td>\n",
       "      <td>0.031823</td>\n",
       "      <td>0.0000</td>\n",
       "      <td>0.020</td>\n",
       "      <td>0.05</td>\n",
       "      <td>0.080</td>\n",
       "      <td>0.25</td>\n",
       "    </tr>\n",
       "    <tr>\n",
       "      <th>Profit</th>\n",
       "      <td>8399.0</td>\n",
       "      <td>181.184422</td>\n",
       "      <td>1196.653326</td>\n",
       "      <td>-14140.7016</td>\n",
       "      <td>-83.315</td>\n",
       "      <td>-1.50</td>\n",
       "      <td>162.748</td>\n",
       "      <td>27220.69</td>\n",
       "    </tr>\n",
       "    <tr>\n",
       "      <th>Unit Price</th>\n",
       "      <td>8399.0</td>\n",
       "      <td>89.346259</td>\n",
       "      <td>290.354383</td>\n",
       "      <td>0.9900</td>\n",
       "      <td>6.480</td>\n",
       "      <td>20.99</td>\n",
       "      <td>85.990</td>\n",
       "      <td>6783.02</td>\n",
       "    </tr>\n",
       "    <tr>\n",
       "      <th>Shipping Cost</th>\n",
       "      <td>8399.0</td>\n",
       "      <td>12.838557</td>\n",
       "      <td>17.264052</td>\n",
       "      <td>0.4900</td>\n",
       "      <td>3.300</td>\n",
       "      <td>6.07</td>\n",
       "      <td>13.990</td>\n",
       "      <td>164.73</td>\n",
       "    </tr>\n",
       "    <tr>\n",
       "      <th>Product Base Margin</th>\n",
       "      <td>8336.0</td>\n",
       "      <td>0.512513</td>\n",
       "      <td>0.135589</td>\n",
       "      <td>0.3500</td>\n",
       "      <td>0.380</td>\n",
       "      <td>0.52</td>\n",
       "      <td>0.590</td>\n",
       "      <td>0.85</td>\n",
       "    </tr>\n",
       "  </tbody>\n",
       "</table>\n",
       "</div>"
      ],
      "text/plain": [
       "                      count         mean          std         min      25%  \\\n",
       "Order Quantity       8399.0    25.571735    14.481071      1.0000   13.000   \n",
       "Sales                8399.0  1775.878179  3585.050525      2.2400  143.195   \n",
       "Discount             8399.0     0.049671     0.031823      0.0000    0.020   \n",
       "Profit               8399.0   181.184422  1196.653326 -14140.7016  -83.315   \n",
       "Unit Price           8399.0    89.346259   290.354383      0.9900    6.480   \n",
       "Shipping Cost        8399.0    12.838557    17.264052      0.4900    3.300   \n",
       "Product Base Margin  8336.0     0.512513     0.135589      0.3500    0.380   \n",
       "\n",
       "                        50%       75%       max  \n",
       "Order Quantity        26.00    38.000     50.00  \n",
       "Sales                449.42  1709.320  89061.05  \n",
       "Discount               0.05     0.080      0.25  \n",
       "Profit                -1.50   162.748  27220.69  \n",
       "Unit Price            20.99    85.990   6783.02  \n",
       "Shipping Cost          6.07    13.990    164.73  \n",
       "Product Base Margin    0.52     0.590      0.85  "
      ]
     },
     "execution_count": 155,
     "metadata": {},
     "output_type": "execute_result"
    }
   ],
   "source": [
    "# For Transposing\n",
    "df.describe().T"
   ]
  },
  {
   "cell_type": "markdown",
   "id": "3f2ae6d9",
   "metadata": {},
   "source": [
    "### 20. nunique: Count number of distinct elements in specified axis."
   ]
  },
  {
   "cell_type": "code",
   "execution_count": 159,
   "id": "704e9281",
   "metadata": {},
   "outputs": [
    {
     "data": {
      "text/plain": [
       "Order Quantity            50\n",
       "Sales                   8153\n",
       "Discount                  16\n",
       "Ship Mode                  3\n",
       "Profit                  7986\n",
       "Unit Price               751\n",
       "Shipping Cost            652\n",
       "Customer Name            795\n",
       "Province                  13\n",
       "Region                     8\n",
       "Customer Segment           4\n",
       "Product Category           3\n",
       "Product Sub-Category      17\n",
       "Product Name            1263\n",
       "Product Container          7\n",
       "Product Base Margin       51\n",
       "Ship Date               1450\n",
       "dtype: int64"
      ]
     },
     "execution_count": 159,
     "metadata": {},
     "output_type": "execute_result"
    }
   ],
   "source": [
    "df.nunique()"
   ]
  },
  {
   "cell_type": "markdown",
   "id": "d5e4c056",
   "metadata": {},
   "source": [
    "### 21.df.isna().any():  Detect missing values."
   ]
  },
  {
   "cell_type": "code",
   "execution_count": 161,
   "id": "e8a49032",
   "metadata": {},
   "outputs": [
    {
     "data": {
      "text/plain": [
       "Order Quantity          False\n",
       "Sales                   False\n",
       "Discount                False\n",
       "Ship Mode               False\n",
       "Profit                  False\n",
       "Unit Price              False\n",
       "Shipping Cost           False\n",
       "Customer Name           False\n",
       "Province                False\n",
       "Region                  False\n",
       "Customer Segment        False\n",
       "Product Category        False\n",
       "Product Sub-Category    False\n",
       "Product Name            False\n",
       "Product Container       False\n",
       "Product Base Margin      True\n",
       "Ship Date               False\n",
       "dtype: bool"
      ]
     },
     "execution_count": 161,
     "metadata": {},
     "output_type": "execute_result"
    }
   ],
   "source": [
    "df.isna().any()"
   ]
  },
  {
   "cell_type": "markdown",
   "id": "d17b852a",
   "metadata": {},
   "source": [
    "### 22. isnull: Detect missing values."
   ]
  },
  {
   "cell_type": "code",
   "execution_count": 163,
   "id": "48b2a0ca",
   "metadata": {},
   "outputs": [
    {
     "data": {
      "text/html": [
       "<div>\n",
       "<style scoped>\n",
       "    .dataframe tbody tr th:only-of-type {\n",
       "        vertical-align: middle;\n",
       "    }\n",
       "\n",
       "    .dataframe tbody tr th {\n",
       "        vertical-align: top;\n",
       "    }\n",
       "\n",
       "    .dataframe thead th {\n",
       "        text-align: right;\n",
       "    }\n",
       "</style>\n",
       "<table border=\"1\" class=\"dataframe\">\n",
       "  <thead>\n",
       "    <tr style=\"text-align: right;\">\n",
       "      <th></th>\n",
       "      <th>Order Quantity</th>\n",
       "      <th>Sales</th>\n",
       "      <th>Discount</th>\n",
       "      <th>Ship Mode</th>\n",
       "      <th>Profit</th>\n",
       "      <th>Unit Price</th>\n",
       "      <th>Shipping Cost</th>\n",
       "      <th>Customer Name</th>\n",
       "      <th>Province</th>\n",
       "      <th>Region</th>\n",
       "      <th>Customer Segment</th>\n",
       "      <th>Product Category</th>\n",
       "      <th>Product Sub-Category</th>\n",
       "      <th>Product Name</th>\n",
       "      <th>Product Container</th>\n",
       "      <th>Product Base Margin</th>\n",
       "      <th>Ship Date</th>\n",
       "    </tr>\n",
       "  </thead>\n",
       "  <tbody>\n",
       "    <tr>\n",
       "      <th>0</th>\n",
       "      <td>False</td>\n",
       "      <td>False</td>\n",
       "      <td>False</td>\n",
       "      <td>False</td>\n",
       "      <td>False</td>\n",
       "      <td>False</td>\n",
       "      <td>False</td>\n",
       "      <td>False</td>\n",
       "      <td>False</td>\n",
       "      <td>False</td>\n",
       "      <td>False</td>\n",
       "      <td>False</td>\n",
       "      <td>False</td>\n",
       "      <td>False</td>\n",
       "      <td>False</td>\n",
       "      <td>False</td>\n",
       "      <td>False</td>\n",
       "    </tr>\n",
       "    <tr>\n",
       "      <th>1</th>\n",
       "      <td>False</td>\n",
       "      <td>False</td>\n",
       "      <td>False</td>\n",
       "      <td>False</td>\n",
       "      <td>False</td>\n",
       "      <td>False</td>\n",
       "      <td>False</td>\n",
       "      <td>False</td>\n",
       "      <td>False</td>\n",
       "      <td>False</td>\n",
       "      <td>False</td>\n",
       "      <td>False</td>\n",
       "      <td>False</td>\n",
       "      <td>False</td>\n",
       "      <td>False</td>\n",
       "      <td>False</td>\n",
       "      <td>False</td>\n",
       "    </tr>\n",
       "    <tr>\n",
       "      <th>2</th>\n",
       "      <td>False</td>\n",
       "      <td>False</td>\n",
       "      <td>False</td>\n",
       "      <td>False</td>\n",
       "      <td>False</td>\n",
       "      <td>False</td>\n",
       "      <td>False</td>\n",
       "      <td>False</td>\n",
       "      <td>False</td>\n",
       "      <td>False</td>\n",
       "      <td>False</td>\n",
       "      <td>False</td>\n",
       "      <td>False</td>\n",
       "      <td>False</td>\n",
       "      <td>False</td>\n",
       "      <td>False</td>\n",
       "      <td>False</td>\n",
       "    </tr>\n",
       "    <tr>\n",
       "      <th>3</th>\n",
       "      <td>False</td>\n",
       "      <td>False</td>\n",
       "      <td>False</td>\n",
       "      <td>False</td>\n",
       "      <td>False</td>\n",
       "      <td>False</td>\n",
       "      <td>False</td>\n",
       "      <td>False</td>\n",
       "      <td>False</td>\n",
       "      <td>False</td>\n",
       "      <td>False</td>\n",
       "      <td>False</td>\n",
       "      <td>False</td>\n",
       "      <td>False</td>\n",
       "      <td>False</td>\n",
       "      <td>False</td>\n",
       "      <td>False</td>\n",
       "    </tr>\n",
       "    <tr>\n",
       "      <th>4</th>\n",
       "      <td>False</td>\n",
       "      <td>False</td>\n",
       "      <td>False</td>\n",
       "      <td>False</td>\n",
       "      <td>False</td>\n",
       "      <td>False</td>\n",
       "      <td>False</td>\n",
       "      <td>False</td>\n",
       "      <td>False</td>\n",
       "      <td>False</td>\n",
       "      <td>False</td>\n",
       "      <td>False</td>\n",
       "      <td>False</td>\n",
       "      <td>False</td>\n",
       "      <td>False</td>\n",
       "      <td>False</td>\n",
       "      <td>False</td>\n",
       "    </tr>\n",
       "    <tr>\n",
       "      <th>...</th>\n",
       "      <td>...</td>\n",
       "      <td>...</td>\n",
       "      <td>...</td>\n",
       "      <td>...</td>\n",
       "      <td>...</td>\n",
       "      <td>...</td>\n",
       "      <td>...</td>\n",
       "      <td>...</td>\n",
       "      <td>...</td>\n",
       "      <td>...</td>\n",
       "      <td>...</td>\n",
       "      <td>...</td>\n",
       "      <td>...</td>\n",
       "      <td>...</td>\n",
       "      <td>...</td>\n",
       "      <td>...</td>\n",
       "      <td>...</td>\n",
       "    </tr>\n",
       "    <tr>\n",
       "      <th>8394</th>\n",
       "      <td>False</td>\n",
       "      <td>False</td>\n",
       "      <td>False</td>\n",
       "      <td>False</td>\n",
       "      <td>False</td>\n",
       "      <td>False</td>\n",
       "      <td>False</td>\n",
       "      <td>False</td>\n",
       "      <td>False</td>\n",
       "      <td>False</td>\n",
       "      <td>False</td>\n",
       "      <td>False</td>\n",
       "      <td>False</td>\n",
       "      <td>False</td>\n",
       "      <td>False</td>\n",
       "      <td>False</td>\n",
       "      <td>False</td>\n",
       "    </tr>\n",
       "    <tr>\n",
       "      <th>8395</th>\n",
       "      <td>False</td>\n",
       "      <td>False</td>\n",
       "      <td>False</td>\n",
       "      <td>False</td>\n",
       "      <td>False</td>\n",
       "      <td>False</td>\n",
       "      <td>False</td>\n",
       "      <td>False</td>\n",
       "      <td>False</td>\n",
       "      <td>False</td>\n",
       "      <td>False</td>\n",
       "      <td>False</td>\n",
       "      <td>False</td>\n",
       "      <td>False</td>\n",
       "      <td>False</td>\n",
       "      <td>False</td>\n",
       "      <td>False</td>\n",
       "    </tr>\n",
       "    <tr>\n",
       "      <th>8396</th>\n",
       "      <td>False</td>\n",
       "      <td>False</td>\n",
       "      <td>False</td>\n",
       "      <td>False</td>\n",
       "      <td>False</td>\n",
       "      <td>False</td>\n",
       "      <td>False</td>\n",
       "      <td>False</td>\n",
       "      <td>False</td>\n",
       "      <td>False</td>\n",
       "      <td>False</td>\n",
       "      <td>False</td>\n",
       "      <td>False</td>\n",
       "      <td>False</td>\n",
       "      <td>False</td>\n",
       "      <td>False</td>\n",
       "      <td>False</td>\n",
       "    </tr>\n",
       "    <tr>\n",
       "      <th>8397</th>\n",
       "      <td>False</td>\n",
       "      <td>False</td>\n",
       "      <td>False</td>\n",
       "      <td>False</td>\n",
       "      <td>False</td>\n",
       "      <td>False</td>\n",
       "      <td>False</td>\n",
       "      <td>False</td>\n",
       "      <td>False</td>\n",
       "      <td>False</td>\n",
       "      <td>False</td>\n",
       "      <td>False</td>\n",
       "      <td>False</td>\n",
       "      <td>False</td>\n",
       "      <td>False</td>\n",
       "      <td>False</td>\n",
       "      <td>False</td>\n",
       "    </tr>\n",
       "    <tr>\n",
       "      <th>8398</th>\n",
       "      <td>False</td>\n",
       "      <td>False</td>\n",
       "      <td>False</td>\n",
       "      <td>False</td>\n",
       "      <td>False</td>\n",
       "      <td>False</td>\n",
       "      <td>False</td>\n",
       "      <td>False</td>\n",
       "      <td>False</td>\n",
       "      <td>False</td>\n",
       "      <td>False</td>\n",
       "      <td>False</td>\n",
       "      <td>False</td>\n",
       "      <td>False</td>\n",
       "      <td>False</td>\n",
       "      <td>False</td>\n",
       "      <td>False</td>\n",
       "    </tr>\n",
       "  </tbody>\n",
       "</table>\n",
       "<p>8399 rows × 17 columns</p>\n",
       "</div>"
      ],
      "text/plain": [
       "      Order Quantity  Sales  Discount  Ship Mode  Profit  Unit Price  \\\n",
       "0              False  False     False      False   False       False   \n",
       "1              False  False     False      False   False       False   \n",
       "2              False  False     False      False   False       False   \n",
       "3              False  False     False      False   False       False   \n",
       "4              False  False     False      False   False       False   \n",
       "...              ...    ...       ...        ...     ...         ...   \n",
       "8394           False  False     False      False   False       False   \n",
       "8395           False  False     False      False   False       False   \n",
       "8396           False  False     False      False   False       False   \n",
       "8397           False  False     False      False   False       False   \n",
       "8398           False  False     False      False   False       False   \n",
       "\n",
       "      Shipping Cost  Customer Name  Province  Region  Customer Segment  \\\n",
       "0             False          False     False   False             False   \n",
       "1             False          False     False   False             False   \n",
       "2             False          False     False   False             False   \n",
       "3             False          False     False   False             False   \n",
       "4             False          False     False   False             False   \n",
       "...             ...            ...       ...     ...               ...   \n",
       "8394          False          False     False   False             False   \n",
       "8395          False          False     False   False             False   \n",
       "8396          False          False     False   False             False   \n",
       "8397          False          False     False   False             False   \n",
       "8398          False          False     False   False             False   \n",
       "\n",
       "      Product Category  Product Sub-Category  Product Name  Product Container  \\\n",
       "0                False                 False         False              False   \n",
       "1                False                 False         False              False   \n",
       "2                False                 False         False              False   \n",
       "3                False                 False         False              False   \n",
       "4                False                 False         False              False   \n",
       "...                ...                   ...           ...                ...   \n",
       "8394             False                 False         False              False   \n",
       "8395             False                 False         False              False   \n",
       "8396             False                 False         False              False   \n",
       "8397             False                 False         False              False   \n",
       "8398             False                 False         False              False   \n",
       "\n",
       "      Product Base Margin  Ship Date  \n",
       "0                   False      False  \n",
       "1                   False      False  \n",
       "2                   False      False  \n",
       "3                   False      False  \n",
       "4                   False      False  \n",
       "...                   ...        ...  \n",
       "8394                False      False  \n",
       "8395                False      False  \n",
       "8396                False      False  \n",
       "8397                False      False  \n",
       "8398                False      False  \n",
       "\n",
       "[8399 rows x 17 columns]"
      ]
     },
     "execution_count": 163,
     "metadata": {},
     "output_type": "execute_result"
    }
   ],
   "source": [
    "df.isnull()"
   ]
  },
  {
   "cell_type": "markdown",
   "id": "bfb7781d",
   "metadata": {},
   "source": [
    "### 23. columns: Immutable sequence used for indexing and alignment. The basic object storing axis labels for all ### pandas objects."
   ]
  },
  {
   "cell_type": "code",
   "execution_count": 164,
   "id": "084fe30d",
   "metadata": {},
   "outputs": [
    {
     "data": {
      "text/plain": [
       "Index(['Order Quantity', 'Sales', 'Discount', 'Ship Mode', 'Profit',\n",
       "       'Unit Price', 'Shipping Cost', 'Customer Name', 'Province', 'Region',\n",
       "       'Customer Segment', 'Product Category', 'Product Sub-Category',\n",
       "       'Product Name', 'Product Container', 'Product Base Margin',\n",
       "       'Ship Date'],\n",
       "      dtype='object')"
      ]
     },
     "execution_count": 164,
     "metadata": {},
     "output_type": "execute_result"
    }
   ],
   "source": [
    "df.columns"
   ]
  },
  {
   "cell_type": "code",
   "execution_count": null,
   "id": "016c99d7",
   "metadata": {},
   "outputs": [],
   "source": []
  },
  {
   "cell_type": "code",
   "execution_count": null,
   "id": "d041169e",
   "metadata": {},
   "outputs": [],
   "source": []
  }
 ],
 "metadata": {
  "kernelspec": {
   "display_name": "Python 3 (ipykernel)",
   "language": "python",
   "name": "python3"
  },
  "language_info": {
   "codemirror_mode": {
    "name": "ipython",
    "version": 3
   },
   "file_extension": ".py",
   "mimetype": "text/x-python",
   "name": "python",
   "nbconvert_exporter": "python",
   "pygments_lexer": "ipython3",
   "version": "3.9.7"
  }
 },
 "nbformat": 4,
 "nbformat_minor": 5
}
