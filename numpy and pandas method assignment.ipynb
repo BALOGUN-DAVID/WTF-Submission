{
 "cells": [
  {
   "cell_type": "markdown",
   "id": "387d795c",
   "metadata": {},
   "source": [
    "1. Reshaping\n",
    "means changing the shape of an array."
   ]
  },
  {
   "cell_type": "code",
   "execution_count": 1,
   "id": "13d6937c",
   "metadata": {},
   "outputs": [
    {
     "name": "stdout",
     "output_type": "stream",
     "text": [
      "[[ 1  2  3]\n",
      " [ 4  5  6]\n",
      " [ 7  8  9]\n",
      " [10 11 12]]\n"
     ]
    }
   ],
   "source": [
    "import numpy as np\n",
    "\n",
    "arr = np.array([1, 2, 3, 4, 5, 6, 7, 8, 9, 10, 11, 12])\n",
    "\n",
    "new1 = arr.reshape(4, 3)\n",
    "\n",
    "print(new1)"
   ]
  },
  {
   "cell_type": "code",
   "execution_count": null,
   "id": "7cef417a",
   "metadata": {},
   "outputs": [],
   "source": [
    "2. op_dtypes argument is used to change the datatype of elements while iterating.\n",
    "\n",
    "NumPy does not change the data type of the element in-place (where the element is in array)\n",
    "so it needs some other space to perform this action,\n",
    "that extra space is called buffer, and in order to enable it in nditer() we pass flags=['buffered']."
   ]
  },
  {
   "cell_type": "code",
   "execution_count": 2,
   "id": "c60b243f",
   "metadata": {},
   "outputs": [
    {
     "name": "stdout",
     "output_type": "stream",
     "text": [
      "b'1'\n",
      "b'2'\n",
      "b'3'\n"
     ]
    }
   ],
   "source": [
    "arr = np.array([1, 2, 3])\n",
    "\n",
    "for x in np.nditer(arr, flags=['buffered'], op_dtypes=['S']):\n",
    "  print(x)"
   ]
  },
  {
   "cell_type": "markdown",
   "id": "ba20120c",
   "metadata": {},
   "source": [
    "3. Stacking\n",
    "it is same as concatenation, the only difference is that stacking is done along a new axis."
   ]
  },
  {
   "cell_type": "code",
   "execution_count": 5,
   "id": "976bc5e1",
   "metadata": {},
   "outputs": [],
   "source": [
    "arr1 = np.array([1, 2, 3])\n",
    "\n",
    "arr2 = np.array([4, 5, 6])\n",
    "\n",
    "array = np.stack((arr1, arr2), axis=1)\n",
    "print(array)"
   ]
  },
  {
   "cell_type": "markdown",
   "id": "db93d81e",
   "metadata": {},
   "source": [
    " 4. hstack() to stack along rows"
   ]
  },
  {
   "cell_type": "code",
   "execution_count": 7,
   "id": "249de0c6",
   "metadata": {},
   "outputs": [
    {
     "name": "stdout",
     "output_type": "stream",
     "text": [
      "[1 2 3 4 5 6]\n"
     ]
    }
   ],
   "source": [
    "array1 = np.hstack((arr1, arr2))\n",
    "\n",
    "print(array1)"
   ]
  },
  {
   "cell_type": "markdown",
   "id": "d6cce187",
   "metadata": {},
   "source": [
    "5. array_split() \n",
    "its for splitting arrays, we pass it the array we want to split and the number of splits"
   ]
  },
  {
   "cell_type": "code",
   "execution_count": 8,
   "id": "f5a4955e",
   "metadata": {},
   "outputs": [
    {
     "name": "stdout",
     "output_type": "stream",
     "text": [
      "[array([1, 2]), array([3, 4]), array([5, 6])]\n"
     ]
    }
   ],
   "source": [
    "array2 = np.array_split(array1, 3)\n",
    "\n",
    "print(array2)\n"
   ]
  },
  {
   "cell_type": "markdown",
   "id": "d2f70d6f",
   "metadata": {},
   "source": [
    "6 array_split()\n",
    "The return value of the array_split() method is an array containing each of the split as an array."
   ]
  },
  {
   "cell_type": "code",
   "execution_count": 9,
   "id": "6b768386",
   "metadata": {},
   "outputs": [
    {
     "name": "stdout",
     "output_type": "stream",
     "text": [
      "[[1 4]]\n",
      "[[2 5]]\n",
      "[[3 6]]\n"
     ]
    }
   ],
   "source": [
    "array3 = np.array([1, 2, 3, 4, 5, 6])\n",
    "\n",
    "array4 = np.array_split(arr, 3)\n",
    "\n",
    "print(array4[0])\n",
    "print(array4[1])\n",
    "print(array4[2])"
   ]
  },
  {
   "cell_type": "markdown",
   "id": "c417245e",
   "metadata": {},
   "source": [
    "7. where()\n",
    "it is used to search an array"
   ]
  },
  {
   "cell_type": "code",
   "execution_count": 15,
   "id": "d80096a2",
   "metadata": {},
   "outputs": [
    {
     "name": "stdout",
     "output_type": "stream",
     "text": [
      "(array([0, 2, 5], dtype=int64),)\n"
     ]
    }
   ],
   "source": [
    "array5 = np.array([30, 20, 30, 44, 55, 30, 24])\n",
    "\n",
    "where_30 = np.where(array5 == 30)\n",
    "\n",
    "print(where_30)"
   ]
  },
  {
   "cell_type": "markdown",
   "id": "fd169b6f",
   "metadata": {},
   "source": [
    " 8. searchsorted()\n",
    "it performs a binary search in the array,\n",
    "and returns the index where the specified value would be inserted to maintain the search order."
   ]
  },
  {
   "cell_type": "code",
   "execution_count": 18,
   "id": "a81aa2ac",
   "metadata": {},
   "outputs": [
    {
     "name": "stdout",
     "output_type": "stream",
     "text": [
      "3\n"
     ]
    }
   ],
   "source": [
    "search = np.searchsorted(array5, 44)\n",
    "\n",
    "print(search)\n"
   ]
  },
  {
   "cell_type": "markdown",
   "id": "f6dcbfa4",
   "metadata": {},
   "source": [
    "9. sort(): its used to sort a specified array.\n"
   ]
  },
  {
   "cell_type": "code",
   "execution_count": 19,
   "id": "74e7f137",
   "metadata": {},
   "outputs": [
    {
     "name": "stdout",
     "output_type": "stream",
     "text": [
      "[20 24 30 30 30 44 55]\n"
     ]
    }
   ],
   "source": [
    "print(np.sort(array5))"
   ]
  },
  {
   "cell_type": "markdown",
   "id": "36aa7024",
   "metadata": {},
   "source": [
    "10  rand() method \n",
    "returns a random float between 0 and 1.\n"
   ]
  },
  {
   "cell_type": "code",
   "execution_count": 21,
   "id": "5b185d2e",
   "metadata": {},
   "outputs": [
    {
     "name": "stdout",
     "output_type": "stream",
     "text": [
      "0.01051297284090924\n"
     ]
    }
   ],
   "source": [
    "from numpy import random\n",
    "\n",
    "x = random.rand()\n",
    "\n",
    "print(x)"
   ]
  },
  {
   "cell_type": "markdown",
   "id": "058bc10d",
   "metadata": {},
   "source": [
    "11. The randint() method:\n",
    "it takes a size parameter where you can specify the shape of an array."
   ]
  },
  {
   "cell_type": "code",
   "execution_count": 22,
   "id": "c0992048",
   "metadata": {},
   "outputs": [
    {
     "name": "stdout",
     "output_type": "stream",
     "text": [
      "[13 45 84 90 33]\n"
     ]
    }
   ],
   "source": [
    "integer =random.randint(100, size=(5))\n",
    "\n",
    "print(integer)"
   ]
  },
  {
   "cell_type": "markdown",
   "id": "ee85437f",
   "metadata": {},
   "source": [
    "12. The choice() method: allows you to generate a random value based on an array of values."
   ]
  },
  {
   "cell_type": "code",
   "execution_count": 24,
   "id": "2f348eb3",
   "metadata": {},
   "outputs": [
    {
     "name": "stdout",
     "output_type": "stream",
     "text": [
      "3\n"
     ]
    }
   ],
   "source": [
    "choice_method = random.choice([3, 5, 7, 9])\n",
    "\n",
    "print(choice_method)"
   ]
  },
  {
   "cell_type": "markdown",
   "id": "5b221661",
   "metadata": {},
   "source": [
    "13 The shuffle() method:  makes changes to the original array."
   ]
  },
  {
   "cell_type": "code",
   "execution_count": 25,
   "id": "5ca3361a",
   "metadata": {},
   "outputs": [
    {
     "name": "stdout",
     "output_type": "stream",
     "text": [
      "[1 4 3 5 2]\n"
     ]
    }
   ],
   "source": [
    "arr = np.array([1, 2, 3, 4, 5])\n",
    "\n",
    "random.shuffle(arr)\n",
    "\n",
    "print(arr)"
   ]
  },
  {
   "cell_type": "markdown",
   "id": "f22f4f88",
   "metadata": {},
   "source": [
    "14. Use the random.normal() method to get a Normal Data Distribution."
   ]
  },
  {
   "cell_type": "code",
   "execution_count": 26,
   "id": "aa303e16",
   "metadata": {},
   "outputs": [
    {
     "name": "stdout",
     "output_type": "stream",
     "text": [
      "[[ 0.60174371 -0.12363777  0.31881937]\n",
      " [ 0.43704252 -1.61204183  0.42263147]]\n"
     ]
    }
   ],
   "source": [
    " data= random.normal(size=(2, 3))\n",
    "\n",
    "print(data)"
   ]
  },
  {
   "cell_type": "markdown",
   "id": "831e3249",
   "metadata": {},
   "source": [
    "15. Uniform Distribution\n",
    "Used to describe probability where every event has equal chances of occuring."
   ]
  },
  {
   "cell_type": "code",
   "execution_count": 27,
   "id": "a74fa2da",
   "metadata": {},
   "outputs": [
    {
     "name": "stdout",
     "output_type": "stream",
     "text": [
      "[[0.88816141 0.42729201 0.67466478]\n",
      " [0.29866415 0.84278318 0.48404532]]\n"
     ]
    }
   ],
   "source": [
    "dist = random.uniform(size=(2, 3))\n",
    "\n",
    "print(dist)"
   ]
  },
  {
   "cell_type": "markdown",
   "id": "f9eb35f9",
   "metadata": {},
   "source": [
    "16. frompyfunc() method. : it is added to a created function in numpy  \n",
    "it takes 3 arguments which are function, input and output"
   ]
  },
  {
   "cell_type": "code",
   "execution_count": 28,
   "id": "fe9ccf9f",
   "metadata": {},
   "outputs": [
    {
     "name": "stdout",
     "output_type": "stream",
     "text": [
      "[6 8 10 12]\n"
     ]
    }
   ],
   "source": [
    "def myadd(x, y):\n",
    "  return x+y\n",
    "\n",
    "myadd = np.frompyfunc(myadd, 2, 1)\n",
    "\n",
    "print(myadd([1, 2, 3, 4], [5, 6, 7, 8]))"
   ]
  },
  {
   "cell_type": "markdown",
   "id": "7bfa7862",
   "metadata": {},
   "source": [
    "17 reduce()\n",
    "To find the Lowest Common Multiple of all values in an array, you can use the reduce() method."
   ]
  },
  {
   "cell_type": "code",
   "execution_count": 29,
   "id": "9280444a",
   "metadata": {},
   "outputs": [
    {
     "name": "stdout",
     "output_type": "stream",
     "text": [
      "18\n"
     ]
    }
   ],
   "source": [
    "arr = np.array([3, 6, 9])\n",
    "\n",
    "x = np.lcm.reduce(arr)\n",
    "\n",
    "print(x)"
   ]
  },
  {
   "cell_type": "markdown",
   "id": "be675a79",
   "metadata": {},
   "source": [
    "18. array()\n",
    "To create an ndarray, we can pass any array-like object into the array() method,\n",
    "and it will be converted into an ndarray:"
   ]
  },
  {
   "cell_type": "code",
   "execution_count": 30,
   "id": "4594b39d",
   "metadata": {},
   "outputs": [
    {
     "name": "stdout",
     "output_type": "stream",
     "text": [
      "[1 2 3 4 5]\n"
     ]
    }
   ],
   "source": [
    "array7 = np.array((1, 2, 3, 4, 5))\n",
    "\n",
    "print(array7)"
   ]
  },
  {
   "cell_type": "markdown",
   "id": "34fa524e",
   "metadata": {},
   "source": [
    "# panda methods"
   ]
  },
  {
   "cell_type": "markdown",
   "id": "b59fdedb",
   "metadata": {},
   "source": [
    "1. Dataframe"
   ]
  },
  {
   "cell_type": "code",
   "execution_count": 48,
   "id": "a9a95ff4",
   "metadata": {},
   "outputs": [
    {
     "name": "stdout",
     "output_type": "stream",
     "text": [
      "   calories  duration  weight\n",
      "0       420        50      30\n",
      "1       380        40      40\n",
      "2       390        45      50\n",
      "3        50        44      11\n",
      "4        60        55      23\n",
      "5        20       566      55\n",
      "6        10        48      34\n",
      "7         4         4       4\n",
      "8         1         5       5\n",
      "9         5         4       5\n"
     ]
    }
   ],
   "source": [
    "import pandas as pd\n",
    "\n",
    "data = {\n",
    "  \"calories\": [420, 380, 390, 50, 60, 20, 10,4,1,5],\n",
    "  \"duration\": [50, 40, 45, 44, 55, 566, 48,4,5,4],\n",
    "    \"weight\": [30, 40, 50, 11, 23, 55, 34, 4, 5, 5],\n",
    "}\n",
    "\n",
    "#load data into a DataFrame object:\n",
    "df = pd.DataFrame(data)\n",
    "\n",
    "print(df) "
   ]
  },
  {
   "cell_type": "markdown",
   "id": "10ee85f2",
   "metadata": {},
   "source": [
    "2. head() method: it is used to check for the first 5 rows in dataframe"
   ]
  },
  {
   "cell_type": "code",
   "execution_count": 43,
   "id": "ee5fae2d",
   "metadata": {},
   "outputs": [
    {
     "data": {
      "text/html": [
       "<div>\n",
       "<style scoped>\n",
       "    .dataframe tbody tr th:only-of-type {\n",
       "        vertical-align: middle;\n",
       "    }\n",
       "\n",
       "    .dataframe tbody tr th {\n",
       "        vertical-align: top;\n",
       "    }\n",
       "\n",
       "    .dataframe thead th {\n",
       "        text-align: right;\n",
       "    }\n",
       "</style>\n",
       "<table border=\"1\" class=\"dataframe\">\n",
       "  <thead>\n",
       "    <tr style=\"text-align: right;\">\n",
       "      <th></th>\n",
       "      <th>calories</th>\n",
       "      <th>duration</th>\n",
       "      <th>weight</th>\n",
       "    </tr>\n",
       "  </thead>\n",
       "  <tbody>\n",
       "    <tr>\n",
       "      <th>0</th>\n",
       "      <td>420</td>\n",
       "      <td>50</td>\n",
       "      <td>30</td>\n",
       "    </tr>\n",
       "    <tr>\n",
       "      <th>1</th>\n",
       "      <td>380</td>\n",
       "      <td>40</td>\n",
       "      <td>40</td>\n",
       "    </tr>\n",
       "    <tr>\n",
       "      <th>2</th>\n",
       "      <td>390</td>\n",
       "      <td>45</td>\n",
       "      <td>50</td>\n",
       "    </tr>\n",
       "    <tr>\n",
       "      <th>3</th>\n",
       "      <td>50</td>\n",
       "      <td>44</td>\n",
       "      <td>11</td>\n",
       "    </tr>\n",
       "    <tr>\n",
       "      <th>4</th>\n",
       "      <td>60</td>\n",
       "      <td>55</td>\n",
       "      <td>23</td>\n",
       "    </tr>\n",
       "  </tbody>\n",
       "</table>\n",
       "</div>"
      ],
      "text/plain": [
       "  calories duration weight\n",
       "0      420       50     30\n",
       "1      380       40     40\n",
       "2      390       45     50\n",
       "3       50       44     11\n",
       "4       60       55     23"
      ]
     },
     "execution_count": 43,
     "metadata": {},
     "output_type": "execute_result"
    }
   ],
   "source": [
    "df.head()"
   ]
  },
  {
   "cell_type": "markdown",
   "id": "2d4acc5d",
   "metadata": {},
   "source": [
    "3. tail() method for viewing the last rows of the DataFrame.\n",
    "\n",
    "   "
   ]
  },
  {
   "cell_type": "code",
   "execution_count": 49,
   "id": "23dd627a",
   "metadata": {},
   "outputs": [
    {
     "data": {
      "text/html": [
       "<div>\n",
       "<style scoped>\n",
       "    .dataframe tbody tr th:only-of-type {\n",
       "        vertical-align: middle;\n",
       "    }\n",
       "\n",
       "    .dataframe tbody tr th {\n",
       "        vertical-align: top;\n",
       "    }\n",
       "\n",
       "    .dataframe thead th {\n",
       "        text-align: right;\n",
       "    }\n",
       "</style>\n",
       "<table border=\"1\" class=\"dataframe\">\n",
       "  <thead>\n",
       "    <tr style=\"text-align: right;\">\n",
       "      <th></th>\n",
       "      <th>calories</th>\n",
       "      <th>duration</th>\n",
       "      <th>weight</th>\n",
       "    </tr>\n",
       "  </thead>\n",
       "  <tbody>\n",
       "    <tr>\n",
       "      <th>5</th>\n",
       "      <td>20</td>\n",
       "      <td>566</td>\n",
       "      <td>55</td>\n",
       "    </tr>\n",
       "    <tr>\n",
       "      <th>6</th>\n",
       "      <td>10</td>\n",
       "      <td>48</td>\n",
       "      <td>34</td>\n",
       "    </tr>\n",
       "    <tr>\n",
       "      <th>7</th>\n",
       "      <td>4</td>\n",
       "      <td>4</td>\n",
       "      <td>4</td>\n",
       "    </tr>\n",
       "    <tr>\n",
       "      <th>8</th>\n",
       "      <td>1</td>\n",
       "      <td>5</td>\n",
       "      <td>5</td>\n",
       "    </tr>\n",
       "    <tr>\n",
       "      <th>9</th>\n",
       "      <td>5</td>\n",
       "      <td>4</td>\n",
       "      <td>5</td>\n",
       "    </tr>\n",
       "  </tbody>\n",
       "</table>\n",
       "</div>"
      ],
      "text/plain": [
       "   calories  duration  weight\n",
       "5        20       566      55\n",
       "6        10        48      34\n",
       "7         4         4       4\n",
       "8         1         5       5\n",
       "9         5         4       5"
      ]
     },
     "execution_count": 49,
     "metadata": {},
     "output_type": "execute_result"
    }
   ],
   "source": [
    "df.tail()"
   ]
  },
  {
   "cell_type": "markdown",
   "id": "216727bc",
   "metadata": {},
   "source": [
    "4. info(): it gives more information about the data set."
   ]
  },
  {
   "cell_type": "code",
   "execution_count": 50,
   "id": "0a1e3f0e",
   "metadata": {},
   "outputs": [
    {
     "name": "stdout",
     "output_type": "stream",
     "text": [
      "<class 'pandas.core.frame.DataFrame'>\n",
      "RangeIndex: 10 entries, 0 to 9\n",
      "Data columns (total 3 columns):\n",
      " #   Column    Non-Null Count  Dtype\n",
      "---  ------    --------------  -----\n",
      " 0   calories  10 non-null     int64\n",
      " 1   duration  10 non-null     int64\n",
      " 2   weight    10 non-null     int64\n",
      "dtypes: int64(3)\n",
      "memory usage: 368.0 bytes\n"
     ]
    }
   ],
   "source": [
    "df.info()"
   ]
  },
  {
   "cell_type": "markdown",
   "id": "0731e36e",
   "metadata": {},
   "source": [
    "5. dropna() method \n",
    "returns a new DataFrame, and will not change the original."
   ]
  },
  {
   "cell_type": "code",
   "execution_count": 51,
   "id": "52dbbfc0",
   "metadata": {},
   "outputs": [
    {
     "name": "stdout",
     "output_type": "stream",
     "text": [
      "   calories  duration  weight\n",
      "0       420        50      30\n",
      "1       380        40      40\n",
      "2       390        45      50\n",
      "3        50        44      11\n",
      "4        60        55      23\n",
      "5        20       566      55\n",
      "6        10        48      34\n",
      "7         4         4       4\n",
      "8         1         5       5\n",
      "9         5         4       5\n"
     ]
    }
   ],
   "source": [
    "df.dropna(inplace = True)\n",
    "\n",
    "print(df.to_string())"
   ]
  },
  {
   "cell_type": "markdown",
   "id": "e0209c8c",
   "metadata": {},
   "source": [
    "6. The fillna() method allows us to replace empty cells with a value:"
   ]
  },
  {
   "cell_type": "code",
   "execution_count": 53,
   "id": "e4eec825",
   "metadata": {},
   "outputs": [],
   "source": [
    "df.fillna(130, inplace = True)"
   ]
  },
  {
   "cell_type": "markdown",
   "id": "b468b98b",
   "metadata": {},
   "source": [
    "7 mean() median() and mode() methods to calculate the respective values for a specified column:"
   ]
  },
  {
   "cell_type": "code",
   "execution_count": 57,
   "id": "b1ece468",
   "metadata": {},
   "outputs": [
    {
     "name": "stdout",
     "output_type": "stream",
     "text": [
      "134.0\n"
     ]
    }
   ],
   "source": [
    "mean1 = df[\"calories\"].mean()\n",
    "print(mean1)"
   ]
  },
  {
   "cell_type": "markdown",
   "id": "7465f2b2",
   "metadata": {},
   "source": [
    "8. median() to determine the middle of the distribution"
   ]
  },
  {
   "cell_type": "code",
   "execution_count": 58,
   "id": "bc8b38b6",
   "metadata": {},
   "outputs": [
    {
     "name": "stdout",
     "output_type": "stream",
     "text": [
      "35.0\n"
     ]
    }
   ],
   "source": [
    "median1 = df[\"calories\"].median()\n",
    "print(median1)"
   ]
  },
  {
   "cell_type": "markdown",
   "id": "cfed39c4",
   "metadata": {},
   "source": [
    "9. mode to determine the most frequent values in the distribution"
   ]
  },
  {
   "cell_type": "code",
   "execution_count": 60,
   "id": "a47d3632",
   "metadata": {},
   "outputs": [
    {
     "name": "stdout",
     "output_type": "stream",
     "text": [
      "5\n"
     ]
    }
   ],
   "source": [
    "mode1 = df[\"calories\"].mode()[2]\n",
    "print(mode1)"
   ]
  },
  {
   "cell_type": "markdown",
   "id": "13c9d1e4",
   "metadata": {},
   "source": [
    "10. to_datetime() method : used to convert a Date column to date"
   ]
  },
  {
   "cell_type": "code",
   "execution_count": 68,
   "id": "0d1d1797",
   "metadata": {},
   "outputs": [
    {
     "data": {
      "text/html": [
       "<div>\n",
       "<style scoped>\n",
       "    .dataframe tbody tr th:only-of-type {\n",
       "        vertical-align: middle;\n",
       "    }\n",
       "\n",
       "    .dataframe tbody tr th {\n",
       "        vertical-align: top;\n",
       "    }\n",
       "\n",
       "    .dataframe thead th {\n",
       "        text-align: right;\n",
       "    }\n",
       "</style>\n",
       "<table border=\"1\" class=\"dataframe\">\n",
       "  <thead>\n",
       "    <tr style=\"text-align: right;\">\n",
       "      <th></th>\n",
       "      <th>Duration</th>\n",
       "      <th>Pulse</th>\n",
       "      <th>Maxpulse</th>\n",
       "      <th>Calories</th>\n",
       "      <th>Date</th>\n",
       "    </tr>\n",
       "  </thead>\n",
       "  <tbody>\n",
       "    <tr>\n",
       "      <th>0</th>\n",
       "      <td>60</td>\n",
       "      <td>110</td>\n",
       "      <td>130</td>\n",
       "      <td>409.1</td>\n",
       "      <td>2022-03-14</td>\n",
       "    </tr>\n",
       "    <tr>\n",
       "      <th>1</th>\n",
       "      <td>60</td>\n",
       "      <td>117</td>\n",
       "      <td>145</td>\n",
       "      <td>479.0</td>\n",
       "      <td>2022-03-14</td>\n",
       "    </tr>\n",
       "    <tr>\n",
       "      <th>2</th>\n",
       "      <td>60</td>\n",
       "      <td>103</td>\n",
       "      <td>135</td>\n",
       "      <td>340.0</td>\n",
       "      <td>2022-03-14</td>\n",
       "    </tr>\n",
       "    <tr>\n",
       "      <th>3</th>\n",
       "      <td>45</td>\n",
       "      <td>109</td>\n",
       "      <td>175</td>\n",
       "      <td>282.4</td>\n",
       "      <td>2022-03-14</td>\n",
       "    </tr>\n",
       "    <tr>\n",
       "      <th>4</th>\n",
       "      <td>45</td>\n",
       "      <td>117</td>\n",
       "      <td>148</td>\n",
       "      <td>406.0</td>\n",
       "      <td>2022-03-14</td>\n",
       "    </tr>\n",
       "    <tr>\n",
       "      <th>...</th>\n",
       "      <td>...</td>\n",
       "      <td>...</td>\n",
       "      <td>...</td>\n",
       "      <td>...</td>\n",
       "      <td>...</td>\n",
       "    </tr>\n",
       "    <tr>\n",
       "      <th>164</th>\n",
       "      <td>60</td>\n",
       "      <td>105</td>\n",
       "      <td>140</td>\n",
       "      <td>290.8</td>\n",
       "      <td>2022-03-14</td>\n",
       "    </tr>\n",
       "    <tr>\n",
       "      <th>165</th>\n",
       "      <td>60</td>\n",
       "      <td>110</td>\n",
       "      <td>145</td>\n",
       "      <td>300.0</td>\n",
       "      <td>2022-03-14</td>\n",
       "    </tr>\n",
       "    <tr>\n",
       "      <th>166</th>\n",
       "      <td>60</td>\n",
       "      <td>115</td>\n",
       "      <td>145</td>\n",
       "      <td>310.2</td>\n",
       "      <td>2022-03-14</td>\n",
       "    </tr>\n",
       "    <tr>\n",
       "      <th>167</th>\n",
       "      <td>75</td>\n",
       "      <td>120</td>\n",
       "      <td>150</td>\n",
       "      <td>320.4</td>\n",
       "      <td>2022-03-14</td>\n",
       "    </tr>\n",
       "    <tr>\n",
       "      <th>168</th>\n",
       "      <td>75</td>\n",
       "      <td>125</td>\n",
       "      <td>150</td>\n",
       "      <td>330.4</td>\n",
       "      <td>2022-03-14</td>\n",
       "    </tr>\n",
       "  </tbody>\n",
       "</table>\n",
       "<p>169 rows × 5 columns</p>\n",
       "</div>"
      ],
      "text/plain": [
       "     Duration  Pulse  Maxpulse  Calories        Date\n",
       "0          60    110       130     409.1  2022-03-14\n",
       "1          60    117       145     479.0  2022-03-14\n",
       "2          60    103       135     340.0  2022-03-14\n",
       "3          45    109       175     282.4  2022-03-14\n",
       "4          45    117       148     406.0  2022-03-14\n",
       "..        ...    ...       ...       ...         ...\n",
       "164        60    105       140     290.8  2022-03-14\n",
       "165        60    110       145     300.0  2022-03-14\n",
       "166        60    115       145     310.2  2022-03-14\n",
       "167        75    120       150     320.4  2022-03-14\n",
       "168        75    125       150     330.4  2022-03-14\n",
       "\n",
       "[169 rows x 5 columns]"
      ]
     },
     "execution_count": 68,
     "metadata": {},
     "output_type": "execute_result"
    }
   ],
   "source": [
    "df1 = pd.read_csv('/users/olami/Downloads/data.csv')\n",
    "\n",
    "df1"
   ]
  },
  {
   "cell_type": "code",
   "execution_count": 69,
   "id": "c4cbb472",
   "metadata": {},
   "outputs": [
    {
     "name": "stdout",
     "output_type": "stream",
     "text": [
      "     Duration  Pulse  Maxpulse  Calories       Date\n",
      "0          60    110       130     409.1 2022-03-14\n",
      "1          60    117       145     479.0 2022-03-14\n",
      "2          60    103       135     340.0 2022-03-14\n",
      "3          45    109       175     282.4 2022-03-14\n",
      "4          45    117       148     406.0 2022-03-14\n",
      "5          60    102       127     300.0 2022-03-14\n",
      "6          60    110       136     374.0 2022-03-14\n",
      "7          45    104       134     253.3 2022-03-14\n",
      "8          30    109       133     195.1 2022-03-14\n",
      "9          60     98       124     269.0 2022-03-14\n",
      "10         60    103       147     329.3 2022-03-14\n",
      "11         60    100       120     250.7 2022-03-14\n",
      "12         60    106       128     345.3 2022-03-14\n",
      "13         60    104       132     379.3 2022-03-14\n",
      "14         60     98       123     275.0 2022-03-14\n",
      "15         60     98       120     215.2 2022-03-14\n",
      "16         60    100       120     300.0 2022-03-14\n",
      "17         45     90       112       NaN 2022-03-14\n",
      "18         60    103       123     323.0 2022-03-14\n",
      "19         45     97       125     243.0 2022-03-14\n",
      "20         60    108       131     364.2 2022-03-14\n",
      "21         45    100       119     282.0 2022-03-14\n",
      "22         60    130       101     300.0 2022-03-14\n",
      "23         45    105       132     246.0 2022-03-14\n",
      "24         60    102       126     334.5 2022-03-14\n",
      "25         60    100       120     250.0 2022-03-14\n",
      "26         60     92       118     241.0 2022-03-14\n",
      "27         60    103       132       NaN 2022-03-14\n",
      "28         60    100       132     280.0 2022-03-14\n",
      "29         60    102       129     380.3 2022-03-14\n",
      "30         60     92       115     243.0 2022-03-14\n",
      "31         45     90       112     180.1 2022-03-14\n",
      "32         60    101       124     299.0 2022-03-14\n",
      "33         60     93       113     223.0 2022-03-14\n",
      "34         60    107       136     361.0 2022-03-14\n",
      "35         60    114       140     415.0 2022-03-14\n",
      "36         60    102       127     300.0 2022-03-14\n",
      "37         60    100       120     300.0 2022-03-14\n",
      "38         60    100       120     300.0 2022-03-14\n",
      "39         45    104       129     266.0 2022-03-14\n",
      "40         45     90       112     180.1 2022-03-14\n",
      "41         60     98       126     286.0 2022-03-14\n",
      "42         60    100       122     329.4 2022-03-14\n",
      "43         60    111       138     400.0 2022-03-14\n",
      "44         60    111       131     397.0 2022-03-14\n",
      "45         60     99       119     273.0 2022-03-14\n",
      "46         60    109       153     387.6 2022-03-14\n",
      "47         45    111       136     300.0 2022-03-14\n",
      "48         45    108       129     298.0 2022-03-14\n",
      "49         60    111       139     397.6 2022-03-14\n",
      "50         60    107       136     380.2 2022-03-14\n",
      "51         80    123       146     643.1 2022-03-14\n",
      "52         60    106       130     263.0 2022-03-14\n",
      "53         60    118       151     486.0 2022-03-14\n",
      "54         30    136       175     238.0 2022-03-14\n",
      "55         60    121       146     450.7 2022-03-14\n",
      "56         60    118       121     413.0 2022-03-14\n",
      "57         45    115       144     305.0 2022-03-14\n",
      "58         20    153       172     226.4 2022-03-14\n",
      "59         45    123       152     321.0 2022-03-14\n",
      "60        210    108       160    1376.0 2022-03-14\n",
      "61        160    110       137    1034.4 2022-03-14\n",
      "62        160    109       135     853.0 2022-03-14\n",
      "63         45    118       141     341.0 2022-03-14\n",
      "64         20    110       130     131.4 2022-03-14\n",
      "65        180     90       130     800.4 2022-03-14\n",
      "66        150    105       135     873.4 2022-03-14\n",
      "67        150    107       130     816.0 2022-03-14\n",
      "68         20    106       136     110.4 2022-03-14\n",
      "69        300    108       143    1500.2 2022-03-14\n",
      "70        150     97       129    1115.0 2022-03-14\n",
      "71         60    109       153     387.6 2022-03-14\n",
      "72         90    100       127     700.0 2022-03-14\n",
      "73        150     97       127     953.2 2022-03-14\n",
      "74         45    114       146     304.0 2022-03-14\n",
      "75         90     98       125     563.2 2022-03-14\n",
      "76         45    105       134     251.0 2022-03-14\n",
      "77         45    110       141     300.0 2022-03-14\n",
      "78        120    100       130     500.4 2022-03-14\n",
      "79        270    100       131    1729.0 2022-03-14\n",
      "80         30    159       182     319.2 2022-03-14\n",
      "81         45    149       169     344.0 2022-03-14\n",
      "82         30    103       139     151.1 2022-03-14\n",
      "83        120    100       130     500.0 2022-03-14\n",
      "84         45    100       120     225.3 2022-03-14\n",
      "85         30    151       170     300.0 2022-03-14\n",
      "86         45    102       136     234.0 2022-03-14\n",
      "87        120    100       157    1000.1 2022-03-14\n",
      "88         45    129       103     242.0 2022-03-14\n",
      "89         20     83       107      50.3 2022-03-14\n",
      "90        180    101       127     600.1 2022-03-14\n",
      "91         45    107       137       NaN 2022-03-14\n",
      "92         30     90       107     105.3 2022-03-14\n",
      "93         15     80       100      50.5 2022-03-14\n",
      "94         20    150       171     127.4 2022-03-14\n",
      "95         20    151       168     229.4 2022-03-14\n",
      "96         30     95       128     128.2 2022-03-14\n",
      "97         25    152       168     244.2 2022-03-14\n",
      "98         30    109       131     188.2 2022-03-14\n",
      "99         90     93       124     604.1 2022-03-14\n",
      "100        20     95       112      77.7 2022-03-14\n",
      "101        90     90       110     500.0 2022-03-14\n",
      "102        90     90       100     500.0 2022-03-14\n",
      "103        90     90       100     500.4 2022-03-14\n",
      "104        30     92       108      92.7 2022-03-14\n",
      "105        30     93       128     124.0 2022-03-14\n",
      "106       180     90       120     800.3 2022-03-14\n",
      "107        30     90       120      86.2 2022-03-14\n",
      "108        90     90       120     500.3 2022-03-14\n",
      "109       210    137       184    1860.4 2022-03-14\n",
      "110        60    102       124     325.2 2022-03-14\n",
      "111        45    107       124     275.0 2022-03-14\n",
      "112        15    124       139     124.2 2022-03-14\n",
      "113        45    100       120     225.3 2022-03-14\n",
      "114        60    108       131     367.6 2022-03-14\n",
      "115        60    108       151     351.7 2022-03-14\n",
      "116        60    116       141     443.0 2022-03-14\n",
      "117        60     97       122     277.4 2022-03-14\n",
      "118        60    105       125       NaN 2022-03-14\n",
      "119        60    103       124     332.7 2022-03-14\n",
      "120        30    112       137     193.9 2022-03-14\n",
      "121        45    100       120     100.7 2022-03-14\n",
      "122        60    119       169     336.7 2022-03-14\n",
      "123        60    107       127     344.9 2022-03-14\n",
      "124        60    111       151     368.5 2022-03-14\n",
      "125        60     98       122     271.0 2022-03-14\n",
      "126        60     97       124     275.3 2022-03-14\n",
      "127        60    109       127     382.0 2022-03-14\n",
      "128        90     99       125     466.4 2022-03-14\n",
      "129        60    114       151     384.0 2022-03-14\n",
      "130        60    104       134     342.5 2022-03-14\n",
      "131        60    107       138     357.5 2022-03-14\n",
      "132        60    103       133     335.0 2022-03-14\n",
      "133        60    106       132     327.5 2022-03-14\n",
      "134        60    103       136     339.0 2022-03-14\n",
      "135        20    136       156     189.0 2022-03-14\n",
      "136        45    117       143     317.7 2022-03-14\n",
      "137        45    115       137     318.0 2022-03-14\n",
      "138        45    113       138     308.0 2022-03-14\n",
      "139        20    141       162     222.4 2022-03-14\n",
      "140        60    108       135     390.0 2022-03-14\n",
      "141        60     97       127       NaN 2022-03-14\n",
      "142        45    100       120     250.4 2022-03-14\n",
      "143        45    122       149     335.4 2022-03-14\n",
      "144        60    136       170     470.2 2022-03-14\n",
      "145        45    106       126     270.8 2022-03-14\n",
      "146        60    107       136     400.0 2022-03-14\n",
      "147        60    112       146     361.9 2022-03-14\n",
      "148        30    103       127     185.0 2022-03-14\n",
      "149        60    110       150     409.4 2022-03-14\n",
      "150        60    106       134     343.0 2022-03-14\n",
      "151        60    109       129     353.2 2022-03-14\n",
      "152        60    109       138     374.0 2022-03-14\n",
      "153        30    150       167     275.8 2022-03-14\n",
      "154        60    105       128     328.0 2022-03-14\n",
      "155        60    111       151     368.5 2022-03-14\n",
      "156        60     97       131     270.4 2022-03-14\n",
      "157        60    100       120     270.4 2022-03-14\n",
      "158        60    114       150     382.8 2022-03-14\n",
      "159        30     80       120     240.9 2022-03-14\n",
      "160        30     85       120     250.4 2022-03-14\n",
      "161        45     90       130     260.4 2022-03-14\n",
      "162        45     95       130     270.0 2022-03-14\n",
      "163        45    100       140     280.9 2022-03-14\n",
      "164        60    105       140     290.8 2022-03-14\n",
      "165        60    110       145     300.0 2022-03-14\n",
      "166        60    115       145     310.2 2022-03-14\n",
      "167        75    120       150     320.4 2022-03-14\n",
      "168        75    125       150     330.4 2022-03-14\n"
     ]
    }
   ],
   "source": [
    "df1['Date'] = pd.to_datetime(df1['Date'])\n",
    "\n",
    "print(df1.to_string())"
   ]
  },
  {
   "cell_type": "code",
   "execution_count": 70,
   "id": "c150870d",
   "metadata": {},
   "outputs": [],
   "source": [
    "df1.dropna(subset=['Date'], inplace = True)\n",
    "# to remove empty cells"
   ]
  },
  {
   "cell_type": "markdown",
   "id": "7816a8a4",
   "metadata": {},
   "source": [
    "11. The duplicated() method \n",
    "returns a Boolean values for each row:"
   ]
  },
  {
   "cell_type": "code",
   "execution_count": 72,
   "id": "3105aedb",
   "metadata": {},
   "outputs": [
    {
     "name": "stdout",
     "output_type": "stream",
     "text": [
      "0    False\n",
      "1    False\n",
      "2    False\n",
      "3    False\n",
      "4    False\n",
      "5    False\n",
      "6    False\n",
      "7    False\n",
      "8    False\n",
      "9    False\n",
      "dtype: bool\n"
     ]
    }
   ],
   "source": [
    "print(df.duplicated())"
   ]
  },
  {
   "cell_type": "markdown",
   "id": "cb19ddf6",
   "metadata": {},
   "source": [
    "12. corr() method \n",
    "calculates the relationship between each column in your data set"
   ]
  },
  {
   "cell_type": "code",
   "execution_count": 74,
   "id": "139a7385",
   "metadata": {},
   "outputs": [
    {
     "data": {
      "text/html": [
       "<div>\n",
       "<style scoped>\n",
       "    .dataframe tbody tr th:only-of-type {\n",
       "        vertical-align: middle;\n",
       "    }\n",
       "\n",
       "    .dataframe tbody tr th {\n",
       "        vertical-align: top;\n",
       "    }\n",
       "\n",
       "    .dataframe thead th {\n",
       "        text-align: right;\n",
       "    }\n",
       "</style>\n",
       "<table border=\"1\" class=\"dataframe\">\n",
       "  <thead>\n",
       "    <tr style=\"text-align: right;\">\n",
       "      <th></th>\n",
       "      <th>Duration</th>\n",
       "      <th>Pulse</th>\n",
       "      <th>Maxpulse</th>\n",
       "      <th>Calories</th>\n",
       "    </tr>\n",
       "  </thead>\n",
       "  <tbody>\n",
       "    <tr>\n",
       "      <th>Duration</th>\n",
       "      <td>1.000000</td>\n",
       "      <td>-0.155408</td>\n",
       "      <td>0.009403</td>\n",
       "      <td>0.922717</td>\n",
       "    </tr>\n",
       "    <tr>\n",
       "      <th>Pulse</th>\n",
       "      <td>-0.155408</td>\n",
       "      <td>1.000000</td>\n",
       "      <td>0.786535</td>\n",
       "      <td>0.025121</td>\n",
       "    </tr>\n",
       "    <tr>\n",
       "      <th>Maxpulse</th>\n",
       "      <td>0.009403</td>\n",
       "      <td>0.786535</td>\n",
       "      <td>1.000000</td>\n",
       "      <td>0.203813</td>\n",
       "    </tr>\n",
       "    <tr>\n",
       "      <th>Calories</th>\n",
       "      <td>0.922717</td>\n",
       "      <td>0.025121</td>\n",
       "      <td>0.203813</td>\n",
       "      <td>1.000000</td>\n",
       "    </tr>\n",
       "  </tbody>\n",
       "</table>\n",
       "</div>"
      ],
      "text/plain": [
       "          Duration     Pulse  Maxpulse  Calories\n",
       "Duration  1.000000 -0.155408  0.009403  0.922717\n",
       "Pulse    -0.155408  1.000000  0.786535  0.025121\n",
       "Maxpulse  0.009403  0.786535  1.000000  0.203813\n",
       "Calories  0.922717  0.025121  0.203813  1.000000"
      ]
     },
     "execution_count": 74,
     "metadata": {},
     "output_type": "execute_result"
    }
   ],
   "source": [
    "df1.corr()"
   ]
  },
  {
   "cell_type": "markdown",
   "id": "11a55894",
   "metadata": {},
   "source": [
    "13. plot()\n",
    "Pandas uses the plot() method to create diagrams."
   ]
  },
  {
   "cell_type": "code",
   "execution_count": 75,
   "id": "6a14cfea",
   "metadata": {},
   "outputs": [],
   "source": [
    "import matplotlib.pyplot as plt"
   ]
  },
  {
   "cell_type": "code",
   "execution_count": 76,
   "id": "35a15809",
   "metadata": {},
   "outputs": [
    {
     "data": {
      "text/plain": [
       "<AxesSubplot:>"
      ]
     },
     "execution_count": 76,
     "metadata": {},
     "output_type": "execute_result"
    },
    {
     "data": {
      "image/png": "[encoded data removed]",
      "text/plain": [
       "<Figure size 432x288 with 1 Axes>"
      ]
     },
     "metadata": {
      "needs_background": "light"
     },
     "output_type": "display_data"
    }
   ],
   "source": [
    "df1.plot()"
   ]
  },
  {
   "cell_type": "code",
   "execution_count": null,
   "id": "9eb85b21",
   "metadata": {},
   "outputs": [],
   "source": []
  }
 ],
 "metadata": {
  "kernelspec": {
   "display_name": "Python 3",
   "language": "python",
   "name": "python3"
  },
  "language_info": {
   "codemirror_mode": {
    "name": "ipython",
    "version": 3
   },
   "file_extension": ".py",
   "mimetype": "text/x-python",
   "name": "python",
   "nbconvert_exporter": "python",
   "pygments_lexer": "ipython3",
   "version": "3.8.8"
  }
 },
 "nbformat": 4,
 "nbformat_minor": 5
}
