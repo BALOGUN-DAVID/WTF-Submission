{
 "cells": [
  {
   "cell_type": "markdown",
   "id": "35d3bf6f",
   "metadata": {},
   "source": [
    "#20 in-buitlt method in Numpy"
   ]
  },
  {
   "cell_type": "code",
   "execution_count": 45,
   "id": "4a58ff06",
   "metadata": {},
   "outputs": [],
   "source": [
    "import numpy as np\n",
    "import pandas as pd"
   ]
  },
  {
   "cell_type": "code",
   "execution_count": 4,
   "id": "2de9e473",
   "metadata": {},
   "outputs": [
    {
     "data": {
      "text/plain": [
       "array(['Aminat', 'Aminat', 'Aminat', 'Aminat', 'Aminat', 'Aminat'],\n",
       "      dtype='<U6')"
      ]
     },
     "execution_count": 4,
     "metadata": {},
     "output_type": "execute_result"
    }
   ],
   "source": [
    "#1.np.repeat\n",
    "#This function repeats the elements of an array\n",
    "#The number of repititions is specified by the second argument\n",
    "#repeat string \"Aminat\" 6 times\n",
    "np.repeat(\"Aminat\", 6)"
   ]
  },
  {
   "cell_type": "code",
   "execution_count": 14,
   "id": "9fbf76ba",
   "metadata": {},
   "outputs": [
    {
     "data": {
      "text/plain": [
       "array([0.94261659, 0.02651446, 0.36582488, 0.90301842, 0.96778382])"
      ]
     },
     "execution_count": 14,
     "metadata": {},
     "output_type": "execute_result"
    }
   ],
   "source": [
    "#2.np.random.random\n",
    "#This function generates n random float samples\n",
    "#generate 5 float samples\n",
    "np.random.random(5)"
   ]
  },
  {
   "cell_type": "code",
   "execution_count": 18,
   "id": "641068c4",
   "metadata": {},
   "outputs": [
    {
     "data": {
      "text/plain": [
       "array([[2, 2, 2, 2, 2, 2],\n",
       "       [2, 2, 2, 2, 2, 2],\n",
       "       [2, 2, 2, 2, 2, 2],\n",
       "       [2, 2, 2, 2, 2, 2]])"
      ]
     },
     "execution_count": 18,
     "metadata": {},
     "output_type": "execute_result"
    }
   ],
   "source": [
    "#3.np.full\n",
    "#This function creates an n dimensional array of a random value\n",
    "#create a 4 by 6 dimensional array of 2\n",
    "fill_value=random value to fill inside the array\n",
    "np.full((4,6),fill_value=2)"
   ]
  },
  {
   "cell_type": "code",
   "execution_count": 20,
   "id": "c81c1440",
   "metadata": {
    "scrolled": true
   },
   "outputs": [
    {
     "data": {
      "text/plain": [
       "array([[1., 0., 0., 0., 0.],\n",
       "       [0., 1., 0., 0., 0.],\n",
       "       [0., 0., 1., 0., 0.],\n",
       "       [0., 0., 0., 1., 0.],\n",
       "       [0., 0., 0., 0., 1.]])"
      ]
     },
     "execution_count": 20,
     "metadata": {},
     "output_type": "execute_result"
    }
   ],
   "source": [
    "#4.np.identity\n",
    "#This function creates an indentity matrix with 1s on its main diagonal\n",
    "np.identity(5)"
   ]
  },
  {
   "cell_type": "code",
   "execution_count": 22,
   "id": "4a77ef3b",
   "metadata": {},
   "outputs": [
    {
     "data": {
      "text/plain": [
       "7.0"
      ]
     },
     "execution_count": 22,
     "metadata": {},
     "output_type": "execute_result"
    }
   ],
   "source": [
    "#5.np.mean\n",
    "#This function is used to get the mean of the array\n",
    "x= np.array([[2,4,6],[8,10,12]])\n",
    "np.mean(x)"
   ]
  },
  {
   "cell_type": "code",
   "execution_count": 25,
   "id": "da087f8a",
   "metadata": {},
   "outputs": [
    {
     "data": {
      "text/plain": [
       "5.5"
      ]
     },
     "execution_count": 25,
     "metadata": {},
     "output_type": "execute_result"
    }
   ],
   "source": [
    "#6.np.median\n",
    "#This function returns the median value of the array\n",
    "y=np.array([[2,3,4],[7,8,9]])\n",
    "np.median(y)"
   ]
  },
  {
   "cell_type": "code",
   "execution_count": 28,
   "id": "70e9e8c2",
   "metadata": {},
   "outputs": [
    {
     "data": {
      "text/plain": [
       "array([1, 2, 3, 4, 5, 5], dtype=int64)"
      ]
     },
     "execution_count": 28,
     "metadata": {},
     "output_type": "execute_result"
    }
   ],
   "source": [
    "#7.np.digitize\n",
    "#This function returns the indices of the bins to which each value in the input array belongs\n",
    "a=np.array([0.5, 1.4, 2.2, 3.6, 4.1, 5.8])\n",
    "bins=np.array([0,1,2,3,4])\n",
    "np.digitize(a,bins)"
   ]
  },
  {
   "cell_type": "code",
   "execution_count": 9,
   "id": "c17ed49c",
   "metadata": {},
   "outputs": [
    {
     "data": {
      "text/plain": [
       "array([[ 2],\n",
       "       [12],\n",
       "       [22],\n",
       "       [ 1],\n",
       "       [11],\n",
       "       [ 3],\n",
       "       [13],\n",
       "       [33],\n",
       "       [ 4],\n",
       "       [14],\n",
       "       [44]])"
      ]
     },
     "execution_count": 9,
     "metadata": {},
     "output_type": "execute_result"
    }
   ],
   "source": [
    "#8.np.expand_dims\n",
    "#This function is used to expand the dimensions of an array\n",
    "A = np.array([ 2, 12, 22, 1, 11, 3, 13, 33, 4, 14, 44 ])\n",
    "np.expand_dims(A,axis=1)\n"
   ]
  },
  {
   "cell_type": "code",
   "execution_count": 10,
   "id": "a21fc1fc",
   "metadata": {},
   "outputs": [
    {
     "data": {
      "text/plain": [
       "array([ 2,  4,  6,  8, 10, 12])"
      ]
     },
     "execution_count": 10,
     "metadata": {},
     "output_type": "execute_result"
    }
   ],
   "source": [
    "#9.np.squeeze\n",
    "#This function reduces the dimension of an array by removing single-dimensional entries\n",
    "A = ([[2], [4], [6], [8], [10], [12]])\n",
    "np.squeeze(A)"
   ]
  },
  {
   "cell_type": "code",
   "execution_count": 11,
   "id": "445eb1ab",
   "metadata": {},
   "outputs": [
    {
     "data": {
      "text/plain": [
       "6"
      ]
     },
     "execution_count": 11,
     "metadata": {},
     "output_type": "execute_result"
    }
   ],
   "source": [
    "# 10.np.count_nonzero\n",
    "#This function counts all the non-zero elements and returns their count\n",
    "B = ([1, 0, 6, 8, 0, 5, 0, 7, 5, 0])\n",
    "np.count_nonzero(B)"
   ]
  },
  {
   "cell_type": "code",
   "execution_count": 15,
   "id": "4af5bd5d",
   "metadata": {},
   "outputs": [
    {
     "data": {
      "text/plain": [
       "array([[0],\n",
       "       [3]], dtype=int64)"
      ]
     },
     "execution_count": 15,
     "metadata": {},
     "output_type": "execute_result"
    }
   ],
   "source": [
    "#11.np.argwhere\n",
    "#This function finds and returns all the indices of non-zero elements\n",
    "A = np.array([1, 0, 0, 1, 0, 0])\n",
    "np.argwhere(A)\n"
   ]
  },
  {
   "cell_type": "code",
   "execution_count": 16,
   "id": "26ec81cf",
   "metadata": {},
   "outputs": [
    {
     "data": {
      "text/plain": [
       "array([ 5, 10, 15, 20, 25])"
      ]
     },
     "execution_count": 16,
     "metadata": {},
     "output_type": "execute_result"
    }
   ],
   "source": [
    "#12.np.sort\n",
    "#This function sorts the array and returns it\n",
    "A = np.array([15, 5, 25, 20, 10])\n",
    "np.sort(A)"
   ]
  },
  {
   "cell_type": "code",
   "execution_count": 17,
   "id": "6971941b",
   "metadata": {},
   "outputs": [
    {
     "data": {
      "text/plain": [
       "array([[1, 1, 2, 6],\n",
       "       [3, 8, 9, 7],\n",
       "       [8, 9, 4, 8]])"
      ]
     },
     "execution_count": 17,
     "metadata": {},
     "output_type": "execute_result"
    }
   ],
   "source": [
    "#13.np.abs\n",
    "#This function returns the absolute values of elements inside an array\n",
    "Y = ([[1, -1, -2, 6], [-3, 8, 9, 7], [-8, 9,-4, 8]])\n",
    "np.abs(Y)"
   ]
  },
  {
   "cell_type": "code",
   "execution_count": 20,
   "id": "a76689e0",
   "metadata": {},
   "outputs": [
    {
     "data": {
      "text/plain": [
       "array([[0.21088777, 0.105069  , 0.99399229],\n",
       "       [0.84147761, 0.70617577, 0.0140658 ],\n",
       "       [0.96821927, 0.0063042 , 0.52097957]])"
      ]
     },
     "execution_count": 20,
     "metadata": {},
     "output_type": "execute_result"
    }
   ],
   "source": [
    "#14. np.round\n",
    "#This function rounds the float values to a specified number of decimal points\n",
    "a = np.random.random (size = (3,3))\n",
    "a"
   ]
  },
  {
   "cell_type": "code",
   "execution_count": 22,
   "id": "6837096b",
   "metadata": {},
   "outputs": [
    {
     "data": {
      "text/plain": [
       "array([[0., 0., 1.],\n",
       "       [1., 1., 0.],\n",
       "       [1., 0., 1.]])"
      ]
     },
     "execution_count": 22,
     "metadata": {},
     "output_type": "execute_result"
    }
   ],
   "source": [
    "#to round the float values to zero decimal point\n",
    "np.round(a, decimals=0)"
   ]
  },
  {
   "cell_type": "code",
   "execution_count": 24,
   "id": "8c1be352",
   "metadata": {},
   "outputs": [
    {
     "data": {
      "text/plain": [
       "array([1, 1, 5, 6, 1, 7, 7, 4, 6])"
      ]
     },
     "execution_count": 24,
     "metadata": {},
     "output_type": "execute_result"
    }
   ],
   "source": [
    "#15.np.clip\n",
    "#This function is used to keep the values of an array within a range\n",
    "X = np.array([1, -2, 5, 6, -7, 8, 9, 4, 6])\n",
    "X.clip(1,7)"
   ]
  },
  {
   "cell_type": "code",
   "execution_count": 32,
   "id": "527b59bc",
   "metadata": {},
   "outputs": [
    {
     "data": {
      "text/plain": [
       "array([ 2,  4,  6,  8, 10, 12])"
      ]
     },
     "execution_count": 32,
     "metadata": {},
     "output_type": "execute_result"
    }
   ],
   "source": [
    "#16.np.put\n",
    "#This function replaces specified elements of an array with given values\n",
    "arr= np.array([2,4,6,8,10,12])\n",
    "arr\n"
   ]
  },
  {
   "cell_type": "code",
   "execution_count": 35,
   "id": "6269d3a6",
   "metadata": {},
   "outputs": [
    {
     "data": {
      "text/plain": [
       "array([ 1,  4,  3,  8,  9, 12])"
      ]
     },
     "execution_count": 35,
     "metadata": {},
     "output_type": "execute_result"
    }
   ],
   "source": [
    "np.put(arr,[0,2,4], [1,3,9])\n",
    "arr"
   ]
  },
  {
   "cell_type": "code",
   "execution_count": 37,
   "id": "71bf882a",
   "metadata": {},
   "outputs": [
    {
     "data": {
      "text/plain": [
       "array([4, 5, 6])"
      ]
     },
     "execution_count": 37,
     "metadata": {},
     "output_type": "execute_result"
    }
   ],
   "source": [
    "#17.np.copyto\n",
    "#This function is used to copy the contents of one array into another\n",
    "X = np.array([1,2,3])\n",
    "Y = np.array([4,5,6])\n",
    "np.copyto(X,Y)\n",
    "X"
   ]
  },
  {
   "cell_type": "code",
   "execution_count": 40,
   "id": "4c2440d4",
   "metadata": {},
   "outputs": [
    {
     "data": {
      "text/plain": [
       "array([3, 5, 8])"
      ]
     },
     "execution_count": 40,
     "metadata": {},
     "output_type": "execute_result"
    }
   ],
   "source": [
    "#18.np.setdiff1d\n",
    "#This function returns all the unique elements in array 1 that are not present in array 2\n",
    "A = np.array([1,2,3,1,5,8,7,8])\n",
    "B = np.array([1,9,2,4,6,7,1,2])\n",
    "np.setdiff1d(A,B)"
   ]
  },
  {
   "cell_type": "code",
   "execution_count": 41,
   "id": "78113012",
   "metadata": {},
   "outputs": [
    {
     "data": {
      "text/plain": [
       "array([3, 4, 5, 6, 7, 9])"
      ]
     },
     "execution_count": 41,
     "metadata": {},
     "output_type": "execute_result"
    }
   ],
   "source": [
    "#19.np.setxor1d\n",
    "#This function returns all the unique values from both arrays in sorted order\n",
    "A = np.array([1,2,4,6,7,8])\n",
    "B = np.array([1,2,3,5,8,9])\n",
    "np.setxor1d(A,B)"
   ]
  },
  {
   "cell_type": "code",
   "execution_count": 42,
   "id": "5011c817",
   "metadata": {},
   "outputs": [
    {
     "data": {
      "text/plain": [
       "array([1, 2, 3, 4, 5, 6])"
      ]
     },
     "execution_count": 42,
     "metadata": {},
     "output_type": "execute_result"
    }
   ],
   "source": [
    "#20.np.union1d\n",
    "#This function combines both array into one\n",
    "A = np.array([2,4,5,6])\n",
    "B = np.array([1,2,3,4])\n",
    "np.union1d(A,B)"
   ]
  },
  {
   "cell_type": "markdown",
   "id": "70392a5e",
   "metadata": {},
   "source": [
    "#20 in-built method in pandas"
   ]
  },
  {
   "cell_type": "code",
   "execution_count": 56,
   "id": "26446740",
   "metadata": {},
   "outputs": [
    {
     "name": "stdout",
     "output_type": "stream",
     "text": [
      "     names  ages  height\n",
      "0   Aminat    15     6.5\n",
      "1   Aishat    34     5.5\n",
      "2  Fatimah    23     5.0\n",
      "3    Zully    14     6.0\n",
      "4   Zainab    20     6.0\n"
     ]
    }
   ],
   "source": [
    "#to create dataframe from scratch \n",
    "my_class = {\"names\" : [\"Aminat\", \"Aishat\", \"Fatimah\", \"Zully\", \"Zainab\"],\n",
    "            \"ages\" : [15, 34, 23,14,20],\n",
    "            \"height\" : [6.5, 5.5, 5, 6, 6]}\n",
    "df = pd.DataFrame(my_class)\n",
    "print(df)"
   ]
  },
  {
   "cell_type": "code",
   "execution_count": 52,
   "id": "b8b81640",
   "metadata": {},
   "outputs": [
    {
     "data": {
      "text/plain": [
       "names       object\n",
       "ages         int64\n",
       "heaight    float64\n",
       "dtype: object"
      ]
     },
     "execution_count": 52,
     "metadata": {},
     "output_type": "execute_result"
    }
   ],
   "source": [
    "#1.Dtypes\n",
    "#This function shows the type of data of each column\n",
    "df.dtypes"
   ]
  },
  {
   "cell_type": "code",
   "execution_count": 53,
   "id": "52378a1c",
   "metadata": {},
   "outputs": [
    {
     "data": {
      "text/plain": [
       "(5, 3)"
      ]
     },
     "execution_count": 53,
     "metadata": {},
     "output_type": "execute_result"
    }
   ],
   "source": [
    "#2.data.shape\n",
    "#This function shows the number of dimension as well as the size in each dimension\n",
    "df.shape"
   ]
  },
  {
   "cell_type": "code",
   "execution_count": 54,
   "id": "2685bda3",
   "metadata": {},
   "outputs": [
    {
     "data": {
      "text/plain": [
       "15"
      ]
     },
     "execution_count": 54,
     "metadata": {},
     "output_type": "execute_result"
    }
   ],
   "source": [
    "#3.data.size\n",
    "#This function returns the size of a dataframe which is the number of rows multiplied by the number of columns\n",
    "df.size"
   ]
  },
  {
   "cell_type": "code",
   "execution_count": 55,
   "id": "790d5cb7",
   "metadata": {},
   "outputs": [
    {
     "data": {
      "text/plain": [
       "<bound method NDFrame.describe of      names  ages  heaight\n",
       "0   Aminat    15      6.5\n",
       "1   Aishat    34      5.5\n",
       "2  Fatimah    23      5.0\n",
       "3    Zully    14      6.0\n",
       "4   Zainab    20      6.0>"
      ]
     },
     "execution_count": 55,
     "metadata": {},
     "output_type": "execute_result"
    }
   ],
   "source": [
    "#4.data.describe\n",
    "#This function does a quick statistical summary of numerical columns\n",
    "df.describe"
   ]
  },
  {
   "cell_type": "code",
   "execution_count": 61,
   "id": "818c4c9d",
   "metadata": {},
   "outputs": [
    {
     "data": {
      "text/plain": [
       "5"
      ]
     },
     "execution_count": 61,
     "metadata": {},
     "output_type": "execute_result"
    }
   ],
   "source": [
    "#5.len()\n",
    "#This function provides the length of the dataframe\n",
    "len(df)"
   ]
  },
  {
   "cell_type": "code",
   "execution_count": 62,
   "id": "49ccff14",
   "metadata": {},
   "outputs": [
    {
     "data": {
      "text/html": [
       "<div>\n",
       "<style scoped>\n",
       "    .dataframe tbody tr th:only-of-type {\n",
       "        vertical-align: middle;\n",
       "    }\n",
       "\n",
       "    .dataframe tbody tr th {\n",
       "        vertical-align: top;\n",
       "    }\n",
       "\n",
       "    .dataframe thead th {\n",
       "        text-align: right;\n",
       "    }\n",
       "</style>\n",
       "<table border=\"1\" class=\"dataframe\">\n",
       "  <thead>\n",
       "    <tr style=\"text-align: right;\">\n",
       "      <th></th>\n",
       "      <th>names</th>\n",
       "      <th>ages</th>\n",
       "      <th>height</th>\n",
       "    </tr>\n",
       "  </thead>\n",
       "  <tbody>\n",
       "    <tr>\n",
       "      <th>0</th>\n",
       "      <td>Aminat</td>\n",
       "      <td>15</td>\n",
       "      <td>6.5</td>\n",
       "    </tr>\n",
       "    <tr>\n",
       "      <th>1</th>\n",
       "      <td>Aishat</td>\n",
       "      <td>34</td>\n",
       "      <td>5.5</td>\n",
       "    </tr>\n",
       "  </tbody>\n",
       "</table>\n",
       "</div>"
      ],
      "text/plain": [
       "    names  ages  height\n",
       "0  Aminat    15     6.5\n",
       "1  Aishat    34     5.5"
      ]
     },
     "execution_count": 62,
     "metadata": {},
     "output_type": "execute_result"
    }
   ],
   "source": [
    "#6.df.iloc\n",
    "#This function access row values\n",
    "df.iloc[0:2]"
   ]
  },
  {
   "cell_type": "code",
   "execution_count": 63,
   "id": "e41d985b",
   "metadata": {},
   "outputs": [
    {
     "data": {
      "text/html": [
       "<div>\n",
       "<style scoped>\n",
       "    .dataframe tbody tr th:only-of-type {\n",
       "        vertical-align: middle;\n",
       "    }\n",
       "\n",
       "    .dataframe tbody tr th {\n",
       "        vertical-align: top;\n",
       "    }\n",
       "\n",
       "    .dataframe thead th {\n",
       "        text-align: right;\n",
       "    }\n",
       "</style>\n",
       "<table border=\"1\" class=\"dataframe\">\n",
       "  <thead>\n",
       "    <tr style=\"text-align: right;\">\n",
       "      <th></th>\n",
       "      <th>names</th>\n",
       "      <th>ages</th>\n",
       "      <th>height</th>\n",
       "    </tr>\n",
       "  </thead>\n",
       "  <tbody>\n",
       "    <tr>\n",
       "      <th>0</th>\n",
       "      <td>Aminat</td>\n",
       "      <td>15</td>\n",
       "      <td>6.1</td>\n",
       "    </tr>\n",
       "    <tr>\n",
       "      <th>1</th>\n",
       "      <td>Aishat</td>\n",
       "      <td>34</td>\n",
       "      <td>5.5</td>\n",
       "    </tr>\n",
       "    <tr>\n",
       "      <th>2</th>\n",
       "      <td>Fatimah</td>\n",
       "      <td>23</td>\n",
       "      <td>5.0</td>\n",
       "    </tr>\n",
       "    <tr>\n",
       "      <th>3</th>\n",
       "      <td>Zully</td>\n",
       "      <td>14</td>\n",
       "      <td>6.0</td>\n",
       "    </tr>\n",
       "    <tr>\n",
       "      <th>4</th>\n",
       "      <td>Zainab</td>\n",
       "      <td>20</td>\n",
       "      <td>6.0</td>\n",
       "    </tr>\n",
       "  </tbody>\n",
       "</table>\n",
       "</div>"
      ],
      "text/plain": [
       "     names  ages  height\n",
       "0   Aminat    15     6.1\n",
       "1   Aishat    34     5.5\n",
       "2  Fatimah    23     5.0\n",
       "3    Zully    14     6.0\n",
       "4   Zainab    20     6.0"
      ]
     },
     "execution_count": 63,
     "metadata": {},
     "output_type": "execute_result"
    }
   ],
   "source": [
    "#7.df.replace()\n",
    "#This function replaces the value of a column\n",
    "df.replace(6.5, 6.1)"
   ]
  },
  {
   "cell_type": "code",
   "execution_count": 64,
   "id": "f8ecfe61",
   "metadata": {},
   "outputs": [
    {
     "data": {
      "text/html": [
       "<div>\n",
       "<style scoped>\n",
       "    .dataframe tbody tr th:only-of-type {\n",
       "        vertical-align: middle;\n",
       "    }\n",
       "\n",
       "    .dataframe tbody tr th {\n",
       "        vertical-align: top;\n",
       "    }\n",
       "\n",
       "    .dataframe thead th {\n",
       "        text-align: right;\n",
       "    }\n",
       "</style>\n",
       "<table border=\"1\" class=\"dataframe\">\n",
       "  <thead>\n",
       "    <tr style=\"text-align: right;\">\n",
       "      <th></th>\n",
       "      <th>Name</th>\n",
       "      <th>Age</th>\n",
       "      <th>Height</th>\n",
       "    </tr>\n",
       "  </thead>\n",
       "  <tbody>\n",
       "    <tr>\n",
       "      <th>0</th>\n",
       "      <td>Aminat</td>\n",
       "      <td>15</td>\n",
       "      <td>6.5</td>\n",
       "    </tr>\n",
       "    <tr>\n",
       "      <th>1</th>\n",
       "      <td>Aishat</td>\n",
       "      <td>34</td>\n",
       "      <td>5.5</td>\n",
       "    </tr>\n",
       "    <tr>\n",
       "      <th>2</th>\n",
       "      <td>Fatimah</td>\n",
       "      <td>23</td>\n",
       "      <td>5.0</td>\n",
       "    </tr>\n",
       "    <tr>\n",
       "      <th>3</th>\n",
       "      <td>Zully</td>\n",
       "      <td>14</td>\n",
       "      <td>6.0</td>\n",
       "    </tr>\n",
       "    <tr>\n",
       "      <th>4</th>\n",
       "      <td>Zainab</td>\n",
       "      <td>20</td>\n",
       "      <td>6.0</td>\n",
       "    </tr>\n",
       "  </tbody>\n",
       "</table>\n",
       "</div>"
      ],
      "text/plain": [
       "      Name  Age  Height\n",
       "0   Aminat   15     6.5\n",
       "1   Aishat   34     5.5\n",
       "2  Fatimah   23     5.0\n",
       "3    Zully   14     6.0\n",
       "4   Zainab   20     6.0"
      ]
     },
     "execution_count": 64,
     "metadata": {},
     "output_type": "execute_result"
    }
   ],
   "source": [
    "#8.df.rename()\n",
    "#This function is used to rename colums\n",
    "df.rename(columns = {\"names\": \"Name\", \"ages\": \"Age\", \"height\" : \"Height\"})"
   ]
  },
  {
   "cell_type": "code",
   "execution_count": 67,
   "id": "3adbbacb",
   "metadata": {},
   "outputs": [
    {
     "data": {
      "text/plain": [
       "names     5\n",
       "ages      5\n",
       "height    5\n",
       "dtype: int64"
      ]
     },
     "execution_count": 67,
     "metadata": {},
     "output_type": "execute_result"
    }
   ],
   "source": [
    "#9.df.count()\n",
    "#This function provides the number of data in the dataframe in the specified direction\n",
    "df.count(0)                  #counts the number of data in the columns"
   ]
  },
  {
   "cell_type": "code",
   "execution_count": 68,
   "id": "4588629d",
   "metadata": {},
   "outputs": [
    {
     "data": {
      "text/plain": [
       "Index(['names', 'ages', 'height'], dtype='object')"
      ]
     },
     "execution_count": 68,
     "metadata": {},
     "output_type": "execute_result"
    }
   ],
   "source": [
    "#10.df.columns\n",
    "#This function is used to know the names of all the variables in a dataframe\n",
    "df.columns"
   ]
  },
  {
   "cell_type": "code",
   "execution_count": 69,
   "id": "8b972e01",
   "metadata": {},
   "outputs": [
    {
     "data": {
      "text/html": [
       "<div>\n",
       "<style scoped>\n",
       "    .dataframe tbody tr th:only-of-type {\n",
       "        vertical-align: middle;\n",
       "    }\n",
       "\n",
       "    .dataframe tbody tr th {\n",
       "        vertical-align: top;\n",
       "    }\n",
       "\n",
       "    .dataframe thead th {\n",
       "        text-align: right;\n",
       "    }\n",
       "</style>\n",
       "<table border=\"1\" class=\"dataframe\">\n",
       "  <thead>\n",
       "    <tr style=\"text-align: right;\">\n",
       "      <th></th>\n",
       "      <th>names</th>\n",
       "      <th>ages</th>\n",
       "      <th>height</th>\n",
       "    </tr>\n",
       "  </thead>\n",
       "  <tbody>\n",
       "    <tr>\n",
       "      <th>0</th>\n",
       "      <td>Aminat</td>\n",
       "      <td>15</td>\n",
       "      <td>6.5</td>\n",
       "    </tr>\n",
       "    <tr>\n",
       "      <th>1</th>\n",
       "      <td>Aishat</td>\n",
       "      <td>34</td>\n",
       "      <td>5.5</td>\n",
       "    </tr>\n",
       "    <tr>\n",
       "      <th>2</th>\n",
       "      <td>Fatimah</td>\n",
       "      <td>23</td>\n",
       "      <td>5.0</td>\n",
       "    </tr>\n",
       "  </tbody>\n",
       "</table>\n",
       "</div>"
      ],
      "text/plain": [
       "     names  ages  height\n",
       "0   Aminat    15     6.5\n",
       "1   Aishat    34     5.5\n",
       "2  Fatimah    23     5.0"
      ]
     },
     "execution_count": 69,
     "metadata": {},
     "output_type": "execute_result"
    }
   ],
   "source": [
    "#11.df.head()\n",
    "#This function returns the first rows\n",
    "df.head(3)                     #to return the first 3 rows"
   ]
  },
  {
   "cell_type": "code",
   "execution_count": 70,
   "id": "2735b994",
   "metadata": {},
   "outputs": [
    {
     "data": {
      "text/html": [
       "<div>\n",
       "<style scoped>\n",
       "    .dataframe tbody tr th:only-of-type {\n",
       "        vertical-align: middle;\n",
       "    }\n",
       "\n",
       "    .dataframe tbody tr th {\n",
       "        vertical-align: top;\n",
       "    }\n",
       "\n",
       "    .dataframe thead th {\n",
       "        text-align: right;\n",
       "    }\n",
       "</style>\n",
       "<table border=\"1\" class=\"dataframe\">\n",
       "  <thead>\n",
       "    <tr style=\"text-align: right;\">\n",
       "      <th></th>\n",
       "      <th>names</th>\n",
       "      <th>ages</th>\n",
       "      <th>height</th>\n",
       "    </tr>\n",
       "  </thead>\n",
       "  <tbody>\n",
       "    <tr>\n",
       "      <th>3</th>\n",
       "      <td>Zully</td>\n",
       "      <td>14</td>\n",
       "      <td>6.0</td>\n",
       "    </tr>\n",
       "    <tr>\n",
       "      <th>4</th>\n",
       "      <td>Zainab</td>\n",
       "      <td>20</td>\n",
       "      <td>6.0</td>\n",
       "    </tr>\n",
       "  </tbody>\n",
       "</table>\n",
       "</div>"
      ],
      "text/plain": [
       "    names  ages  height\n",
       "3   Zully    14     6.0\n",
       "4  Zainab    20     6.0"
      ]
     },
     "execution_count": 70,
     "metadata": {},
     "output_type": "execute_result"
    }
   ],
   "source": [
    "#12.df.tail()\n",
    "#This function returns the last rows\n",
    "df.tail(2)                           #to return the last 2 rows"
   ]
  },
  {
   "cell_type": "code",
   "execution_count": null,
   "id": "b530402b",
   "metadata": {},
   "outputs": [],
   "source": [
    "#13."
   ]
  }
 ],
 "metadata": {
  "kernelspec": {
   "display_name": "Python 3 (ipykernel)",
   "language": "python",
   "name": "python3"
  },
  "language_info": {
   "codemirror_mode": {
    "name": "ipython",
    "version": 3
   },
   "file_extension": ".py",
   "mimetype": "text/x-python",
   "name": "python",
   "nbconvert_exporter": "python",
   "pygments_lexer": "ipython3",
   "version": "3.9.12"
  }
 },
 "nbformat": 4,
 "nbformat_minor": 5
}
