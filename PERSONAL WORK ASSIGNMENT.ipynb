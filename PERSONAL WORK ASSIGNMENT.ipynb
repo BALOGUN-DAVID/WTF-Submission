{
 "cells": [
  {
   "cell_type": "markdown",
   "id": "01e3ff78",
   "metadata": {},
   "source": [
    "1. Print all elements of a list using for loop."
   ]
  },
  {
   "cell_type": "code",
   "execution_count": 5,
   "id": "63b1eb00",
   "metadata": {},
   "outputs": [
    {
     "name": "stdout",
     "output_type": "stream",
     "text": [
      "1\n",
      "2\n",
      "ade\n",
      "4\n"
     ]
    }
   ],
   "source": [
    "element = [1,2,'ade', 4]\n",
    "for i in element:\n",
    "    print(i)"
   ]
  },
  {
   "cell_type": "markdown",
   "id": "43cd78b3",
   "metadata": {},
   "source": [
    "2)Using range(1,101), make two list, one containing all even numbers andother containing all odd numbers."
   ]
  },
  {
   "cell_type": "code",
   "execution_count": 6,
   "id": "ebac77c0",
   "metadata": {},
   "outputs": [
    {
     "name": "stdout",
     "output_type": "stream",
     "text": [
      "Even numbers are :  [2, 4, 6, 8, 10, 12, 14, 16, 18, 20, 22, 24, 26, 28, 30, 32, 34, 36, 38, 40, 42, 44, 46, 48, 50, 52, 54, 56, 58, 60, 62, 64, 66, 68, 70, 72, 74, 76, 78, 80, 82, 84, 86, 88, 90, 92, 94, 96, 98, 100]\n",
      "Odd numbers are :  [1, 3, 5, 7, 9, 11, 13, 15, 17, 19, 21, 23, 25, 27, 29, 31, 33, 35, 37, 39, 41, 43, 45, 47, 49, 51, 53, 55, 57, 59, 61, 63, 65, 67, 69, 71, 73, 75, 77, 79, 81, 83, 85, 87, 89, 91, 93, 95, 97, 99]\n"
     ]
    }
   ],
   "source": [
    "Even_number =[]\n",
    "Odd_number = []\n",
    "for i in range(1,101):\n",
    "    if i % 2 ==0:\n",
    "        Even_number.append(i)\n",
    "    else:\n",
    "        Odd_number.append(i)\n",
    "        \n",
    "print(f'Even numbers are : ' ,Even_number)\n",
    "print(f'Odd numbers are : ', Odd_number)\n"
   ]
  },
  {
   "cell_type": "markdown",
   "id": "5cd3f624",
   "metadata": {},
   "source": [
    "3) A company decided to give bonus of 5% to employee if his/her year of service is more than 5years. Ask user for their salary and year of service and print the net bonus amount."
   ]
  },
  {
   "cell_type": "code",
   "execution_count": 5,
   "id": "551dbb54",
   "metadata": {},
   "outputs": [
    {
     "name": "stdout",
     "output_type": "stream",
     "text": [
      "Enter your salary = 1000\n",
      "Enter years of Service = 6\n",
      "Net Bonus is 50.0\n"
     ]
    }
   ],
   "source": [
    "Salary = int(input(\"Enter your salary = \"))\n",
    "Year = int(input(\"Enter years of Service = \"))\n",
    "\n",
    "if Year > 5:\n",
    "    print(f'Net Bonus is', 0.05 * Salary)\n",
    "else:\n",
    "    print('You are not eligible for Bonus')\n",
    "    "
   ]
  },
  {
   "cell_type": "markdown",
   "id": "34d4c155",
   "metadata": {},
   "source": [
    "4)Take input of age of 3 people by user and determine oldest and youngest among them."
   ]
  },
  {
   "cell_type": "code",
   "execution_count": 8,
   "id": "255a4a6c",
   "metadata": {},
   "outputs": [
    {
     "name": "stdout",
     "output_type": "stream",
     "text": [
      "Enter Your Age 7\n",
      "Enter Your Age 9\n",
      "Enter Your Age 88\n",
      "Age 3 is the oldest\n"
     ]
    }
   ],
   "source": [
    "Age1 = int(input('Enter Your Age '))\n",
    "Age2 = int(input('Enter Your Age '))\n",
    "Age3 = int(input('Enter Your Age '))\n",
    "\n",
    "#for Oldest\n",
    "if (Age1 > Age2) and (Age1 > Age3):\n",
    "    print('Age 1 is the Oldest')\n",
    "elif (Age2 > Age1) and (Age2 > Age3):\n",
    "          print('Age 2 is the Oldest')\n",
    "elif (Age3 > Age1) and (Age3 > Age2):\n",
    "          print('Age 3 is the oldest')\n",
    "else:\n",
    "    print('You all are Age mate')\n",
    "        "
   ]
  },
  {
   "cell_type": "code",
   "execution_count": 9,
   "id": "2ef66352",
   "metadata": {},
   "outputs": [
    {
     "name": "stdout",
     "output_type": "stream",
     "text": [
      "Age 1 is the Youngest\n"
     ]
    }
   ],
   "source": [
    "# for Youngest\n",
    "if (Age1 < Age2) and (Age1 < Age3):\n",
    "    print('Age 1 is the Youngest')\n",
    "elif (Age2 < Age1) and (Age2 < Age3):\n",
    "          print('Age 2 is the Youngest')\n",
    "elif (Age3 < Age1) and (Age3 < Age2):\n",
    "          print('Age 3 is the Youngest')\n",
    "else:\n",
    "    print('You all are Age mate')\n",
    "        "
   ]
  },
  {
   "cell_type": "markdown",
   "id": "cc50792b",
   "metadata": {},
   "source": [
    "5)A school has following rules for grading system\n"
   ]
  },
  {
   "cell_type": "code",
   "execution_count": 10,
   "id": "6e929646",
   "metadata": {},
   "outputs": [
    {
     "name": "stdout",
     "output_type": "stream",
     "text": [
      "Enter you mark 65\n",
      "B\n"
     ]
    }
   ],
   "source": [
    "Mark = int(input(\"Enter you mark \"))\n",
    "\n",
    "if Mark < 25:\n",
    "    print('F')\n",
    "elif Mark >= 25 and Mark < 45:\n",
    "    print('E')\n",
    "elif Mark >= 45 and Mark < 50:\n",
    "    print('D')\n",
    "elif Mark >= 50 and Mark < 60:\n",
    "    print('C') \n",
    "elif Mark >= 60 and Mark < 80:\n",
    "    print('B')\n",
    "else:\n",
    "    print('A')"
   ]
  },
  {
   "cell_type": "markdown",
   "id": "2dac41f3",
   "metadata": {},
   "source": []
  },
  {
   "cell_type": "markdown",
   "id": "64f191c7",
   "metadata": {},
   "source": [
    "\n",
    "6)Write a Python script to merge two Python dictionaries"
   ]
  },
  {
   "cell_type": "code",
   "execution_count": 11,
   "id": "37fd31c8",
   "metadata": {},
   "outputs": [
    {
     "name": "stdout",
     "output_type": "stream",
     "text": [
      "{1: 35, 'ade': 'yinka', 'Aibuki': 20, 'school': 'Tech4dev', 'Excel': 'Vlookup'}\n"
     ]
    }
   ],
   "source": [
    "Dicto = {1:35, 'ade':'yinka', 'Aibuki': 20}\n",
    "Dicto2 = {'school': 'Tech4dev', \"Excel\": 'Vlookup'}\n",
    "Dict= {}\n",
    "\n",
    "for i in (Dicto,Dicto2):\n",
    "    Dict.update(i)\n",
    "print(Dict)"
   ]
  },
  {
   "cell_type": "markdown",
   "id": "d4801414",
   "metadata": {},
   "source": [
    "7)Write a Python program to remove a key from a dictionary."
   ]
  },
  {
   "cell_type": "code",
   "execution_count": 12,
   "id": "c99896d0",
   "metadata": {},
   "outputs": [
    {
     "name": "stdout",
     "output_type": "stream",
     "text": [
      "old Dicto is  {1: 35, 'ade': 'yinka', 'Aibuki': 20}\n",
      " New Dicto is  {'ade': 'yinka', 'Aibuki': 20}\n"
     ]
    }
   ],
   "source": [
    "print(f'old Dicto is ',Dicto)\n",
    "\n",
    "if 1 in Dicto:\n",
    "    del Dicto[1]\n",
    "print(f' New Dicto is ',Dicto)"
   ]
  },
  {
   "cell_type": "markdown",
   "id": "781288a6",
   "metadata": {},
   "source": [
    "8)Write a Python program to get the largest numberfrom a list"
   ]
  },
  {
   "cell_type": "code",
   "execution_count": 24,
   "id": "3449e252",
   "metadata": {},
   "outputs": [
    {
     "name": "stdout",
     "output_type": "stream",
     "text": [
      "99\n"
     ]
    }
   ],
   "source": [
    "MyList = [1,4,70,8,50,88,99,6]\n",
    "Largest = max(MyList)\n",
    "print(Largest)"
   ]
  },
  {
   "cell_type": "code",
   "execution_count": null,
   "id": "b334e22b",
   "metadata": {},
   "outputs": [],
   "source": []
  }
 ],
 "metadata": {
  "kernelspec": {
   "display_name": "Python 3",
   "language": "python",
   "name": "python3"
  }
 },
 "nbformat": 4,
 "nbformat_minor": 5
}
