{
 "cells": [
  {
   "cell_type": "markdown",
   "id": "9e882cd7",
   "metadata": {},
   "source": [
    "# Assignment 1"
   ]
  },
  {
   "cell_type": "markdown",
   "id": "e7307cf2",
   "metadata": {},
   "source": [
    "### Name: Ajoke Yusuf "
   ]
  },
  {
   "cell_type": "markdown",
   "id": "b58f6e62",
   "metadata": {},
   "source": [
    "#### Question 1"
   ]
  },
  {
   "cell_type": "markdown",
   "id": "996c843a",
   "metadata": {},
   "source": [
    "Print all elements of a list using for loop"
   ]
  },
  {
   "cell_type": "code",
   "execution_count": 1,
   "id": "abcbecad",
   "metadata": {},
   "outputs": [
    {
     "name": "stdout",
     "output_type": "stream",
     "text": [
      "Alfred\n",
      "Betty\n",
      "16\n",
      "Lagos\n",
      "2004\n"
     ]
    }
   ],
   "source": [
    "#creating a list assigned to a variable \"my_list\"\n",
    "my_list = [\"Alfred\",\"Betty\", 16, \"Lagos\", 2004]\n",
    "for item in my_list:\n",
    "    print(item)"
   ]
  },
  {
   "cell_type": "markdown",
   "id": "74a38b28",
   "metadata": {},
   "source": [
    "#### Question 2"
   ]
  },
  {
   "cell_type": "markdown",
   "id": "9f1ef45f",
   "metadata": {},
   "source": [
    "Using range(1,101), make two list, one containing all even numbers and other containing all odd numbers."
   ]
  },
  {
   "cell_type": "code",
   "execution_count": 58,
   "id": "a2e0d095",
   "metadata": {},
   "outputs": [
    {
     "name": "stdout",
     "output_type": "stream",
     "text": [
      "[2, 4, 6, 8, 10, 12, 14, 16, 18, 20, 22, 24, 26, 28, 30, 32, 34, 36, 38, 40, 42, 44, 46, 48, 50, 52, 54, 56, 58, 60, 62, 64, 66, 68, 70, 72, 74, 76, 78, 80, 82, 84, 86, 88, 90, 92, 94, 96, 98, 100]\n"
     ]
    }
   ],
   "source": [
    "#creating an empty list\n",
    "even_num=[]\n",
    "\n",
    "#iterating through every num found between 1 to 100\n",
    "for num in range(1,101):\n",
    "    if num % 2 ==0:\n",
    "#appending the num divisible by 2 to the empty list\n",
    "        even_num.append(num)\n",
    "print(even_num)\n"
   ]
  },
  {
   "cell_type": "code",
   "execution_count": 60,
   "id": "be2a7008",
   "metadata": {},
   "outputs": [
    {
     "name": "stdout",
     "output_type": "stream",
     "text": [
      "[1, 3, 5, 7, 9, 11, 13, 15, 17, 19, 21, 23, 25, 27, 29, 31, 33, 35, 37, 39, 41, 43, 45, 47, 49, 51, 53, 55, 57, 59, 61, 63, 65, 67, 69, 71, 73, 75, 77, 79, 81, 83, 85, 87, 89, 91, 93, 95, 97, 99]\n"
     ]
    }
   ],
   "source": [
    "#creating an empty list\n",
    "odd_num=[]\n",
    "\n",
    "#iterating through every num found between 1 to 100\n",
    "for num in range(1,101):\n",
    "    #find out the num not divisible by 2\n",
    "    if num % 2 !=0:\n",
    "#appending the num not divisible by 2 to the empty list\n",
    "        odd_num.append(num)\n",
    "print(odd_num)"
   ]
  },
  {
   "cell_type": "markdown",
   "id": "1756b35b",
   "metadata": {},
   "source": [
    "#### Question 3"
   ]
  },
  {
   "cell_type": "markdown",
   "id": "5a94a33e",
   "metadata": {},
   "source": [
    "A company decided to give bonus of 5% to employee if his/her year of service is more than 5years. Ask user for their salary and year of service and print the net bonus amount"
   ]
  },
  {
   "cell_type": "code",
   "execution_count": 16,
   "id": "4f114f79",
   "metadata": {},
   "outputs": [
    {
     "name": "stdout",
     "output_type": "stream",
     "text": [
      "Year of service:10\n",
      "salary_earned:100000\n",
      "Net_Bonus_Amount: 5000.0\n"
     ]
    }
   ],
   "source": [
    "bonus = 0.05\n",
    "\n",
    "#Asking employee to input their year_of_service\n",
    "Year_of_service= int(input(\"Year of service:\"))\n",
    "\n",
    "#Asking employee to input their salary earned\n",
    "salary = int(input(\"salary_earned:\"))\n",
    "\n",
    "#formular for calculating net_bonus\n",
    "net_bonus = bonus*salary\n",
    "\n",
    "if Year_of_service > 5:\n",
    "    print(\"Net_Bonus_Amount:\",net_bonus)\n",
    "else:\n",
    "    print(\"Net Bonus not applicable to employee with less than 5 years working service\")\n",
    "    \n"
   ]
  },
  {
   "cell_type": "markdown",
   "id": "37ceb7fa",
   "metadata": {},
   "source": [
    "#### Question 4"
   ]
  },
  {
   "cell_type": "markdown",
   "id": "fcc59986",
   "metadata": {},
   "source": [
    "Take input of age of 3 people by user and determine oldest and youngest among them."
   ]
  },
  {
   "cell_type": "code",
   "execution_count": 113,
   "id": "cbb30e55",
   "metadata": {},
   "outputs": [
    {
     "name": "stdout",
     "output_type": "stream",
     "text": [
      "Enter your age:24\n",
      "Enter your age:54\n",
      "Enter your age:38\n",
      "The oldest among them is: 54\n",
      "The youngest among them is: 24\n"
     ]
    }
   ],
   "source": [
    "user_1 = int(input(\"Enter your age:\"))\n",
    "user_2 = int(input(\"Enter your age:\"))\n",
    "user_3 = int(input(\"Enter your age:\"))\n",
    "\n",
    "def oldest(age1,age2,age3):\n",
    "    if (age1>age2) and (age1>age3):\n",
    "        oldest_age= age1\n",
    "    elif (age2>age1) and (age2>age3):\n",
    "        oldest_age = age2\n",
    "    else:\n",
    "        oldest_age = age3\n",
    "    print(\"The oldest among them is:\", oldest_age)\n",
    "    \n",
    "def smallest(age1,age2,age3):\n",
    "    if (age1<age2) and (age1<age3):\n",
    "        smallest_age= age1\n",
    "    elif (age2<age1) and (age2<age3):\n",
    "        smallest_age = age2\n",
    "    else:\n",
    "        smallest_age = age3\n",
    "    print(\"The youngest among them is:\", smallest_age)\n",
    "oldest(user_1,user_2,user_3)\n",
    "smallest(user_1,user_2, user_3)       "
   ]
  },
  {
   "cell_type": "markdown",
   "id": "b627ff68",
   "metadata": {},
   "source": [
    "#### Question 5"
   ]
  },
  {
   "cell_type": "markdown",
   "id": "95afc12e",
   "metadata": {},
   "source": [
    "5. A school has following rules for grading system:\n",
    "- Below 25 - F\n",
    "- 25 to 45 - E\n",
    "- 45 to 50 - D\n",
    "- 50 to 60 - C\n",
    "- 60 to 80 - B\n",
    "- Above 80 - A\n",
    "\n",
    "Ask user to enter marks and print the corresponding grade"
   ]
  },
  {
   "cell_type": "code",
   "execution_count": 85,
   "id": "15cba652",
   "metadata": {},
   "outputs": [
    {
     "name": "stdout",
     "output_type": "stream",
     "text": [
      "Enter your score:90\n",
      "Your corresponding grade: A\n"
     ]
    }
   ],
   "source": [
    "#Asking student to input their score\n",
    "score = int(input(\"Enter your score:\"))\n",
    "\n",
    "if (score<25):\n",
    "    grade = 'F'\n",
    "elif (score>=25 and score<45):\n",
    "    grade = 'E'\n",
    "elif (score>=45 and score<50):\n",
    "    grade = 'D'\n",
    "elif (score>=50 and score<=60):\n",
    "    grade = 'C'\n",
    "elif (score>=60 and score<=80):\n",
    "    grade = 'B'\n",
    "else:\n",
    "    grade = 'A'\n",
    "print(\"Your corresponding grade:\", grade)"
   ]
  },
  {
   "cell_type": "markdown",
   "id": "bb399077",
   "metadata": {},
   "source": [
    "#### Question 6"
   ]
  },
  {
   "cell_type": "markdown",
   "id": "72b57475",
   "metadata": {},
   "source": [
    "Write a Python script to merge two Python dictionaries"
   ]
  },
  {
   "cell_type": "code",
   "execution_count": 89,
   "id": "5cfbfea6",
   "metadata": {},
   "outputs": [
    {
     "name": "stdout",
     "output_type": "stream",
     "text": [
      "{'Name': ['Chizzy', 'Femi', 'Bella'], 'age': [23, 45, 33], 'State': ['Oyo, Calabar, Lagos'], 'sex': ['Male', 'Male', 'Female']}\n"
     ]
    }
   ],
   "source": [
    "#creating a first python dictionary assign to a variable \"dict_1\"\n",
    "dict_1 = {\"Name\": [\"Chizzy\", \"Femi\", \"Bella\"], \"age\": [23, 45, 33]}\n",
    "\n",
    "#creating a second python dictionary assign to a variable \"dict_2\"\n",
    "dict_2 = {\"State\": [\"Oyo, Calabar, Lagos\"], \"sex\": [\"Male\", \"Male\", \"Female\"]}\n",
    "\n",
    "#Merging \"dict_1\" and \"dict_2\"\n",
    "dict_1.update(dict_2)\n",
    "print(dict_1)"
   ]
  },
  {
   "cell_type": "markdown",
   "id": "b08106e4",
   "metadata": {},
   "source": [
    "#### Question 7"
   ]
  },
  {
   "cell_type": "markdown",
   "id": "371c9622",
   "metadata": {},
   "source": [
    "Write a Python program to remove a key from a dictionary."
   ]
  },
  {
   "cell_type": "code",
   "execution_count": 114,
   "id": "9d714b02",
   "metadata": {},
   "outputs": [
    {
     "name": "stdout",
     "output_type": "stream",
     "text": [
      "{'Name': ['Chizzy', 'Femi', 'Bella'], 'age': [23, 45, 33], 'sex': ['Male', 'Male', 'Female']}\n"
     ]
    }
   ],
   "source": [
    "#using the merge dict named \"dict_1\" in question 6\n",
    "del dict_1['State']\n",
    "print(dict_1)"
   ]
  },
  {
   "cell_type": "markdown",
   "id": "2c6fe1e5",
   "metadata": {},
   "source": [
    "#### Question 8"
   ]
  },
  {
   "cell_type": "markdown",
   "id": "feb28a4d",
   "metadata": {},
   "source": [
    "Write a Python program to get the largest number from a list"
   ]
  },
  {
   "cell_type": "code",
   "execution_count": 98,
   "id": "bcd7244b",
   "metadata": {},
   "outputs": [
    {
     "name": "stdout",
     "output_type": "stream",
     "text": [
      "Largest Number: 78\n"
     ]
    }
   ],
   "source": [
    "# defining a func called largest\n",
    "def largest(list_num):\n",
    "    #displaying the largest element in the list\n",
    "    print(\"Largest Number:\", max(list_num))    \n",
    "#creating a list of numbers\n",
    "list_num = [23,45,25,14,78,56,49,67,33,28,52,20]\n",
    "largest(list_num)"
   ]
  }
 ],
 "metadata": {
  "kernelspec": {
   "display_name": "Python 3",
   "language": "python",
   "name": "python3"
  },
  "language_info": {
   "codemirror_mode": {
    "name": "ipython",
    "version": 3
   },
   "file_extension": ".py",
   "mimetype": "text/x-python",
   "name": "python",
   "nbconvert_exporter": "python",
   "pygments_lexer": "ipython3",
   "version": "3.8.8"
  }
 },
 "nbformat": 4,
 "nbformat_minor": 5
}
