{
 "cells": [
  {
   "cell_type": "markdown",
   "id": "f6d7b246-ccf3-4027-9155-f7d6b658d3f1",
   "metadata": {},
   "source": [
    "## NumPy & Pandas Built-In Methods with Examples"
   ]
  },
  {
   "cell_type": "code",
   "execution_count": 113,
   "id": "61a8e611-7ff3-4054-8932-bdcb1f4fd1e8",
   "metadata": {},
   "outputs": [],
   "source": [
    "#import required NumPy and Pandas\n",
    "import numpy as np\n",
    "import pandas as pd"
   ]
  },
  {
   "cell_type": "markdown",
   "id": "03681d41-58a9-4250-92f6-eb2843e3a376",
   "metadata": {},
   "source": [
    "Datasets used in the exercise\n",
    "1. Kaggle's healthy_lifestyle_city_2016.csv"
   ]
  },
  {
   "cell_type": "markdown",
   "id": "7a62076f-12a1-4566-bd4b-63a08ea2faf5",
   "metadata": {},
   "source": [
    "### NumPy"
   ]
  },
  {
   "cell_type": "markdown",
   "id": "9953674d-9464-4391-891c-f9373ce74845",
   "metadata": {},
   "source": [
    "1. np.array()\n",
    "\n",
    "Creates a one dimensional array"
   ]
  },
  {
   "cell_type": "code",
   "execution_count": 114,
   "id": "1fc01953-e53c-42a9-8367-975fcedf4962",
   "metadata": {},
   "outputs": [
    {
     "name": "stdout",
     "output_type": "stream",
     "text": [
      "[6 5 8 3 7 9]\n"
     ]
    },
    {
     "data": {
      "text/plain": [
       "numpy.ndarray"
      ]
     },
     "execution_count": 114,
     "metadata": {},
     "output_type": "execute_result"
    }
   ],
   "source": [
    "l = [ 6, 5, 8, 3,7,9]\n",
    "a = np.array(l)\n",
    "print(a)\n",
    "type(a)"
   ]
  },
  {
   "cell_type": "markdown",
   "id": "a84a2fd0-3d91-4cc0-a804-df5435664e51",
   "metadata": {},
   "source": [
    "2. np.sort()\n",
    "\n",
    "Sorts array with values in ascending order"
   ]
  },
  {
   "cell_type": "code",
   "execution_count": 115,
   "id": "715c2363-7d2c-4a03-ad0a-d674829f7fe9",
   "metadata": {},
   "outputs": [
    {
     "name": "stdout",
     "output_type": "stream",
     "text": [
      "[3 5 6 7 8 9]\n"
     ]
    },
    {
     "data": {
      "text/plain": [
       "numpy.ndarray"
      ]
     },
     "execution_count": 115,
     "metadata": {},
     "output_type": "execute_result"
    }
   ],
   "source": [
    "print(np.sort(a)) # uses array a in number 1\n",
    "type(a)"
   ]
  },
  {
   "cell_type": "markdown",
   "id": "23502f06-8025-4230-ba54-3910f3428d0f",
   "metadata": {},
   "source": [
    "3. np.linspace(start, stop, step)\n",
    "Creates a new 1D numpy array with evenly spread elements\n",
    "within the given interval"
   ]
  },
  {
   "cell_type": "code",
   "execution_count": 116,
   "id": "33e0b320-84a7-49fd-aacf-8d0da089b21a",
   "metadata": {},
   "outputs": [
    {
     "name": "stdout",
     "output_type": "stream",
     "text": [
      "[ 0.          0.20408163  0.40816327  0.6122449   0.81632653  1.02040816\n",
      "  1.2244898   1.42857143  1.63265306  1.83673469  2.04081633  2.24489796\n",
      "  2.44897959  2.65306122  2.85714286  3.06122449  3.26530612  3.46938776\n",
      "  3.67346939  3.87755102  4.08163265  4.28571429  4.48979592  4.69387755\n",
      "  4.89795918  5.10204082  5.30612245  5.51020408  5.71428571  5.91836735\n",
      "  6.12244898  6.32653061  6.53061224  6.73469388  6.93877551  7.14285714\n",
      "  7.34693878  7.55102041  7.75510204  7.95918367  8.16326531  8.36734694\n",
      "  8.57142857  8.7755102   8.97959184  9.18367347  9.3877551   9.59183673\n",
      "  9.79591837 10.        ]\n"
     ]
    }
   ],
   "source": [
    "print(np.linspace( 0 , 10 , 50 ))"
   ]
  },
  {
   "cell_type": "markdown",
   "id": "f58a869f-4469-4963-b633-df4a2ac7f2f3",
   "metadata": {},
   "source": [
    "4. np.average()\n",
    "\n",
    "Averages over all the values in the numpy array"
   ]
  },
  {
   "cell_type": "code",
   "execution_count": 117,
   "id": "3e0868bd-344e-4d2f-a1af-4affb1b819bd",
   "metadata": {},
   "outputs": [
    {
     "name": "stdout",
     "output_type": "stream",
     "text": [
      "6.333333333333333\n"
     ]
    }
   ],
   "source": [
    "print(np.average(a))"
   ]
  },
  {
   "cell_type": "markdown",
   "id": "cea9bd7e-5f00-43f4-a736-facd99f78a21",
   "metadata": {},
   "source": [
    "5. np.argsort()\n",
    "\n",
    "Returns the indices of a NumPy array so that the indexed values would be sorted."
   ]
  },
  {
   "cell_type": "code",
   "execution_count": 118,
   "id": "d7d741ac-33e5-4f73-9f97-39c25298c5f6",
   "metadata": {
    "tags": []
   },
   "outputs": [
    {
     "name": "stdout",
     "output_type": "stream",
     "text": [
      "[3 1 0 4 2 5]\n"
     ]
    }
   ],
   "source": [
    "print(np.argsort(a))"
   ]
  },
  {
   "cell_type": "markdown",
   "id": "c68f9d10-9758-469e-b750-dbb8367ebeee",
   "metadata": {},
   "source": [
    "6. np.arange()\n",
    "\n",
    "Creates an array with a range of elements.\n",
    "Also creates a range  of evenly spaced intervals by specifying the first number, last number, and the step size."
   ]
  },
  {
   "cell_type": "code",
   "execution_count": 119,
   "id": "2903643f-edd8-46a5-85f5-f08636c2a9d7",
   "metadata": {},
   "outputs": [
    {
     "data": {
      "text/plain": [
       "array([0, 1, 2, 3, 4, 5])"
      ]
     },
     "execution_count": 119,
     "metadata": {},
     "output_type": "execute_result"
    }
   ],
   "source": [
    "np.arange(6)"
   ]
  },
  {
   "cell_type": "code",
   "execution_count": 120,
   "id": "a86b1b80-bf93-4837-b8ea-8abda6fb45e2",
   "metadata": {},
   "outputs": [
    {
     "data": {
      "text/plain": [
       "array([2, 4, 6, 8])"
      ]
     },
     "execution_count": 120,
     "metadata": {},
     "output_type": "execute_result"
    }
   ],
   "source": [
    "np.arange(2, 9, 2)"
   ]
  },
  {
   "cell_type": "markdown",
   "id": "381e3f23-bbcd-494b-b0b7-662f67245856",
   "metadata": {},
   "source": [
    "7. arr.reshape()\n",
    "\n",
    "Using arr.reshape() will give a new shape to an array without changing the data"
   ]
  },
  {
   "cell_type": "code",
   "execution_count": 121,
   "id": "041172f3-9385-4764-8c59-5acf0aaab06d",
   "metadata": {},
   "outputs": [
    {
     "name": "stdout",
     "output_type": "stream",
     "text": [
      "[[6 5]\n",
      " [8 3]\n",
      " [7 9]]\n"
     ]
    }
   ],
   "source": [
    "b = a.reshape(3, 2)\n",
    "print(b)"
   ]
  },
  {
   "cell_type": "markdown",
   "id": "b3314a03-4490-4058-984e-fbb188fe7e6e",
   "metadata": {},
   "source": [
    "8. np.newaxis\n",
    "\n",
    "Increases the dimensions of your array by one dimension when used once. This means that a 1D array will become a 2D array, a 2D array will become a 3D array, and so on."
   ]
  },
  {
   "cell_type": "code",
   "execution_count": 122,
   "id": "849366ff-b548-48ca-a03f-58898a9f96c6",
   "metadata": {},
   "outputs": [
    {
     "data": {
      "text/plain": [
       "(6,)"
      ]
     },
     "execution_count": 122,
     "metadata": {},
     "output_type": "execute_result"
    }
   ],
   "source": [
    "c = np.array([1, 2, 3, 4, 5, 6])\n",
    "c.shape"
   ]
  },
  {
   "cell_type": "code",
   "execution_count": 123,
   "id": "c46cf2fb-3f8e-40f2-8fab-f5741bef2f7d",
   "metadata": {},
   "outputs": [
    {
     "name": "stdout",
     "output_type": "stream",
     "text": [
      "[[1 2 3 4 5 6]]\n"
     ]
    },
    {
     "data": {
      "text/plain": [
       "(1, 6)"
      ]
     },
     "execution_count": 123,
     "metadata": {},
     "output_type": "execute_result"
    }
   ],
   "source": [
    "d = c[np.newaxis, :]\n",
    "print(d)\n",
    "d.shape"
   ]
  },
  {
   "cell_type": "markdown",
   "id": "b68d6ea4-dd40-413e-b0d5-5852791aa0a3",
   "metadata": {},
   "source": [
    "9. np.nonzero(a)\n",
    "\n",
    "Returns the indices of the nonzero elements in NumPy array"
   ]
  },
  {
   "cell_type": "code",
   "execution_count": 124,
   "id": "5b980600-17fd-4026-807f-9768d69cdb5e",
   "metadata": {},
   "outputs": [
    {
     "name": "stdout",
     "output_type": "stream",
     "text": [
      "(array([0, 1, 2, 3], dtype=int64),)\n"
     ]
    }
   ],
   "source": [
    "e = np.array([ 10 , 3 , 7 , 1 , 0 ])\n",
    "print(np.nonzero(e)) "
   ]
  },
  {
   "cell_type": "markdown",
   "id": "fe0072ed-05ea-4e41-a354-0e73d4a4b109",
   "metadata": {},
   "source": [
    "10. np.cumsum()\n",
    "\n",
    "Calculates the cumulative sum of the elements in NumPy\n",
    "array"
   ]
  },
  {
   "cell_type": "code",
   "execution_count": 125,
   "id": "b8f7195e-1364-4673-8028-ed52e7d43e9c",
   "metadata": {},
   "outputs": [
    {
     "name": "stdout",
     "output_type": "stream",
     "text": [
      "[10  3  7  1  0]\n",
      "[10 13 20 21 21]\n"
     ]
    }
   ],
   "source": [
    "print(e) # displays e\n",
    "print(np.cumsum(e)) # creates an array with e"
   ]
  },
  {
   "cell_type": "markdown",
   "id": "920aef06-d0ac-4b26-b016-93d163498ef8",
   "metadata": {},
   "source": [
    "11. np.var()\n",
    "\n",
    "Calculates the variance of a numpy array."
   ]
  },
  {
   "cell_type": "code",
   "execution_count": 126,
   "id": "a2d4e54c-f69b-4afb-8d2a-099658c25084",
   "metadata": {},
   "outputs": [
    {
     "name": "stdout",
     "output_type": "stream",
     "text": [
      "[10  3  7  1  0]\n",
      "14.16\n"
     ]
    }
   ],
   "source": [
    "print(e)\n",
    "print(np.var(e))"
   ]
  },
  {
   "cell_type": "markdown",
   "id": "c6e463f7-7be6-45a1-a3ec-f0bfac233d0c",
   "metadata": {},
   "source": [
    "12. np.std()\n",
    "\n",
    "Calculates the standard deviation of a numpy array."
   ]
  },
  {
   "cell_type": "code",
   "execution_count": 127,
   "id": "d6aea55a-974b-405e-91ec-f8c60ca20191",
   "metadata": {},
   "outputs": [
    {
     "name": "stdout",
     "output_type": "stream",
     "text": [
      "[10  3  7  1  0]\n",
      "3.7629775444453557\n"
     ]
    }
   ],
   "source": [
    "print(e)\n",
    "print(np.std(e))"
   ]
  },
  {
   "cell_type": "markdown",
   "id": "e803b42d-6a09-4dc9-9308-831c94a1983b",
   "metadata": {},
   "source": [
    "13. np.diff()\n",
    "\n",
    "Calculates the difference between subsequent values in\n",
    "NumPy array."
   ]
  },
  {
   "cell_type": "code",
   "execution_count": 128,
   "id": "ae487b4b-a69d-48d8-9de7-186ae4c53959",
   "metadata": {},
   "outputs": [
    {
     "name": "stdout",
     "output_type": "stream",
     "text": [
      "[10  3  7  1  0]\n",
      "[-7  4 -6 -1]\n"
     ]
    }
   ],
   "source": [
    "print(e)\n",
    "print(np.diff(e, n = 1 ))"
   ]
  },
  {
   "cell_type": "markdown",
   "id": "c643fc34-04a8-4374-8bfa-0e45a76c614c",
   "metadata": {},
   "source": [
    "14. np.flip()\n",
    "\n",
    "It allows you to flip, or reverse, the contents of an array along an axis. When using np."
   ]
  },
  {
   "cell_type": "code",
   "execution_count": 129,
   "id": "ba1547bd-e42c-49ad-9447-f17950295881",
   "metadata": {},
   "outputs": [
    {
     "name": "stdout",
     "output_type": "stream",
     "text": [
      "[10  3  7  1  0]\n",
      "[ 0  1  7  3 10]\n"
     ]
    }
   ],
   "source": [
    "print(e)\n",
    "print(np.flip(e))"
   ]
  },
  {
   "cell_type": "markdown",
   "id": "6bec774c-1199-4284-9d30-eb0cf7b144cf",
   "metadata": {},
   "source": [
    "15. np.max()\n",
    "\n",
    "Returns maximum element in the array"
   ]
  },
  {
   "cell_type": "code",
   "execution_count": 130,
   "id": "2990b191-e261-44f5-9f2a-7119cecc2f5d",
   "metadata": {},
   "outputs": [
    {
     "name": "stdout",
     "output_type": "stream",
     "text": [
      "[10  3  7  1  0]\n"
     ]
    },
    {
     "data": {
      "text/plain": [
       "10"
      ]
     },
     "execution_count": 130,
     "metadata": {},
     "output_type": "execute_result"
    }
   ],
   "source": [
    "print(e)\n",
    "e.max()"
   ]
  },
  {
   "cell_type": "markdown",
   "id": "d731600a-3f20-46e4-af07-e8c5d2ccdf59",
   "metadata": {},
   "source": [
    "16. np.min()\n",
    "\n",
    "Returns minimum element in the array"
   ]
  },
  {
   "cell_type": "code",
   "execution_count": 131,
   "id": "44794f9a-f841-4d35-be4c-e283e68ba640",
   "metadata": {},
   "outputs": [
    {
     "name": "stdout",
     "output_type": "stream",
     "text": [
      "[10  3  7  1  0]\n"
     ]
    },
    {
     "data": {
      "text/plain": [
       "0"
      ]
     },
     "execution_count": 131,
     "metadata": {},
     "output_type": "execute_result"
    }
   ],
   "source": [
    "print(e)\n",
    "e.min()"
   ]
  },
  {
   "cell_type": "markdown",
   "id": "68bcec2e-065c-446f-ab50-fd858e3bd941",
   "metadata": {},
   "source": [
    "17. np.sum()\n",
    "\n",
    "Returns sum of all elements in the array"
   ]
  },
  {
   "cell_type": "code",
   "execution_count": 132,
   "id": "fca93251-5b70-4de5-8573-56b7660486bb",
   "metadata": {},
   "outputs": [
    {
     "name": "stdout",
     "output_type": "stream",
     "text": [
      "[10  3  7  1  0]\n"
     ]
    },
    {
     "data": {
      "text/plain": [
       "21"
      ]
     },
     "execution_count": 132,
     "metadata": {},
     "output_type": "execute_result"
    }
   ],
   "source": [
    "print(e)\n",
    "e.sum()"
   ]
  },
  {
   "cell_type": "markdown",
   "id": "aa7b9afd-cbd6-4bfc-b25e-4464e2bb2b1b",
   "metadata": {},
   "source": [
    "18. np.flatten()\n",
    "\n",
    "Flattens a 2D to a 1D array \n",
    "When you use flatten, changes to your new array won’t change the parent array"
   ]
  },
  {
   "cell_type": "code",
   "execution_count": 133,
   "id": "406f1e23-51d2-443e-8422-c3c019d4938e",
   "metadata": {},
   "outputs": [
    {
     "data": {
      "text/plain": [
       "array([ 1,  2,  3,  4,  5,  6,  7,  8,  9, 10, 11, 12])"
      ]
     },
     "execution_count": 133,
     "metadata": {},
     "output_type": "execute_result"
    }
   ],
   "source": [
    "x = np.array([[1 , 2, 3, 4], [5, 6, 7, 8], [9, 10, 11, 12]])\n",
    "x.flatten()"
   ]
  },
  {
   "cell_type": "code",
   "execution_count": 134,
   "id": "a57b97d9-47cd-42e2-a66d-f858de130585",
   "metadata": {},
   "outputs": [
    {
     "name": "stdout",
     "output_type": "stream",
     "text": [
      "[[ 1  2  3  4]\n",
      " [ 5  6  7  8]\n",
      " [ 9 10 11 12]]\n",
      "[99  2  3  4  5  6  7  8  9 10 11 12]\n"
     ]
    }
   ],
   "source": [
    "a1 = x.flatten()\n",
    "a1[0] = 99\n",
    "print(x) # Original array\n",
    "print(a1) # New array"
   ]
  },
  {
   "cell_type": "markdown",
   "id": "9f55b11a-a2c2-4e35-ae90-1d1fd640702a",
   "metadata": {},
   "source": [
    "19. np.ravel()\n",
    "\n",
    "Flattens a 2D to a 1D array and any changes to the new array will affect the parent array as well. Ravel does not create a copy, it’s memory efficient."
   ]
  },
  {
   "cell_type": "code",
   "execution_count": 135,
   "id": "34a08281-3989-496b-bfe4-72a441c87983",
   "metadata": {},
   "outputs": [
    {
     "name": "stdout",
     "output_type": "stream",
     "text": [
      "[[98  2  3  4]\n",
      " [ 5  6  7  8]\n",
      " [ 9 10 11 12]]\n",
      "[98  2  3  4  5  6  7  8  9 10 11 12]\n"
     ]
    }
   ],
   "source": [
    "a2 = x.ravel()\n",
    "a2[0] = 98\n",
    "print(x) # Original array\n",
    "print(a2) # New array"
   ]
  },
  {
   "cell_type": "markdown",
   "id": "2f730069-1bf4-4371-8e3f-a796a203c2e8",
   "metadata": {},
   "source": [
    "20. np.logspace()\n",
    "\n",
    "Generate evenly spaced numbers on a log scale."
   ]
  },
  {
   "cell_type": "code",
   "execution_count": 136,
   "id": "6563e004-6dde-4bbc-97b6-cb00cbeafa84",
   "metadata": {},
   "outputs": [
    {
     "data": {
      "text/plain": [
       "array([1.00000000e+01, 3.72759372e+02, 1.38949549e+04, 5.17947468e+05,\n",
       "       1.93069773e+07, 7.19685673e+08, 2.68269580e+10, 1.00000000e+12,\n",
       "       3.72759372e+13, 1.38949549e+15, 5.17947468e+16, 1.93069773e+18,\n",
       "       7.19685673e+19, 2.68269580e+21, 1.00000000e+23, 3.72759372e+24,\n",
       "       1.38949549e+26, 5.17947468e+27, 1.93069773e+29, 7.19685673e+30,\n",
       "       2.68269580e+32, 1.00000000e+34, 3.72759372e+35, 1.38949549e+37,\n",
       "       5.17947468e+38, 1.93069773e+40, 7.19685673e+41, 2.68269580e+43,\n",
       "       1.00000000e+45, 3.72759372e+46, 1.38949549e+48, 5.17947468e+49,\n",
       "       1.93069773e+51, 7.19685673e+52, 2.68269580e+54, 1.00000000e+56,\n",
       "       3.72759372e+57, 1.38949549e+59, 5.17947468e+60, 1.93069773e+62,\n",
       "       7.19685673e+63, 2.68269580e+65, 1.00000000e+67, 3.72759372e+68,\n",
       "       1.38949549e+70, 5.17947468e+71, 1.93069773e+73, 7.19685673e+74,\n",
       "       2.68269580e+76, 1.00000000e+78])"
      ]
     },
     "execution_count": 136,
     "metadata": {},
     "output_type": "execute_result"
    }
   ],
   "source": [
    "np.logspace(start = 1, stop = 78, num = 50, endpoint = True, base = 10, dtype=None, axis = 0)"
   ]
  },
  {
   "cell_type": "markdown",
   "id": "c69e956e-1814-45b3-876a-c26f23538f68",
   "metadata": {},
   "source": [
    "### Pandas"
   ]
  },
  {
   "cell_type": "markdown",
   "id": "7326389f-80f1-4235-90af-5312d3d1dccd",
   "metadata": {},
   "source": [
    "1. pd. Series()\n",
    "\n",
    "Creates a Series by passing a list of values letting pandas create a default integer index"
   ]
  },
  {
   "cell_type": "code",
   "execution_count": 137,
   "id": "ae81cf19-9f57-443b-bce2-10e27e9d9803",
   "metadata": {},
   "outputs": [
    {
     "name": "stdout",
     "output_type": "stream",
     "text": [
      "0    1.0\n",
      "1    3.0\n",
      "2    5.0\n",
      "3    NaN\n",
      "4    6.0\n",
      "5    8.0\n",
      "dtype: float64\n"
     ]
    },
    {
     "data": {
      "text/plain": [
       "pandas.core.series.Series"
      ]
     },
     "execution_count": 137,
     "metadata": {},
     "output_type": "execute_result"
    }
   ],
   "source": [
    "s = pd.Series([1, 3, 5, np.nan, 6, 8])\n",
    "print(s)\n",
    "type(s)"
   ]
  },
  {
   "cell_type": "markdown",
   "id": "5e15a5ff-ee6a-4608-a9cc-0eaf553b7e62",
   "metadata": {},
   "source": [
    "2. pd.read_csv()\n",
    "\n",
    "Import CSV; allows a user to create a Pandas Dataframe from a local CSV."
   ]
  },
  {
   "cell_type": "code",
   "execution_count": 138,
   "id": "48bdfe1e-9f01-4bac-b15c-8aa374641d50",
   "metadata": {},
   "outputs": [],
   "source": [
    "df = pd.read_csv('B:\\WTF\\Week 9\\healthy_lifestyle_city_2021.csv')"
   ]
  },
  {
   "cell_type": "markdown",
   "id": "97566647-e026-4326-82d8-b89c608ffa28",
   "metadata": {},
   "source": [
    "3. head()\n",
    "\n",
    "Displays the first 5 rows in a dataframe"
   ]
  },
  {
   "cell_type": "code",
   "execution_count": 139,
   "id": "d466afbf-870d-4cb0-a02b-33dcf6f21ed4",
   "metadata": {},
   "outputs": [
    {
     "data": {
      "text/html": [
       "<div>\n",
       "<style scoped>\n",
       "    .dataframe tbody tr th:only-of-type {\n",
       "        vertical-align: middle;\n",
       "    }\n",
       "\n",
       "    .dataframe tbody tr th {\n",
       "        vertical-align: top;\n",
       "    }\n",
       "\n",
       "    .dataframe thead th {\n",
       "        text-align: right;\n",
       "    }\n",
       "</style>\n",
       "<table border=\"1\" class=\"dataframe\">\n",
       "  <thead>\n",
       "    <tr style=\"text-align: right;\">\n",
       "      <th></th>\n",
       "      <th>City</th>\n",
       "      <th>Rank</th>\n",
       "      <th>Sunshine hours(City)</th>\n",
       "      <th>Cost of a bottle of water(City)</th>\n",
       "      <th>Obesity levels(Country)</th>\n",
       "      <th>Life expectancy(years) (Country)</th>\n",
       "      <th>Pollution(Index score) (City)</th>\n",
       "      <th>Annual avg. hours worked</th>\n",
       "      <th>Happiness levels(Country)</th>\n",
       "      <th>Outdoor activities(City)</th>\n",
       "      <th>Number of take out places(City)</th>\n",
       "      <th>Cost of a monthly gym membership(City)</th>\n",
       "    </tr>\n",
       "  </thead>\n",
       "  <tbody>\n",
       "    <tr>\n",
       "      <th>0</th>\n",
       "      <td>Amsterdam</td>\n",
       "      <td>1</td>\n",
       "      <td>1858</td>\n",
       "      <td>£1.92</td>\n",
       "      <td>20.40%</td>\n",
       "      <td>81.2</td>\n",
       "      <td>30.93</td>\n",
       "      <td>1434</td>\n",
       "      <td>7.44</td>\n",
       "      <td>422</td>\n",
       "      <td>1048</td>\n",
       "      <td>£34.90</td>\n",
       "    </tr>\n",
       "    <tr>\n",
       "      <th>1</th>\n",
       "      <td>Sydney</td>\n",
       "      <td>2</td>\n",
       "      <td>2636</td>\n",
       "      <td>£1.48</td>\n",
       "      <td>29.00%</td>\n",
       "      <td>82.1</td>\n",
       "      <td>26.86</td>\n",
       "      <td>1712</td>\n",
       "      <td>7.22</td>\n",
       "      <td>406</td>\n",
       "      <td>1103</td>\n",
       "      <td>£41.66</td>\n",
       "    </tr>\n",
       "    <tr>\n",
       "      <th>2</th>\n",
       "      <td>Vienna</td>\n",
       "      <td>3</td>\n",
       "      <td>1884</td>\n",
       "      <td>£1.94</td>\n",
       "      <td>20.10%</td>\n",
       "      <td>81.0</td>\n",
       "      <td>17.33</td>\n",
       "      <td>1501</td>\n",
       "      <td>7.29</td>\n",
       "      <td>132</td>\n",
       "      <td>1008</td>\n",
       "      <td>£25.74</td>\n",
       "    </tr>\n",
       "    <tr>\n",
       "      <th>3</th>\n",
       "      <td>Stockholm</td>\n",
       "      <td>4</td>\n",
       "      <td>1821</td>\n",
       "      <td>£1.72</td>\n",
       "      <td>20.60%</td>\n",
       "      <td>81.8</td>\n",
       "      <td>19.63</td>\n",
       "      <td>1452</td>\n",
       "      <td>7.35</td>\n",
       "      <td>129</td>\n",
       "      <td>598</td>\n",
       "      <td>£37.31</td>\n",
       "    </tr>\n",
       "    <tr>\n",
       "      <th>4</th>\n",
       "      <td>Copenhagen</td>\n",
       "      <td>5</td>\n",
       "      <td>1630</td>\n",
       "      <td>£2.19</td>\n",
       "      <td>19.70%</td>\n",
       "      <td>79.8</td>\n",
       "      <td>21.24</td>\n",
       "      <td>1380</td>\n",
       "      <td>7.64</td>\n",
       "      <td>154</td>\n",
       "      <td>523</td>\n",
       "      <td>£32.53</td>\n",
       "    </tr>\n",
       "  </tbody>\n",
       "</table>\n",
       "</div>"
      ],
      "text/plain": [
       "         City  Rank Sunshine hours(City) Cost of a bottle of water(City)  \\\n",
       "0   Amsterdam     1                 1858                           £1.92   \n",
       "1      Sydney     2                 2636                           £1.48   \n",
       "2      Vienna     3                 1884                           £1.94   \n",
       "3   Stockholm     4                 1821                           £1.72   \n",
       "4  Copenhagen     5                 1630                           £2.19   \n",
       "\n",
       "  Obesity levels(Country)  Life expectancy(years) (Country)  \\\n",
       "0                  20.40%                              81.2   \n",
       "1                  29.00%                              82.1   \n",
       "2                  20.10%                              81.0   \n",
       "3                  20.60%                              81.8   \n",
       "4                  19.70%                              79.8   \n",
       "\n",
       "  Pollution(Index score) (City) Annual avg. hours worked  \\\n",
       "0                         30.93                     1434   \n",
       "1                         26.86                     1712   \n",
       "2                         17.33                     1501   \n",
       "3                         19.63                     1452   \n",
       "4                         21.24                     1380   \n",
       "\n",
       "   Happiness levels(Country)  Outdoor activities(City)  \\\n",
       "0                       7.44                       422   \n",
       "1                       7.22                       406   \n",
       "2                       7.29                       132   \n",
       "3                       7.35                       129   \n",
       "4                       7.64                       154   \n",
       "\n",
       "   Number of take out places(City) Cost of a monthly gym membership(City)  \n",
       "0                             1048                                 £34.90  \n",
       "1                             1103                                 £41.66  \n",
       "2                             1008                                 £25.74  \n",
       "3                              598                                 £37.31  \n",
       "4                              523                                 £32.53  "
      ]
     },
     "execution_count": 139,
     "metadata": {},
     "output_type": "execute_result"
    }
   ],
   "source": [
    "df.head()"
   ]
  },
  {
   "cell_type": "markdown",
   "id": "c01125c3-77fa-401d-a76f-10de47bd586a",
   "metadata": {},
   "source": [
    "4. sort_values()\n",
    "Pass a column name and specify ascending = True or False to sort the dataframe by that column."
   ]
  },
  {
   "cell_type": "code",
   "execution_count": 140,
   "id": "644e606c-40b6-4403-911e-164020c00b60",
   "metadata": {},
   "outputs": [
    {
     "name": "stdout",
     "output_type": "stream",
     "text": [
      "        City  Rank Sunshine hours(City) Cost of a bottle of water(City)  \\\n",
      "19    Geneva    20                    -                           £2.62   \n",
      "23    Taipei    24                 1405                           £0.57   \n",
      "27    Dublin    28                 1453                           £1.40   \n",
      "32  Brussels    33                 1546                           £2.11   \n",
      "36    Zurich    37                 1566                           £3.20   \n",
      "\n",
      "   Obesity levels(Country)  Life expectancy(years) (Country)  \\\n",
      "19                  19.50%                              82.6   \n",
      "23                   6.20%                              75.4   \n",
      "27                  25.30%                              80.5   \n",
      "32                  22.10%                              80.4   \n",
      "36                  19.50%                              82.6   \n",
      "\n",
      "   Pollution(Index score) (City) Annual avg. hours worked  \\\n",
      "19                         27.25                     1557   \n",
      "23                         49.32                        -   \n",
      "27                         40.07                     1772   \n",
      "32                         62.67                     1583   \n",
      "36                         17.31                     1557   \n",
      "\n",
      "    Happiness levels(Country)  Outdoor activities(City)  \\\n",
      "19                       7.56                        44   \n",
      "23                       5.12                       134   \n",
      "27                       7.09                       159   \n",
      "32                       6.86                        55   \n",
      "36                       7.56                        69   \n",
      "\n",
      "    Number of take out places(City) Cost of a monthly gym membership(City)  \n",
      "19                              444                                 £70.00  \n",
      "23                              717                                 £34.76  \n",
      "27                              659                                 £37.35  \n",
      "32                              988                                 £25.34  \n",
      "36                              538                                 £73.11  \n"
     ]
    }
   ],
   "source": [
    "df2 = df.sort_values('Sunshine hours(City)',ascending=True)\n",
    "print(df2.head())"
   ]
  },
  {
   "cell_type": "markdown",
   "id": "287ffcf6-b74f-43ab-a48a-1725a37df7ba",
   "metadata": {},
   "source": [
    "5. to_csv()\n",
    "Export the CSV; use this method to save your dataframe to local storage."
   ]
  },
  {
   "cell_type": "code",
   "execution_count": 141,
   "id": "a5c76864-995a-468e-8c0f-2674a193f1f9",
   "metadata": {},
   "outputs": [],
   "source": [
    "df.to_csv('B:\\WTF\\Week 9\\healthy_lifestyle_city_2021_sorted.csv')"
   ]
  },
  {
   "cell_type": "markdown",
   "id": "52bdf08c-87c8-4439-8a2c-9c0594578269",
   "metadata": {},
   "source": [
    "6. pd.date_range()\n",
    "\n",
    "Format: pandas.date_range(start=None, end=None, periods=None, freq=None, tz=None, normalize=False, name=None, closed=_NoDefault.no_default, inclusive=None, **kwargs)\n",
    "\n",
    "Returns the range of equally spaced time points"
   ]
  },
  {
   "cell_type": "code",
   "execution_count": 142,
   "id": "860b618a-8470-45a5-860f-d4c81e94ec8f",
   "metadata": {},
   "outputs": [
    {
     "data": {
      "text/plain": [
       "DatetimeIndex(['2018-01-01', '2018-01-02', '2018-01-03', '2018-01-04',\n",
       "               '2018-01-05', '2018-01-06', '2018-01-07', '2018-01-08'],\n",
       "              dtype='datetime64[ns]', freq='D')"
      ]
     },
     "execution_count": 142,
     "metadata": {},
     "output_type": "execute_result"
    }
   ],
   "source": [
    "dates = pd.date_range(start = '1/1/2018', periods = 8)\n",
    "dates"
   ]
  },
  {
   "cell_type": "markdown",
   "id": "b1eb24ca-adfa-4dce-987b-0ac976eb29af",
   "metadata": {},
   "source": [
    "7. pd.DataFrame()\n",
    "\n",
    "Creates two-dimensional, size-mutable, potentially heterogeneous tabular data which  also contains labeled axes (rows and columns)"
   ]
  },
  {
   "cell_type": "code",
   "execution_count": 143,
   "id": "4ede5ea7-a70e-45f7-880f-1f025e2ff3b4",
   "metadata": {},
   "outputs": [
    {
     "data": {
      "text/html": [
       "<div>\n",
       "<style scoped>\n",
       "    .dataframe tbody tr th:only-of-type {\n",
       "        vertical-align: middle;\n",
       "    }\n",
       "\n",
       "    .dataframe tbody tr th {\n",
       "        vertical-align: top;\n",
       "    }\n",
       "\n",
       "    .dataframe thead th {\n",
       "        text-align: right;\n",
       "    }\n",
       "</style>\n",
       "<table border=\"1\" class=\"dataframe\">\n",
       "  <thead>\n",
       "    <tr style=\"text-align: right;\">\n",
       "      <th></th>\n",
       "      <th>A</th>\n",
       "      <th>B</th>\n",
       "      <th>C</th>\n",
       "      <th>D</th>\n",
       "    </tr>\n",
       "  </thead>\n",
       "  <tbody>\n",
       "    <tr>\n",
       "      <th>2018-01-01</th>\n",
       "      <td>0.701590</td>\n",
       "      <td>1.666007</td>\n",
       "      <td>-0.576277</td>\n",
       "      <td>-0.053822</td>\n",
       "    </tr>\n",
       "    <tr>\n",
       "      <th>2018-01-02</th>\n",
       "      <td>-0.575910</td>\n",
       "      <td>-0.611593</td>\n",
       "      <td>-0.344368</td>\n",
       "      <td>-0.780003</td>\n",
       "    </tr>\n",
       "    <tr>\n",
       "      <th>2018-01-03</th>\n",
       "      <td>1.249545</td>\n",
       "      <td>-0.354353</td>\n",
       "      <td>-0.243451</td>\n",
       "      <td>0.250312</td>\n",
       "    </tr>\n",
       "    <tr>\n",
       "      <th>2018-01-04</th>\n",
       "      <td>-0.264001</td>\n",
       "      <td>2.614185</td>\n",
       "      <td>-0.665672</td>\n",
       "      <td>0.825756</td>\n",
       "    </tr>\n",
       "    <tr>\n",
       "      <th>2018-01-05</th>\n",
       "      <td>0.193754</td>\n",
       "      <td>-1.314808</td>\n",
       "      <td>1.447198</td>\n",
       "      <td>0.987283</td>\n",
       "    </tr>\n",
       "    <tr>\n",
       "      <th>2018-01-06</th>\n",
       "      <td>0.017679</td>\n",
       "      <td>1.191284</td>\n",
       "      <td>0.471902</td>\n",
       "      <td>0.524517</td>\n",
       "    </tr>\n",
       "    <tr>\n",
       "      <th>2018-01-07</th>\n",
       "      <td>0.305624</td>\n",
       "      <td>-0.527995</td>\n",
       "      <td>-0.488307</td>\n",
       "      <td>-1.105889</td>\n",
       "    </tr>\n",
       "    <tr>\n",
       "      <th>2018-01-08</th>\n",
       "      <td>1.156672</td>\n",
       "      <td>-0.460331</td>\n",
       "      <td>-0.364484</td>\n",
       "      <td>0.336539</td>\n",
       "    </tr>\n",
       "  </tbody>\n",
       "</table>\n",
       "</div>"
      ],
      "text/plain": [
       "                   A         B         C         D\n",
       "2018-01-01  0.701590  1.666007 -0.576277 -0.053822\n",
       "2018-01-02 -0.575910 -0.611593 -0.344368 -0.780003\n",
       "2018-01-03  1.249545 -0.354353 -0.243451  0.250312\n",
       "2018-01-04 -0.264001  2.614185 -0.665672  0.825756\n",
       "2018-01-05  0.193754 -1.314808  1.447198  0.987283\n",
       "2018-01-06  0.017679  1.191284  0.471902  0.524517\n",
       "2018-01-07  0.305624 -0.527995 -0.488307 -1.105889\n",
       "2018-01-08  1.156672 -0.460331 -0.364484  0.336539"
      ]
     },
     "execution_count": 143,
     "metadata": {},
     "output_type": "execute_result"
    }
   ],
   "source": [
    "df3 = pd.DataFrame(np.random.randn(8,4), index = dates, columns = list(\"ABCD\"))\n",
    "df3"
   ]
  },
  {
   "cell_type": "markdown",
   "id": "57ba44f5-08bc-438f-9493-91916cfae704",
   "metadata": {
    "tags": []
   },
   "source": [
    "8. Dataframe.shape()\n",
    "\n",
    "It gives a total number of rows and then columns"
   ]
  },
  {
   "cell_type": "code",
   "execution_count": 148,
   "id": "5052053d-68d6-451f-ad32-21957e9b3e0f",
   "metadata": {
    "tags": []
   },
   "outputs": [
    {
     "data": {
      "text/plain": [
       "(44, 12)"
      ]
     },
     "execution_count": 148,
     "metadata": {},
     "output_type": "execute_result"
    }
   ],
   "source": [
    "df.shape"
   ]
  },
  {
   "cell_type": "markdown",
   "id": "89822bfa-687d-40cf-87cf-59b42a2975f7",
   "metadata": {
    "tags": []
   },
   "source": [
    "9. Dataframe.size()\n",
    "\n",
    "Returns the number of rows times number of columns in the data frame"
   ]
  },
  {
   "cell_type": "code",
   "execution_count": 149,
   "id": "54842131-2c72-4eb6-b9a1-214c7d45950c",
   "metadata": {},
   "outputs": [
    {
     "data": {
      "text/plain": [
       "528"
      ]
     },
     "execution_count": 149,
     "metadata": {},
     "output_type": "execute_result"
    }
   ],
   "source": [
    "df.size"
   ]
  },
  {
   "cell_type": "markdown",
   "id": "862e458b-611d-40eb-a63c-5436eb5fb71f",
   "metadata": {
    "tags": []
   },
   "source": [
    "10. Dataframe.info()\n",
    "\n",
    "We can also use df.info(), from that we get different information such as rows from RangeIndex, Data columns and then data type of each column. It also includes the information of non-null counts."
   ]
  },
  {
   "cell_type": "code",
   "execution_count": 150,
   "id": "b0f82d3f-5852-455f-99d3-111a952235d0",
   "metadata": {},
   "outputs": [
    {
     "name": "stdout",
     "output_type": "stream",
     "text": [
      "<class 'pandas.core.frame.DataFrame'>\n",
      "RangeIndex: 44 entries, 0 to 43\n",
      "Data columns (total 12 columns):\n",
      " #   Column                                  Non-Null Count  Dtype  \n",
      "---  ------                                  --------------  -----  \n",
      " 0   City                                    44 non-null     object \n",
      " 1   Rank                                    44 non-null     int64  \n",
      " 2   Sunshine hours(City)                    44 non-null     object \n",
      " 3   Cost of a bottle of water(City)         44 non-null     object \n",
      " 4   Obesity levels(Country)                 44 non-null     object \n",
      " 5   Life expectancy(years) (Country)        44 non-null     float64\n",
      " 6   Pollution(Index score) (City)           44 non-null     object \n",
      " 7   Annual avg. hours worked                44 non-null     object \n",
      " 8   Happiness levels(Country)               44 non-null     float64\n",
      " 9   Outdoor activities(City)                44 non-null     int64  \n",
      " 10  Number of take out places(City)         44 non-null     int64  \n",
      " 11  Cost of a monthly gym membership(City)  44 non-null     object \n",
      "dtypes: float64(2), int64(3), object(7)\n",
      "memory usage: 4.2+ KB\n"
     ]
    }
   ],
   "source": [
    "df.info()"
   ]
  },
  {
   "cell_type": "markdown",
   "id": "28f3819f-1787-46e3-9c2d-fafbe491a6cc",
   "metadata": {
    "tags": []
   },
   "source": [
    "11. Dataframe.describe()\n",
    "\n",
    "Then to understand basic statistics of variables we can use df.describe(). It will give you count, mean, standard deviation, and also 5 number summary."
   ]
  },
  {
   "cell_type": "code",
   "execution_count": 151,
   "id": "3eefdc3f-4846-40ea-a9a8-5ae9449f271b",
   "metadata": {},
   "outputs": [
    {
     "data": {
      "text/html": [
       "<div>\n",
       "<style scoped>\n",
       "    .dataframe tbody tr th:only-of-type {\n",
       "        vertical-align: middle;\n",
       "    }\n",
       "\n",
       "    .dataframe tbody tr th {\n",
       "        vertical-align: top;\n",
       "    }\n",
       "\n",
       "    .dataframe thead th {\n",
       "        text-align: right;\n",
       "    }\n",
       "</style>\n",
       "<table border=\"1\" class=\"dataframe\">\n",
       "  <thead>\n",
       "    <tr style=\"text-align: right;\">\n",
       "      <th></th>\n",
       "      <th>Rank</th>\n",
       "      <th>Life expectancy(years) (Country)</th>\n",
       "      <th>Happiness levels(Country)</th>\n",
       "      <th>Outdoor activities(City)</th>\n",
       "      <th>Number of take out places(City)</th>\n",
       "    </tr>\n",
       "  </thead>\n",
       "  <tbody>\n",
       "    <tr>\n",
       "      <th>count</th>\n",
       "      <td>44.000000</td>\n",
       "      <td>44.00000</td>\n",
       "      <td>44.000000</td>\n",
       "      <td>44.000000</td>\n",
       "      <td>44.000000</td>\n",
       "    </tr>\n",
       "    <tr>\n",
       "      <th>mean</th>\n",
       "      <td>22.500000</td>\n",
       "      <td>78.17500</td>\n",
       "      <td>6.435000</td>\n",
       "      <td>213.977273</td>\n",
       "      <td>1443.113636</td>\n",
       "    </tr>\n",
       "    <tr>\n",
       "      <th>std</th>\n",
       "      <td>12.845233</td>\n",
       "      <td>5.30437</td>\n",
       "      <td>0.991202</td>\n",
       "      <td>127.190297</td>\n",
       "      <td>1388.803270</td>\n",
       "    </tr>\n",
       "    <tr>\n",
       "      <th>min</th>\n",
       "      <td>1.000000</td>\n",
       "      <td>56.30000</td>\n",
       "      <td>3.570000</td>\n",
       "      <td>23.000000</td>\n",
       "      <td>250.000000</td>\n",
       "    </tr>\n",
       "    <tr>\n",
       "      <th>25%</th>\n",
       "      <td>11.750000</td>\n",
       "      <td>75.40000</td>\n",
       "      <td>5.870000</td>\n",
       "      <td>125.250000</td>\n",
       "      <td>548.000000</td>\n",
       "    </tr>\n",
       "    <tr>\n",
       "      <th>50%</th>\n",
       "      <td>22.500000</td>\n",
       "      <td>80.40000</td>\n",
       "      <td>6.900000</td>\n",
       "      <td>189.500000</td>\n",
       "      <td>998.000000</td>\n",
       "    </tr>\n",
       "    <tr>\n",
       "      <th>75%</th>\n",
       "      <td>33.250000</td>\n",
       "      <td>81.80000</td>\n",
       "      <td>7.175000</td>\n",
       "      <td>288.250000</td>\n",
       "      <td>1674.250000</td>\n",
       "    </tr>\n",
       "    <tr>\n",
       "      <th>max</th>\n",
       "      <td>44.000000</td>\n",
       "      <td>83.20000</td>\n",
       "      <td>7.800000</td>\n",
       "      <td>585.000000</td>\n",
       "      <td>6417.000000</td>\n",
       "    </tr>\n",
       "  </tbody>\n",
       "</table>\n",
       "</div>"
      ],
      "text/plain": [
       "            Rank  Life expectancy(years) (Country)  Happiness levels(Country)  \\\n",
       "count  44.000000                          44.00000                  44.000000   \n",
       "mean   22.500000                          78.17500                   6.435000   \n",
       "std    12.845233                           5.30437                   0.991202   \n",
       "min     1.000000                          56.30000                   3.570000   \n",
       "25%    11.750000                          75.40000                   5.870000   \n",
       "50%    22.500000                          80.40000                   6.900000   \n",
       "75%    33.250000                          81.80000                   7.175000   \n",
       "max    44.000000                          83.20000                   7.800000   \n",
       "\n",
       "       Outdoor activities(City)  Number of take out places(City)  \n",
       "count                 44.000000                        44.000000  \n",
       "mean                 213.977273                      1443.113636  \n",
       "std                  127.190297                      1388.803270  \n",
       "min                   23.000000                       250.000000  \n",
       "25%                  125.250000                       548.000000  \n",
       "50%                  189.500000                       998.000000  \n",
       "75%                  288.250000                      1674.250000  \n",
       "max                  585.000000                      6417.000000  "
      ]
     },
     "execution_count": 151,
     "metadata": {},
     "output_type": "execute_result"
    }
   ],
   "source": [
    "df.describe()"
   ]
  },
  {
   "cell_type": "markdown",
   "id": "d6719b0b-5e25-4eef-b92d-c6feacb534e5",
   "metadata": {
    "tags": []
   },
   "source": [
    "12. Dataframe.columns()\n",
    "\n",
    "To know the names of all the variables in a data frame, we can use df.columns."
   ]
  },
  {
   "cell_type": "code",
   "execution_count": 152,
   "id": "1becb198-8acb-489a-b401-5ee3245fea7f",
   "metadata": {},
   "outputs": [
    {
     "data": {
      "text/plain": [
       "Index(['City', 'Rank', 'Sunshine hours(City)',\n",
       "       'Cost of a bottle of water(City)', 'Obesity levels(Country)',\n",
       "       'Life expectancy(years) (Country)', 'Pollution(Index score) (City)',\n",
       "       'Annual avg. hours worked', 'Happiness levels(Country)',\n",
       "       'Outdoor activities(City)', 'Number of take out places(City)',\n",
       "       'Cost of a monthly gym membership(City)'],\n",
       "      dtype='object')"
      ]
     },
     "execution_count": 152,
     "metadata": {},
     "output_type": "execute_result"
    }
   ],
   "source": [
    "df.columns"
   ]
  },
  {
   "cell_type": "markdown",
   "id": "bd0bf100-2a85-4bd5-9a23-f56833267735",
   "metadata": {},
   "source": [
    "13. Dataframe.nunique\n",
    "\n",
    "To get the total unique values of variables, we can use df.nunique(). It will give all the unique values a variable contains."
   ]
  },
  {
   "cell_type": "code",
   "execution_count": 153,
   "id": "4d29736a-a5e6-488d-a533-30a5cdf50ec2",
   "metadata": {},
   "outputs": [
    {
     "data": {
      "text/plain": [
       "City                                      44\n",
       "Rank                                      44\n",
       "Sunshine hours(City)                      40\n",
       "Cost of a bottle of water(City)           39\n",
       "Obesity levels(Country)                   28\n",
       "Life expectancy(years) (Country)          27\n",
       "Pollution(Index score) (City)             44\n",
       "Annual avg. hours worked                  23\n",
       "Happiness levels(Country)                 30\n",
       "Outdoor activities(City)                  43\n",
       "Number of take out places(City)           44\n",
       "Cost of a monthly gym membership(City)    44\n",
       "dtype: int64"
      ]
     },
     "execution_count": 153,
     "metadata": {},
     "output_type": "execute_result"
    }
   ],
   "source": [
    "df.nunique()"
   ]
  },
  {
   "cell_type": "markdown",
   "id": "6db73cba-036e-4a58-8bcf-4fcdb52f3e0d",
   "metadata": {
    "tags": []
   },
   "source": [
    "14. Dataframe.groupby()\n",
    "\n",
    "groupby() is used to group a Pandas DataFrame by 1 or more columns, and perform some mathematical operation on it. groupby() can be used to summarize data in a simple manner."
   ]
  },
  {
   "cell_type": "code",
   "execution_count": 160,
   "id": "4d51e77a-e67c-4de5-869d-6c5573be644d",
   "metadata": {},
   "outputs": [
    {
     "data": {
      "text/html": [
       "<div>\n",
       "<style scoped>\n",
       "    .dataframe tbody tr th:only-of-type {\n",
       "        vertical-align: middle;\n",
       "    }\n",
       "\n",
       "    .dataframe tbody tr th {\n",
       "        vertical-align: top;\n",
       "    }\n",
       "\n",
       "    .dataframe thead th {\n",
       "        text-align: right;\n",
       "    }\n",
       "</style>\n",
       "<table border=\"1\" class=\"dataframe\">\n",
       "  <thead>\n",
       "    <tr style=\"text-align: right;\">\n",
       "      <th></th>\n",
       "      <th>col1</th>\n",
       "      <th>col2</th>\n",
       "    </tr>\n",
       "    <tr>\n",
       "      <th>col3</th>\n",
       "      <th></th>\n",
       "      <th></th>\n",
       "    </tr>\n",
       "  </thead>\n",
       "  <tbody>\n",
       "    <tr>\n",
       "      <th>A</th>\n",
       "      <td>1</td>\n",
       "      <td>2</td>\n",
       "    </tr>\n",
       "    <tr>\n",
       "      <th>B</th>\n",
       "      <td>8</td>\n",
       "      <td>10</td>\n",
       "    </tr>\n",
       "  </tbody>\n",
       "</table>\n",
       "</div>"
      ],
      "text/plain": [
       "      col1  col2\n",
       "col3            \n",
       "A        1     2\n",
       "B        8    10"
      ]
     },
     "execution_count": 160,
     "metadata": {},
     "output_type": "execute_result"
    }
   ],
   "source": [
    "df3 = pd.DataFrame([[1, 2,  \"A\"], \n",
    "                   [5, 8,  \"B\"], \n",
    "                   [3, 10, \"B\"]], \n",
    "                  columns = [\"col1\", \"col2\", \"col3\"])\n",
    "\n",
    "df3.groupby(\"col3\").agg({\"col1\":sum, \"col2\":max})"
   ]
  },
  {
   "cell_type": "markdown",
   "id": "acd0fc6e-b340-466a-8f8c-79bff58c5ea9",
   "metadata": {
    "tags": []
   },
   "source": [
    "15. Dataframe.tail()"
   ]
  },
  {
   "cell_type": "markdown",
   "id": "c7f072c5-b5be-4f1e-b79d-36817dd15765",
   "metadata": {
    "tags": []
   },
   "source": [
    "16. Dataframe.isna()\n",
    "\n",
    "To get the total number of null values in a data, we can use df.isna() as below. Sum will give the total null values. If we want just one variable null values, we can also get it by giving the name of the variable as below."
   ]
  },
  {
   "cell_type": "code",
   "execution_count": 154,
   "id": "36ecf96d-91b8-47dd-ba55-5016271a29fe",
   "metadata": {},
   "outputs": [
    {
     "data": {
      "text/html": [
       "<div>\n",
       "<style scoped>\n",
       "    .dataframe tbody tr th:only-of-type {\n",
       "        vertical-align: middle;\n",
       "    }\n",
       "\n",
       "    .dataframe tbody tr th {\n",
       "        vertical-align: top;\n",
       "    }\n",
       "\n",
       "    .dataframe thead th {\n",
       "        text-align: right;\n",
       "    }\n",
       "</style>\n",
       "<table border=\"1\" class=\"dataframe\">\n",
       "  <thead>\n",
       "    <tr style=\"text-align: right;\">\n",
       "      <th></th>\n",
       "      <th>City</th>\n",
       "      <th>Rank</th>\n",
       "      <th>Sunshine hours(City)</th>\n",
       "      <th>Cost of a bottle of water(City)</th>\n",
       "      <th>Obesity levels(Country)</th>\n",
       "      <th>Life expectancy(years) (Country)</th>\n",
       "      <th>Pollution(Index score) (City)</th>\n",
       "      <th>Annual avg. hours worked</th>\n",
       "      <th>Happiness levels(Country)</th>\n",
       "      <th>Outdoor activities(City)</th>\n",
       "      <th>Number of take out places(City)</th>\n",
       "      <th>Cost of a monthly gym membership(City)</th>\n",
       "    </tr>\n",
       "  </thead>\n",
       "  <tbody>\n",
       "    <tr>\n",
       "      <th>0</th>\n",
       "      <td>False</td>\n",
       "      <td>False</td>\n",
       "      <td>False</td>\n",
       "      <td>False</td>\n",
       "      <td>False</td>\n",
       "      <td>False</td>\n",
       "      <td>False</td>\n",
       "      <td>False</td>\n",
       "      <td>False</td>\n",
       "      <td>False</td>\n",
       "      <td>False</td>\n",
       "      <td>False</td>\n",
       "    </tr>\n",
       "    <tr>\n",
       "      <th>1</th>\n",
       "      <td>False</td>\n",
       "      <td>False</td>\n",
       "      <td>False</td>\n",
       "      <td>False</td>\n",
       "      <td>False</td>\n",
       "      <td>False</td>\n",
       "      <td>False</td>\n",
       "      <td>False</td>\n",
       "      <td>False</td>\n",
       "      <td>False</td>\n",
       "      <td>False</td>\n",
       "      <td>False</td>\n",
       "    </tr>\n",
       "    <tr>\n",
       "      <th>2</th>\n",
       "      <td>False</td>\n",
       "      <td>False</td>\n",
       "      <td>False</td>\n",
       "      <td>False</td>\n",
       "      <td>False</td>\n",
       "      <td>False</td>\n",
       "      <td>False</td>\n",
       "      <td>False</td>\n",
       "      <td>False</td>\n",
       "      <td>False</td>\n",
       "      <td>False</td>\n",
       "      <td>False</td>\n",
       "    </tr>\n",
       "    <tr>\n",
       "      <th>3</th>\n",
       "      <td>False</td>\n",
       "      <td>False</td>\n",
       "      <td>False</td>\n",
       "      <td>False</td>\n",
       "      <td>False</td>\n",
       "      <td>False</td>\n",
       "      <td>False</td>\n",
       "      <td>False</td>\n",
       "      <td>False</td>\n",
       "      <td>False</td>\n",
       "      <td>False</td>\n",
       "      <td>False</td>\n",
       "    </tr>\n",
       "    <tr>\n",
       "      <th>4</th>\n",
       "      <td>False</td>\n",
       "      <td>False</td>\n",
       "      <td>False</td>\n",
       "      <td>False</td>\n",
       "      <td>False</td>\n",
       "      <td>False</td>\n",
       "      <td>False</td>\n",
       "      <td>False</td>\n",
       "      <td>False</td>\n",
       "      <td>False</td>\n",
       "      <td>False</td>\n",
       "      <td>False</td>\n",
       "    </tr>\n",
       "    <tr>\n",
       "      <th>5</th>\n",
       "      <td>False</td>\n",
       "      <td>False</td>\n",
       "      <td>False</td>\n",
       "      <td>False</td>\n",
       "      <td>False</td>\n",
       "      <td>False</td>\n",
       "      <td>False</td>\n",
       "      <td>False</td>\n",
       "      <td>False</td>\n",
       "      <td>False</td>\n",
       "      <td>False</td>\n",
       "      <td>False</td>\n",
       "    </tr>\n",
       "    <tr>\n",
       "      <th>6</th>\n",
       "      <td>False</td>\n",
       "      <td>False</td>\n",
       "      <td>False</td>\n",
       "      <td>False</td>\n",
       "      <td>False</td>\n",
       "      <td>False</td>\n",
       "      <td>False</td>\n",
       "      <td>False</td>\n",
       "      <td>False</td>\n",
       "      <td>False</td>\n",
       "      <td>False</td>\n",
       "      <td>False</td>\n",
       "    </tr>\n",
       "    <tr>\n",
       "      <th>7</th>\n",
       "      <td>False</td>\n",
       "      <td>False</td>\n",
       "      <td>False</td>\n",
       "      <td>False</td>\n",
       "      <td>False</td>\n",
       "      <td>False</td>\n",
       "      <td>False</td>\n",
       "      <td>False</td>\n",
       "      <td>False</td>\n",
       "      <td>False</td>\n",
       "      <td>False</td>\n",
       "      <td>False</td>\n",
       "    </tr>\n",
       "    <tr>\n",
       "      <th>8</th>\n",
       "      <td>False</td>\n",
       "      <td>False</td>\n",
       "      <td>False</td>\n",
       "      <td>False</td>\n",
       "      <td>False</td>\n",
       "      <td>False</td>\n",
       "      <td>False</td>\n",
       "      <td>False</td>\n",
       "      <td>False</td>\n",
       "      <td>False</td>\n",
       "      <td>False</td>\n",
       "      <td>False</td>\n",
       "    </tr>\n",
       "    <tr>\n",
       "      <th>9</th>\n",
       "      <td>False</td>\n",
       "      <td>False</td>\n",
       "      <td>False</td>\n",
       "      <td>False</td>\n",
       "      <td>False</td>\n",
       "      <td>False</td>\n",
       "      <td>False</td>\n",
       "      <td>False</td>\n",
       "      <td>False</td>\n",
       "      <td>False</td>\n",
       "      <td>False</td>\n",
       "      <td>False</td>\n",
       "    </tr>\n",
       "    <tr>\n",
       "      <th>10</th>\n",
       "      <td>False</td>\n",
       "      <td>False</td>\n",
       "      <td>False</td>\n",
       "      <td>False</td>\n",
       "      <td>False</td>\n",
       "      <td>False</td>\n",
       "      <td>False</td>\n",
       "      <td>False</td>\n",
       "      <td>False</td>\n",
       "      <td>False</td>\n",
       "      <td>False</td>\n",
       "      <td>False</td>\n",
       "    </tr>\n",
       "    <tr>\n",
       "      <th>11</th>\n",
       "      <td>False</td>\n",
       "      <td>False</td>\n",
       "      <td>False</td>\n",
       "      <td>False</td>\n",
       "      <td>False</td>\n",
       "      <td>False</td>\n",
       "      <td>False</td>\n",
       "      <td>False</td>\n",
       "      <td>False</td>\n",
       "      <td>False</td>\n",
       "      <td>False</td>\n",
       "      <td>False</td>\n",
       "    </tr>\n",
       "    <tr>\n",
       "      <th>12</th>\n",
       "      <td>False</td>\n",
       "      <td>False</td>\n",
       "      <td>False</td>\n",
       "      <td>False</td>\n",
       "      <td>False</td>\n",
       "      <td>False</td>\n",
       "      <td>False</td>\n",
       "      <td>False</td>\n",
       "      <td>False</td>\n",
       "      <td>False</td>\n",
       "      <td>False</td>\n",
       "      <td>False</td>\n",
       "    </tr>\n",
       "    <tr>\n",
       "      <th>13</th>\n",
       "      <td>False</td>\n",
       "      <td>False</td>\n",
       "      <td>False</td>\n",
       "      <td>False</td>\n",
       "      <td>False</td>\n",
       "      <td>False</td>\n",
       "      <td>False</td>\n",
       "      <td>False</td>\n",
       "      <td>False</td>\n",
       "      <td>False</td>\n",
       "      <td>False</td>\n",
       "      <td>False</td>\n",
       "    </tr>\n",
       "    <tr>\n",
       "      <th>14</th>\n",
       "      <td>False</td>\n",
       "      <td>False</td>\n",
       "      <td>False</td>\n",
       "      <td>False</td>\n",
       "      <td>False</td>\n",
       "      <td>False</td>\n",
       "      <td>False</td>\n",
       "      <td>False</td>\n",
       "      <td>False</td>\n",
       "      <td>False</td>\n",
       "      <td>False</td>\n",
       "      <td>False</td>\n",
       "    </tr>\n",
       "    <tr>\n",
       "      <th>15</th>\n",
       "      <td>False</td>\n",
       "      <td>False</td>\n",
       "      <td>False</td>\n",
       "      <td>False</td>\n",
       "      <td>False</td>\n",
       "      <td>False</td>\n",
       "      <td>False</td>\n",
       "      <td>False</td>\n",
       "      <td>False</td>\n",
       "      <td>False</td>\n",
       "      <td>False</td>\n",
       "      <td>False</td>\n",
       "    </tr>\n",
       "    <tr>\n",
       "      <th>16</th>\n",
       "      <td>False</td>\n",
       "      <td>False</td>\n",
       "      <td>False</td>\n",
       "      <td>False</td>\n",
       "      <td>False</td>\n",
       "      <td>False</td>\n",
       "      <td>False</td>\n",
       "      <td>False</td>\n",
       "      <td>False</td>\n",
       "      <td>False</td>\n",
       "      <td>False</td>\n",
       "      <td>False</td>\n",
       "    </tr>\n",
       "    <tr>\n",
       "      <th>17</th>\n",
       "      <td>False</td>\n",
       "      <td>False</td>\n",
       "      <td>False</td>\n",
       "      <td>False</td>\n",
       "      <td>False</td>\n",
       "      <td>False</td>\n",
       "      <td>False</td>\n",
       "      <td>False</td>\n",
       "      <td>False</td>\n",
       "      <td>False</td>\n",
       "      <td>False</td>\n",
       "      <td>False</td>\n",
       "    </tr>\n",
       "    <tr>\n",
       "      <th>18</th>\n",
       "      <td>False</td>\n",
       "      <td>False</td>\n",
       "      <td>False</td>\n",
       "      <td>False</td>\n",
       "      <td>False</td>\n",
       "      <td>False</td>\n",
       "      <td>False</td>\n",
       "      <td>False</td>\n",
       "      <td>False</td>\n",
       "      <td>False</td>\n",
       "      <td>False</td>\n",
       "      <td>False</td>\n",
       "    </tr>\n",
       "    <tr>\n",
       "      <th>19</th>\n",
       "      <td>False</td>\n",
       "      <td>False</td>\n",
       "      <td>False</td>\n",
       "      <td>False</td>\n",
       "      <td>False</td>\n",
       "      <td>False</td>\n",
       "      <td>False</td>\n",
       "      <td>False</td>\n",
       "      <td>False</td>\n",
       "      <td>False</td>\n",
       "      <td>False</td>\n",
       "      <td>False</td>\n",
       "    </tr>\n",
       "    <tr>\n",
       "      <th>20</th>\n",
       "      <td>False</td>\n",
       "      <td>False</td>\n",
       "      <td>False</td>\n",
       "      <td>False</td>\n",
       "      <td>False</td>\n",
       "      <td>False</td>\n",
       "      <td>False</td>\n",
       "      <td>False</td>\n",
       "      <td>False</td>\n",
       "      <td>False</td>\n",
       "      <td>False</td>\n",
       "      <td>False</td>\n",
       "    </tr>\n",
       "    <tr>\n",
       "      <th>21</th>\n",
       "      <td>False</td>\n",
       "      <td>False</td>\n",
       "      <td>False</td>\n",
       "      <td>False</td>\n",
       "      <td>False</td>\n",
       "      <td>False</td>\n",
       "      <td>False</td>\n",
       "      <td>False</td>\n",
       "      <td>False</td>\n",
       "      <td>False</td>\n",
       "      <td>False</td>\n",
       "      <td>False</td>\n",
       "    </tr>\n",
       "    <tr>\n",
       "      <th>22</th>\n",
       "      <td>False</td>\n",
       "      <td>False</td>\n",
       "      <td>False</td>\n",
       "      <td>False</td>\n",
       "      <td>False</td>\n",
       "      <td>False</td>\n",
       "      <td>False</td>\n",
       "      <td>False</td>\n",
       "      <td>False</td>\n",
       "      <td>False</td>\n",
       "      <td>False</td>\n",
       "      <td>False</td>\n",
       "    </tr>\n",
       "    <tr>\n",
       "      <th>23</th>\n",
       "      <td>False</td>\n",
       "      <td>False</td>\n",
       "      <td>False</td>\n",
       "      <td>False</td>\n",
       "      <td>False</td>\n",
       "      <td>False</td>\n",
       "      <td>False</td>\n",
       "      <td>False</td>\n",
       "      <td>False</td>\n",
       "      <td>False</td>\n",
       "      <td>False</td>\n",
       "      <td>False</td>\n",
       "    </tr>\n",
       "    <tr>\n",
       "      <th>24</th>\n",
       "      <td>False</td>\n",
       "      <td>False</td>\n",
       "      <td>False</td>\n",
       "      <td>False</td>\n",
       "      <td>False</td>\n",
       "      <td>False</td>\n",
       "      <td>False</td>\n",
       "      <td>False</td>\n",
       "      <td>False</td>\n",
       "      <td>False</td>\n",
       "      <td>False</td>\n",
       "      <td>False</td>\n",
       "    </tr>\n",
       "    <tr>\n",
       "      <th>25</th>\n",
       "      <td>False</td>\n",
       "      <td>False</td>\n",
       "      <td>False</td>\n",
       "      <td>False</td>\n",
       "      <td>False</td>\n",
       "      <td>False</td>\n",
       "      <td>False</td>\n",
       "      <td>False</td>\n",
       "      <td>False</td>\n",
       "      <td>False</td>\n",
       "      <td>False</td>\n",
       "      <td>False</td>\n",
       "    </tr>\n",
       "    <tr>\n",
       "      <th>26</th>\n",
       "      <td>False</td>\n",
       "      <td>False</td>\n",
       "      <td>False</td>\n",
       "      <td>False</td>\n",
       "      <td>False</td>\n",
       "      <td>False</td>\n",
       "      <td>False</td>\n",
       "      <td>False</td>\n",
       "      <td>False</td>\n",
       "      <td>False</td>\n",
       "      <td>False</td>\n",
       "      <td>False</td>\n",
       "    </tr>\n",
       "    <tr>\n",
       "      <th>27</th>\n",
       "      <td>False</td>\n",
       "      <td>False</td>\n",
       "      <td>False</td>\n",
       "      <td>False</td>\n",
       "      <td>False</td>\n",
       "      <td>False</td>\n",
       "      <td>False</td>\n",
       "      <td>False</td>\n",
       "      <td>False</td>\n",
       "      <td>False</td>\n",
       "      <td>False</td>\n",
       "      <td>False</td>\n",
       "    </tr>\n",
       "    <tr>\n",
       "      <th>28</th>\n",
       "      <td>False</td>\n",
       "      <td>False</td>\n",
       "      <td>False</td>\n",
       "      <td>False</td>\n",
       "      <td>False</td>\n",
       "      <td>False</td>\n",
       "      <td>False</td>\n",
       "      <td>False</td>\n",
       "      <td>False</td>\n",
       "      <td>False</td>\n",
       "      <td>False</td>\n",
       "      <td>False</td>\n",
       "    </tr>\n",
       "    <tr>\n",
       "      <th>29</th>\n",
       "      <td>False</td>\n",
       "      <td>False</td>\n",
       "      <td>False</td>\n",
       "      <td>False</td>\n",
       "      <td>False</td>\n",
       "      <td>False</td>\n",
       "      <td>False</td>\n",
       "      <td>False</td>\n",
       "      <td>False</td>\n",
       "      <td>False</td>\n",
       "      <td>False</td>\n",
       "      <td>False</td>\n",
       "    </tr>\n",
       "    <tr>\n",
       "      <th>30</th>\n",
       "      <td>False</td>\n",
       "      <td>False</td>\n",
       "      <td>False</td>\n",
       "      <td>False</td>\n",
       "      <td>False</td>\n",
       "      <td>False</td>\n",
       "      <td>False</td>\n",
       "      <td>False</td>\n",
       "      <td>False</td>\n",
       "      <td>False</td>\n",
       "      <td>False</td>\n",
       "      <td>False</td>\n",
       "    </tr>\n",
       "    <tr>\n",
       "      <th>31</th>\n",
       "      <td>False</td>\n",
       "      <td>False</td>\n",
       "      <td>False</td>\n",
       "      <td>False</td>\n",
       "      <td>False</td>\n",
       "      <td>False</td>\n",
       "      <td>False</td>\n",
       "      <td>False</td>\n",
       "      <td>False</td>\n",
       "      <td>False</td>\n",
       "      <td>False</td>\n",
       "      <td>False</td>\n",
       "    </tr>\n",
       "    <tr>\n",
       "      <th>32</th>\n",
       "      <td>False</td>\n",
       "      <td>False</td>\n",
       "      <td>False</td>\n",
       "      <td>False</td>\n",
       "      <td>False</td>\n",
       "      <td>False</td>\n",
       "      <td>False</td>\n",
       "      <td>False</td>\n",
       "      <td>False</td>\n",
       "      <td>False</td>\n",
       "      <td>False</td>\n",
       "      <td>False</td>\n",
       "    </tr>\n",
       "    <tr>\n",
       "      <th>33</th>\n",
       "      <td>False</td>\n",
       "      <td>False</td>\n",
       "      <td>False</td>\n",
       "      <td>False</td>\n",
       "      <td>False</td>\n",
       "      <td>False</td>\n",
       "      <td>False</td>\n",
       "      <td>False</td>\n",
       "      <td>False</td>\n",
       "      <td>False</td>\n",
       "      <td>False</td>\n",
       "      <td>False</td>\n",
       "    </tr>\n",
       "    <tr>\n",
       "      <th>34</th>\n",
       "      <td>False</td>\n",
       "      <td>False</td>\n",
       "      <td>False</td>\n",
       "      <td>False</td>\n",
       "      <td>False</td>\n",
       "      <td>False</td>\n",
       "      <td>False</td>\n",
       "      <td>False</td>\n",
       "      <td>False</td>\n",
       "      <td>False</td>\n",
       "      <td>False</td>\n",
       "      <td>False</td>\n",
       "    </tr>\n",
       "    <tr>\n",
       "      <th>35</th>\n",
       "      <td>False</td>\n",
       "      <td>False</td>\n",
       "      <td>False</td>\n",
       "      <td>False</td>\n",
       "      <td>False</td>\n",
       "      <td>False</td>\n",
       "      <td>False</td>\n",
       "      <td>False</td>\n",
       "      <td>False</td>\n",
       "      <td>False</td>\n",
       "      <td>False</td>\n",
       "      <td>False</td>\n",
       "    </tr>\n",
       "    <tr>\n",
       "      <th>36</th>\n",
       "      <td>False</td>\n",
       "      <td>False</td>\n",
       "      <td>False</td>\n",
       "      <td>False</td>\n",
       "      <td>False</td>\n",
       "      <td>False</td>\n",
       "      <td>False</td>\n",
       "      <td>False</td>\n",
       "      <td>False</td>\n",
       "      <td>False</td>\n",
       "      <td>False</td>\n",
       "      <td>False</td>\n",
       "    </tr>\n",
       "    <tr>\n",
       "      <th>37</th>\n",
       "      <td>False</td>\n",
       "      <td>False</td>\n",
       "      <td>False</td>\n",
       "      <td>False</td>\n",
       "      <td>False</td>\n",
       "      <td>False</td>\n",
       "      <td>False</td>\n",
       "      <td>False</td>\n",
       "      <td>False</td>\n",
       "      <td>False</td>\n",
       "      <td>False</td>\n",
       "      <td>False</td>\n",
       "    </tr>\n",
       "    <tr>\n",
       "      <th>38</th>\n",
       "      <td>False</td>\n",
       "      <td>False</td>\n",
       "      <td>False</td>\n",
       "      <td>False</td>\n",
       "      <td>False</td>\n",
       "      <td>False</td>\n",
       "      <td>False</td>\n",
       "      <td>False</td>\n",
       "      <td>False</td>\n",
       "      <td>False</td>\n",
       "      <td>False</td>\n",
       "      <td>False</td>\n",
       "    </tr>\n",
       "    <tr>\n",
       "      <th>39</th>\n",
       "      <td>False</td>\n",
       "      <td>False</td>\n",
       "      <td>False</td>\n",
       "      <td>False</td>\n",
       "      <td>False</td>\n",
       "      <td>False</td>\n",
       "      <td>False</td>\n",
       "      <td>False</td>\n",
       "      <td>False</td>\n",
       "      <td>False</td>\n",
       "      <td>False</td>\n",
       "      <td>False</td>\n",
       "    </tr>\n",
       "    <tr>\n",
       "      <th>40</th>\n",
       "      <td>False</td>\n",
       "      <td>False</td>\n",
       "      <td>False</td>\n",
       "      <td>False</td>\n",
       "      <td>False</td>\n",
       "      <td>False</td>\n",
       "      <td>False</td>\n",
       "      <td>False</td>\n",
       "      <td>False</td>\n",
       "      <td>False</td>\n",
       "      <td>False</td>\n",
       "      <td>False</td>\n",
       "    </tr>\n",
       "    <tr>\n",
       "      <th>41</th>\n",
       "      <td>False</td>\n",
       "      <td>False</td>\n",
       "      <td>False</td>\n",
       "      <td>False</td>\n",
       "      <td>False</td>\n",
       "      <td>False</td>\n",
       "      <td>False</td>\n",
       "      <td>False</td>\n",
       "      <td>False</td>\n",
       "      <td>False</td>\n",
       "      <td>False</td>\n",
       "      <td>False</td>\n",
       "    </tr>\n",
       "    <tr>\n",
       "      <th>42</th>\n",
       "      <td>False</td>\n",
       "      <td>False</td>\n",
       "      <td>False</td>\n",
       "      <td>False</td>\n",
       "      <td>False</td>\n",
       "      <td>False</td>\n",
       "      <td>False</td>\n",
       "      <td>False</td>\n",
       "      <td>False</td>\n",
       "      <td>False</td>\n",
       "      <td>False</td>\n",
       "      <td>False</td>\n",
       "    </tr>\n",
       "    <tr>\n",
       "      <th>43</th>\n",
       "      <td>False</td>\n",
       "      <td>False</td>\n",
       "      <td>False</td>\n",
       "      <td>False</td>\n",
       "      <td>False</td>\n",
       "      <td>False</td>\n",
       "      <td>False</td>\n",
       "      <td>False</td>\n",
       "      <td>False</td>\n",
       "      <td>False</td>\n",
       "      <td>False</td>\n",
       "      <td>False</td>\n",
       "    </tr>\n",
       "  </tbody>\n",
       "</table>\n",
       "</div>"
      ],
      "text/plain": [
       "     City   Rank  Sunshine hours(City)  Cost of a bottle of water(City)  \\\n",
       "0   False  False                 False                            False   \n",
       "1   False  False                 False                            False   \n",
       "2   False  False                 False                            False   \n",
       "3   False  False                 False                            False   \n",
       "4   False  False                 False                            False   \n",
       "5   False  False                 False                            False   \n",
       "6   False  False                 False                            False   \n",
       "7   False  False                 False                            False   \n",
       "8   False  False                 False                            False   \n",
       "9   False  False                 False                            False   \n",
       "10  False  False                 False                            False   \n",
       "11  False  False                 False                            False   \n",
       "12  False  False                 False                            False   \n",
       "13  False  False                 False                            False   \n",
       "14  False  False                 False                            False   \n",
       "15  False  False                 False                            False   \n",
       "16  False  False                 False                            False   \n",
       "17  False  False                 False                            False   \n",
       "18  False  False                 False                            False   \n",
       "19  False  False                 False                            False   \n",
       "20  False  False                 False                            False   \n",
       "21  False  False                 False                            False   \n",
       "22  False  False                 False                            False   \n",
       "23  False  False                 False                            False   \n",
       "24  False  False                 False                            False   \n",
       "25  False  False                 False                            False   \n",
       "26  False  False                 False                            False   \n",
       "27  False  False                 False                            False   \n",
       "28  False  False                 False                            False   \n",
       "29  False  False                 False                            False   \n",
       "30  False  False                 False                            False   \n",
       "31  False  False                 False                            False   \n",
       "32  False  False                 False                            False   \n",
       "33  False  False                 False                            False   \n",
       "34  False  False                 False                            False   \n",
       "35  False  False                 False                            False   \n",
       "36  False  False                 False                            False   \n",
       "37  False  False                 False                            False   \n",
       "38  False  False                 False                            False   \n",
       "39  False  False                 False                            False   \n",
       "40  False  False                 False                            False   \n",
       "41  False  False                 False                            False   \n",
       "42  False  False                 False                            False   \n",
       "43  False  False                 False                            False   \n",
       "\n",
       "    Obesity levels(Country)  Life expectancy(years) (Country)  \\\n",
       "0                     False                             False   \n",
       "1                     False                             False   \n",
       "2                     False                             False   \n",
       "3                     False                             False   \n",
       "4                     False                             False   \n",
       "5                     False                             False   \n",
       "6                     False                             False   \n",
       "7                     False                             False   \n",
       "8                     False                             False   \n",
       "9                     False                             False   \n",
       "10                    False                             False   \n",
       "11                    False                             False   \n",
       "12                    False                             False   \n",
       "13                    False                             False   \n",
       "14                    False                             False   \n",
       "15                    False                             False   \n",
       "16                    False                             False   \n",
       "17                    False                             False   \n",
       "18                    False                             False   \n",
       "19                    False                             False   \n",
       "20                    False                             False   \n",
       "21                    False                             False   \n",
       "22                    False                             False   \n",
       "23                    False                             False   \n",
       "24                    False                             False   \n",
       "25                    False                             False   \n",
       "26                    False                             False   \n",
       "27                    False                             False   \n",
       "28                    False                             False   \n",
       "29                    False                             False   \n",
       "30                    False                             False   \n",
       "31                    False                             False   \n",
       "32                    False                             False   \n",
       "33                    False                             False   \n",
       "34                    False                             False   \n",
       "35                    False                             False   \n",
       "36                    False                             False   \n",
       "37                    False                             False   \n",
       "38                    False                             False   \n",
       "39                    False                             False   \n",
       "40                    False                             False   \n",
       "41                    False                             False   \n",
       "42                    False                             False   \n",
       "43                    False                             False   \n",
       "\n",
       "    Pollution(Index score) (City)  Annual avg. hours worked  \\\n",
       "0                           False                     False   \n",
       "1                           False                     False   \n",
       "2                           False                     False   \n",
       "3                           False                     False   \n",
       "4                           False                     False   \n",
       "5                           False                     False   \n",
       "6                           False                     False   \n",
       "7                           False                     False   \n",
       "8                           False                     False   \n",
       "9                           False                     False   \n",
       "10                          False                     False   \n",
       "11                          False                     False   \n",
       "12                          False                     False   \n",
       "13                          False                     False   \n",
       "14                          False                     False   \n",
       "15                          False                     False   \n",
       "16                          False                     False   \n",
       "17                          False                     False   \n",
       "18                          False                     False   \n",
       "19                          False                     False   \n",
       "20                          False                     False   \n",
       "21                          False                     False   \n",
       "22                          False                     False   \n",
       "23                          False                     False   \n",
       "24                          False                     False   \n",
       "25                          False                     False   \n",
       "26                          False                     False   \n",
       "27                          False                     False   \n",
       "28                          False                     False   \n",
       "29                          False                     False   \n",
       "30                          False                     False   \n",
       "31                          False                     False   \n",
       "32                          False                     False   \n",
       "33                          False                     False   \n",
       "34                          False                     False   \n",
       "35                          False                     False   \n",
       "36                          False                     False   \n",
       "37                          False                     False   \n",
       "38                          False                     False   \n",
       "39                          False                     False   \n",
       "40                          False                     False   \n",
       "41                          False                     False   \n",
       "42                          False                     False   \n",
       "43                          False                     False   \n",
       "\n",
       "    Happiness levels(Country)  Outdoor activities(City)  \\\n",
       "0                       False                     False   \n",
       "1                       False                     False   \n",
       "2                       False                     False   \n",
       "3                       False                     False   \n",
       "4                       False                     False   \n",
       "5                       False                     False   \n",
       "6                       False                     False   \n",
       "7                       False                     False   \n",
       "8                       False                     False   \n",
       "9                       False                     False   \n",
       "10                      False                     False   \n",
       "11                      False                     False   \n",
       "12                      False                     False   \n",
       "13                      False                     False   \n",
       "14                      False                     False   \n",
       "15                      False                     False   \n",
       "16                      False                     False   \n",
       "17                      False                     False   \n",
       "18                      False                     False   \n",
       "19                      False                     False   \n",
       "20                      False                     False   \n",
       "21                      False                     False   \n",
       "22                      False                     False   \n",
       "23                      False                     False   \n",
       "24                      False                     False   \n",
       "25                      False                     False   \n",
       "26                      False                     False   \n",
       "27                      False                     False   \n",
       "28                      False                     False   \n",
       "29                      False                     False   \n",
       "30                      False                     False   \n",
       "31                      False                     False   \n",
       "32                      False                     False   \n",
       "33                      False                     False   \n",
       "34                      False                     False   \n",
       "35                      False                     False   \n",
       "36                      False                     False   \n",
       "37                      False                     False   \n",
       "38                      False                     False   \n",
       "39                      False                     False   \n",
       "40                      False                     False   \n",
       "41                      False                     False   \n",
       "42                      False                     False   \n",
       "43                      False                     False   \n",
       "\n",
       "    Number of take out places(City)  Cost of a monthly gym membership(City)  \n",
       "0                             False                                   False  \n",
       "1                             False                                   False  \n",
       "2                             False                                   False  \n",
       "3                             False                                   False  \n",
       "4                             False                                   False  \n",
       "5                             False                                   False  \n",
       "6                             False                                   False  \n",
       "7                             False                                   False  \n",
       "8                             False                                   False  \n",
       "9                             False                                   False  \n",
       "10                            False                                   False  \n",
       "11                            False                                   False  \n",
       "12                            False                                   False  \n",
       "13                            False                                   False  \n",
       "14                            False                                   False  \n",
       "15                            False                                   False  \n",
       "16                            False                                   False  \n",
       "17                            False                                   False  \n",
       "18                            False                                   False  \n",
       "19                            False                                   False  \n",
       "20                            False                                   False  \n",
       "21                            False                                   False  \n",
       "22                            False                                   False  \n",
       "23                            False                                   False  \n",
       "24                            False                                   False  \n",
       "25                            False                                   False  \n",
       "26                            False                                   False  \n",
       "27                            False                                   False  \n",
       "28                            False                                   False  \n",
       "29                            False                                   False  \n",
       "30                            False                                   False  \n",
       "31                            False                                   False  \n",
       "32                            False                                   False  \n",
       "33                            False                                   False  \n",
       "34                            False                                   False  \n",
       "35                            False                                   False  \n",
       "36                            False                                   False  \n",
       "37                            False                                   False  \n",
       "38                            False                                   False  \n",
       "39                            False                                   False  \n",
       "40                            False                                   False  \n",
       "41                            False                                   False  \n",
       "42                            False                                   False  \n",
       "43                            False                                   False  "
      ]
     },
     "execution_count": 154,
     "metadata": {},
     "output_type": "execute_result"
    }
   ],
   "source": [
    "df.isna()"
   ]
  },
  {
   "cell_type": "markdown",
   "id": "4b6f7bca-8479-4292-8218-73b26f170eab",
   "metadata": {
    "tags": []
   },
   "source": [
    "17. DataFrame.rename()\n",
    "\n",
    "If you want to rename the column headers, use the df.rename() method, as demonstrated below: "
   ]
  },
  {
   "cell_type": "code",
   "execution_count": 162,
   "id": "2452e2d9-314c-4314-bdf7-5d589400feab",
   "metadata": {},
   "outputs": [
    {
     "name": "stdout",
     "output_type": "stream",
     "text": [
      "   col_A  col2 col3\n",
      "0      1     2    A\n",
      "1      5     8    B\n",
      "2      3    10    B\n"
     ]
    },
    {
     "data": {
      "text/html": [
       "<div>\n",
       "<style scoped>\n",
       "    .dataframe tbody tr th:only-of-type {\n",
       "        vertical-align: middle;\n",
       "    }\n",
       "\n",
       "    .dataframe tbody tr th {\n",
       "        vertical-align: top;\n",
       "    }\n",
       "\n",
       "    .dataframe thead th {\n",
       "        text-align: right;\n",
       "    }\n",
       "</style>\n",
       "<table border=\"1\" class=\"dataframe\">\n",
       "  <thead>\n",
       "    <tr style=\"text-align: right;\">\n",
       "      <th></th>\n",
       "      <th>col1</th>\n",
       "      <th>col2</th>\n",
       "      <th>col3</th>\n",
       "    </tr>\n",
       "  </thead>\n",
       "  <tbody>\n",
       "    <tr>\n",
       "      <th>0</th>\n",
       "      <td>1</td>\n",
       "      <td>2</td>\n",
       "      <td>A</td>\n",
       "    </tr>\n",
       "    <tr>\n",
       "      <th>1</th>\n",
       "      <td>5</td>\n",
       "      <td>8</td>\n",
       "      <td>B</td>\n",
       "    </tr>\n",
       "    <tr>\n",
       "      <th>2</th>\n",
       "      <td>3</td>\n",
       "      <td>10</td>\n",
       "      <td>B</td>\n",
       "    </tr>\n",
       "  </tbody>\n",
       "</table>\n",
       "</div>"
      ],
      "text/plain": [
       "   col1  col2 col3\n",
       "0     1     2    A\n",
       "1     5     8    B\n",
       "2     3    10    B"
      ]
     },
     "execution_count": 162,
     "metadata": {},
     "output_type": "execute_result"
    }
   ],
   "source": [
    "df4 = pd.DataFrame([[1, 2,  \"A\"], \n",
    "                   [5, 8,  \"B\"], \n",
    "                   [3, 10, \"B\"]], \n",
    "                  columns = [\"col_A\", \"col2\", \"col3\"])\n",
    "print(df4)\n",
    "df4.rename(columns = {\"col_A\":\"col1\"})"
   ]
  },
  {
   "cell_type": "markdown",
   "id": "cc770f7d-283f-4ebf-818f-cb7530ba584c",
   "metadata": {
    "tags": []
   },
   "source": [
    "18. df.drop()\n",
    "\n",
    "If you want to delete a column, use the df.drop() method:"
   ]
  },
  {
   "cell_type": "code",
   "execution_count": 163,
   "id": "cda85e4b-e029-4e5e-a171-546516344a13",
   "metadata": {},
   "outputs": [
    {
     "name": "stdout",
     "output_type": "stream",
     "text": [
      "   col2 col3\n",
      "0     2    A\n",
      "1     8    B\n",
      "2    10    B\n"
     ]
    }
   ],
   "source": [
    "df5 = pd.DataFrame([[1, 2,  \"A\"], \n",
    "                   [5, 8,  \"B\"], \n",
    "                   [3, 10, \"B\"]], \n",
    "                  columns = [\"col1\", \"col2\", \"col3\"])\n",
    "\n",
    "print(df5.drop(columns = [\"col1\"]))"
   ]
  },
  {
   "cell_type": "markdown",
   "id": "97c9e7c8-eaf5-4bcf-a0d3-6d8c2bfb7fb6",
   "metadata": {
    "tags": []
   },
   "source": [
    "19. df.iloc\n",
    "\n",
    "Selects by position"
   ]
  },
  {
   "cell_type": "code",
   "execution_count": 164,
   "id": "79291c61-c5a2-421c-a6c4-391854902af1",
   "metadata": {},
   "outputs": [
    {
     "data": {
      "text/plain": [
       "City                                      Sydney\n",
       "Rank                                           2\n",
       "Sunshine hours(City)                        2636\n",
       "Cost of a bottle of water(City)            £1.48\n",
       "Obesity levels(Country)                   29.00%\n",
       "Life expectancy(years) (Country)            82.1\n",
       "Pollution(Index score) (City)              26.86\n",
       "Annual avg. hours worked                    1712\n",
       "Happiness levels(Country)                   7.22\n",
       "Outdoor activities(City)                     406\n",
       "Number of take out places(City)             1103\n",
       "Cost of a monthly gym membership(City)    £41.66\n",
       "Name: 1, dtype: object"
      ]
     },
     "execution_count": 164,
     "metadata": {},
     "output_type": "execute_result"
    }
   ],
   "source": [
    "df.iloc[1]"
   ]
  },
  {
   "cell_type": "markdown",
   "id": "354ecc04-8c02-4c52-83cf-7aa9dddaf682",
   "metadata": {
    "tags": []
   },
   "source": [
    "20. DataFrame.dtypes\n",
    "\n",
    "You can print the datatype of all columns using the dtypes argument"
   ]
  },
  {
   "cell_type": "code",
   "execution_count": 146,
   "id": "ae6b6572-0a85-4629-b71f-852646b39e3c",
   "metadata": {},
   "outputs": [
    {
     "data": {
      "text/plain": [
       "City                                       object\n",
       "Rank                                        int64\n",
       "Sunshine hours(City)                       object\n",
       "Cost of a bottle of water(City)            object\n",
       "Obesity levels(Country)                    object\n",
       "Life expectancy(years) (Country)          float64\n",
       "Pollution(Index score) (City)              object\n",
       "Annual avg. hours worked                   object\n",
       "Happiness levels(Country)                 float64\n",
       "Outdoor activities(City)                    int64\n",
       "Number of take out places(City)             int64\n",
       "Cost of a monthly gym membership(City)     object\n",
       "dtype: object"
      ]
     },
     "execution_count": 146,
     "metadata": {},
     "output_type": "execute_result"
    }
   ],
   "source": [
    "df.dtypes"
   ]
  }
 ],
 "metadata": {
  "kernelspec": {
   "display_name": "Python 3 (ipykernel)",
   "language": "python",
   "name": "python3"
  },
  "language_info": {
   "codemirror_mode": {
    "name": "ipython",
    "version": 3
   },
   "file_extension": ".py",
   "mimetype": "text/x-python",
   "name": "python",
   "nbconvert_exporter": "python",
   "pygments_lexer": "ipython3",
   "version": "3.7.8rc1"
  }
 },
 "nbformat": 4,
 "nbformat_minor": 5
}
