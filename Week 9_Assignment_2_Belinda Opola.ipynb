{
 "cells": [
  {
   "cell_type": "markdown",
   "id": "f6d7b246-ccf3-4027-9155-f7d6b658d3f1",
   "metadata": {},
   "source": [
    "## NumPy & Pandas Built-In Methods with Examples"
   ]
  },
  {
   "cell_type": "code",
   "execution_count": 1,
   "id": "61a8e611-7ff3-4054-8932-bdcb1f4fd1e8",
   "metadata": {},
   "outputs": [],
   "source": [
    "#import required NumPy and Pandas\n",
    "import numpy as np\n",
    "import pandas as pd"
   ]
  },
  {
   "cell_type": "code",
   "execution_count": null,
   "id": "7dc4c856-7e37-43d9-a399-ccc2e9bf33e7",
   "metadata": {},
   "outputs": [],
   "source": [
    "#datasets used in the exercise\n",
    "Used dataset from Kaggle"
   ]
  },
  {
   "cell_type": "markdown",
   "id": "7a62076f-12a1-4566-bd4b-63a08ea2faf5",
   "metadata": {},
   "source": [
    "### NumPy"
   ]
  },
  {
   "cell_type": "markdown",
   "id": "9953674d-9464-4391-891c-f9373ce74845",
   "metadata": {},
   "source": [
    "1. np.array()\n",
    "Creates a one dimensional array"
   ]
  },
  {
   "cell_type": "code",
   "execution_count": 27,
   "id": "1fc01953-e53c-42a9-8367-975fcedf4962",
   "metadata": {},
   "outputs": [
    {
     "name": "stdout",
     "output_type": "stream",
     "text": [
      "[6 5 8 3 7]\n"
     ]
    },
    {
     "data": {
      "text/plain": [
       "numpy.ndarray"
      ]
     },
     "execution_count": 27,
     "metadata": {},
     "output_type": "execute_result"
    }
   ],
   "source": [
    "l = [ 6, 5, 8, 3,7]\n",
    "a = np.array(l)\n",
    "print(a)\n",
    "type(a)"
   ]
  },
  {
   "cell_type": "markdown",
   "id": "a84a2fd0-3d91-4cc0-a804-df5435664e51",
   "metadata": {},
   "source": [
    "2. np.sort()\n",
    "Sorts array with values in ascending order"
   ]
  },
  {
   "cell_type": "code",
   "execution_count": 29,
   "id": "715c2363-7d2c-4a03-ad0a-d674829f7fe9",
   "metadata": {},
   "outputs": [
    {
     "name": "stdout",
     "output_type": "stream",
     "text": [
      "[3 5 6 7 8]\n"
     ]
    },
    {
     "data": {
      "text/plain": [
       "numpy.ndarray"
      ]
     },
     "execution_count": 29,
     "metadata": {},
     "output_type": "execute_result"
    }
   ],
   "source": [
    "print(np.sort(a)) # uses array a in number 1\n",
    "type(a)"
   ]
  },
  {
   "cell_type": "markdown",
   "id": "23502f06-8025-4230-ba54-3910f3428d0f",
   "metadata": {},
   "source": [
    "3. np.linspace(start, stop, step)\n",
    "Creates a new 1D numpy array with evenly spread elements\n",
    "within the given interval"
   ]
  },
  {
   "cell_type": "code",
   "execution_count": 37,
   "id": "33e0b320-84a7-49fd-aacf-8d0da089b21a",
   "metadata": {},
   "outputs": [
    {
     "name": "stdout",
     "output_type": "stream",
     "text": [
      "[ 0.          0.20408163  0.40816327  0.6122449   0.81632653  1.02040816\n",
      "  1.2244898   1.42857143  1.63265306  1.83673469  2.04081633  2.24489796\n",
      "  2.44897959  2.65306122  2.85714286  3.06122449  3.26530612  3.46938776\n",
      "  3.67346939  3.87755102  4.08163265  4.28571429  4.48979592  4.69387755\n",
      "  4.89795918  5.10204082  5.30612245  5.51020408  5.71428571  5.91836735\n",
      "  6.12244898  6.32653061  6.53061224  6.73469388  6.93877551  7.14285714\n",
      "  7.34693878  7.55102041  7.75510204  7.95918367  8.16326531  8.36734694\n",
      "  8.57142857  8.7755102   8.97959184  9.18367347  9.3877551   9.59183673\n",
      "  9.79591837 10.        ]\n"
     ]
    }
   ],
   "source": [
    "print(np.linspace( 0 , 10 , 50 ))"
   ]
  },
  {
   "cell_type": "markdown",
   "id": "f58a869f-4469-4963-b633-df4a2ac7f2f3",
   "metadata": {},
   "source": [
    "4. np.average()\n",
    "Averages over all the values in the numpy array"
   ]
  },
  {
   "cell_type": "code",
   "execution_count": 38,
   "id": "3e0868bd-344e-4d2f-a1af-4affb1b819bd",
   "metadata": {},
   "outputs": [
    {
     "name": "stdout",
     "output_type": "stream",
     "text": [
      "5.8\n"
     ]
    }
   ],
   "source": [
    "print(np.average(a))"
   ]
  },
  {
   "cell_type": "markdown",
   "id": "cea9bd7e-5f00-43f4-a736-facd99f78a21",
   "metadata": {},
   "source": [
    "5. np.argsort()\n",
    "Returns the indices of a NumPy array so that the indexed values would be sorted."
   ]
  },
  {
   "cell_type": "code",
   "execution_count": 39,
   "id": "d7d741ac-33e5-4f73-9f97-39c25298c5f6",
   "metadata": {},
   "outputs": [
    {
     "name": "stdout",
     "output_type": "stream",
     "text": [
      "[3 1 0 4 2]\n"
     ]
    }
   ],
   "source": [
    "print(np.argsort(a))"
   ]
  },
  {
   "cell_type": "markdown",
   "id": "c69e956e-1814-45b3-876a-c26f23538f68",
   "metadata": {},
   "source": [
    "### Pandas"
   ]
  },
  {
   "cell_type": "markdown",
   "id": "7326389f-80f1-4235-90af-5312d3d1dccd",
   "metadata": {},
   "source": [
    "1. Series()\n",
    "Creates a Series by passing a list of values letting pandas create a default integer index"
   ]
  },
  {
   "cell_type": "code",
   "execution_count": 30,
   "id": "ae81cf19-9f57-443b-bce2-10e27e9d9803",
   "metadata": {},
   "outputs": [
    {
     "name": "stdout",
     "output_type": "stream",
     "text": [
      "0    1.0\n",
      "1    3.0\n",
      "2    5.0\n",
      "3    NaN\n",
      "4    6.0\n",
      "5    8.0\n",
      "dtype: float64\n"
     ]
    },
    {
     "data": {
      "text/plain": [
       "pandas.core.series.Series"
      ]
     },
     "execution_count": 30,
     "metadata": {},
     "output_type": "execute_result"
    }
   ],
   "source": [
    "s = pd.Series([1, 3, 5, np.nan, 6, 8])\n",
    "print(s)\n",
    "type(s)"
   ]
  },
  {
   "cell_type": "markdown",
   "id": "5e15a5ff-ee6a-4608-a9cc-0eaf553b7e62",
   "metadata": {},
   "source": [
    "2. read_csv()\n",
    "Import CSV; allows a user to create a Pandas Dataframe from a local CSV."
   ]
  },
  {
   "cell_type": "code",
   "execution_count": 12,
   "id": "48bdfe1e-9f01-4bac-b15c-8aa374641d50",
   "metadata": {},
   "outputs": [],
   "source": [
    "df = pd.read_csv('B:\\WTF\\Week 9\\healthy_lifestyle_city_2021.csv')"
   ]
  },
  {
   "cell_type": "markdown",
   "id": "97566647-e026-4326-82d8-b89c608ffa28",
   "metadata": {},
   "source": [
    "3. head()\n",
    "Displays the first 5 rows in a dataframe"
   ]
  },
  {
   "cell_type": "code",
   "execution_count": 13,
   "id": "d466afbf-870d-4cb0-a02b-33dcf6f21ed4",
   "metadata": {},
   "outputs": [
    {
     "data": {
      "text/html": [
       "<div>\n",
       "<style scoped>\n",
       "    .dataframe tbody tr th:only-of-type {\n",
       "        vertical-align: middle;\n",
       "    }\n",
       "\n",
       "    .dataframe tbody tr th {\n",
       "        vertical-align: top;\n",
       "    }\n",
       "\n",
       "    .dataframe thead th {\n",
       "        text-align: right;\n",
       "    }\n",
       "</style>\n",
       "<table border=\"1\" class=\"dataframe\">\n",
       "  <thead>\n",
       "    <tr style=\"text-align: right;\">\n",
       "      <th></th>\n",
       "      <th>City</th>\n",
       "      <th>Rank</th>\n",
       "      <th>Sunshine hours(City)</th>\n",
       "      <th>Cost of a bottle of water(City)</th>\n",
       "      <th>Obesity levels(Country)</th>\n",
       "      <th>Life expectancy(years) (Country)</th>\n",
       "      <th>Pollution(Index score) (City)</th>\n",
       "      <th>Annual avg. hours worked</th>\n",
       "      <th>Happiness levels(Country)</th>\n",
       "      <th>Outdoor activities(City)</th>\n",
       "      <th>Number of take out places(City)</th>\n",
       "      <th>Cost of a monthly gym membership(City)</th>\n",
       "    </tr>\n",
       "  </thead>\n",
       "  <tbody>\n",
       "    <tr>\n",
       "      <th>0</th>\n",
       "      <td>Amsterdam</td>\n",
       "      <td>1</td>\n",
       "      <td>1858</td>\n",
       "      <td>£1.92</td>\n",
       "      <td>20.40%</td>\n",
       "      <td>81.2</td>\n",
       "      <td>30.93</td>\n",
       "      <td>1434</td>\n",
       "      <td>7.44</td>\n",
       "      <td>422</td>\n",
       "      <td>1048</td>\n",
       "      <td>£34.90</td>\n",
       "    </tr>\n",
       "    <tr>\n",
       "      <th>1</th>\n",
       "      <td>Sydney</td>\n",
       "      <td>2</td>\n",
       "      <td>2636</td>\n",
       "      <td>£1.48</td>\n",
       "      <td>29.00%</td>\n",
       "      <td>82.1</td>\n",
       "      <td>26.86</td>\n",
       "      <td>1712</td>\n",
       "      <td>7.22</td>\n",
       "      <td>406</td>\n",
       "      <td>1103</td>\n",
       "      <td>£41.66</td>\n",
       "    </tr>\n",
       "    <tr>\n",
       "      <th>2</th>\n",
       "      <td>Vienna</td>\n",
       "      <td>3</td>\n",
       "      <td>1884</td>\n",
       "      <td>£1.94</td>\n",
       "      <td>20.10%</td>\n",
       "      <td>81.0</td>\n",
       "      <td>17.33</td>\n",
       "      <td>1501</td>\n",
       "      <td>7.29</td>\n",
       "      <td>132</td>\n",
       "      <td>1008</td>\n",
       "      <td>£25.74</td>\n",
       "    </tr>\n",
       "    <tr>\n",
       "      <th>3</th>\n",
       "      <td>Stockholm</td>\n",
       "      <td>4</td>\n",
       "      <td>1821</td>\n",
       "      <td>£1.72</td>\n",
       "      <td>20.60%</td>\n",
       "      <td>81.8</td>\n",
       "      <td>19.63</td>\n",
       "      <td>1452</td>\n",
       "      <td>7.35</td>\n",
       "      <td>129</td>\n",
       "      <td>598</td>\n",
       "      <td>£37.31</td>\n",
       "    </tr>\n",
       "    <tr>\n",
       "      <th>4</th>\n",
       "      <td>Copenhagen</td>\n",
       "      <td>5</td>\n",
       "      <td>1630</td>\n",
       "      <td>£2.19</td>\n",
       "      <td>19.70%</td>\n",
       "      <td>79.8</td>\n",
       "      <td>21.24</td>\n",
       "      <td>1380</td>\n",
       "      <td>7.64</td>\n",
       "      <td>154</td>\n",
       "      <td>523</td>\n",
       "      <td>£32.53</td>\n",
       "    </tr>\n",
       "  </tbody>\n",
       "</table>\n",
       "</div>"
      ],
      "text/plain": [
       "         City  Rank Sunshine hours(City) Cost of a bottle of water(City)  \\\n",
       "0   Amsterdam     1                 1858                           £1.92   \n",
       "1      Sydney     2                 2636                           £1.48   \n",
       "2      Vienna     3                 1884                           £1.94   \n",
       "3   Stockholm     4                 1821                           £1.72   \n",
       "4  Copenhagen     5                 1630                           £2.19   \n",
       "\n",
       "  Obesity levels(Country)  Life expectancy(years) (Country)  \\\n",
       "0                  20.40%                              81.2   \n",
       "1                  29.00%                              82.1   \n",
       "2                  20.10%                              81.0   \n",
       "3                  20.60%                              81.8   \n",
       "4                  19.70%                              79.8   \n",
       "\n",
       "  Pollution(Index score) (City) Annual avg. hours worked  \\\n",
       "0                         30.93                     1434   \n",
       "1                         26.86                     1712   \n",
       "2                         17.33                     1501   \n",
       "3                         19.63                     1452   \n",
       "4                         21.24                     1380   \n",
       "\n",
       "   Happiness levels(Country)  Outdoor activities(City)  \\\n",
       "0                       7.44                       422   \n",
       "1                       7.22                       406   \n",
       "2                       7.29                       132   \n",
       "3                       7.35                       129   \n",
       "4                       7.64                       154   \n",
       "\n",
       "   Number of take out places(City) Cost of a monthly gym membership(City)  \n",
       "0                             1048                                 £34.90  \n",
       "1                             1103                                 £41.66  \n",
       "2                             1008                                 £25.74  \n",
       "3                              598                                 £37.31  \n",
       "4                              523                                 £32.53  "
      ]
     },
     "execution_count": 13,
     "metadata": {},
     "output_type": "execute_result"
    }
   ],
   "source": [
    "df.head()"
   ]
  },
  {
   "cell_type": "markdown",
   "id": "c01125c3-77fa-401d-a76f-10de47bd586a",
   "metadata": {},
   "source": [
    "4. sort_values()\n",
    "Pass a column name and specify ascending = True or False to sort the dataframe by that column."
   ]
  },
  {
   "cell_type": "code",
   "execution_count": 22,
   "id": "644e606c-40b6-4403-911e-164020c00b60",
   "metadata": {},
   "outputs": [
    {
     "name": "stdout",
     "output_type": "stream",
     "text": [
      "        City  Rank Sunshine hours(City) Cost of a bottle of water(City)  \\\n",
      "19    Geneva    20                    -                           £2.62   \n",
      "23    Taipei    24                 1405                           £0.57   \n",
      "27    Dublin    28                 1453                           £1.40   \n",
      "32  Brussels    33                 1546                           £2.11   \n",
      "36    Zurich    37                 1566                           £3.20   \n",
      "\n",
      "   Obesity levels(Country)  Life expectancy(years) (Country)  \\\n",
      "19                  19.50%                              82.6   \n",
      "23                   6.20%                              75.4   \n",
      "27                  25.30%                              80.5   \n",
      "32                  22.10%                              80.4   \n",
      "36                  19.50%                              82.6   \n",
      "\n",
      "   Pollution(Index score) (City) Annual avg. hours worked  \\\n",
      "19                         27.25                     1557   \n",
      "23                         49.32                        -   \n",
      "27                         40.07                     1772   \n",
      "32                         62.67                     1583   \n",
      "36                         17.31                     1557   \n",
      "\n",
      "    Happiness levels(Country)  Outdoor activities(City)  \\\n",
      "19                       7.56                        44   \n",
      "23                       5.12                       134   \n",
      "27                       7.09                       159   \n",
      "32                       6.86                        55   \n",
      "36                       7.56                        69   \n",
      "\n",
      "    Number of take out places(City) Cost of a monthly gym membership(City)  \n",
      "19                              444                                 £70.00  \n",
      "23                              717                                 £34.76  \n",
      "27                              659                                 £37.35  \n",
      "32                              988                                 £25.34  \n",
      "36                              538                                 £73.11  \n"
     ]
    }
   ],
   "source": [
    "df2 = df.sort_values('Sunshine hours(City)',ascending=True)\n",
    "print(df2.head())"
   ]
  },
  {
   "cell_type": "markdown",
   "id": "287ffcf6-b74f-43ab-a48a-1725a37df7ba",
   "metadata": {},
   "source": [
    "5. to_csv()\n",
    "Export the CSV; use this method to save your dataframe to local storage."
   ]
  },
  {
   "cell_type": "code",
   "execution_count": 34,
   "id": "a5c76864-995a-468e-8c0f-2674a193f1f9",
   "metadata": {},
   "outputs": [],
   "source": [
    "df.to_csv('B:\\WTF\\Week 9\\healthy_lifestyle_city_2021_sorted.csv')"
   ]
  }
 ],
 "metadata": {
  "kernelspec": {
   "display_name": "Python 3 (ipykernel)",
   "language": "python",
   "name": "python3"
  },
  "language_info": {
   "codemirror_mode": {
    "name": "ipython",
    "version": 3
   },
   "file_extension": ".py",
   "mimetype": "text/x-python",
   "name": "python",
   "nbconvert_exporter": "python",
   "pygments_lexer": "ipython3",
   "version": "3.7.8rc1"
  }
 },
 "nbformat": 4,
 "nbformat_minor": 5
}
