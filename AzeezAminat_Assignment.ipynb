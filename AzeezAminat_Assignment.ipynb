{
 "cells": [
  {
   "cell_type": "markdown",
   "id": "400fa971",
   "metadata": {},
   "source": [
    "#print all elements of a list using for loop"
   ]
  },
  {
   "cell_type": "code",
   "execution_count": 1,
   "id": "96d12237",
   "metadata": {},
   "outputs": [
    {
     "name": "stdout",
     "output_type": "stream",
     "text": [
      "Aminat\n",
      "Adenike\n",
      "Atinuke\n",
      "Omowunmi\n"
     ]
    }
   ],
   "source": [
    "my_names = [\"Aminat\", \"Adenike\", \"Atinuke\", \"Omowunmi\"]\n",
    "for name in my_names:\n",
    "    print(name)"
   ]
  },
  {
   "cell_type": "markdown",
   "id": "a22238be",
   "metadata": {},
   "source": [
    "#Using range(1,101), make two list, one containing all even numbers and\n",
    "other containing all odd numbers."
   ]
  },
  {
   "cell_type": "code",
   "execution_count": 10,
   "id": "72edd3ec",
   "metadata": {},
   "outputs": [
    {
     "name": "stdout",
     "output_type": "stream",
     "text": [
      "even numbers: [2, 4, 6, 8, 10, 12, 14, 16, 18, 20, 22, 24, 26, 28, 30, 32, 34, 36, 38, 40, 42, 44, 46, 48, 50, 52, 54, 56, 58, 60, 62, 64, 66, 68, 70, 72, 74, 76, 78, 80, 82, 84, 86, 88, 90, 92, 94, 96, 98, 100]\n"
     ]
    }
   ],
   "source": [
    "my_numbers = [x for x in range(1, 101) if x % 2 == 0]\n",
    "print(\"even numbers:\", my_numbers)"
   ]
  },
  {
   "cell_type": "code",
   "execution_count": 13,
   "id": "111a678d",
   "metadata": {},
   "outputs": [
    {
     "name": "stdout",
     "output_type": "stream",
     "text": [
      "odd numbers: [1, 3, 5, 7, 9, 11, 13, 15, 17, 19, 21, 23, 25, 27, 29, 31, 33, 35, 37, 39, 41, 43, 45, 47, 49, 51, 53, 55, 57, 59, 61, 63, 65, 67, 69, 71, 73, 75, 77, 79, 81, 83, 85, 87, 89, 91, 93, 95, 97, 99]\n"
     ]
    }
   ],
   "source": [
    "my_numbers = [x for x in range(1, 101) if x%2!=0]\n",
    "print(\"odd numbers:\", my_numbers)"
   ]
  },
  {
   "cell_type": "markdown",
   "id": "92d447cb",
   "metadata": {},
   "source": [
    "#Take input of age of 3 people by user and determine oldest and youngest among them."
   ]
  },
  {
   "cell_type": "code",
   "execution_count": null,
   "id": "c8a24378",
   "metadata": {},
   "outputs": [],
   "source": [
    "Aminat = (input(\"26:\"))\n",
    "Aishat = (input(\"12:\"))\n",
    "Halimat = (input(\"17:\"))\n",
    "\n",
    "if Aminat > Aishat and Aminat > Halimat:\n",
    "    print(\"Aminat is the oldest\")\n",
    "elif Aishat > Aminat and Aishat > Halimat:\n",
    "    print(\"Aishat is the oldest\")\n",
    "elif Halimat > Aminat and Halimat > Aishat:\n",
    "    print(\"Halimat is the oldest\")"
   ]
  },
  {
   "cell_type": "markdown",
   "id": "393d3e9a",
   "metadata": {},
   "source": [
    "#write a python script to merge two python dictionaries"
   ]
  },
  {
   "cell_type": "code",
   "execution_count": 1,
   "id": "48c0738b",
   "metadata": {},
   "outputs": [
    {
     "name": "stdout",
     "output_type": "stream",
     "text": [
      "Before merging\n",
      "dictionary 1: {'Sade': 14, 'Tola': 29, 'Fola': 15}\n",
      "dictionary 2: {'Mark': 29, 'John': 12, 'Bruce': 10}\n",
      "after updating :\n",
      "{'Sade': 14, 'Tola': 29, 'Fola': 15, 'Mark': 29, 'John': 12, 'Bruce': 10}\n"
     ]
    }
   ],
   "source": [
    "dict1 = {  \"Sade\" : 14, \"Tola\" : 29, 'Fola' : 15 }\n",
    "dict2 = {  \"Mark\" : 29, \"John\": 12, \"Bruce\" : 10 }\n",
    " \n",
    "print(\"Before merging\")\n",
    "print(\"dictionary 1:\", dict1)\n",
    "print(\"dictionary 2:\", dict2)\n",
    " \n",
    "dict3 = dict1.copy()\n",
    " \n",
    "for key, value in dict2.items():\n",
    "    dict3[key] = value\n",
    " \n",
    "print(\"after updating :\")\n",
    "print(dict3)"
   ]
  },
  {
   "cell_type": "markdown",
   "id": "b8940f87",
   "metadata": {},
   "source": [
    "#) Write a python program to get the largest number from a list"
   ]
  },
  {
   "cell_type": "code",
   "execution_count": 2,
   "id": "45d98f4e",
   "metadata": {},
   "outputs": [
    {
     "name": "stdout",
     "output_type": "stream",
     "text": [
      "Largest element is: 40\n"
     ]
    }
   ],
   "source": [
    "my_list = [10, 2, 40, 25, 9]\n",
    "print(\"Largest element is:\", max(my_list))"
   ]
  },
  {
   "cell_type": "markdown",
   "id": "b17ff751",
   "metadata": {},
   "source": [
    "#Write a python program to remove a key from a dictionary"
   ]
  },
  {
   "cell_type": "code",
   "execution_count": 3,
   "id": "3a09f37d",
   "metadata": {},
   "outputs": [
    {
     "name": "stdout",
     "output_type": "stream",
     "text": [
      "{'Sade': 14, 'Fola': 15, 'Mina': 38}\n"
     ]
    }
   ],
   "source": [
    "my_dict = {  \"Sade\" : 14, \"Tola\" : 29, 'Fola' : 15, \"Mina\" : 38 }\n",
    "my_dict.pop(\"Tola\")\n",
    "print(my_dict)"
   ]
  },
  {
   "cell_type": "code",
   "execution_count": null,
   "id": "0d790dd3",
   "metadata": {},
   "outputs": [],
   "source": []
  }
 ],
 "metadata": {
  "kernelspec": {
   "display_name": "Python 3 (ipykernel)",
   "language": "python",
   "name": "python3"
  },
  "language_info": {
   "codemirror_mode": {
    "name": "ipython",
    "version": 3
   },
   "file_extension": ".py",
   "mimetype": "text/x-python",
   "name": "python",
   "nbconvert_exporter": "python",
   "pygments_lexer": "ipython3",
   "version": "3.9.12"
  }
 },
 "nbformat": 4,
 "nbformat_minor": 5
}
